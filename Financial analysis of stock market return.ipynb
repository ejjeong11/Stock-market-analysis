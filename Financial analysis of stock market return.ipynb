{
  "nbformat": 4,
  "nbformat_minor": 0,
  "metadata": {
    "colab": {
      "provenance": [],
      "collapsed_sections": []
    },
    "kernelspec": {
      "name": "python3",
      "display_name": "Python 3"
    },
    "language_info": {
      "name": "python"
    }
  },
  "cells": [
    {
      "cell_type": "markdown",
      "source": [
        "# Financial and Accounting Analytics of Stock Returns During Market Shock of Early 2022 - Eunjin Jeong\n",
        "\n",
        "link: https://colab.research.google.com/drive/1gxwfUNbVJdsnVG89F0kClLt7cK4XaBQV?usp=sharing"
      ],
      "metadata": {
        "id": "XVRwPiphJwuy"
      }
    },
    {
      "cell_type": "markdown",
      "source": [
        "# Introduction"
      ],
      "metadata": {
        "id": "P0eHfm428zgi"
      }
    },
    {
      "cell_type": "markdown",
      "source": [
        "## Project Background\n",
        "\n",
        "For the first quarter of 2022, all major stock benchmarks dropped significantly, ranging from a 4.6% decline for the S&P 500 to as much as 9% for the Nasdaq Composite.\n",
        "\n",
        "This vast market impact came from the combination of various economic issues including supply chain, inflation, and Russia's invasion.\n",
        "\n",
        "The biggest reason is the high inflation in the U.S. This led the Federal Reserve to raise interest rates after the near-zero rate at the onset of the Covid-19 pandemic. Meanwhile, Russia’s invasion of Ukraine threatened the business investment and consumer spending.\n",
        "\n",
        "Therefore, in this project, I would like to analyze what financial and accounting factors affected the stock returns during market shock of early 2022."
      ],
      "metadata": {
        "id": "Lp-uatf5WLfg"
      }
    },
    {
      "cell_type": "markdown",
      "source": [
        "\n",
        "## Problem statement\n",
        "\n",
        "In this project, I would like to analyze what financial and accounting factors affected the stock returns during the market shock of early 2022, particulary using risk exposures, financial ratios, and industry indicators."
      ],
      "metadata": {
        "id": "d0uvkie7Zoeu"
      }
    },
    {
      "cell_type": "markdown",
      "source": [
        "## Methodology\n",
        "* I used 5 datasets: Early 2022 stock return data, Monthly stock return data from 2017 to 2021, Financal data of companies from finacial statement, Fama-French factur returns data, and industry iindicator data.\n",
        "* Using datsets, I derived risk exposures, financial ratios, and industry indicator using ggroup.\n",
        "* Finally, I conducted linear regression to analyze stock return during early 2022."
      ],
      "metadata": {
        "id": "TlNiwtYruZxz"
      }
    },
    {
      "cell_type": "markdown",
      "source": [
        "## Import libraries"
      ],
      "metadata": {
        "id": "mv6Qz3TvZd22"
      }
    },
    {
      "cell_type": "code",
      "execution_count": null,
      "metadata": {
        "id": "mNLd7qvnG2Ii"
      },
      "outputs": [],
      "source": [
        "# Import libraries\n",
        "import numpy as np\n",
        "import pandas as pd\n",
        "import matplotlib.pyplot as plt\n",
        "import statsmodels.api as sm\n",
        "from scipy.stats.mstats import winsorize\n",
        "from scipy.stats import percentileofscore\n",
        "import math\n",
        "import seaborn as sns\n",
        "from sklearn.ensemble import RandomForestRegressor\n",
        "# For clean code output\n",
        "import warnings\n",
        "warnings.filterwarnings(\"ignore\")"
      ]
    },
    {
      "cell_type": "markdown",
      "source": [
        "# Data preparation"
      ],
      "metadata": {
        "id": "AFwSkwb9HJZz"
      }
    },
    {
      "cell_type": "markdown",
      "source": [
        "## Stock return data\n",
        "* This dataset contains 1,886 observations for 3 columns: Ticker (the stock's ticker symbol), Name (the name of each company), and RetTYD (the year-to-date stock return of each company from January 1, 2022 to April 14, 2022)\n",
        "* I dropped 'Name' column and renamed Ticker as 'TICKER' for merging with other datasets. \n",
        "* Final shape: 1886 observations, 2 columns"
      ],
      "metadata": {
        "id": "OZbscMjEYZrV"
      }
    },
    {
      "cell_type": "code",
      "source": [
        "# Load dataset\n",
        "stock = pd.read_csv(\"/content/ProjectTickers.csv\")"
      ],
      "metadata": {
        "id": "-UGiFlO7ZZ9h"
      },
      "execution_count": null,
      "outputs": []
    },
    {
      "cell_type": "code",
      "source": [
        "# Change column name\n",
        "stock.rename(columns={'Ticker':'TICKER'}, inplace=True)"
      ],
      "metadata": {
        "id": "ttpGgaXbdrq3"
      },
      "execution_count": null,
      "outputs": []
    },
    {
      "cell_type": "code",
      "source": [
        "# Drop Name column\n",
        "stock.drop(stock.columns[1], axis=1, inplace=True)"
      ],
      "metadata": {
        "id": "xdLJEOy5gXXt"
      },
      "execution_count": null,
      "outputs": []
    },
    {
      "cell_type": "code",
      "source": [
        "stock.shape"
      ],
      "metadata": {
        "colab": {
          "base_uri": "https://localhost:8080/"
        },
        "id": "kvFJs8wobhuP",
        "outputId": "1b45ed28-3650-4c39-9421-11e486095372"
      },
      "execution_count": null,
      "outputs": [
        {
          "output_type": "execute_result",
          "data": {
            "text/plain": [
              "(1886, 2)"
            ]
          },
          "metadata": {},
          "execution_count": 10
        }
      ]
    },
    {
      "cell_type": "code",
      "source": [
        "stock.head()"
      ],
      "metadata": {
        "colab": {
          "base_uri": "https://localhost:8080/",
          "height": 206
        },
        "id": "jV9rdYsxZeIh",
        "outputId": "c3b69679-9092-4b77-ca48-1b4d8be405ee"
      },
      "execution_count": null,
      "outputs": [
        {
          "output_type": "execute_result",
          "data": {
            "text/plain": [
              "  TICKER  RetYTD\n",
              "0      A -0.2080\n",
              "1     AA  0.4731\n",
              "2    AAL  0.0579\n",
              "3    AAN -0.1327\n",
              "4   AAON -0.3456"
            ],
            "text/html": [
              "\n",
              "  <div id=\"df-5e7931e6-589f-4b79-ba8a-1a9affef0155\">\n",
              "    <div class=\"colab-df-container\">\n",
              "      <div>\n",
              "<style scoped>\n",
              "    .dataframe tbody tr th:only-of-type {\n",
              "        vertical-align: middle;\n",
              "    }\n",
              "\n",
              "    .dataframe tbody tr th {\n",
              "        vertical-align: top;\n",
              "    }\n",
              "\n",
              "    .dataframe thead th {\n",
              "        text-align: right;\n",
              "    }\n",
              "</style>\n",
              "<table border=\"1\" class=\"dataframe\">\n",
              "  <thead>\n",
              "    <tr style=\"text-align: right;\">\n",
              "      <th></th>\n",
              "      <th>TICKER</th>\n",
              "      <th>RetYTD</th>\n",
              "    </tr>\n",
              "  </thead>\n",
              "  <tbody>\n",
              "    <tr>\n",
              "      <th>0</th>\n",
              "      <td>A</td>\n",
              "      <td>-0.2080</td>\n",
              "    </tr>\n",
              "    <tr>\n",
              "      <th>1</th>\n",
              "      <td>AA</td>\n",
              "      <td>0.4731</td>\n",
              "    </tr>\n",
              "    <tr>\n",
              "      <th>2</th>\n",
              "      <td>AAL</td>\n",
              "      <td>0.0579</td>\n",
              "    </tr>\n",
              "    <tr>\n",
              "      <th>3</th>\n",
              "      <td>AAN</td>\n",
              "      <td>-0.1327</td>\n",
              "    </tr>\n",
              "    <tr>\n",
              "      <th>4</th>\n",
              "      <td>AAON</td>\n",
              "      <td>-0.3456</td>\n",
              "    </tr>\n",
              "  </tbody>\n",
              "</table>\n",
              "</div>\n",
              "      <button class=\"colab-df-convert\" onclick=\"convertToInteractive('df-5e7931e6-589f-4b79-ba8a-1a9affef0155')\"\n",
              "              title=\"Convert this dataframe to an interactive table.\"\n",
              "              style=\"display:none;\">\n",
              "        \n",
              "  <svg xmlns=\"http://www.w3.org/2000/svg\" height=\"24px\"viewBox=\"0 0 24 24\"\n",
              "       width=\"24px\">\n",
              "    <path d=\"M0 0h24v24H0V0z\" fill=\"none\"/>\n",
              "    <path d=\"M18.56 5.44l.94 2.06.94-2.06 2.06-.94-2.06-.94-.94-2.06-.94 2.06-2.06.94zm-11 1L8.5 8.5l.94-2.06 2.06-.94-2.06-.94L8.5 2.5l-.94 2.06-2.06.94zm10 10l.94 2.06.94-2.06 2.06-.94-2.06-.94-.94-2.06-.94 2.06-2.06.94z\"/><path d=\"M17.41 7.96l-1.37-1.37c-.4-.4-.92-.59-1.43-.59-.52 0-1.04.2-1.43.59L10.3 9.45l-7.72 7.72c-.78.78-.78 2.05 0 2.83L4 21.41c.39.39.9.59 1.41.59.51 0 1.02-.2 1.41-.59l7.78-7.78 2.81-2.81c.8-.78.8-2.07 0-2.86zM5.41 20L4 18.59l7.72-7.72 1.47 1.35L5.41 20z\"/>\n",
              "  </svg>\n",
              "      </button>\n",
              "      \n",
              "  <style>\n",
              "    .colab-df-container {\n",
              "      display:flex;\n",
              "      flex-wrap:wrap;\n",
              "      gap: 12px;\n",
              "    }\n",
              "\n",
              "    .colab-df-convert {\n",
              "      background-color: #E8F0FE;\n",
              "      border: none;\n",
              "      border-radius: 50%;\n",
              "      cursor: pointer;\n",
              "      display: none;\n",
              "      fill: #1967D2;\n",
              "      height: 32px;\n",
              "      padding: 0 0 0 0;\n",
              "      width: 32px;\n",
              "    }\n",
              "\n",
              "    .colab-df-convert:hover {\n",
              "      background-color: #E2EBFA;\n",
              "      box-shadow: 0px 1px 2px rgba(60, 64, 67, 0.3), 0px 1px 3px 1px rgba(60, 64, 67, 0.15);\n",
              "      fill: #174EA6;\n",
              "    }\n",
              "\n",
              "    [theme=dark] .colab-df-convert {\n",
              "      background-color: #3B4455;\n",
              "      fill: #D2E3FC;\n",
              "    }\n",
              "\n",
              "    [theme=dark] .colab-df-convert:hover {\n",
              "      background-color: #434B5C;\n",
              "      box-shadow: 0px 1px 3px 1px rgba(0, 0, 0, 0.15);\n",
              "      filter: drop-shadow(0px 1px 2px rgba(0, 0, 0, 0.3));\n",
              "      fill: #FFFFFF;\n",
              "    }\n",
              "  </style>\n",
              "\n",
              "      <script>\n",
              "        const buttonEl =\n",
              "          document.querySelector('#df-5e7931e6-589f-4b79-ba8a-1a9affef0155 button.colab-df-convert');\n",
              "        buttonEl.style.display =\n",
              "          google.colab.kernel.accessAllowed ? 'block' : 'none';\n",
              "\n",
              "        async function convertToInteractive(key) {\n",
              "          const element = document.querySelector('#df-5e7931e6-589f-4b79-ba8a-1a9affef0155');\n",
              "          const dataTable =\n",
              "            await google.colab.kernel.invokeFunction('convertToInteractive',\n",
              "                                                     [key], {});\n",
              "          if (!dataTable) return;\n",
              "\n",
              "          const docLinkHtml = 'Like what you see? Visit the ' +\n",
              "            '<a target=\"_blank\" href=https://colab.research.google.com/notebooks/data_table.ipynb>data table notebook</a>'\n",
              "            + ' to learn more about interactive tables.';\n",
              "          element.innerHTML = '';\n",
              "          dataTable['output_type'] = 'display_data';\n",
              "          await google.colab.output.renderOutput(dataTable, element);\n",
              "          const docLink = document.createElement('div');\n",
              "          docLink.innerHTML = docLinkHtml;\n",
              "          element.appendChild(docLink);\n",
              "        }\n",
              "      </script>\n",
              "    </div>\n",
              "  </div>\n",
              "  "
            ]
          },
          "metadata": {},
          "execution_count": 9
        }
      ]
    },
    {
      "cell_type": "markdown",
      "source": [
        "## Monthly stock return data: 17-21"
      ],
      "metadata": {
        "id": "UqSPRhZWL0jQ"
      }
    },
    {
      "cell_type": "markdown",
      "source": [
        "### Basic information \n",
        "* This dataset is for stock return data from January 2017 to December 2022(60 months) of 1886 companies, collected from CRSP on the WRDS database. \n",
        "* This dataset consists of 114715 observations and 4 columns.\n",
        "  * PERMNO/TICKER: unique identifiers of companies\n",
        "  * RET: monthly stock return data\n",
        "  * date: datatdate\n",
        "* There are **1924 unique values in TICKER**, which is larger than 'ProjectTickers' dataset(1886) - One possible reason is that Ticker symbol of some companies have changed, so that WRDS dataset collected data from more than 1886 Tickers.\n"
      ],
      "metadata": {
        "id": "Qc9e7o7vo_ID"
      }
    },
    {
      "cell_type": "code",
      "source": [
        "returns = pd.read_csv(\"/content/Project-2017-21-Returns.csv\")"
      ],
      "metadata": {
        "id": "ogfTq6KKLkjQ"
      },
      "execution_count": null,
      "outputs": []
    },
    {
      "cell_type": "code",
      "source": [
        "returns.head(3)"
      ],
      "metadata": {
        "colab": {
          "base_uri": "https://localhost:8080/",
          "height": 143
        },
        "id": "2qUxE_dlLyM6",
        "outputId": "ca112a59-d553-4ecd-a11a-769e7504e3b6"
      },
      "execution_count": null,
      "outputs": [
        {
          "output_type": "execute_result",
          "data": {
            "text/plain": [
              "   PERMNO      date TICKER        RET\n",
              "0   10026  20170131   JJSF  -0.043918\n",
              "1   10026  20170228   JJSF   0.048836\n",
              "2   10026  20170331   JJSF   0.016293"
            ],
            "text/html": [
              "\n",
              "  <div id=\"df-413f7f23-67a2-42b3-9e72-33e75109e9b9\">\n",
              "    <div class=\"colab-df-container\">\n",
              "      <div>\n",
              "<style scoped>\n",
              "    .dataframe tbody tr th:only-of-type {\n",
              "        vertical-align: middle;\n",
              "    }\n",
              "\n",
              "    .dataframe tbody tr th {\n",
              "        vertical-align: top;\n",
              "    }\n",
              "\n",
              "    .dataframe thead th {\n",
              "        text-align: right;\n",
              "    }\n",
              "</style>\n",
              "<table border=\"1\" class=\"dataframe\">\n",
              "  <thead>\n",
              "    <tr style=\"text-align: right;\">\n",
              "      <th></th>\n",
              "      <th>PERMNO</th>\n",
              "      <th>date</th>\n",
              "      <th>TICKER</th>\n",
              "      <th>RET</th>\n",
              "    </tr>\n",
              "  </thead>\n",
              "  <tbody>\n",
              "    <tr>\n",
              "      <th>0</th>\n",
              "      <td>10026</td>\n",
              "      <td>20170131</td>\n",
              "      <td>JJSF</td>\n",
              "      <td>-0.043918</td>\n",
              "    </tr>\n",
              "    <tr>\n",
              "      <th>1</th>\n",
              "      <td>10026</td>\n",
              "      <td>20170228</td>\n",
              "      <td>JJSF</td>\n",
              "      <td>0.048836</td>\n",
              "    </tr>\n",
              "    <tr>\n",
              "      <th>2</th>\n",
              "      <td>10026</td>\n",
              "      <td>20170331</td>\n",
              "      <td>JJSF</td>\n",
              "      <td>0.016293</td>\n",
              "    </tr>\n",
              "  </tbody>\n",
              "</table>\n",
              "</div>\n",
              "      <button class=\"colab-df-convert\" onclick=\"convertToInteractive('df-413f7f23-67a2-42b3-9e72-33e75109e9b9')\"\n",
              "              title=\"Convert this dataframe to an interactive table.\"\n",
              "              style=\"display:none;\">\n",
              "        \n",
              "  <svg xmlns=\"http://www.w3.org/2000/svg\" height=\"24px\"viewBox=\"0 0 24 24\"\n",
              "       width=\"24px\">\n",
              "    <path d=\"M0 0h24v24H0V0z\" fill=\"none\"/>\n",
              "    <path d=\"M18.56 5.44l.94 2.06.94-2.06 2.06-.94-2.06-.94-.94-2.06-.94 2.06-2.06.94zm-11 1L8.5 8.5l.94-2.06 2.06-.94-2.06-.94L8.5 2.5l-.94 2.06-2.06.94zm10 10l.94 2.06.94-2.06 2.06-.94-2.06-.94-.94-2.06-.94 2.06-2.06.94z\"/><path d=\"M17.41 7.96l-1.37-1.37c-.4-.4-.92-.59-1.43-.59-.52 0-1.04.2-1.43.59L10.3 9.45l-7.72 7.72c-.78.78-.78 2.05 0 2.83L4 21.41c.39.39.9.59 1.41.59.51 0 1.02-.2 1.41-.59l7.78-7.78 2.81-2.81c.8-.78.8-2.07 0-2.86zM5.41 20L4 18.59l7.72-7.72 1.47 1.35L5.41 20z\"/>\n",
              "  </svg>\n",
              "      </button>\n",
              "      \n",
              "  <style>\n",
              "    .colab-df-container {\n",
              "      display:flex;\n",
              "      flex-wrap:wrap;\n",
              "      gap: 12px;\n",
              "    }\n",
              "\n",
              "    .colab-df-convert {\n",
              "      background-color: #E8F0FE;\n",
              "      border: none;\n",
              "      border-radius: 50%;\n",
              "      cursor: pointer;\n",
              "      display: none;\n",
              "      fill: #1967D2;\n",
              "      height: 32px;\n",
              "      padding: 0 0 0 0;\n",
              "      width: 32px;\n",
              "    }\n",
              "\n",
              "    .colab-df-convert:hover {\n",
              "      background-color: #E2EBFA;\n",
              "      box-shadow: 0px 1px 2px rgba(60, 64, 67, 0.3), 0px 1px 3px 1px rgba(60, 64, 67, 0.15);\n",
              "      fill: #174EA6;\n",
              "    }\n",
              "\n",
              "    [theme=dark] .colab-df-convert {\n",
              "      background-color: #3B4455;\n",
              "      fill: #D2E3FC;\n",
              "    }\n",
              "\n",
              "    [theme=dark] .colab-df-convert:hover {\n",
              "      background-color: #434B5C;\n",
              "      box-shadow: 0px 1px 3px 1px rgba(0, 0, 0, 0.15);\n",
              "      filter: drop-shadow(0px 1px 2px rgba(0, 0, 0, 0.3));\n",
              "      fill: #FFFFFF;\n",
              "    }\n",
              "  </style>\n",
              "\n",
              "      <script>\n",
              "        const buttonEl =\n",
              "          document.querySelector('#df-413f7f23-67a2-42b3-9e72-33e75109e9b9 button.colab-df-convert');\n",
              "        buttonEl.style.display =\n",
              "          google.colab.kernel.accessAllowed ? 'block' : 'none';\n",
              "\n",
              "        async function convertToInteractive(key) {\n",
              "          const element = document.querySelector('#df-413f7f23-67a2-42b3-9e72-33e75109e9b9');\n",
              "          const dataTable =\n",
              "            await google.colab.kernel.invokeFunction('convertToInteractive',\n",
              "                                                     [key], {});\n",
              "          if (!dataTable) return;\n",
              "\n",
              "          const docLinkHtml = 'Like what you see? Visit the ' +\n",
              "            '<a target=\"_blank\" href=https://colab.research.google.com/notebooks/data_table.ipynb>data table notebook</a>'\n",
              "            + ' to learn more about interactive tables.';\n",
              "          element.innerHTML = '';\n",
              "          dataTable['output_type'] = 'display_data';\n",
              "          await google.colab.output.renderOutput(dataTable, element);\n",
              "          const docLink = document.createElement('div');\n",
              "          docLink.innerHTML = docLinkHtml;\n",
              "          element.appendChild(docLink);\n",
              "        }\n",
              "      </script>\n",
              "    </div>\n",
              "  </div>\n",
              "  "
            ]
          },
          "metadata": {},
          "execution_count": 12
        }
      ]
    },
    {
      "cell_type": "code",
      "source": [
        "# 1924 tickers\n",
        "returns.TICKER.nunique()"
      ],
      "metadata": {
        "colab": {
          "base_uri": "https://localhost:8080/"
        },
        "id": "xfGhRDKPedqn",
        "outputId": "c368b5cb-7eb4-4457-ceaf-bc6421814387"
      },
      "execution_count": null,
      "outputs": [
        {
          "output_type": "execute_result",
          "data": {
            "text/plain": [
              "1924"
            ]
          },
          "metadata": {},
          "execution_count": 15
        }
      ]
    },
    {
      "cell_type": "code",
      "source": [
        "returns.PERMNO.nunique()"
      ],
      "metadata": {
        "colab": {
          "base_uri": "https://localhost:8080/"
        },
        "id": "dbFCTriTel6H",
        "outputId": "beccc517-ec08-4a75-9cab-4e82f171a48f"
      },
      "execution_count": null,
      "outputs": [
        {
          "output_type": "execute_result",
          "data": {
            "text/plain": [
              "1920"
            ]
          },
          "metadata": {},
          "execution_count": 17
        }
      ]
    },
    {
      "cell_type": "code",
      "source": [
        "returns.info()"
      ],
      "metadata": {
        "colab": {
          "base_uri": "https://localhost:8080/"
        },
        "id": "828gVXd1RRpq",
        "outputId": "c262698c-2e65-45b2-a2cb-54cdd4a417e5"
      },
      "execution_count": null,
      "outputs": [
        {
          "output_type": "stream",
          "name": "stdout",
          "text": [
            "<class 'pandas.core.frame.DataFrame'>\n",
            "RangeIndex: 114715 entries, 0 to 114714\n",
            "Data columns (total 4 columns):\n",
            " #   Column  Non-Null Count   Dtype \n",
            "---  ------  --------------   ----- \n",
            " 0   PERMNO  114715 non-null  int64 \n",
            " 1   date    114715 non-null  int64 \n",
            " 2   TICKER  114653 non-null  object\n",
            " 3   RET     114700 non-null  object\n",
            "dtypes: int64(2), object(2)\n",
            "memory usage: 3.5+ MB\n"
          ]
        }
      ]
    },
    {
      "cell_type": "code",
      "source": [
        "returns.isna().sum()"
      ],
      "metadata": {
        "colab": {
          "base_uri": "https://localhost:8080/"
        },
        "id": "0K-1tERSL3af",
        "outputId": "59d6d5ec-f6f9-469d-8f28-23923760739c"
      },
      "execution_count": null,
      "outputs": [
        {
          "output_type": "execute_result",
          "data": {
            "text/plain": [
              "PERMNO     0\n",
              "date       0\n",
              "TICKER    62\n",
              "RET       15\n",
              "dtype: int64"
            ]
          },
          "metadata": {},
          "execution_count": 14
        }
      ]
    },
    {
      "cell_type": "markdown",
      "source": [
        "### Handling missing values\n",
        "* There are 62 missing values in TICKER and 15 missing values in RET.\n",
        "* I will go over how I handled missing values and the reason why I dropped those in this section."
      ],
      "metadata": {
        "id": "LGotnwwB3Wgr"
      }
    },
    {
      "cell_type": "markdown",
      "source": [
        "#### Missing values in 'RET' column\n",
        "* I decided to drop missing values in RET (15 observations)\n",
        "* It is because RET is eventually target variable in the final regression. Filling missing values in RET result in incorrect/biased final regression model results."
      ],
      "metadata": {
        "id": "_2SFwWzu4sYW"
      }
    },
    {
      "cell_type": "code",
      "source": [
        "# Dropping missing values in RET column\n",
        "returns.dropna(axis=0, subset=['RET'], inplace=True)"
      ],
      "metadata": {
        "id": "44KIZvpM3hWF"
      },
      "execution_count": null,
      "outputs": []
    },
    {
      "cell_type": "code",
      "source": [
        "returns.isna().sum()"
      ],
      "metadata": {
        "colab": {
          "base_uri": "https://localhost:8080/"
        },
        "id": "VfRmXk9a4nQk",
        "outputId": "5b5fd9d9-ace5-4b85-92f9-2d8c051734ad"
      },
      "execution_count": null,
      "outputs": [
        {
          "output_type": "execute_result",
          "data": {
            "text/plain": [
              "PERMNO     0\n",
              "date       0\n",
              "TICKER    58\n",
              "RET        0\n",
              "dtype: int64"
            ]
          },
          "metadata": {},
          "execution_count": 19
        }
      ]
    },
    {
      "cell_type": "markdown",
      "source": [
        "#### Missing values in TICKER column\n",
        "* The remaning missing values in 'TICKER' is all from same company, whos PERMNO is 92683. Based on Permno-Ticker matching table, those data is from company 'EVO'. \n",
        "* Since RET in these rows are 'B', which is not numerical value and appropriate as RET value. \n",
        "* Therefore I decided to drop these rows because anyway I can't use these rows for predictiog RET in the Risk exposures regression"
      ],
      "metadata": {
        "id": "_EowepcI46CY"
      }
    },
    {
      "cell_type": "code",
      "source": [
        "returns[returns.isnull().any(axis=1)].PERMNO.nunique()"
      ],
      "metadata": {
        "id": "1xdwyeDc6JYx",
        "colab": {
          "base_uri": "https://localhost:8080/"
        },
        "outputId": "91dc8685-a790-4461-ae1d-c292dca2fdcf"
      },
      "execution_count": null,
      "outputs": [
        {
          "output_type": "execute_result",
          "data": {
            "text/plain": [
              "1"
            ]
          },
          "metadata": {},
          "execution_count": 28
        }
      ]
    },
    {
      "cell_type": "code",
      "source": [
        "# All missing values in Ticker are from same company: PERMNO==92683\n",
        "returns[returns.isnull().any(axis=1)].PERMNO.unique()"
      ],
      "metadata": {
        "colab": {
          "base_uri": "https://localhost:8080/"
        },
        "id": "30yFt2P7qCjb",
        "outputId": "a009d9e9-ffc0-49fa-ab9d-96f2b370f1a7"
      },
      "execution_count": null,
      "outputs": [
        {
          "output_type": "execute_result",
          "data": {
            "text/plain": [
              "array([92683])"
            ]
          },
          "metadata": {},
          "execution_count": 31
        }
      ]
    },
    {
      "cell_type": "code",
      "source": [
        "returns[returns.PERMNO==92683].transpose()"
      ],
      "metadata": {
        "colab": {
          "base_uri": "https://localhost:8080/",
          "height": 268
        },
        "id": "tCjvGygaWIii",
        "outputId": "7e00d12d-0a21-487c-df0b-0291deb1b6ef"
      },
      "execution_count": null,
      "outputs": [
        {
          "output_type": "execute_result",
          "data": {
            "text/plain": [
              "          111355    111356    111357    111358    111359    111360    111361  \\\n",
              "PERMNO     92683     92683     92683     92683     92683     92683     92683   \n",
              "date    20170131  20170228  20170331  20170428  20170531  20170630  20170731   \n",
              "TICKER       NaN       NaN       NaN       NaN       NaN       NaN       NaN   \n",
              "RET            B         B         B         B         B         B         B   \n",
              "\n",
              "          111362    111363    111364  ...    111405    111406    111407  \\\n",
              "PERMNO     92683     92683     92683  ...     92683     92683     92683   \n",
              "date    20170831  20170929  20171031  ...  20210331  20210430  20210528   \n",
              "TICKER       NaN       NaN       NaN  ...       NaN       NaN       NaN   \n",
              "RET            B         B         B  ...         B         B         B   \n",
              "\n",
              "          111408    111409    111410    111411    111412    111413    111414  \n",
              "PERMNO     92683     92683     92683     92683     92683     92683     92683  \n",
              "date    20210630  20210730  20210831  20210930  20211029  20211130  20211231  \n",
              "TICKER       NaN       NaN       NaN       NaN       NaN       EVO       EVO  \n",
              "RET            B         B         B         B         B         C  0.007637  \n",
              "\n",
              "[4 rows x 60 columns]"
            ],
            "text/html": [
              "\n",
              "  <div id=\"df-75b28fd1-dbeb-436f-a50d-242568301be8\">\n",
              "    <div class=\"colab-df-container\">\n",
              "      <div>\n",
              "<style scoped>\n",
              "    .dataframe tbody tr th:only-of-type {\n",
              "        vertical-align: middle;\n",
              "    }\n",
              "\n",
              "    .dataframe tbody tr th {\n",
              "        vertical-align: top;\n",
              "    }\n",
              "\n",
              "    .dataframe thead th {\n",
              "        text-align: right;\n",
              "    }\n",
              "</style>\n",
              "<table border=\"1\" class=\"dataframe\">\n",
              "  <thead>\n",
              "    <tr style=\"text-align: right;\">\n",
              "      <th></th>\n",
              "      <th>111355</th>\n",
              "      <th>111356</th>\n",
              "      <th>111357</th>\n",
              "      <th>111358</th>\n",
              "      <th>111359</th>\n",
              "      <th>111360</th>\n",
              "      <th>111361</th>\n",
              "      <th>111362</th>\n",
              "      <th>111363</th>\n",
              "      <th>111364</th>\n",
              "      <th>...</th>\n",
              "      <th>111405</th>\n",
              "      <th>111406</th>\n",
              "      <th>111407</th>\n",
              "      <th>111408</th>\n",
              "      <th>111409</th>\n",
              "      <th>111410</th>\n",
              "      <th>111411</th>\n",
              "      <th>111412</th>\n",
              "      <th>111413</th>\n",
              "      <th>111414</th>\n",
              "    </tr>\n",
              "  </thead>\n",
              "  <tbody>\n",
              "    <tr>\n",
              "      <th>PERMNO</th>\n",
              "      <td>92683</td>\n",
              "      <td>92683</td>\n",
              "      <td>92683</td>\n",
              "      <td>92683</td>\n",
              "      <td>92683</td>\n",
              "      <td>92683</td>\n",
              "      <td>92683</td>\n",
              "      <td>92683</td>\n",
              "      <td>92683</td>\n",
              "      <td>92683</td>\n",
              "      <td>...</td>\n",
              "      <td>92683</td>\n",
              "      <td>92683</td>\n",
              "      <td>92683</td>\n",
              "      <td>92683</td>\n",
              "      <td>92683</td>\n",
              "      <td>92683</td>\n",
              "      <td>92683</td>\n",
              "      <td>92683</td>\n",
              "      <td>92683</td>\n",
              "      <td>92683</td>\n",
              "    </tr>\n",
              "    <tr>\n",
              "      <th>date</th>\n",
              "      <td>20170131</td>\n",
              "      <td>20170228</td>\n",
              "      <td>20170331</td>\n",
              "      <td>20170428</td>\n",
              "      <td>20170531</td>\n",
              "      <td>20170630</td>\n",
              "      <td>20170731</td>\n",
              "      <td>20170831</td>\n",
              "      <td>20170929</td>\n",
              "      <td>20171031</td>\n",
              "      <td>...</td>\n",
              "      <td>20210331</td>\n",
              "      <td>20210430</td>\n",
              "      <td>20210528</td>\n",
              "      <td>20210630</td>\n",
              "      <td>20210730</td>\n",
              "      <td>20210831</td>\n",
              "      <td>20210930</td>\n",
              "      <td>20211029</td>\n",
              "      <td>20211130</td>\n",
              "      <td>20211231</td>\n",
              "    </tr>\n",
              "    <tr>\n",
              "      <th>TICKER</th>\n",
              "      <td>NaN</td>\n",
              "      <td>NaN</td>\n",
              "      <td>NaN</td>\n",
              "      <td>NaN</td>\n",
              "      <td>NaN</td>\n",
              "      <td>NaN</td>\n",
              "      <td>NaN</td>\n",
              "      <td>NaN</td>\n",
              "      <td>NaN</td>\n",
              "      <td>NaN</td>\n",
              "      <td>...</td>\n",
              "      <td>NaN</td>\n",
              "      <td>NaN</td>\n",
              "      <td>NaN</td>\n",
              "      <td>NaN</td>\n",
              "      <td>NaN</td>\n",
              "      <td>NaN</td>\n",
              "      <td>NaN</td>\n",
              "      <td>NaN</td>\n",
              "      <td>EVO</td>\n",
              "      <td>EVO</td>\n",
              "    </tr>\n",
              "    <tr>\n",
              "      <th>RET</th>\n",
              "      <td>B</td>\n",
              "      <td>B</td>\n",
              "      <td>B</td>\n",
              "      <td>B</td>\n",
              "      <td>B</td>\n",
              "      <td>B</td>\n",
              "      <td>B</td>\n",
              "      <td>B</td>\n",
              "      <td>B</td>\n",
              "      <td>B</td>\n",
              "      <td>...</td>\n",
              "      <td>B</td>\n",
              "      <td>B</td>\n",
              "      <td>B</td>\n",
              "      <td>B</td>\n",
              "      <td>B</td>\n",
              "      <td>B</td>\n",
              "      <td>B</td>\n",
              "      <td>B</td>\n",
              "      <td>C</td>\n",
              "      <td>0.007637</td>\n",
              "    </tr>\n",
              "  </tbody>\n",
              "</table>\n",
              "<p>4 rows × 60 columns</p>\n",
              "</div>\n",
              "      <button class=\"colab-df-convert\" onclick=\"convertToInteractive('df-75b28fd1-dbeb-436f-a50d-242568301be8')\"\n",
              "              title=\"Convert this dataframe to an interactive table.\"\n",
              "              style=\"display:none;\">\n",
              "        \n",
              "  <svg xmlns=\"http://www.w3.org/2000/svg\" height=\"24px\"viewBox=\"0 0 24 24\"\n",
              "       width=\"24px\">\n",
              "    <path d=\"M0 0h24v24H0V0z\" fill=\"none\"/>\n",
              "    <path d=\"M18.56 5.44l.94 2.06.94-2.06 2.06-.94-2.06-.94-.94-2.06-.94 2.06-2.06.94zm-11 1L8.5 8.5l.94-2.06 2.06-.94-2.06-.94L8.5 2.5l-.94 2.06-2.06.94zm10 10l.94 2.06.94-2.06 2.06-.94-2.06-.94-.94-2.06-.94 2.06-2.06.94z\"/><path d=\"M17.41 7.96l-1.37-1.37c-.4-.4-.92-.59-1.43-.59-.52 0-1.04.2-1.43.59L10.3 9.45l-7.72 7.72c-.78.78-.78 2.05 0 2.83L4 21.41c.39.39.9.59 1.41.59.51 0 1.02-.2 1.41-.59l7.78-7.78 2.81-2.81c.8-.78.8-2.07 0-2.86zM5.41 20L4 18.59l7.72-7.72 1.47 1.35L5.41 20z\"/>\n",
              "  </svg>\n",
              "      </button>\n",
              "      \n",
              "  <style>\n",
              "    .colab-df-container {\n",
              "      display:flex;\n",
              "      flex-wrap:wrap;\n",
              "      gap: 12px;\n",
              "    }\n",
              "\n",
              "    .colab-df-convert {\n",
              "      background-color: #E8F0FE;\n",
              "      border: none;\n",
              "      border-radius: 50%;\n",
              "      cursor: pointer;\n",
              "      display: none;\n",
              "      fill: #1967D2;\n",
              "      height: 32px;\n",
              "      padding: 0 0 0 0;\n",
              "      width: 32px;\n",
              "    }\n",
              "\n",
              "    .colab-df-convert:hover {\n",
              "      background-color: #E2EBFA;\n",
              "      box-shadow: 0px 1px 2px rgba(60, 64, 67, 0.3), 0px 1px 3px 1px rgba(60, 64, 67, 0.15);\n",
              "      fill: #174EA6;\n",
              "    }\n",
              "\n",
              "    [theme=dark] .colab-df-convert {\n",
              "      background-color: #3B4455;\n",
              "      fill: #D2E3FC;\n",
              "    }\n",
              "\n",
              "    [theme=dark] .colab-df-convert:hover {\n",
              "      background-color: #434B5C;\n",
              "      box-shadow: 0px 1px 3px 1px rgba(0, 0, 0, 0.15);\n",
              "      filter: drop-shadow(0px 1px 2px rgba(0, 0, 0, 0.3));\n",
              "      fill: #FFFFFF;\n",
              "    }\n",
              "  </style>\n",
              "\n",
              "      <script>\n",
              "        const buttonEl =\n",
              "          document.querySelector('#df-75b28fd1-dbeb-436f-a50d-242568301be8 button.colab-df-convert');\n",
              "        buttonEl.style.display =\n",
              "          google.colab.kernel.accessAllowed ? 'block' : 'none';\n",
              "\n",
              "        async function convertToInteractive(key) {\n",
              "          const element = document.querySelector('#df-75b28fd1-dbeb-436f-a50d-242568301be8');\n",
              "          const dataTable =\n",
              "            await google.colab.kernel.invokeFunction('convertToInteractive',\n",
              "                                                     [key], {});\n",
              "          if (!dataTable) return;\n",
              "\n",
              "          const docLinkHtml = 'Like what you see? Visit the ' +\n",
              "            '<a target=\"_blank\" href=https://colab.research.google.com/notebooks/data_table.ipynb>data table notebook</a>'\n",
              "            + ' to learn more about interactive tables.';\n",
              "          element.innerHTML = '';\n",
              "          dataTable['output_type'] = 'display_data';\n",
              "          await google.colab.output.renderOutput(dataTable, element);\n",
              "          const docLink = document.createElement('div');\n",
              "          docLink.innerHTML = docLinkHtml;\n",
              "          element.appendChild(docLink);\n",
              "        }\n",
              "      </script>\n",
              "    </div>\n",
              "  </div>\n",
              "  "
            ]
          },
          "metadata": {},
          "execution_count": 30
        }
      ]
    },
    {
      "cell_type": "code",
      "source": [
        "returns.dropna(axis=0, subset=['TICKER'], inplace=True)"
      ],
      "metadata": {
        "id": "EoIrz7EG7DKP"
      },
      "execution_count": null,
      "outputs": []
    },
    {
      "cell_type": "code",
      "source": [
        "returns.isna().sum()"
      ],
      "metadata": {
        "colab": {
          "base_uri": "https://localhost:8080/"
        },
        "id": "tbSfVB_JhXai",
        "outputId": "9cbc2c74-f5c7-44da-e2f6-c7a36ccd21e3"
      },
      "execution_count": null,
      "outputs": [
        {
          "output_type": "execute_result",
          "data": {
            "text/plain": [
              "PERMNO    0\n",
              "date      0\n",
              "TICKER    0\n",
              "RET       0\n",
              "dtype: int64"
            ]
          },
          "metadata": {},
          "execution_count": 33
        }
      ]
    },
    {
      "cell_type": "markdown",
      "source": [
        "### String values in RET\n",
        "* Drop string values in RET\n",
        "* Convert datatype to float\n",
        "* Final format: 114629 observations, 4 columns"
      ],
      "metadata": {
        "id": "R-K-gQ8aBhRL"
      }
    },
    {
      "cell_type": "code",
      "source": [
        "returns[returns.RET.str.isalpha()]"
      ],
      "metadata": {
        "colab": {
          "base_uri": "https://localhost:8080/"
        },
        "id": "BJUnl8PyLSdT",
        "outputId": "0922d21c-c878-462a-dfcd-34abf17f702f"
      },
      "execution_count": null,
      "outputs": [
        {
          "output_type": "execute_result",
          "data": {
            "text/plain": [
              "        PERMNO      date TICKER RET\n",
              "33195    16497  20170131   CNDT   C\n",
              "33255    16498  20170131    HGV   C\n",
              "33315    16499  20170131     PK   C\n",
              "33555    16543  20170131   VREX   C\n",
              "33675    16554  20170131   JELD   C\n",
              "33795    16560  20170131   REVG   C\n",
              "33855    16562  20170131   ANAB   C\n",
              "33915    16570  20170131   JNCE   C\n",
              "34096    16692  20170531    GDI   C\n",
              "34813    18420  20190329   FOXA   C\n",
              "35148    19283  20200430   ARNC   C\n",
              "35710    20064  20201231    AAN   C\n",
              "111413   92683  20211130    EVO   C"
            ],
            "text/html": [
              "\n",
              "  <div id=\"df-07a5d1f3-d650-48cd-aee5-51acb9f8b538\">\n",
              "    <div class=\"colab-df-container\">\n",
              "      <div>\n",
              "<style scoped>\n",
              "    .dataframe tbody tr th:only-of-type {\n",
              "        vertical-align: middle;\n",
              "    }\n",
              "\n",
              "    .dataframe tbody tr th {\n",
              "        vertical-align: top;\n",
              "    }\n",
              "\n",
              "    .dataframe thead th {\n",
              "        text-align: right;\n",
              "    }\n",
              "</style>\n",
              "<table border=\"1\" class=\"dataframe\">\n",
              "  <thead>\n",
              "    <tr style=\"text-align: right;\">\n",
              "      <th></th>\n",
              "      <th>PERMNO</th>\n",
              "      <th>date</th>\n",
              "      <th>TICKER</th>\n",
              "      <th>RET</th>\n",
              "    </tr>\n",
              "  </thead>\n",
              "  <tbody>\n",
              "    <tr>\n",
              "      <th>33195</th>\n",
              "      <td>16497</td>\n",
              "      <td>20170131</td>\n",
              "      <td>CNDT</td>\n",
              "      <td>C</td>\n",
              "    </tr>\n",
              "    <tr>\n",
              "      <th>33255</th>\n",
              "      <td>16498</td>\n",
              "      <td>20170131</td>\n",
              "      <td>HGV</td>\n",
              "      <td>C</td>\n",
              "    </tr>\n",
              "    <tr>\n",
              "      <th>33315</th>\n",
              "      <td>16499</td>\n",
              "      <td>20170131</td>\n",
              "      <td>PK</td>\n",
              "      <td>C</td>\n",
              "    </tr>\n",
              "    <tr>\n",
              "      <th>33555</th>\n",
              "      <td>16543</td>\n",
              "      <td>20170131</td>\n",
              "      <td>VREX</td>\n",
              "      <td>C</td>\n",
              "    </tr>\n",
              "    <tr>\n",
              "      <th>33675</th>\n",
              "      <td>16554</td>\n",
              "      <td>20170131</td>\n",
              "      <td>JELD</td>\n",
              "      <td>C</td>\n",
              "    </tr>\n",
              "    <tr>\n",
              "      <th>33795</th>\n",
              "      <td>16560</td>\n",
              "      <td>20170131</td>\n",
              "      <td>REVG</td>\n",
              "      <td>C</td>\n",
              "    </tr>\n",
              "    <tr>\n",
              "      <th>33855</th>\n",
              "      <td>16562</td>\n",
              "      <td>20170131</td>\n",
              "      <td>ANAB</td>\n",
              "      <td>C</td>\n",
              "    </tr>\n",
              "    <tr>\n",
              "      <th>33915</th>\n",
              "      <td>16570</td>\n",
              "      <td>20170131</td>\n",
              "      <td>JNCE</td>\n",
              "      <td>C</td>\n",
              "    </tr>\n",
              "    <tr>\n",
              "      <th>34096</th>\n",
              "      <td>16692</td>\n",
              "      <td>20170531</td>\n",
              "      <td>GDI</td>\n",
              "      <td>C</td>\n",
              "    </tr>\n",
              "    <tr>\n",
              "      <th>34813</th>\n",
              "      <td>18420</td>\n",
              "      <td>20190329</td>\n",
              "      <td>FOXA</td>\n",
              "      <td>C</td>\n",
              "    </tr>\n",
              "    <tr>\n",
              "      <th>35148</th>\n",
              "      <td>19283</td>\n",
              "      <td>20200430</td>\n",
              "      <td>ARNC</td>\n",
              "      <td>C</td>\n",
              "    </tr>\n",
              "    <tr>\n",
              "      <th>35710</th>\n",
              "      <td>20064</td>\n",
              "      <td>20201231</td>\n",
              "      <td>AAN</td>\n",
              "      <td>C</td>\n",
              "    </tr>\n",
              "    <tr>\n",
              "      <th>111413</th>\n",
              "      <td>92683</td>\n",
              "      <td>20211130</td>\n",
              "      <td>EVO</td>\n",
              "      <td>C</td>\n",
              "    </tr>\n",
              "  </tbody>\n",
              "</table>\n",
              "</div>\n",
              "      <button class=\"colab-df-convert\" onclick=\"convertToInteractive('df-07a5d1f3-d650-48cd-aee5-51acb9f8b538')\"\n",
              "              title=\"Convert this dataframe to an interactive table.\"\n",
              "              style=\"display:none;\">\n",
              "        \n",
              "  <svg xmlns=\"http://www.w3.org/2000/svg\" height=\"24px\"viewBox=\"0 0 24 24\"\n",
              "       width=\"24px\">\n",
              "    <path d=\"M0 0h24v24H0V0z\" fill=\"none\"/>\n",
              "    <path d=\"M18.56 5.44l.94 2.06.94-2.06 2.06-.94-2.06-.94-.94-2.06-.94 2.06-2.06.94zm-11 1L8.5 8.5l.94-2.06 2.06-.94-2.06-.94L8.5 2.5l-.94 2.06-2.06.94zm10 10l.94 2.06.94-2.06 2.06-.94-2.06-.94-.94-2.06-.94 2.06-2.06.94z\"/><path d=\"M17.41 7.96l-1.37-1.37c-.4-.4-.92-.59-1.43-.59-.52 0-1.04.2-1.43.59L10.3 9.45l-7.72 7.72c-.78.78-.78 2.05 0 2.83L4 21.41c.39.39.9.59 1.41.59.51 0 1.02-.2 1.41-.59l7.78-7.78 2.81-2.81c.8-.78.8-2.07 0-2.86zM5.41 20L4 18.59l7.72-7.72 1.47 1.35L5.41 20z\"/>\n",
              "  </svg>\n",
              "      </button>\n",
              "      \n",
              "  <style>\n",
              "    .colab-df-container {\n",
              "      display:flex;\n",
              "      flex-wrap:wrap;\n",
              "      gap: 12px;\n",
              "    }\n",
              "\n",
              "    .colab-df-convert {\n",
              "      background-color: #E8F0FE;\n",
              "      border: none;\n",
              "      border-radius: 50%;\n",
              "      cursor: pointer;\n",
              "      display: none;\n",
              "      fill: #1967D2;\n",
              "      height: 32px;\n",
              "      padding: 0 0 0 0;\n",
              "      width: 32px;\n",
              "    }\n",
              "\n",
              "    .colab-df-convert:hover {\n",
              "      background-color: #E2EBFA;\n",
              "      box-shadow: 0px 1px 2px rgba(60, 64, 67, 0.3), 0px 1px 3px 1px rgba(60, 64, 67, 0.15);\n",
              "      fill: #174EA6;\n",
              "    }\n",
              "\n",
              "    [theme=dark] .colab-df-convert {\n",
              "      background-color: #3B4455;\n",
              "      fill: #D2E3FC;\n",
              "    }\n",
              "\n",
              "    [theme=dark] .colab-df-convert:hover {\n",
              "      background-color: #434B5C;\n",
              "      box-shadow: 0px 1px 3px 1px rgba(0, 0, 0, 0.15);\n",
              "      filter: drop-shadow(0px 1px 2px rgba(0, 0, 0, 0.3));\n",
              "      fill: #FFFFFF;\n",
              "    }\n",
              "  </style>\n",
              "\n",
              "      <script>\n",
              "        const buttonEl =\n",
              "          document.querySelector('#df-07a5d1f3-d650-48cd-aee5-51acb9f8b538 button.colab-df-convert');\n",
              "        buttonEl.style.display =\n",
              "          google.colab.kernel.accessAllowed ? 'block' : 'none';\n",
              "\n",
              "        async function convertToInteractive(key) {\n",
              "          const element = document.querySelector('#df-07a5d1f3-d650-48cd-aee5-51acb9f8b538');\n",
              "          const dataTable =\n",
              "            await google.colab.kernel.invokeFunction('convertToInteractive',\n",
              "                                                     [key], {});\n",
              "          if (!dataTable) return;\n",
              "\n",
              "          const docLinkHtml = 'Like what you see? Visit the ' +\n",
              "            '<a target=\"_blank\" href=https://colab.research.google.com/notebooks/data_table.ipynb>data table notebook</a>'\n",
              "            + ' to learn more about interactive tables.';\n",
              "          element.innerHTML = '';\n",
              "          dataTable['output_type'] = 'display_data';\n",
              "          await google.colab.output.renderOutput(dataTable, element);\n",
              "          const docLink = document.createElement('div');\n",
              "          docLink.innerHTML = docLinkHtml;\n",
              "          element.appendChild(docLink);\n",
              "        }\n",
              "      </script>\n",
              "    </div>\n",
              "  </div>\n",
              "  "
            ]
          },
          "metadata": {},
          "execution_count": 20
        }
      ]
    },
    {
      "cell_type": "code",
      "source": [
        "returns = returns[returns.RET.isin(['C'])==False]"
      ],
      "metadata": {
        "id": "uOCkjlxNK15n"
      },
      "execution_count": null,
      "outputs": []
    },
    {
      "cell_type": "code",
      "source": [
        "returns[\"RET\"] = pd.to_numeric(returns[\"RET\"], errors='raise')"
      ],
      "metadata": {
        "id": "dMYhZGzKBxfh"
      },
      "execution_count": null,
      "outputs": []
    },
    {
      "cell_type": "code",
      "source": [
        "# 114629 entries, 4 columns\n",
        "returns.info()"
      ],
      "metadata": {
        "colab": {
          "base_uri": "https://localhost:8080/"
        },
        "id": "bCzE0CROMcOZ",
        "outputId": "31ed7bd4-45f1-4dc7-98b2-76682cfc03be"
      },
      "execution_count": null,
      "outputs": [
        {
          "output_type": "stream",
          "name": "stdout",
          "text": [
            "<class 'pandas.core.frame.DataFrame'>\n",
            "Int64Index: 114629 entries, 0 to 114714\n",
            "Data columns (total 4 columns):\n",
            " #   Column  Non-Null Count   Dtype  \n",
            "---  ------  --------------   -----  \n",
            " 0   PERMNO  114629 non-null  int64  \n",
            " 1   date    114629 non-null  int64  \n",
            " 2   TICKER  114629 non-null  object \n",
            " 3   RET     114629 non-null  float64\n",
            "dtypes: float64(1), int64(2), object(1)\n",
            "memory usage: 4.4+ MB\n"
          ]
        }
      ]
    },
    {
      "cell_type": "code",
      "source": [
        "# Copy dataset for future use\n",
        "ret = returns.copy()"
      ],
      "metadata": {
        "id": "xUmbfWVKqwof"
      },
      "execution_count": null,
      "outputs": []
    },
    {
      "cell_type": "markdown",
      "source": [
        "## Financial dataset"
      ],
      "metadata": {
        "id": "qIP8aJ5uMSpf"
      }
    },
    {
      "cell_type": "markdown",
      "source": [
        "* This dataset is collected from from Compustat on the WRDS database. \n",
        "* This dataset indicates financial report data for the year 2021 for each of the stocks with 1886 Tickers\n",
        "* After dropping some unneccesary columns, I got 1886 observations and 23 columns.\n",
        "* There are missing values in this dataset, so I will handle those in the financla ratio section, before creating ratios."
      ],
      "metadata": {
        "id": "xag_YQ6fiAn_"
      }
    },
    {
      "cell_type": "code",
      "source": [
        "finan = pd.read_csv(\"/content/Project-2021-Financials.csv\")"
      ],
      "metadata": {
        "id": "9JkXrp5nMVBT"
      },
      "execution_count": null,
      "outputs": []
    },
    {
      "cell_type": "code",
      "source": [
        "# Drop unneccesary column\n",
        "finan.drop(columns=['gvkey','indfmt','consol','popsrc','datafmt','curcd','costat','dvt'],inplace=True)"
      ],
      "metadata": {
        "id": "ARQaXl4YAFhH"
      },
      "execution_count": null,
      "outputs": []
    },
    {
      "cell_type": "code",
      "source": [
        "# Change column name\n",
        "finan.rename(columns={'tic':'TICKER'}, inplace=True)"
      ],
      "metadata": {
        "id": "_cZ4jywcrK7Y"
      },
      "execution_count": null,
      "outputs": []
    },
    {
      "cell_type": "code",
      "source": [
        "finan.info()"
      ],
      "metadata": {
        "colab": {
          "base_uri": "https://localhost:8080/"
        },
        "id": "o127DwP_sIsq",
        "outputId": "1e8f7621-461c-4336-ad1e-63ce5f3958df"
      },
      "execution_count": null,
      "outputs": [
        {
          "output_type": "stream",
          "name": "stdout",
          "text": [
            "<class 'pandas.core.frame.DataFrame'>\n",
            "RangeIndex: 1886 entries, 0 to 1885\n",
            "Data columns (total 23 columns):\n",
            " #   Column    Non-Null Count  Dtype  \n",
            "---  ------    --------------  -----  \n",
            " 0   datadate  1886 non-null   int64  \n",
            " 1   fyear     1886 non-null   int64  \n",
            " 2   TICKER    1886 non-null   object \n",
            " 3   act       1431 non-null   float64\n",
            " 4   at        1886 non-null   float64\n",
            " 5   ceq       1886 non-null   float64\n",
            " 6   ch        1857 non-null   float64\n",
            " 7   che       1886 non-null   float64\n",
            " 8   chech     1885 non-null   float64\n",
            " 9   cogs      1886 non-null   float64\n",
            " 10  csho      1886 non-null   float64\n",
            " 11  dt        1649 non-null   float64\n",
            " 12  ebit      1886 non-null   float64\n",
            " 13  invt      1852 non-null   float64\n",
            " 14  lct       1431 non-null   float64\n",
            " 15  lt        1881 non-null   float64\n",
            " 16  ni        1886 non-null   float64\n",
            " 17  re        1883 non-null   float64\n",
            " 18  revt      1886 non-null   float64\n",
            " 19  sale      1886 non-null   float64\n",
            " 20  seq       1886 non-null   float64\n",
            " 21  prcc_c    1886 non-null   float64\n",
            " 22  mkvalt    1867 non-null   float64\n",
            "dtypes: float64(20), int64(2), object(1)\n",
            "memory usage: 339.0+ KB\n"
          ]
        }
      ]
    },
    {
      "cell_type": "code",
      "source": [
        "finan.head(3)"
      ],
      "metadata": {
        "colab": {
          "base_uri": "https://localhost:8080/",
          "height": 236
        },
        "id": "HQ_3jQzE36nP",
        "outputId": "5935f294-2a39-4479-8962-f85200bb14f2"
      },
      "execution_count": null,
      "outputs": [
        {
          "output_type": "execute_result",
          "data": {
            "text/plain": [
              "   datadate  fyear TICKER      act         at     ceq       ch        che  \\\n",
              "0  20210531   2020    AIR    937.0   1539.700   974.4   51.800     60.200   \n",
              "1  20211231   2021    AAL  17336.0  66467.000 -7340.0  273.000  13421.000   \n",
              "2  20211231   2021    PNW   1551.1  22003.222  5906.2    9.969      9.969   \n",
              "\n",
              "     chech      cogs  ...      invt        lct         lt       ni         re  \\\n",
              "0 -364.500   1364.60  ...   591.000    336.800    565.300    35.80    723.400   \n",
              "1    9.000  27969.00  ...  1795.000  19006.000  73807.000 -1993.00 -14580.000   \n",
              "2  -49.999   2347.65  ...   367.167   1756.869  15981.762   618.72   3209.858   \n",
              "\n",
              "        revt       sale     seq  prcc_c      mkvalt  \n",
              "0   1651.400   1651.400   974.4   36.22   1476.9063  \n",
              "1  29882.000  29882.000 -7340.0   17.96  11633.1949  \n",
              "2   3803.835   3803.835  5906.2   70.59   7971.5169  \n",
              "\n",
              "[3 rows x 23 columns]"
            ],
            "text/html": [
              "\n",
              "  <div id=\"df-90875891-ad5e-4c4f-9269-7470d4a79095\">\n",
              "    <div class=\"colab-df-container\">\n",
              "      <div>\n",
              "<style scoped>\n",
              "    .dataframe tbody tr th:only-of-type {\n",
              "        vertical-align: middle;\n",
              "    }\n",
              "\n",
              "    .dataframe tbody tr th {\n",
              "        vertical-align: top;\n",
              "    }\n",
              "\n",
              "    .dataframe thead th {\n",
              "        text-align: right;\n",
              "    }\n",
              "</style>\n",
              "<table border=\"1\" class=\"dataframe\">\n",
              "  <thead>\n",
              "    <tr style=\"text-align: right;\">\n",
              "      <th></th>\n",
              "      <th>datadate</th>\n",
              "      <th>fyear</th>\n",
              "      <th>TICKER</th>\n",
              "      <th>act</th>\n",
              "      <th>at</th>\n",
              "      <th>ceq</th>\n",
              "      <th>ch</th>\n",
              "      <th>che</th>\n",
              "      <th>chech</th>\n",
              "      <th>cogs</th>\n",
              "      <th>...</th>\n",
              "      <th>invt</th>\n",
              "      <th>lct</th>\n",
              "      <th>lt</th>\n",
              "      <th>ni</th>\n",
              "      <th>re</th>\n",
              "      <th>revt</th>\n",
              "      <th>sale</th>\n",
              "      <th>seq</th>\n",
              "      <th>prcc_c</th>\n",
              "      <th>mkvalt</th>\n",
              "    </tr>\n",
              "  </thead>\n",
              "  <tbody>\n",
              "    <tr>\n",
              "      <th>0</th>\n",
              "      <td>20210531</td>\n",
              "      <td>2020</td>\n",
              "      <td>AIR</td>\n",
              "      <td>937.0</td>\n",
              "      <td>1539.700</td>\n",
              "      <td>974.4</td>\n",
              "      <td>51.800</td>\n",
              "      <td>60.200</td>\n",
              "      <td>-364.500</td>\n",
              "      <td>1364.60</td>\n",
              "      <td>...</td>\n",
              "      <td>591.000</td>\n",
              "      <td>336.800</td>\n",
              "      <td>565.300</td>\n",
              "      <td>35.80</td>\n",
              "      <td>723.400</td>\n",
              "      <td>1651.400</td>\n",
              "      <td>1651.400</td>\n",
              "      <td>974.4</td>\n",
              "      <td>36.22</td>\n",
              "      <td>1476.9063</td>\n",
              "    </tr>\n",
              "    <tr>\n",
              "      <th>1</th>\n",
              "      <td>20211231</td>\n",
              "      <td>2021</td>\n",
              "      <td>AAL</td>\n",
              "      <td>17336.0</td>\n",
              "      <td>66467.000</td>\n",
              "      <td>-7340.0</td>\n",
              "      <td>273.000</td>\n",
              "      <td>13421.000</td>\n",
              "      <td>9.000</td>\n",
              "      <td>27969.00</td>\n",
              "      <td>...</td>\n",
              "      <td>1795.000</td>\n",
              "      <td>19006.000</td>\n",
              "      <td>73807.000</td>\n",
              "      <td>-1993.00</td>\n",
              "      <td>-14580.000</td>\n",
              "      <td>29882.000</td>\n",
              "      <td>29882.000</td>\n",
              "      <td>-7340.0</td>\n",
              "      <td>17.96</td>\n",
              "      <td>11633.1949</td>\n",
              "    </tr>\n",
              "    <tr>\n",
              "      <th>2</th>\n",
              "      <td>20211231</td>\n",
              "      <td>2021</td>\n",
              "      <td>PNW</td>\n",
              "      <td>1551.1</td>\n",
              "      <td>22003.222</td>\n",
              "      <td>5906.2</td>\n",
              "      <td>9.969</td>\n",
              "      <td>9.969</td>\n",
              "      <td>-49.999</td>\n",
              "      <td>2347.65</td>\n",
              "      <td>...</td>\n",
              "      <td>367.167</td>\n",
              "      <td>1756.869</td>\n",
              "      <td>15981.762</td>\n",
              "      <td>618.72</td>\n",
              "      <td>3209.858</td>\n",
              "      <td>3803.835</td>\n",
              "      <td>3803.835</td>\n",
              "      <td>5906.2</td>\n",
              "      <td>70.59</td>\n",
              "      <td>7971.5169</td>\n",
              "    </tr>\n",
              "  </tbody>\n",
              "</table>\n",
              "<p>3 rows × 23 columns</p>\n",
              "</div>\n",
              "      <button class=\"colab-df-convert\" onclick=\"convertToInteractive('df-90875891-ad5e-4c4f-9269-7470d4a79095')\"\n",
              "              title=\"Convert this dataframe to an interactive table.\"\n",
              "              style=\"display:none;\">\n",
              "        \n",
              "  <svg xmlns=\"http://www.w3.org/2000/svg\" height=\"24px\"viewBox=\"0 0 24 24\"\n",
              "       width=\"24px\">\n",
              "    <path d=\"M0 0h24v24H0V0z\" fill=\"none\"/>\n",
              "    <path d=\"M18.56 5.44l.94 2.06.94-2.06 2.06-.94-2.06-.94-.94-2.06-.94 2.06-2.06.94zm-11 1L8.5 8.5l.94-2.06 2.06-.94-2.06-.94L8.5 2.5l-.94 2.06-2.06.94zm10 10l.94 2.06.94-2.06 2.06-.94-2.06-.94-.94-2.06-.94 2.06-2.06.94z\"/><path d=\"M17.41 7.96l-1.37-1.37c-.4-.4-.92-.59-1.43-.59-.52 0-1.04.2-1.43.59L10.3 9.45l-7.72 7.72c-.78.78-.78 2.05 0 2.83L4 21.41c.39.39.9.59 1.41.59.51 0 1.02-.2 1.41-.59l7.78-7.78 2.81-2.81c.8-.78.8-2.07 0-2.86zM5.41 20L4 18.59l7.72-7.72 1.47 1.35L5.41 20z\"/>\n",
              "  </svg>\n",
              "      </button>\n",
              "      \n",
              "  <style>\n",
              "    .colab-df-container {\n",
              "      display:flex;\n",
              "      flex-wrap:wrap;\n",
              "      gap: 12px;\n",
              "    }\n",
              "\n",
              "    .colab-df-convert {\n",
              "      background-color: #E8F0FE;\n",
              "      border: none;\n",
              "      border-radius: 50%;\n",
              "      cursor: pointer;\n",
              "      display: none;\n",
              "      fill: #1967D2;\n",
              "      height: 32px;\n",
              "      padding: 0 0 0 0;\n",
              "      width: 32px;\n",
              "    }\n",
              "\n",
              "    .colab-df-convert:hover {\n",
              "      background-color: #E2EBFA;\n",
              "      box-shadow: 0px 1px 2px rgba(60, 64, 67, 0.3), 0px 1px 3px 1px rgba(60, 64, 67, 0.15);\n",
              "      fill: #174EA6;\n",
              "    }\n",
              "\n",
              "    [theme=dark] .colab-df-convert {\n",
              "      background-color: #3B4455;\n",
              "      fill: #D2E3FC;\n",
              "    }\n",
              "\n",
              "    [theme=dark] .colab-df-convert:hover {\n",
              "      background-color: #434B5C;\n",
              "      box-shadow: 0px 1px 3px 1px rgba(0, 0, 0, 0.15);\n",
              "      filter: drop-shadow(0px 1px 2px rgba(0, 0, 0, 0.3));\n",
              "      fill: #FFFFFF;\n",
              "    }\n",
              "  </style>\n",
              "\n",
              "      <script>\n",
              "        const buttonEl =\n",
              "          document.querySelector('#df-90875891-ad5e-4c4f-9269-7470d4a79095 button.colab-df-convert');\n",
              "        buttonEl.style.display =\n",
              "          google.colab.kernel.accessAllowed ? 'block' : 'none';\n",
              "\n",
              "        async function convertToInteractive(key) {\n",
              "          const element = document.querySelector('#df-90875891-ad5e-4c4f-9269-7470d4a79095');\n",
              "          const dataTable =\n",
              "            await google.colab.kernel.invokeFunction('convertToInteractive',\n",
              "                                                     [key], {});\n",
              "          if (!dataTable) return;\n",
              "\n",
              "          const docLinkHtml = 'Like what you see? Visit the ' +\n",
              "            '<a target=\"_blank\" href=https://colab.research.google.com/notebooks/data_table.ipynb>data table notebook</a>'\n",
              "            + ' to learn more about interactive tables.';\n",
              "          element.innerHTML = '';\n",
              "          dataTable['output_type'] = 'display_data';\n",
              "          await google.colab.output.renderOutput(dataTable, element);\n",
              "          const docLink = document.createElement('div');\n",
              "          docLink.innerHTML = docLinkHtml;\n",
              "          element.appendChild(docLink);\n",
              "        }\n",
              "      </script>\n",
              "    </div>\n",
              "  </div>\n",
              "  "
            ]
          },
          "metadata": {},
          "execution_count": 171
        }
      ]
    },
    {
      "cell_type": "code",
      "source": [
        "# copy dataset for future use\n",
        "finance=finan.copy()"
      ],
      "metadata": {
        "id": "gz8G437I4r38"
      },
      "execution_count": null,
      "outputs": []
    },
    {
      "cell_type": "markdown",
      "source": [
        "## Fama-French factor returns data\n",
        "* This dataset contains Fama-French factor returns data, which will be used to determine risk exposures\n",
        "* 60 observations(60 month), 5  columns. No missing values"
      ],
      "metadata": {
        "id": "Y07p14Jt_BfA"
      }
    },
    {
      "cell_type": "code",
      "source": [
        "fffactors = pd.read_csv(\"/content/FF-Factors-2017-2021.csv\")"
      ],
      "metadata": {
        "id": "IXe647Sp_JBy"
      },
      "execution_count": null,
      "outputs": []
    },
    {
      "cell_type": "code",
      "source": [
        "fffactors.head(3)"
      ],
      "metadata": {
        "colab": {
          "base_uri": "https://localhost:8080/",
          "height": 143
        },
        "id": "IcpXL9TC_I8_",
        "outputId": "0fae85e7-4d35-42a3-9141-b10bb0871516"
      },
      "execution_count": null,
      "outputs": [
        {
          "output_type": "execute_result",
          "data": {
            "text/plain": [
              "     dateff   mktrf     smb     hml      rf\n",
              "0  20170131  0.0194 -0.0113 -0.0274  0.0004\n",
              "1  20170228  0.0357 -0.0204 -0.0167  0.0004\n",
              "2  20170331  0.0017  0.0113 -0.0333  0.0003"
            ],
            "text/html": [
              "\n",
              "  <div id=\"df-2114e5f4-4405-4814-9282-c935da31d35a\">\n",
              "    <div class=\"colab-df-container\">\n",
              "      <div>\n",
              "<style scoped>\n",
              "    .dataframe tbody tr th:only-of-type {\n",
              "        vertical-align: middle;\n",
              "    }\n",
              "\n",
              "    .dataframe tbody tr th {\n",
              "        vertical-align: top;\n",
              "    }\n",
              "\n",
              "    .dataframe thead th {\n",
              "        text-align: right;\n",
              "    }\n",
              "</style>\n",
              "<table border=\"1\" class=\"dataframe\">\n",
              "  <thead>\n",
              "    <tr style=\"text-align: right;\">\n",
              "      <th></th>\n",
              "      <th>dateff</th>\n",
              "      <th>mktrf</th>\n",
              "      <th>smb</th>\n",
              "      <th>hml</th>\n",
              "      <th>rf</th>\n",
              "    </tr>\n",
              "  </thead>\n",
              "  <tbody>\n",
              "    <tr>\n",
              "      <th>0</th>\n",
              "      <td>20170131</td>\n",
              "      <td>0.0194</td>\n",
              "      <td>-0.0113</td>\n",
              "      <td>-0.0274</td>\n",
              "      <td>0.0004</td>\n",
              "    </tr>\n",
              "    <tr>\n",
              "      <th>1</th>\n",
              "      <td>20170228</td>\n",
              "      <td>0.0357</td>\n",
              "      <td>-0.0204</td>\n",
              "      <td>-0.0167</td>\n",
              "      <td>0.0004</td>\n",
              "    </tr>\n",
              "    <tr>\n",
              "      <th>2</th>\n",
              "      <td>20170331</td>\n",
              "      <td>0.0017</td>\n",
              "      <td>0.0113</td>\n",
              "      <td>-0.0333</td>\n",
              "      <td>0.0003</td>\n",
              "    </tr>\n",
              "  </tbody>\n",
              "</table>\n",
              "</div>\n",
              "      <button class=\"colab-df-convert\" onclick=\"convertToInteractive('df-2114e5f4-4405-4814-9282-c935da31d35a')\"\n",
              "              title=\"Convert this dataframe to an interactive table.\"\n",
              "              style=\"display:none;\">\n",
              "        \n",
              "  <svg xmlns=\"http://www.w3.org/2000/svg\" height=\"24px\"viewBox=\"0 0 24 24\"\n",
              "       width=\"24px\">\n",
              "    <path d=\"M0 0h24v24H0V0z\" fill=\"none\"/>\n",
              "    <path d=\"M18.56 5.44l.94 2.06.94-2.06 2.06-.94-2.06-.94-.94-2.06-.94 2.06-2.06.94zm-11 1L8.5 8.5l.94-2.06 2.06-.94-2.06-.94L8.5 2.5l-.94 2.06-2.06.94zm10 10l.94 2.06.94-2.06 2.06-.94-2.06-.94-.94-2.06-.94 2.06-2.06.94z\"/><path d=\"M17.41 7.96l-1.37-1.37c-.4-.4-.92-.59-1.43-.59-.52 0-1.04.2-1.43.59L10.3 9.45l-7.72 7.72c-.78.78-.78 2.05 0 2.83L4 21.41c.39.39.9.59 1.41.59.51 0 1.02-.2 1.41-.59l7.78-7.78 2.81-2.81c.8-.78.8-2.07 0-2.86zM5.41 20L4 18.59l7.72-7.72 1.47 1.35L5.41 20z\"/>\n",
              "  </svg>\n",
              "      </button>\n",
              "      \n",
              "  <style>\n",
              "    .colab-df-container {\n",
              "      display:flex;\n",
              "      flex-wrap:wrap;\n",
              "      gap: 12px;\n",
              "    }\n",
              "\n",
              "    .colab-df-convert {\n",
              "      background-color: #E8F0FE;\n",
              "      border: none;\n",
              "      border-radius: 50%;\n",
              "      cursor: pointer;\n",
              "      display: none;\n",
              "      fill: #1967D2;\n",
              "      height: 32px;\n",
              "      padding: 0 0 0 0;\n",
              "      width: 32px;\n",
              "    }\n",
              "\n",
              "    .colab-df-convert:hover {\n",
              "      background-color: #E2EBFA;\n",
              "      box-shadow: 0px 1px 2px rgba(60, 64, 67, 0.3), 0px 1px 3px 1px rgba(60, 64, 67, 0.15);\n",
              "      fill: #174EA6;\n",
              "    }\n",
              "\n",
              "    [theme=dark] .colab-df-convert {\n",
              "      background-color: #3B4455;\n",
              "      fill: #D2E3FC;\n",
              "    }\n",
              "\n",
              "    [theme=dark] .colab-df-convert:hover {\n",
              "      background-color: #434B5C;\n",
              "      box-shadow: 0px 1px 3px 1px rgba(0, 0, 0, 0.15);\n",
              "      filter: drop-shadow(0px 1px 2px rgba(0, 0, 0, 0.3));\n",
              "      fill: #FFFFFF;\n",
              "    }\n",
              "  </style>\n",
              "\n",
              "      <script>\n",
              "        const buttonEl =\n",
              "          document.querySelector('#df-2114e5f4-4405-4814-9282-c935da31d35a button.colab-df-convert');\n",
              "        buttonEl.style.display =\n",
              "          google.colab.kernel.accessAllowed ? 'block' : 'none';\n",
              "\n",
              "        async function convertToInteractive(key) {\n",
              "          const element = document.querySelector('#df-2114e5f4-4405-4814-9282-c935da31d35a');\n",
              "          const dataTable =\n",
              "            await google.colab.kernel.invokeFunction('convertToInteractive',\n",
              "                                                     [key], {});\n",
              "          if (!dataTable) return;\n",
              "\n",
              "          const docLinkHtml = 'Like what you see? Visit the ' +\n",
              "            '<a target=\"_blank\" href=https://colab.research.google.com/notebooks/data_table.ipynb>data table notebook</a>'\n",
              "            + ' to learn more about interactive tables.';\n",
              "          element.innerHTML = '';\n",
              "          dataTable['output_type'] = 'display_data';\n",
              "          await google.colab.output.renderOutput(dataTable, element);\n",
              "          const docLink = document.createElement('div');\n",
              "          docLink.innerHTML = docLinkHtml;\n",
              "          element.appendChild(docLink);\n",
              "        }\n",
              "      </script>\n",
              "    </div>\n",
              "  </div>\n",
              "  "
            ]
          },
          "metadata": {},
          "execution_count": 45
        }
      ]
    },
    {
      "cell_type": "code",
      "source": [
        "fffactors.info()"
      ],
      "metadata": {
        "colab": {
          "base_uri": "https://localhost:8080/"
        },
        "id": "Tva6XeP9je1-",
        "outputId": "e442f4c2-bc60-4be2-fded-b00074a87696"
      },
      "execution_count": null,
      "outputs": [
        {
          "output_type": "stream",
          "name": "stdout",
          "text": [
            "<class 'pandas.core.frame.DataFrame'>\n",
            "RangeIndex: 60 entries, 0 to 59\n",
            "Data columns (total 5 columns):\n",
            " #   Column  Non-Null Count  Dtype  \n",
            "---  ------  --------------  -----  \n",
            " 0   date    60 non-null     int64  \n",
            " 1   mktrf   60 non-null     float64\n",
            " 2   smb     60 non-null     float64\n",
            " 3   hml     60 non-null     float64\n",
            " 4   rf      60 non-null     float64\n",
            "dtypes: float64(4), int64(1)\n",
            "memory usage: 2.5 KB\n"
          ]
        }
      ]
    },
    {
      "cell_type": "code",
      "source": [
        "fffactors.isna().sum()"
      ],
      "metadata": {
        "colab": {
          "base_uri": "https://localhost:8080/"
        },
        "id": "kVIg3hYj_dcn",
        "outputId": "4e998ca5-2e2c-4cc4-8098-f86d9cffaee6"
      },
      "execution_count": null,
      "outputs": [
        {
          "output_type": "execute_result",
          "data": {
            "text/plain": [
              "dateff    0\n",
              "mktrf     0\n",
              "smb       0\n",
              "hml       0\n",
              "rf        0\n",
              "dtype: int64"
            ]
          },
          "metadata": {},
          "execution_count": 46
        }
      ]
    },
    {
      "cell_type": "code",
      "source": [
        "# Rename column name \n",
        "fffactors.rename(columns={'dateff':'date'}, inplace=True)"
      ],
      "metadata": {
        "id": "sjtWjg4i_ihI"
      },
      "execution_count": null,
      "outputs": []
    },
    {
      "cell_type": "markdown",
      "source": [
        "## Industry indicator data\n",
        "* Industry identifier data for the year 2021 for each of the stocks with 1886 tickers, downloaded from Compustat on the WRDS(based on datadate)\n",
        "* I collected gsector, ggroup, gind, gsubind. For the final regression model, I will use 'ggroup'\n",
        "* 1886 observations and 15 columns. No missing values."
      ],
      "metadata": {
        "id": "rWix7gAoj6ac"
      }
    },
    {
      "cell_type": "code",
      "source": [
        "industry = pd.read_csv(\"/content/Project-2021-Sector.csv\")"
      ],
      "metadata": {
        "id": "Z1d8S5kkiWfS"
      },
      "execution_count": null,
      "outputs": []
    },
    {
      "cell_type": "code",
      "source": [
        "industry.info()"
      ],
      "metadata": {
        "colab": {
          "base_uri": "https://localhost:8080/"
        },
        "id": "y3vjPyswjNbW",
        "outputId": "165b4a35-bdad-4c9b-b4cc-0af068fca87c"
      },
      "execution_count": null,
      "outputs": [
        {
          "output_type": "stream",
          "name": "stdout",
          "text": [
            "<class 'pandas.core.frame.DataFrame'>\n",
            "RangeIndex: 1886 entries, 0 to 1885\n",
            "Data columns (total 15 columns):\n",
            " #   Column    Non-Null Count  Dtype \n",
            "---  ------    --------------  ----- \n",
            " 0   gvkey     1886 non-null   int64 \n",
            " 1   datadate  1886 non-null   int64 \n",
            " 2   fyear     1886 non-null   int64 \n",
            " 3   indfmt    1886 non-null   object\n",
            " 4   consol    1886 non-null   object\n",
            " 5   popsrc    1886 non-null   object\n",
            " 6   datafmt   1886 non-null   object\n",
            " 7   tic       1886 non-null   object\n",
            " 8   curcd     1886 non-null   object\n",
            " 9   fyr       1886 non-null   int64 \n",
            " 10  costat    1886 non-null   object\n",
            " 11  ggroup    1886 non-null   int64 \n",
            " 12  gind      1886 non-null   int64 \n",
            " 13  gsector   1886 non-null   int64 \n",
            " 14  gsubind   1886 non-null   int64 \n",
            "dtypes: int64(8), object(7)\n",
            "memory usage: 221.1+ KB\n"
          ]
        }
      ]
    },
    {
      "cell_type": "code",
      "source": [
        "industry.shape"
      ],
      "metadata": {
        "colab": {
          "base_uri": "https://localhost:8080/"
        },
        "id": "pM57b9WciWbi",
        "outputId": "5ac522e6-b99e-4a16-ce10-2a279b3f6340"
      },
      "execution_count": null,
      "outputs": [
        {
          "output_type": "execute_result",
          "data": {
            "text/plain": [
              "(1886, 15)"
            ]
          },
          "metadata": {},
          "execution_count": 36
        }
      ]
    },
    {
      "cell_type": "code",
      "source": [
        "industry.isna().sum()"
      ],
      "metadata": {
        "colab": {
          "base_uri": "https://localhost:8080/"
        },
        "id": "H4eL93MKkJQ-",
        "outputId": "36b5f75a-ef7e-4a78-a9f9-cf6662a3da8c"
      },
      "execution_count": null,
      "outputs": [
        {
          "output_type": "execute_result",
          "data": {
            "text/plain": [
              "gvkey       0\n",
              "datadate    0\n",
              "fyear       0\n",
              "indfmt      0\n",
              "consol      0\n",
              "popsrc      0\n",
              "datafmt     0\n",
              "tic         0\n",
              "curcd       0\n",
              "fyr         0\n",
              "costat      0\n",
              "ggroup      0\n",
              "gind        0\n",
              "gsector     0\n",
              "gsubind     0\n",
              "dtype: int64"
            ]
          },
          "metadata": {},
          "execution_count": 37
        }
      ]
    },
    {
      "cell_type": "code",
      "source": [
        "# Drop unneccesary column\n",
        "industry.drop(columns=['gvkey','indfmt','consol','popsrc','datafmt','curcd','costat'],inplace=True)"
      ],
      "metadata": {
        "id": "G7cvjtW5kUo2"
      },
      "execution_count": null,
      "outputs": []
    },
    {
      "cell_type": "code",
      "source": [
        "# Change column name\n",
        "industry.rename(columns={'tic':'TICKER'}, inplace=True)"
      ],
      "metadata": {
        "id": "xUhtujd0oM5O"
      },
      "execution_count": null,
      "outputs": []
    },
    {
      "cell_type": "code",
      "source": [
        "industry.head(3)"
      ],
      "metadata": {
        "colab": {
          "base_uri": "https://localhost:8080/",
          "height": 143
        },
        "id": "PRY9e3g7kLuq",
        "outputId": "3095eaf2-6fe1-4100-c2a3-9a67e1b28e5f"
      },
      "execution_count": null,
      "outputs": [
        {
          "output_type": "execute_result",
          "data": {
            "text/plain": [
              "   datadate  fyear TICKER  fyr  ggroup    gind  gsector   gsubind\n",
              "0  20210531   2020    AIR    5    2010  201010       20  20101010\n",
              "1  20211231   2021    AAL   12    2030  203020       20  20302010\n",
              "2  20211231   2021    PNW   12    5510  551010       55  55101010"
            ],
            "text/html": [
              "\n",
              "  <div id=\"df-9257b62c-dff1-4c7f-af43-f055a3c98b47\">\n",
              "    <div class=\"colab-df-container\">\n",
              "      <div>\n",
              "<style scoped>\n",
              "    .dataframe tbody tr th:only-of-type {\n",
              "        vertical-align: middle;\n",
              "    }\n",
              "\n",
              "    .dataframe tbody tr th {\n",
              "        vertical-align: top;\n",
              "    }\n",
              "\n",
              "    .dataframe thead th {\n",
              "        text-align: right;\n",
              "    }\n",
              "</style>\n",
              "<table border=\"1\" class=\"dataframe\">\n",
              "  <thead>\n",
              "    <tr style=\"text-align: right;\">\n",
              "      <th></th>\n",
              "      <th>datadate</th>\n",
              "      <th>fyear</th>\n",
              "      <th>TICKER</th>\n",
              "      <th>fyr</th>\n",
              "      <th>ggroup</th>\n",
              "      <th>gind</th>\n",
              "      <th>gsector</th>\n",
              "      <th>gsubind</th>\n",
              "    </tr>\n",
              "  </thead>\n",
              "  <tbody>\n",
              "    <tr>\n",
              "      <th>0</th>\n",
              "      <td>20210531</td>\n",
              "      <td>2020</td>\n",
              "      <td>AIR</td>\n",
              "      <td>5</td>\n",
              "      <td>2010</td>\n",
              "      <td>201010</td>\n",
              "      <td>20</td>\n",
              "      <td>20101010</td>\n",
              "    </tr>\n",
              "    <tr>\n",
              "      <th>1</th>\n",
              "      <td>20211231</td>\n",
              "      <td>2021</td>\n",
              "      <td>AAL</td>\n",
              "      <td>12</td>\n",
              "      <td>2030</td>\n",
              "      <td>203020</td>\n",
              "      <td>20</td>\n",
              "      <td>20302010</td>\n",
              "    </tr>\n",
              "    <tr>\n",
              "      <th>2</th>\n",
              "      <td>20211231</td>\n",
              "      <td>2021</td>\n",
              "      <td>PNW</td>\n",
              "      <td>12</td>\n",
              "      <td>5510</td>\n",
              "      <td>551010</td>\n",
              "      <td>55</td>\n",
              "      <td>55101010</td>\n",
              "    </tr>\n",
              "  </tbody>\n",
              "</table>\n",
              "</div>\n",
              "      <button class=\"colab-df-convert\" onclick=\"convertToInteractive('df-9257b62c-dff1-4c7f-af43-f055a3c98b47')\"\n",
              "              title=\"Convert this dataframe to an interactive table.\"\n",
              "              style=\"display:none;\">\n",
              "        \n",
              "  <svg xmlns=\"http://www.w3.org/2000/svg\" height=\"24px\"viewBox=\"0 0 24 24\"\n",
              "       width=\"24px\">\n",
              "    <path d=\"M0 0h24v24H0V0z\" fill=\"none\"/>\n",
              "    <path d=\"M18.56 5.44l.94 2.06.94-2.06 2.06-.94-2.06-.94-.94-2.06-.94 2.06-2.06.94zm-11 1L8.5 8.5l.94-2.06 2.06-.94-2.06-.94L8.5 2.5l-.94 2.06-2.06.94zm10 10l.94 2.06.94-2.06 2.06-.94-2.06-.94-.94-2.06-.94 2.06-2.06.94z\"/><path d=\"M17.41 7.96l-1.37-1.37c-.4-.4-.92-.59-1.43-.59-.52 0-1.04.2-1.43.59L10.3 9.45l-7.72 7.72c-.78.78-.78 2.05 0 2.83L4 21.41c.39.39.9.59 1.41.59.51 0 1.02-.2 1.41-.59l7.78-7.78 2.81-2.81c.8-.78.8-2.07 0-2.86zM5.41 20L4 18.59l7.72-7.72 1.47 1.35L5.41 20z\"/>\n",
              "  </svg>\n",
              "      </button>\n",
              "      \n",
              "  <style>\n",
              "    .colab-df-container {\n",
              "      display:flex;\n",
              "      flex-wrap:wrap;\n",
              "      gap: 12px;\n",
              "    }\n",
              "\n",
              "    .colab-df-convert {\n",
              "      background-color: #E8F0FE;\n",
              "      border: none;\n",
              "      border-radius: 50%;\n",
              "      cursor: pointer;\n",
              "      display: none;\n",
              "      fill: #1967D2;\n",
              "      height: 32px;\n",
              "      padding: 0 0 0 0;\n",
              "      width: 32px;\n",
              "    }\n",
              "\n",
              "    .colab-df-convert:hover {\n",
              "      background-color: #E2EBFA;\n",
              "      box-shadow: 0px 1px 2px rgba(60, 64, 67, 0.3), 0px 1px 3px 1px rgba(60, 64, 67, 0.15);\n",
              "      fill: #174EA6;\n",
              "    }\n",
              "\n",
              "    [theme=dark] .colab-df-convert {\n",
              "      background-color: #3B4455;\n",
              "      fill: #D2E3FC;\n",
              "    }\n",
              "\n",
              "    [theme=dark] .colab-df-convert:hover {\n",
              "      background-color: #434B5C;\n",
              "      box-shadow: 0px 1px 3px 1px rgba(0, 0, 0, 0.15);\n",
              "      filter: drop-shadow(0px 1px 2px rgba(0, 0, 0, 0.3));\n",
              "      fill: #FFFFFF;\n",
              "    }\n",
              "  </style>\n",
              "\n",
              "      <script>\n",
              "        const buttonEl =\n",
              "          document.querySelector('#df-9257b62c-dff1-4c7f-af43-f055a3c98b47 button.colab-df-convert');\n",
              "        buttonEl.style.display =\n",
              "          google.colab.kernel.accessAllowed ? 'block' : 'none';\n",
              "\n",
              "        async function convertToInteractive(key) {\n",
              "          const element = document.querySelector('#df-9257b62c-dff1-4c7f-af43-f055a3c98b47');\n",
              "          const dataTable =\n",
              "            await google.colab.kernel.invokeFunction('convertToInteractive',\n",
              "                                                     [key], {});\n",
              "          if (!dataTable) return;\n",
              "\n",
              "          const docLinkHtml = 'Like what you see? Visit the ' +\n",
              "            '<a target=\"_blank\" href=https://colab.research.google.com/notebooks/data_table.ipynb>data table notebook</a>'\n",
              "            + ' to learn more about interactive tables.';\n",
              "          element.innerHTML = '';\n",
              "          dataTable['output_type'] = 'display_data';\n",
              "          await google.colab.output.renderOutput(dataTable, element);\n",
              "          const docLink = document.createElement('div');\n",
              "          docLink.innerHTML = docLinkHtml;\n",
              "          element.appendChild(docLink);\n",
              "        }\n",
              "      </script>\n",
              "    </div>\n",
              "  </div>\n",
              "  "
            ]
          },
          "metadata": {},
          "execution_count": 53
        }
      ]
    },
    {
      "cell_type": "markdown",
      "source": [
        "# Determine Risk Exposures"
      ],
      "metadata": {
        "id": "w_O1l9zc4y19"
      }
    },
    {
      "cell_type": "markdown",
      "source": [
        "## Run for-loop to calculate risk exposures\n",
        "* for 1923 unique Tickers\n",
        "* output: 1923 entries, 7 columns"
      ],
      "metadata": {
        "id": "hTuxtUTKchPC"
      }
    },
    {
      "cell_type": "code",
      "source": [
        "# Get unique ticker values from return data\n",
        "company_list = list(ret[\"TICKER\"].unique())"
      ],
      "metadata": {
        "id": "xylcqRHtNKQg"
      },
      "execution_count": null,
      "outputs": []
    },
    {
      "cell_type": "code",
      "source": [
        "len(company_list)"
      ],
      "metadata": {
        "colab": {
          "base_uri": "https://localhost:8080/"
        },
        "id": "rOReffj0Nl44",
        "outputId": "d9f52e0b-6105-4ba1-b299-3161563ee0a7"
      },
      "execution_count": null,
      "outputs": [
        {
          "output_type": "execute_result",
          "data": {
            "text/plain": [
              "1923"
            ]
          },
          "metadata": {},
          "execution_count": 56
        }
      ]
    },
    {
      "cell_type": "code",
      "source": [
        "ticker = []\n",
        "rsquared = []\n",
        "adjrsquared = []\n",
        "alpha = []\n",
        "comkrf = []\n",
        "cosmb = []\n",
        "cohml = []\n",
        "\n",
        "for company in company_list:\n",
        "  company_data = ret[ret[\"TICKER\"] == company]\n",
        "  \n",
        "  # Merge stock return data of each company with FF risk factor data \n",
        "  merge_data = pd.merge(company_data, fffactors, on='date', how='inner')\n",
        "  \n",
        "  # Set up dependent variable, independent variable\n",
        "  y = merge_data[\"RET\"] - merge_data[\"rf\"]\n",
        "  X = merge_data[['mktrf' , 'smb' , 'hml']]\n",
        "\n",
        "  # Add a constant\n",
        "  X = sm.add_constant(X)\n",
        "\n",
        "  # Build regression model\n",
        "  model = sm.OLS(y, X).fit()\n",
        "\n",
        "  # Extract results and add into lists\n",
        "  ticker.append(company)\n",
        "  rsquared.append(round(model.rsquared,3))\n",
        "  adjrsquared.append(round(model.rsquared_adj,3))\n",
        "  comkrf.append(round(model.params.mktrf,3))\n",
        "  cosmb.append(round(model.params.smb,3))\n",
        "  cohml.append(round(model.params.hml,3))\n",
        "  try:\n",
        "    alpha.append(round(model.params.const,3))\n",
        "  except AttributeError:\n",
        "    alpha.append(np.NaN)"
      ],
      "metadata": {
        "id": "2Uj_czcUTSqh"
      },
      "execution_count": null,
      "outputs": []
    },
    {
      "cell_type": "code",
      "source": [
        "# Create dictionary for dataframe\n",
        "output = {'TICKER':ticker,\n",
        "          'R-squared':rsquared,\n",
        "          'Adj. R-squared':adjrsquared,\n",
        "          'const':alpha,\n",
        "          'mktrf':comkrf,\n",
        "          'smb':cosmb,\n",
        "          'hml':cohml}"
      ],
      "metadata": {
        "id": "RStuGTlQOQLx"
      },
      "execution_count": null,
      "outputs": []
    },
    {
      "cell_type": "code",
      "source": [
        "# Convert dictionary to dataframe\n",
        "df_output = pd.DataFrame(output)  "
      ],
      "metadata": {
        "id": "nSJhn9ksOKWD"
      },
      "execution_count": null,
      "outputs": []
    },
    {
      "cell_type": "code",
      "source": [
        "df_output.head()"
      ],
      "metadata": {
        "colab": {
          "base_uri": "https://localhost:8080/",
          "height": 206
        },
        "id": "Dfsk2oBZOMJt",
        "outputId": "cd452173-26ea-4f8e-8dee-a3775a74fad8"
      },
      "execution_count": null,
      "outputs": [
        {
          "output_type": "execute_result",
          "data": {
            "text/plain": [
              "  TICKER  R-squared  Adj. R-squared  const  mktrf    smb    hml\n",
              "0   JJSF      0.318           0.282  0.003  0.453  0.357  0.524\n",
              "1   PLXS      0.534           0.509  0.002  0.956  0.230  0.598\n",
              "2   ORCL      0.417           0.386  0.004  0.839 -0.587  0.016\n",
              "3   MSFT      0.638           0.618  0.014  0.936 -0.330 -0.401\n",
              "4   TROW      0.606           0.585  0.005  1.121  0.009  0.145"
            ],
            "text/html": [
              "\n",
              "  <div id=\"df-6bae384d-eccb-4b00-a56d-0e153047b162\">\n",
              "    <div class=\"colab-df-container\">\n",
              "      <div>\n",
              "<style scoped>\n",
              "    .dataframe tbody tr th:only-of-type {\n",
              "        vertical-align: middle;\n",
              "    }\n",
              "\n",
              "    .dataframe tbody tr th {\n",
              "        vertical-align: top;\n",
              "    }\n",
              "\n",
              "    .dataframe thead th {\n",
              "        text-align: right;\n",
              "    }\n",
              "</style>\n",
              "<table border=\"1\" class=\"dataframe\">\n",
              "  <thead>\n",
              "    <tr style=\"text-align: right;\">\n",
              "      <th></th>\n",
              "      <th>TICKER</th>\n",
              "      <th>R-squared</th>\n",
              "      <th>Adj. R-squared</th>\n",
              "      <th>const</th>\n",
              "      <th>mktrf</th>\n",
              "      <th>smb</th>\n",
              "      <th>hml</th>\n",
              "    </tr>\n",
              "  </thead>\n",
              "  <tbody>\n",
              "    <tr>\n",
              "      <th>0</th>\n",
              "      <td>JJSF</td>\n",
              "      <td>0.318</td>\n",
              "      <td>0.282</td>\n",
              "      <td>0.003</td>\n",
              "      <td>0.453</td>\n",
              "      <td>0.357</td>\n",
              "      <td>0.524</td>\n",
              "    </tr>\n",
              "    <tr>\n",
              "      <th>1</th>\n",
              "      <td>PLXS</td>\n",
              "      <td>0.534</td>\n",
              "      <td>0.509</td>\n",
              "      <td>0.002</td>\n",
              "      <td>0.956</td>\n",
              "      <td>0.230</td>\n",
              "      <td>0.598</td>\n",
              "    </tr>\n",
              "    <tr>\n",
              "      <th>2</th>\n",
              "      <td>ORCL</td>\n",
              "      <td>0.417</td>\n",
              "      <td>0.386</td>\n",
              "      <td>0.004</td>\n",
              "      <td>0.839</td>\n",
              "      <td>-0.587</td>\n",
              "      <td>0.016</td>\n",
              "    </tr>\n",
              "    <tr>\n",
              "      <th>3</th>\n",
              "      <td>MSFT</td>\n",
              "      <td>0.638</td>\n",
              "      <td>0.618</td>\n",
              "      <td>0.014</td>\n",
              "      <td>0.936</td>\n",
              "      <td>-0.330</td>\n",
              "      <td>-0.401</td>\n",
              "    </tr>\n",
              "    <tr>\n",
              "      <th>4</th>\n",
              "      <td>TROW</td>\n",
              "      <td>0.606</td>\n",
              "      <td>0.585</td>\n",
              "      <td>0.005</td>\n",
              "      <td>1.121</td>\n",
              "      <td>0.009</td>\n",
              "      <td>0.145</td>\n",
              "    </tr>\n",
              "  </tbody>\n",
              "</table>\n",
              "</div>\n",
              "      <button class=\"colab-df-convert\" onclick=\"convertToInteractive('df-6bae384d-eccb-4b00-a56d-0e153047b162')\"\n",
              "              title=\"Convert this dataframe to an interactive table.\"\n",
              "              style=\"display:none;\">\n",
              "        \n",
              "  <svg xmlns=\"http://www.w3.org/2000/svg\" height=\"24px\"viewBox=\"0 0 24 24\"\n",
              "       width=\"24px\">\n",
              "    <path d=\"M0 0h24v24H0V0z\" fill=\"none\"/>\n",
              "    <path d=\"M18.56 5.44l.94 2.06.94-2.06 2.06-.94-2.06-.94-.94-2.06-.94 2.06-2.06.94zm-11 1L8.5 8.5l.94-2.06 2.06-.94-2.06-.94L8.5 2.5l-.94 2.06-2.06.94zm10 10l.94 2.06.94-2.06 2.06-.94-2.06-.94-.94-2.06-.94 2.06-2.06.94z\"/><path d=\"M17.41 7.96l-1.37-1.37c-.4-.4-.92-.59-1.43-.59-.52 0-1.04.2-1.43.59L10.3 9.45l-7.72 7.72c-.78.78-.78 2.05 0 2.83L4 21.41c.39.39.9.59 1.41.59.51 0 1.02-.2 1.41-.59l7.78-7.78 2.81-2.81c.8-.78.8-2.07 0-2.86zM5.41 20L4 18.59l7.72-7.72 1.47 1.35L5.41 20z\"/>\n",
              "  </svg>\n",
              "      </button>\n",
              "      \n",
              "  <style>\n",
              "    .colab-df-container {\n",
              "      display:flex;\n",
              "      flex-wrap:wrap;\n",
              "      gap: 12px;\n",
              "    }\n",
              "\n",
              "    .colab-df-convert {\n",
              "      background-color: #E8F0FE;\n",
              "      border: none;\n",
              "      border-radius: 50%;\n",
              "      cursor: pointer;\n",
              "      display: none;\n",
              "      fill: #1967D2;\n",
              "      height: 32px;\n",
              "      padding: 0 0 0 0;\n",
              "      width: 32px;\n",
              "    }\n",
              "\n",
              "    .colab-df-convert:hover {\n",
              "      background-color: #E2EBFA;\n",
              "      box-shadow: 0px 1px 2px rgba(60, 64, 67, 0.3), 0px 1px 3px 1px rgba(60, 64, 67, 0.15);\n",
              "      fill: #174EA6;\n",
              "    }\n",
              "\n",
              "    [theme=dark] .colab-df-convert {\n",
              "      background-color: #3B4455;\n",
              "      fill: #D2E3FC;\n",
              "    }\n",
              "\n",
              "    [theme=dark] .colab-df-convert:hover {\n",
              "      background-color: #434B5C;\n",
              "      box-shadow: 0px 1px 3px 1px rgba(0, 0, 0, 0.15);\n",
              "      filter: drop-shadow(0px 1px 2px rgba(0, 0, 0, 0.3));\n",
              "      fill: #FFFFFF;\n",
              "    }\n",
              "  </style>\n",
              "\n",
              "      <script>\n",
              "        const buttonEl =\n",
              "          document.querySelector('#df-6bae384d-eccb-4b00-a56d-0e153047b162 button.colab-df-convert');\n",
              "        buttonEl.style.display =\n",
              "          google.colab.kernel.accessAllowed ? 'block' : 'none';\n",
              "\n",
              "        async function convertToInteractive(key) {\n",
              "          const element = document.querySelector('#df-6bae384d-eccb-4b00-a56d-0e153047b162');\n",
              "          const dataTable =\n",
              "            await google.colab.kernel.invokeFunction('convertToInteractive',\n",
              "                                                     [key], {});\n",
              "          if (!dataTable) return;\n",
              "\n",
              "          const docLinkHtml = 'Like what you see? Visit the ' +\n",
              "            '<a target=\"_blank\" href=https://colab.research.google.com/notebooks/data_table.ipynb>data table notebook</a>'\n",
              "            + ' to learn more about interactive tables.';\n",
              "          element.innerHTML = '';\n",
              "          dataTable['output_type'] = 'display_data';\n",
              "          await google.colab.output.renderOutput(dataTable, element);\n",
              "          const docLink = document.createElement('div');\n",
              "          docLink.innerHTML = docLinkHtml;\n",
              "          element.appendChild(docLink);\n",
              "        }\n",
              "      </script>\n",
              "    </div>\n",
              "  </div>\n",
              "  "
            ]
          },
          "metadata": {},
          "execution_count": 61
        }
      ]
    },
    {
      "cell_type": "code",
      "source": [
        "df_output.info()"
      ],
      "metadata": {
        "colab": {
          "base_uri": "https://localhost:8080/"
        },
        "id": "w4SFAPQoOR9f",
        "outputId": "8e13477a-20d9-43b2-b864-73edbce51102"
      },
      "execution_count": null,
      "outputs": [
        {
          "output_type": "stream",
          "name": "stdout",
          "text": [
            "<class 'pandas.core.frame.DataFrame'>\n",
            "RangeIndex: 1923 entries, 0 to 1922\n",
            "Data columns (total 7 columns):\n",
            " #   Column          Non-Null Count  Dtype  \n",
            "---  ------          --------------  -----  \n",
            " 0   TICKER          1923 non-null   object \n",
            " 1   R-squared       1923 non-null   float64\n",
            " 2   Adj. R-squared  1919 non-null   float64\n",
            " 3   const           1920 non-null   float64\n",
            " 4   mktrf           1923 non-null   float64\n",
            " 5   smb             1923 non-null   float64\n",
            " 6   hml             1923 non-null   float64\n",
            "dtypes: float64(6), object(1)\n",
            "memory usage: 105.3+ KB\n"
          ]
        }
      ]
    },
    {
      "cell_type": "markdown",
      "source": [
        "### Missing values in output"
      ],
      "metadata": {
        "id": "1Dkn8yERt2d5"
      }
    },
    {
      "cell_type": "markdown",
      "source": [
        "* Missing values in Adjusted r squared\n",
        " * There are missing values in AdjR2 even though there isn't missing values in R2. It's because denominator is N-p-1 in adjR2 formula. When 𝑝=𝑛−1 the adjusted 𝑅2 is undefined, and in fact the adjustment isn't valid when 𝑝≥𝑛−1. Here, p is 3, which are independent variables.\n",
        " * For example, for 'CHMT', the number of observation(3) is same as the number of independent variable(3)\n",
        "* Missing values in Constant\n",
        " * For PRZM, IQNT, EVO, the number of observation data is only one, so they can't produce constant.\n",
        "* Since we are going to use only 'mktrf', 'smb', 'hml', there are no missing values. Therefore, no need to handle missing values in AdjR2 and constant."
      ],
      "metadata": {
        "id": "XIF_wVxQV58h"
      }
    },
    {
      "cell_type": "code",
      "source": [
        "df_output.isna().sum()"
      ],
      "metadata": {
        "colab": {
          "base_uri": "https://localhost:8080/"
        },
        "id": "pU0rAWBPOUb4",
        "outputId": "1c014bb7-dbc5-49b6-b587-9b8c00e03ad5"
      },
      "execution_count": null,
      "outputs": [
        {
          "output_type": "execute_result",
          "data": {
            "text/plain": [
              "TICKER            0\n",
              "R-squared         0\n",
              "Adj. R-squared    4\n",
              "const             3\n",
              "mktrf             0\n",
              "smb               0\n",
              "hml               0\n",
              "dtype: int64"
            ]
          },
          "metadata": {},
          "execution_count": 63
        }
      ]
    },
    {
      "cell_type": "code",
      "source": [
        "df_output[df_output.isnull().any(axis=1)]"
      ],
      "metadata": {
        "colab": {
          "base_uri": "https://localhost:8080/",
          "height": 175
        },
        "id": "0dteOokmWLuE",
        "outputId": "a8e5b846-4632-4c77-a7e5-c0a7dc5d37d9"
      },
      "execution_count": null,
      "outputs": [
        {
          "output_type": "execute_result",
          "data": {
            "text/plain": [
              "     TICKER  R-squared  Adj. R-squared  const  mktrf    smb    hml\n",
              "732    CHMT        1.0             NaN   0.02  0.324  0.908  0.702\n",
              "1487   PRZM       -inf             NaN    NaN  2.571 -1.497 -3.631\n",
              "1848   IQNT       -inf             NaN    NaN -0.020  0.011  0.028\n",
              "1867    EVO       -inf             NaN    NaN  0.104 -0.053  0.108"
            ],
            "text/html": [
              "\n",
              "  <div id=\"df-52a3dfea-eeef-4f9b-8721-557e6fb3c19c\">\n",
              "    <div class=\"colab-df-container\">\n",
              "      <div>\n",
              "<style scoped>\n",
              "    .dataframe tbody tr th:only-of-type {\n",
              "        vertical-align: middle;\n",
              "    }\n",
              "\n",
              "    .dataframe tbody tr th {\n",
              "        vertical-align: top;\n",
              "    }\n",
              "\n",
              "    .dataframe thead th {\n",
              "        text-align: right;\n",
              "    }\n",
              "</style>\n",
              "<table border=\"1\" class=\"dataframe\">\n",
              "  <thead>\n",
              "    <tr style=\"text-align: right;\">\n",
              "      <th></th>\n",
              "      <th>TICKER</th>\n",
              "      <th>R-squared</th>\n",
              "      <th>Adj. R-squared</th>\n",
              "      <th>const</th>\n",
              "      <th>mktrf</th>\n",
              "      <th>smb</th>\n",
              "      <th>hml</th>\n",
              "    </tr>\n",
              "  </thead>\n",
              "  <tbody>\n",
              "    <tr>\n",
              "      <th>732</th>\n",
              "      <td>CHMT</td>\n",
              "      <td>1.0</td>\n",
              "      <td>NaN</td>\n",
              "      <td>0.02</td>\n",
              "      <td>0.324</td>\n",
              "      <td>0.908</td>\n",
              "      <td>0.702</td>\n",
              "    </tr>\n",
              "    <tr>\n",
              "      <th>1487</th>\n",
              "      <td>PRZM</td>\n",
              "      <td>-inf</td>\n",
              "      <td>NaN</td>\n",
              "      <td>NaN</td>\n",
              "      <td>2.571</td>\n",
              "      <td>-1.497</td>\n",
              "      <td>-3.631</td>\n",
              "    </tr>\n",
              "    <tr>\n",
              "      <th>1848</th>\n",
              "      <td>IQNT</td>\n",
              "      <td>-inf</td>\n",
              "      <td>NaN</td>\n",
              "      <td>NaN</td>\n",
              "      <td>-0.020</td>\n",
              "      <td>0.011</td>\n",
              "      <td>0.028</td>\n",
              "    </tr>\n",
              "    <tr>\n",
              "      <th>1867</th>\n",
              "      <td>EVO</td>\n",
              "      <td>-inf</td>\n",
              "      <td>NaN</td>\n",
              "      <td>NaN</td>\n",
              "      <td>0.104</td>\n",
              "      <td>-0.053</td>\n",
              "      <td>0.108</td>\n",
              "    </tr>\n",
              "  </tbody>\n",
              "</table>\n",
              "</div>\n",
              "      <button class=\"colab-df-convert\" onclick=\"convertToInteractive('df-52a3dfea-eeef-4f9b-8721-557e6fb3c19c')\"\n",
              "              title=\"Convert this dataframe to an interactive table.\"\n",
              "              style=\"display:none;\">\n",
              "        \n",
              "  <svg xmlns=\"http://www.w3.org/2000/svg\" height=\"24px\"viewBox=\"0 0 24 24\"\n",
              "       width=\"24px\">\n",
              "    <path d=\"M0 0h24v24H0V0z\" fill=\"none\"/>\n",
              "    <path d=\"M18.56 5.44l.94 2.06.94-2.06 2.06-.94-2.06-.94-.94-2.06-.94 2.06-2.06.94zm-11 1L8.5 8.5l.94-2.06 2.06-.94-2.06-.94L8.5 2.5l-.94 2.06-2.06.94zm10 10l.94 2.06.94-2.06 2.06-.94-2.06-.94-.94-2.06-.94 2.06-2.06.94z\"/><path d=\"M17.41 7.96l-1.37-1.37c-.4-.4-.92-.59-1.43-.59-.52 0-1.04.2-1.43.59L10.3 9.45l-7.72 7.72c-.78.78-.78 2.05 0 2.83L4 21.41c.39.39.9.59 1.41.59.51 0 1.02-.2 1.41-.59l7.78-7.78 2.81-2.81c.8-.78.8-2.07 0-2.86zM5.41 20L4 18.59l7.72-7.72 1.47 1.35L5.41 20z\"/>\n",
              "  </svg>\n",
              "      </button>\n",
              "      \n",
              "  <style>\n",
              "    .colab-df-container {\n",
              "      display:flex;\n",
              "      flex-wrap:wrap;\n",
              "      gap: 12px;\n",
              "    }\n",
              "\n",
              "    .colab-df-convert {\n",
              "      background-color: #E8F0FE;\n",
              "      border: none;\n",
              "      border-radius: 50%;\n",
              "      cursor: pointer;\n",
              "      display: none;\n",
              "      fill: #1967D2;\n",
              "      height: 32px;\n",
              "      padding: 0 0 0 0;\n",
              "      width: 32px;\n",
              "    }\n",
              "\n",
              "    .colab-df-convert:hover {\n",
              "      background-color: #E2EBFA;\n",
              "      box-shadow: 0px 1px 2px rgba(60, 64, 67, 0.3), 0px 1px 3px 1px rgba(60, 64, 67, 0.15);\n",
              "      fill: #174EA6;\n",
              "    }\n",
              "\n",
              "    [theme=dark] .colab-df-convert {\n",
              "      background-color: #3B4455;\n",
              "      fill: #D2E3FC;\n",
              "    }\n",
              "\n",
              "    [theme=dark] .colab-df-convert:hover {\n",
              "      background-color: #434B5C;\n",
              "      box-shadow: 0px 1px 3px 1px rgba(0, 0, 0, 0.15);\n",
              "      filter: drop-shadow(0px 1px 2px rgba(0, 0, 0, 0.3));\n",
              "      fill: #FFFFFF;\n",
              "    }\n",
              "  </style>\n",
              "\n",
              "      <script>\n",
              "        const buttonEl =\n",
              "          document.querySelector('#df-52a3dfea-eeef-4f9b-8721-557e6fb3c19c button.colab-df-convert');\n",
              "        buttonEl.style.display =\n",
              "          google.colab.kernel.accessAllowed ? 'block' : 'none';\n",
              "\n",
              "        async function convertToInteractive(key) {\n",
              "          const element = document.querySelector('#df-52a3dfea-eeef-4f9b-8721-557e6fb3c19c');\n",
              "          const dataTable =\n",
              "            await google.colab.kernel.invokeFunction('convertToInteractive',\n",
              "                                                     [key], {});\n",
              "          if (!dataTable) return;\n",
              "\n",
              "          const docLinkHtml = 'Like what you see? Visit the ' +\n",
              "            '<a target=\"_blank\" href=https://colab.research.google.com/notebooks/data_table.ipynb>data table notebook</a>'\n",
              "            + ' to learn more about interactive tables.';\n",
              "          element.innerHTML = '';\n",
              "          dataTable['output_type'] = 'display_data';\n",
              "          await google.colab.output.renderOutput(dataTable, element);\n",
              "          const docLink = document.createElement('div');\n",
              "          docLink.innerHTML = docLinkHtml;\n",
              "          element.appendChild(docLink);\n",
              "        }\n",
              "      </script>\n",
              "    </div>\n",
              "  </div>\n",
              "  "
            ]
          },
          "metadata": {},
          "execution_count": 64
        }
      ]
    },
    {
      "cell_type": "code",
      "source": [
        "ret[ret.TICKER=='CHMT']"
      ],
      "metadata": {
        "colab": {
          "base_uri": "https://localhost:8080/",
          "height": 143
        },
        "id": "O7mGxemnWUpc",
        "outputId": "a93eb895-8839-4f39-efc3-ba405575c68c"
      },
      "execution_count": null,
      "outputs": [
        {
          "output_type": "execute_result",
          "data": {
            "text/plain": [
              "       PERMNO      date TICKER       RET\n",
              "43604   38420  20170131   CHMT -0.003012\n",
              "43605   38420  20170228   CHMT  0.001511\n",
              "43606   38420  20170331   CHMT  0.007541"
            ],
            "text/html": [
              "\n",
              "  <div id=\"df-b116af26-e769-4350-9f9e-d6e9ceef6286\">\n",
              "    <div class=\"colab-df-container\">\n",
              "      <div>\n",
              "<style scoped>\n",
              "    .dataframe tbody tr th:only-of-type {\n",
              "        vertical-align: middle;\n",
              "    }\n",
              "\n",
              "    .dataframe tbody tr th {\n",
              "        vertical-align: top;\n",
              "    }\n",
              "\n",
              "    .dataframe thead th {\n",
              "        text-align: right;\n",
              "    }\n",
              "</style>\n",
              "<table border=\"1\" class=\"dataframe\">\n",
              "  <thead>\n",
              "    <tr style=\"text-align: right;\">\n",
              "      <th></th>\n",
              "      <th>PERMNO</th>\n",
              "      <th>date</th>\n",
              "      <th>TICKER</th>\n",
              "      <th>RET</th>\n",
              "    </tr>\n",
              "  </thead>\n",
              "  <tbody>\n",
              "    <tr>\n",
              "      <th>43604</th>\n",
              "      <td>38420</td>\n",
              "      <td>20170131</td>\n",
              "      <td>CHMT</td>\n",
              "      <td>-0.003012</td>\n",
              "    </tr>\n",
              "    <tr>\n",
              "      <th>43605</th>\n",
              "      <td>38420</td>\n",
              "      <td>20170228</td>\n",
              "      <td>CHMT</td>\n",
              "      <td>0.001511</td>\n",
              "    </tr>\n",
              "    <tr>\n",
              "      <th>43606</th>\n",
              "      <td>38420</td>\n",
              "      <td>20170331</td>\n",
              "      <td>CHMT</td>\n",
              "      <td>0.007541</td>\n",
              "    </tr>\n",
              "  </tbody>\n",
              "</table>\n",
              "</div>\n",
              "      <button class=\"colab-df-convert\" onclick=\"convertToInteractive('df-b116af26-e769-4350-9f9e-d6e9ceef6286')\"\n",
              "              title=\"Convert this dataframe to an interactive table.\"\n",
              "              style=\"display:none;\">\n",
              "        \n",
              "  <svg xmlns=\"http://www.w3.org/2000/svg\" height=\"24px\"viewBox=\"0 0 24 24\"\n",
              "       width=\"24px\">\n",
              "    <path d=\"M0 0h24v24H0V0z\" fill=\"none\"/>\n",
              "    <path d=\"M18.56 5.44l.94 2.06.94-2.06 2.06-.94-2.06-.94-.94-2.06-.94 2.06-2.06.94zm-11 1L8.5 8.5l.94-2.06 2.06-.94-2.06-.94L8.5 2.5l-.94 2.06-2.06.94zm10 10l.94 2.06.94-2.06 2.06-.94-2.06-.94-.94-2.06-.94 2.06-2.06.94z\"/><path d=\"M17.41 7.96l-1.37-1.37c-.4-.4-.92-.59-1.43-.59-.52 0-1.04.2-1.43.59L10.3 9.45l-7.72 7.72c-.78.78-.78 2.05 0 2.83L4 21.41c.39.39.9.59 1.41.59.51 0 1.02-.2 1.41-.59l7.78-7.78 2.81-2.81c.8-.78.8-2.07 0-2.86zM5.41 20L4 18.59l7.72-7.72 1.47 1.35L5.41 20z\"/>\n",
              "  </svg>\n",
              "      </button>\n",
              "      \n",
              "  <style>\n",
              "    .colab-df-container {\n",
              "      display:flex;\n",
              "      flex-wrap:wrap;\n",
              "      gap: 12px;\n",
              "    }\n",
              "\n",
              "    .colab-df-convert {\n",
              "      background-color: #E8F0FE;\n",
              "      border: none;\n",
              "      border-radius: 50%;\n",
              "      cursor: pointer;\n",
              "      display: none;\n",
              "      fill: #1967D2;\n",
              "      height: 32px;\n",
              "      padding: 0 0 0 0;\n",
              "      width: 32px;\n",
              "    }\n",
              "\n",
              "    .colab-df-convert:hover {\n",
              "      background-color: #E2EBFA;\n",
              "      box-shadow: 0px 1px 2px rgba(60, 64, 67, 0.3), 0px 1px 3px 1px rgba(60, 64, 67, 0.15);\n",
              "      fill: #174EA6;\n",
              "    }\n",
              "\n",
              "    [theme=dark] .colab-df-convert {\n",
              "      background-color: #3B4455;\n",
              "      fill: #D2E3FC;\n",
              "    }\n",
              "\n",
              "    [theme=dark] .colab-df-convert:hover {\n",
              "      background-color: #434B5C;\n",
              "      box-shadow: 0px 1px 3px 1px rgba(0, 0, 0, 0.15);\n",
              "      filter: drop-shadow(0px 1px 2px rgba(0, 0, 0, 0.3));\n",
              "      fill: #FFFFFF;\n",
              "    }\n",
              "  </style>\n",
              "\n",
              "      <script>\n",
              "        const buttonEl =\n",
              "          document.querySelector('#df-b116af26-e769-4350-9f9e-d6e9ceef6286 button.colab-df-convert');\n",
              "        buttonEl.style.display =\n",
              "          google.colab.kernel.accessAllowed ? 'block' : 'none';\n",
              "\n",
              "        async function convertToInteractive(key) {\n",
              "          const element = document.querySelector('#df-b116af26-e769-4350-9f9e-d6e9ceef6286');\n",
              "          const dataTable =\n",
              "            await google.colab.kernel.invokeFunction('convertToInteractive',\n",
              "                                                     [key], {});\n",
              "          if (!dataTable) return;\n",
              "\n",
              "          const docLinkHtml = 'Like what you see? Visit the ' +\n",
              "            '<a target=\"_blank\" href=https://colab.research.google.com/notebooks/data_table.ipynb>data table notebook</a>'\n",
              "            + ' to learn more about interactive tables.';\n",
              "          element.innerHTML = '';\n",
              "          dataTable['output_type'] = 'display_data';\n",
              "          await google.colab.output.renderOutput(dataTable, element);\n",
              "          const docLink = document.createElement('div');\n",
              "          docLink.innerHTML = docLinkHtml;\n",
              "          element.appendChild(docLink);\n",
              "        }\n",
              "      </script>\n",
              "    </div>\n",
              "  </div>\n",
              "  "
            ]
          },
          "metadata": {},
          "execution_count": 65
        }
      ]
    },
    {
      "cell_type": "code",
      "source": [
        "ret[ret.TICKER=='IQNT']"
      ],
      "metadata": {
        "colab": {
          "base_uri": "https://localhost:8080/",
          "height": 80
        },
        "id": "bOEsIzrEXd2s",
        "outputId": "6cdbab2a-2a42-4206-973c-39e76453995f"
      },
      "execution_count": null,
      "outputs": [
        {
          "output_type": "execute_result",
          "data": {
            "text/plain": [
              "        PERMNO      date TICKER       RET\n",
              "110273   92454  20170131   IQNT -0.000873"
            ],
            "text/html": [
              "\n",
              "  <div id=\"df-fe041faf-bbe2-4e40-8998-184c99df8633\">\n",
              "    <div class=\"colab-df-container\">\n",
              "      <div>\n",
              "<style scoped>\n",
              "    .dataframe tbody tr th:only-of-type {\n",
              "        vertical-align: middle;\n",
              "    }\n",
              "\n",
              "    .dataframe tbody tr th {\n",
              "        vertical-align: top;\n",
              "    }\n",
              "\n",
              "    .dataframe thead th {\n",
              "        text-align: right;\n",
              "    }\n",
              "</style>\n",
              "<table border=\"1\" class=\"dataframe\">\n",
              "  <thead>\n",
              "    <tr style=\"text-align: right;\">\n",
              "      <th></th>\n",
              "      <th>PERMNO</th>\n",
              "      <th>date</th>\n",
              "      <th>TICKER</th>\n",
              "      <th>RET</th>\n",
              "    </tr>\n",
              "  </thead>\n",
              "  <tbody>\n",
              "    <tr>\n",
              "      <th>110273</th>\n",
              "      <td>92454</td>\n",
              "      <td>20170131</td>\n",
              "      <td>IQNT</td>\n",
              "      <td>-0.000873</td>\n",
              "    </tr>\n",
              "  </tbody>\n",
              "</table>\n",
              "</div>\n",
              "      <button class=\"colab-df-convert\" onclick=\"convertToInteractive('df-fe041faf-bbe2-4e40-8998-184c99df8633')\"\n",
              "              title=\"Convert this dataframe to an interactive table.\"\n",
              "              style=\"display:none;\">\n",
              "        \n",
              "  <svg xmlns=\"http://www.w3.org/2000/svg\" height=\"24px\"viewBox=\"0 0 24 24\"\n",
              "       width=\"24px\">\n",
              "    <path d=\"M0 0h24v24H0V0z\" fill=\"none\"/>\n",
              "    <path d=\"M18.56 5.44l.94 2.06.94-2.06 2.06-.94-2.06-.94-.94-2.06-.94 2.06-2.06.94zm-11 1L8.5 8.5l.94-2.06 2.06-.94-2.06-.94L8.5 2.5l-.94 2.06-2.06.94zm10 10l.94 2.06.94-2.06 2.06-.94-2.06-.94-.94-2.06-.94 2.06-2.06.94z\"/><path d=\"M17.41 7.96l-1.37-1.37c-.4-.4-.92-.59-1.43-.59-.52 0-1.04.2-1.43.59L10.3 9.45l-7.72 7.72c-.78.78-.78 2.05 0 2.83L4 21.41c.39.39.9.59 1.41.59.51 0 1.02-.2 1.41-.59l7.78-7.78 2.81-2.81c.8-.78.8-2.07 0-2.86zM5.41 20L4 18.59l7.72-7.72 1.47 1.35L5.41 20z\"/>\n",
              "  </svg>\n",
              "      </button>\n",
              "      \n",
              "  <style>\n",
              "    .colab-df-container {\n",
              "      display:flex;\n",
              "      flex-wrap:wrap;\n",
              "      gap: 12px;\n",
              "    }\n",
              "\n",
              "    .colab-df-convert {\n",
              "      background-color: #E8F0FE;\n",
              "      border: none;\n",
              "      border-radius: 50%;\n",
              "      cursor: pointer;\n",
              "      display: none;\n",
              "      fill: #1967D2;\n",
              "      height: 32px;\n",
              "      padding: 0 0 0 0;\n",
              "      width: 32px;\n",
              "    }\n",
              "\n",
              "    .colab-df-convert:hover {\n",
              "      background-color: #E2EBFA;\n",
              "      box-shadow: 0px 1px 2px rgba(60, 64, 67, 0.3), 0px 1px 3px 1px rgba(60, 64, 67, 0.15);\n",
              "      fill: #174EA6;\n",
              "    }\n",
              "\n",
              "    [theme=dark] .colab-df-convert {\n",
              "      background-color: #3B4455;\n",
              "      fill: #D2E3FC;\n",
              "    }\n",
              "\n",
              "    [theme=dark] .colab-df-convert:hover {\n",
              "      background-color: #434B5C;\n",
              "      box-shadow: 0px 1px 3px 1px rgba(0, 0, 0, 0.15);\n",
              "      filter: drop-shadow(0px 1px 2px rgba(0, 0, 0, 0.3));\n",
              "      fill: #FFFFFF;\n",
              "    }\n",
              "  </style>\n",
              "\n",
              "      <script>\n",
              "        const buttonEl =\n",
              "          document.querySelector('#df-fe041faf-bbe2-4e40-8998-184c99df8633 button.colab-df-convert');\n",
              "        buttonEl.style.display =\n",
              "          google.colab.kernel.accessAllowed ? 'block' : 'none';\n",
              "\n",
              "        async function convertToInteractive(key) {\n",
              "          const element = document.querySelector('#df-fe041faf-bbe2-4e40-8998-184c99df8633');\n",
              "          const dataTable =\n",
              "            await google.colab.kernel.invokeFunction('convertToInteractive',\n",
              "                                                     [key], {});\n",
              "          if (!dataTable) return;\n",
              "\n",
              "          const docLinkHtml = 'Like what you see? Visit the ' +\n",
              "            '<a target=\"_blank\" href=https://colab.research.google.com/notebooks/data_table.ipynb>data table notebook</a>'\n",
              "            + ' to learn more about interactive tables.';\n",
              "          element.innerHTML = '';\n",
              "          dataTable['output_type'] = 'display_data';\n",
              "          await google.colab.output.renderOutput(dataTable, element);\n",
              "          const docLink = document.createElement('div');\n",
              "          docLink.innerHTML = docLinkHtml;\n",
              "          element.appendChild(docLink);\n",
              "        }\n",
              "      </script>\n",
              "    </div>\n",
              "  </div>\n",
              "  "
            ]
          },
          "metadata": {},
          "execution_count": 66
        }
      ]
    },
    {
      "cell_type": "code",
      "source": [
        "# Preserve 'mktrf', 'smb', 'hml' only\n",
        "ff_exposure = df_output[['TICKER','mktrf', 'smb', 'hml']]"
      ],
      "metadata": {
        "id": "VU0LV-GecFWP"
      },
      "execution_count": null,
      "outputs": []
    },
    {
      "cell_type": "code",
      "source": [
        "# No missing values\n",
        "ff_exposure.isna().sum()"
      ],
      "metadata": {
        "colab": {
          "base_uri": "https://localhost:8080/"
        },
        "id": "P-AI7qOGww96",
        "outputId": "b35a4449-4d53-4367-ecfd-6c23d89aa9f0"
      },
      "execution_count": null,
      "outputs": [
        {
          "output_type": "execute_result",
          "data": {
            "text/plain": [
              "TICKER    0\n",
              "mktrf     0\n",
              "smb       0\n",
              "hml       0\n",
              "dtype: int64"
            ]
          },
          "metadata": {},
          "execution_count": 108
        }
      ]
    },
    {
      "cell_type": "markdown",
      "source": [
        "### Outliers in estimates\n",
        "* Based on box plot, there are outliers in estimates.\n",
        "* Extreme outilers might not reflect the reality. Therefore, I decided to winsorize it - only for those 1 or 2 extreme outliers."
      ],
      "metadata": {
        "id": "lovDDzBAt6j7"
      }
    },
    {
      "cell_type": "code",
      "source": [
        "ff_exposure.describe()"
      ],
      "metadata": {
        "colab": {
          "base_uri": "https://localhost:8080/",
          "height": 300
        },
        "id": "JC7hzv-5MvAN",
        "outputId": "ed19590d-c8b3-42e9-8f7c-af3e2be34cf2"
      },
      "execution_count": null,
      "outputs": [
        {
          "output_type": "execute_result",
          "data": {
            "text/plain": [
              "             mktrf          smb          hml\n",
              "count  1923.000000  1923.000000  1923.000000\n",
              "mean      1.077842     0.633398     0.310722\n",
              "std       0.800945     1.936321     0.815668\n",
              "min      -6.677000   -64.645000   -16.406000\n",
              "25%       0.719000     0.013000    -0.054000\n",
              "50%       1.005000     0.504000     0.359000\n",
              "75%       1.338500     1.024000     0.760500\n",
              "max      22.009000    31.006000     5.919000"
            ],
            "text/html": [
              "\n",
              "  <div id=\"df-7db70437-f548-463c-9378-4fc84883d37b\">\n",
              "    <div class=\"colab-df-container\">\n",
              "      <div>\n",
              "<style scoped>\n",
              "    .dataframe tbody tr th:only-of-type {\n",
              "        vertical-align: middle;\n",
              "    }\n",
              "\n",
              "    .dataframe tbody tr th {\n",
              "        vertical-align: top;\n",
              "    }\n",
              "\n",
              "    .dataframe thead th {\n",
              "        text-align: right;\n",
              "    }\n",
              "</style>\n",
              "<table border=\"1\" class=\"dataframe\">\n",
              "  <thead>\n",
              "    <tr style=\"text-align: right;\">\n",
              "      <th></th>\n",
              "      <th>mktrf</th>\n",
              "      <th>smb</th>\n",
              "      <th>hml</th>\n",
              "    </tr>\n",
              "  </thead>\n",
              "  <tbody>\n",
              "    <tr>\n",
              "      <th>count</th>\n",
              "      <td>1923.000000</td>\n",
              "      <td>1923.000000</td>\n",
              "      <td>1923.000000</td>\n",
              "    </tr>\n",
              "    <tr>\n",
              "      <th>mean</th>\n",
              "      <td>1.077842</td>\n",
              "      <td>0.633398</td>\n",
              "      <td>0.310722</td>\n",
              "    </tr>\n",
              "    <tr>\n",
              "      <th>std</th>\n",
              "      <td>0.800945</td>\n",
              "      <td>1.936321</td>\n",
              "      <td>0.815668</td>\n",
              "    </tr>\n",
              "    <tr>\n",
              "      <th>min</th>\n",
              "      <td>-6.677000</td>\n",
              "      <td>-64.645000</td>\n",
              "      <td>-16.406000</td>\n",
              "    </tr>\n",
              "    <tr>\n",
              "      <th>25%</th>\n",
              "      <td>0.719000</td>\n",
              "      <td>0.013000</td>\n",
              "      <td>-0.054000</td>\n",
              "    </tr>\n",
              "    <tr>\n",
              "      <th>50%</th>\n",
              "      <td>1.005000</td>\n",
              "      <td>0.504000</td>\n",
              "      <td>0.359000</td>\n",
              "    </tr>\n",
              "    <tr>\n",
              "      <th>75%</th>\n",
              "      <td>1.338500</td>\n",
              "      <td>1.024000</td>\n",
              "      <td>0.760500</td>\n",
              "    </tr>\n",
              "    <tr>\n",
              "      <th>max</th>\n",
              "      <td>22.009000</td>\n",
              "      <td>31.006000</td>\n",
              "      <td>5.919000</td>\n",
              "    </tr>\n",
              "  </tbody>\n",
              "</table>\n",
              "</div>\n",
              "      <button class=\"colab-df-convert\" onclick=\"convertToInteractive('df-7db70437-f548-463c-9378-4fc84883d37b')\"\n",
              "              title=\"Convert this dataframe to an interactive table.\"\n",
              "              style=\"display:none;\">\n",
              "        \n",
              "  <svg xmlns=\"http://www.w3.org/2000/svg\" height=\"24px\"viewBox=\"0 0 24 24\"\n",
              "       width=\"24px\">\n",
              "    <path d=\"M0 0h24v24H0V0z\" fill=\"none\"/>\n",
              "    <path d=\"M18.56 5.44l.94 2.06.94-2.06 2.06-.94-2.06-.94-.94-2.06-.94 2.06-2.06.94zm-11 1L8.5 8.5l.94-2.06 2.06-.94-2.06-.94L8.5 2.5l-.94 2.06-2.06.94zm10 10l.94 2.06.94-2.06 2.06-.94-2.06-.94-.94-2.06-.94 2.06-2.06.94z\"/><path d=\"M17.41 7.96l-1.37-1.37c-.4-.4-.92-.59-1.43-.59-.52 0-1.04.2-1.43.59L10.3 9.45l-7.72 7.72c-.78.78-.78 2.05 0 2.83L4 21.41c.39.39.9.59 1.41.59.51 0 1.02-.2 1.41-.59l7.78-7.78 2.81-2.81c.8-.78.8-2.07 0-2.86zM5.41 20L4 18.59l7.72-7.72 1.47 1.35L5.41 20z\"/>\n",
              "  </svg>\n",
              "      </button>\n",
              "      \n",
              "  <style>\n",
              "    .colab-df-container {\n",
              "      display:flex;\n",
              "      flex-wrap:wrap;\n",
              "      gap: 12px;\n",
              "    }\n",
              "\n",
              "    .colab-df-convert {\n",
              "      background-color: #E8F0FE;\n",
              "      border: none;\n",
              "      border-radius: 50%;\n",
              "      cursor: pointer;\n",
              "      display: none;\n",
              "      fill: #1967D2;\n",
              "      height: 32px;\n",
              "      padding: 0 0 0 0;\n",
              "      width: 32px;\n",
              "    }\n",
              "\n",
              "    .colab-df-convert:hover {\n",
              "      background-color: #E2EBFA;\n",
              "      box-shadow: 0px 1px 2px rgba(60, 64, 67, 0.3), 0px 1px 3px 1px rgba(60, 64, 67, 0.15);\n",
              "      fill: #174EA6;\n",
              "    }\n",
              "\n",
              "    [theme=dark] .colab-df-convert {\n",
              "      background-color: #3B4455;\n",
              "      fill: #D2E3FC;\n",
              "    }\n",
              "\n",
              "    [theme=dark] .colab-df-convert:hover {\n",
              "      background-color: #434B5C;\n",
              "      box-shadow: 0px 1px 3px 1px rgba(0, 0, 0, 0.15);\n",
              "      filter: drop-shadow(0px 1px 2px rgba(0, 0, 0, 0.3));\n",
              "      fill: #FFFFFF;\n",
              "    }\n",
              "  </style>\n",
              "\n",
              "      <script>\n",
              "        const buttonEl =\n",
              "          document.querySelector('#df-7db70437-f548-463c-9378-4fc84883d37b button.colab-df-convert');\n",
              "        buttonEl.style.display =\n",
              "          google.colab.kernel.accessAllowed ? 'block' : 'none';\n",
              "\n",
              "        async function convertToInteractive(key) {\n",
              "          const element = document.querySelector('#df-7db70437-f548-463c-9378-4fc84883d37b');\n",
              "          const dataTable =\n",
              "            await google.colab.kernel.invokeFunction('convertToInteractive',\n",
              "                                                     [key], {});\n",
              "          if (!dataTable) return;\n",
              "\n",
              "          const docLinkHtml = 'Like what you see? Visit the ' +\n",
              "            '<a target=\"_blank\" href=https://colab.research.google.com/notebooks/data_table.ipynb>data table notebook</a>'\n",
              "            + ' to learn more about interactive tables.';\n",
              "          element.innerHTML = '';\n",
              "          dataTable['output_type'] = 'display_data';\n",
              "          await google.colab.output.renderOutput(dataTable, element);\n",
              "          const docLink = document.createElement('div');\n",
              "          docLink.innerHTML = docLinkHtml;\n",
              "          element.appendChild(docLink);\n",
              "        }\n",
              "      </script>\n",
              "    </div>\n",
              "  </div>\n",
              "  "
            ]
          },
          "metadata": {},
          "execution_count": 128
        }
      ]
    },
    {
      "cell_type": "code",
      "source": [
        "ff_exposure['mktrf'].plot(kind='box')\n",
        "plt.title(\"Outliers in mktrf\") \n",
        "plt.show() "
      ],
      "metadata": {
        "colab": {
          "base_uri": "https://localhost:8080/",
          "height": 281
        },
        "id": "MhN-dqkcrPn5",
        "outputId": "5a98c448-b6c1-43f1-c4eb-8165b62c686b"
      },
      "execution_count": null,
      "outputs": [
        {
          "output_type": "display_data",
          "data": {
            "text/plain": [
              "<Figure size 432x288 with 1 Axes>"
            ],
            "image/png": "[encoded data removed]"
          },
          "metadata": {
            "needs_background": "light"
          }
        }
      ]
    },
    {
      "cell_type": "code",
      "source": [
        "ff_exposure.boxplot(column='smb')\n",
        "plt.title(\"Outliers in smb\") \n",
        "plt.show() "
      ],
      "metadata": {
        "colab": {
          "base_uri": "https://localhost:8080/",
          "height": 281
        },
        "id": "bjwXZzYKOWak",
        "outputId": "ee3360de-4c95-4924-c961-d82392f065c9"
      },
      "execution_count": null,
      "outputs": [
        {
          "output_type": "display_data",
          "data": {
            "text/plain": [
              "<Figure size 432x288 with 1 Axes>"
            ],
            "image/png": "[encoded data removed]"
          },
          "metadata": {
            "needs_background": "light"
          }
        }
      ]
    },
    {
      "cell_type": "code",
      "source": [
        "ff_exposure.boxplot(column='hml')\n",
        "plt.title(\"Outliers in hml\") \n",
        "plt.show() "
      ],
      "metadata": {
        "colab": {
          "base_uri": "https://localhost:8080/",
          "height": 281
        },
        "id": "0rq0VjtXOaKn",
        "outputId": "eb94e75c-7d48-44cb-81a2-f9c2537420db"
      },
      "execution_count": null,
      "outputs": [
        {
          "output_type": "display_data",
          "data": {
            "text/plain": [
              "<Figure size 432x288 with 1 Axes>"
            ],
            "image/png": "[encoded data removed]"
          },
          "metadata": {
            "needs_background": "light"
          }
        }
      ]
    },
    {
      "cell_type": "code",
      "source": [
        "# Winsorize mktrf == max(22)\n",
        "ff_exposure['mktrf'] = winsorize(ff_exposure['mktrf'], (0, 0.001))\n",
        "ff_exposure['mktrf'].plot(kind='box')"
      ],
      "metadata": {
        "colab": {
          "base_uri": "https://localhost:8080/",
          "height": 282
        },
        "id": "vqXau7pDxNM6",
        "outputId": "27b6030f-296b-4220-94bb-cea9adf6f54e"
      },
      "execution_count": null,
      "outputs": [
        {
          "output_type": "execute_result",
          "data": {
            "text/plain": [
              "<matplotlib.axes._subplots.AxesSubplot at 0x7f2f9fffe890>"
            ]
          },
          "metadata": {},
          "execution_count": 133
        },
        {
          "output_type": "display_data",
          "data": {
            "text/plain": [
              "<Figure size 432x288 with 1 Axes>"
            ],
            "image/png": "[encoded data removed]"
          },
          "metadata": {
            "needs_background": "light"
          }
        }
      ]
    },
    {
      "cell_type": "code",
      "source": [
        "# Winsorize min, max\n",
        "ff_exposure['smb'] = winsorize(ff_exposure['smb'], (0.001, 0.001))\n",
        "ff_exposure.boxplot(column='smb')"
      ],
      "metadata": {
        "colab": {
          "base_uri": "https://localhost:8080/",
          "height": 282
        },
        "id": "WVcKIG-hxWCh",
        "outputId": "3dd39c0f-01cc-41fb-9ad0-1f8d3f40663b"
      },
      "execution_count": null,
      "outputs": [
        {
          "output_type": "execute_result",
          "data": {
            "text/plain": [
              "<matplotlib.axes._subplots.AxesSubplot at 0x7f2fa0009f90>"
            ]
          },
          "metadata": {},
          "execution_count": 134
        },
        {
          "output_type": "display_data",
          "data": {
            "text/plain": [
              "<Figure size 432x288 with 1 Axes>"
            ],
            "image/png": "[encoded data removed]"
          },
          "metadata": {
            "needs_background": "light"
          }
        }
      ]
    },
    {
      "cell_type": "code",
      "source": [
        "# Winsorize min\n",
        "ff_exposure['hml'] = winsorize(ff_exposure['hml'], (0.001, 0))\n",
        "ff_exposure.boxplot(column='hml')"
      ],
      "metadata": {
        "colab": {
          "base_uri": "https://localhost:8080/",
          "height": 282
        },
        "id": "I8qmC-9Fxatu",
        "outputId": "cacb1f4c-c3cd-4dea-95ec-284d1a308a0e"
      },
      "execution_count": null,
      "outputs": [
        {
          "output_type": "execute_result",
          "data": {
            "text/plain": [
              "<matplotlib.axes._subplots.AxesSubplot at 0x7f2f9fefc290>"
            ]
          },
          "metadata": {},
          "execution_count": 135
        },
        {
          "output_type": "display_data",
          "data": {
            "text/plain": [
              "<Figure size 432x288 with 1 Axes>"
            ],
            "image/png": "[encoded data removed]"
          },
          "metadata": {
            "needs_background": "light"
          }
        }
      ]
    },
    {
      "cell_type": "code",
      "source": [
        "ff_exposure.describe()"
      ],
      "metadata": {
        "colab": {
          "base_uri": "https://localhost:8080/",
          "height": 300
        },
        "id": "iqsmST7HzkMX",
        "outputId": "f6774f21-6f67-40f0-feee-99dcb320c938"
      },
      "execution_count": null,
      "outputs": [
        {
          "output_type": "execute_result",
          "data": {
            "text/plain": [
              "             mktrf          smb          hml\n",
              "count  1923.000000  1923.000000  1923.000000\n",
              "mean      1.069518     0.653085     0.317365\n",
              "std       0.652773     1.061835     0.726609\n",
              "min      -6.677000    -6.286000    -3.631000\n",
              "25%       0.719000     0.013000    -0.054000\n",
              "50%       1.005000     0.504000     0.359000\n",
              "75%       1.338500     1.024000     0.760500\n",
              "max       6.002000    10.505000     5.919000"
            ],
            "text/html": [
              "\n",
              "  <div id=\"df-30c4c221-e337-4392-ae79-83bc67d1e483\">\n",
              "    <div class=\"colab-df-container\">\n",
              "      <div>\n",
              "<style scoped>\n",
              "    .dataframe tbody tr th:only-of-type {\n",
              "        vertical-align: middle;\n",
              "    }\n",
              "\n",
              "    .dataframe tbody tr th {\n",
              "        vertical-align: top;\n",
              "    }\n",
              "\n",
              "    .dataframe thead th {\n",
              "        text-align: right;\n",
              "    }\n",
              "</style>\n",
              "<table border=\"1\" class=\"dataframe\">\n",
              "  <thead>\n",
              "    <tr style=\"text-align: right;\">\n",
              "      <th></th>\n",
              "      <th>mktrf</th>\n",
              "      <th>smb</th>\n",
              "      <th>hml</th>\n",
              "    </tr>\n",
              "  </thead>\n",
              "  <tbody>\n",
              "    <tr>\n",
              "      <th>count</th>\n",
              "      <td>1923.000000</td>\n",
              "      <td>1923.000000</td>\n",
              "      <td>1923.000000</td>\n",
              "    </tr>\n",
              "    <tr>\n",
              "      <th>mean</th>\n",
              "      <td>1.069518</td>\n",
              "      <td>0.653085</td>\n",
              "      <td>0.317365</td>\n",
              "    </tr>\n",
              "    <tr>\n",
              "      <th>std</th>\n",
              "      <td>0.652773</td>\n",
              "      <td>1.061835</td>\n",
              "      <td>0.726609</td>\n",
              "    </tr>\n",
              "    <tr>\n",
              "      <th>min</th>\n",
              "      <td>-6.677000</td>\n",
              "      <td>-6.286000</td>\n",
              "      <td>-3.631000</td>\n",
              "    </tr>\n",
              "    <tr>\n",
              "      <th>25%</th>\n",
              "      <td>0.719000</td>\n",
              "      <td>0.013000</td>\n",
              "      <td>-0.054000</td>\n",
              "    </tr>\n",
              "    <tr>\n",
              "      <th>50%</th>\n",
              "      <td>1.005000</td>\n",
              "      <td>0.504000</td>\n",
              "      <td>0.359000</td>\n",
              "    </tr>\n",
              "    <tr>\n",
              "      <th>75%</th>\n",
              "      <td>1.338500</td>\n",
              "      <td>1.024000</td>\n",
              "      <td>0.760500</td>\n",
              "    </tr>\n",
              "    <tr>\n",
              "      <th>max</th>\n",
              "      <td>6.002000</td>\n",
              "      <td>10.505000</td>\n",
              "      <td>5.919000</td>\n",
              "    </tr>\n",
              "  </tbody>\n",
              "</table>\n",
              "</div>\n",
              "      <button class=\"colab-df-convert\" onclick=\"convertToInteractive('df-30c4c221-e337-4392-ae79-83bc67d1e483')\"\n",
              "              title=\"Convert this dataframe to an interactive table.\"\n",
              "              style=\"display:none;\">\n",
              "        \n",
              "  <svg xmlns=\"http://www.w3.org/2000/svg\" height=\"24px\"viewBox=\"0 0 24 24\"\n",
              "       width=\"24px\">\n",
              "    <path d=\"M0 0h24v24H0V0z\" fill=\"none\"/>\n",
              "    <path d=\"M18.56 5.44l.94 2.06.94-2.06 2.06-.94-2.06-.94-.94-2.06-.94 2.06-2.06.94zm-11 1L8.5 8.5l.94-2.06 2.06-.94-2.06-.94L8.5 2.5l-.94 2.06-2.06.94zm10 10l.94 2.06.94-2.06 2.06-.94-2.06-.94-.94-2.06-.94 2.06-2.06.94z\"/><path d=\"M17.41 7.96l-1.37-1.37c-.4-.4-.92-.59-1.43-.59-.52 0-1.04.2-1.43.59L10.3 9.45l-7.72 7.72c-.78.78-.78 2.05 0 2.83L4 21.41c.39.39.9.59 1.41.59.51 0 1.02-.2 1.41-.59l7.78-7.78 2.81-2.81c.8-.78.8-2.07 0-2.86zM5.41 20L4 18.59l7.72-7.72 1.47 1.35L5.41 20z\"/>\n",
              "  </svg>\n",
              "      </button>\n",
              "      \n",
              "  <style>\n",
              "    .colab-df-container {\n",
              "      display:flex;\n",
              "      flex-wrap:wrap;\n",
              "      gap: 12px;\n",
              "    }\n",
              "\n",
              "    .colab-df-convert {\n",
              "      background-color: #E8F0FE;\n",
              "      border: none;\n",
              "      border-radius: 50%;\n",
              "      cursor: pointer;\n",
              "      display: none;\n",
              "      fill: #1967D2;\n",
              "      height: 32px;\n",
              "      padding: 0 0 0 0;\n",
              "      width: 32px;\n",
              "    }\n",
              "\n",
              "    .colab-df-convert:hover {\n",
              "      background-color: #E2EBFA;\n",
              "      box-shadow: 0px 1px 2px rgba(60, 64, 67, 0.3), 0px 1px 3px 1px rgba(60, 64, 67, 0.15);\n",
              "      fill: #174EA6;\n",
              "    }\n",
              "\n",
              "    [theme=dark] .colab-df-convert {\n",
              "      background-color: #3B4455;\n",
              "      fill: #D2E3FC;\n",
              "    }\n",
              "\n",
              "    [theme=dark] .colab-df-convert:hover {\n",
              "      background-color: #434B5C;\n",
              "      box-shadow: 0px 1px 3px 1px rgba(0, 0, 0, 0.15);\n",
              "      filter: drop-shadow(0px 1px 2px rgba(0, 0, 0, 0.3));\n",
              "      fill: #FFFFFF;\n",
              "    }\n",
              "  </style>\n",
              "\n",
              "      <script>\n",
              "        const buttonEl =\n",
              "          document.querySelector('#df-30c4c221-e337-4392-ae79-83bc67d1e483 button.colab-df-convert');\n",
              "        buttonEl.style.display =\n",
              "          google.colab.kernel.accessAllowed ? 'block' : 'none';\n",
              "\n",
              "        async function convertToInteractive(key) {\n",
              "          const element = document.querySelector('#df-30c4c221-e337-4392-ae79-83bc67d1e483');\n",
              "          const dataTable =\n",
              "            await google.colab.kernel.invokeFunction('convertToInteractive',\n",
              "                                                     [key], {});\n",
              "          if (!dataTable) return;\n",
              "\n",
              "          const docLinkHtml = 'Like what you see? Visit the ' +\n",
              "            '<a target=\"_blank\" href=https://colab.research.google.com/notebooks/data_table.ipynb>data table notebook</a>'\n",
              "            + ' to learn more about interactive tables.';\n",
              "          element.innerHTML = '';\n",
              "          dataTable['output_type'] = 'display_data';\n",
              "          await google.colab.output.renderOutput(dataTable, element);\n",
              "          const docLink = document.createElement('div');\n",
              "          docLink.innerHTML = docLinkHtml;\n",
              "          element.appendChild(docLink);\n",
              "        }\n",
              "      </script>\n",
              "    </div>\n",
              "  </div>\n",
              "  "
            ]
          },
          "metadata": {},
          "execution_count": 136
        }
      ]
    },
    {
      "cell_type": "markdown",
      "source": [
        "## Save data\n",
        "* Save the ticker symbol and the 3 exposure values\n",
        "* TICKER, mktrf, smb, hml, date"
      ],
      "metadata": {
        "id": "vDCezd3kb01y"
      }
    },
    {
      "cell_type": "code",
      "source": [
        "ff_exposure.to_csv('/content/FF-Exposures.csv')"
      ],
      "metadata": {
        "id": "PzESXKKxbtqr"
      },
      "execution_count": null,
      "outputs": []
    },
    {
      "cell_type": "markdown",
      "source": [
        "# Calculate financial ratios"
      ],
      "metadata": {
        "id": "DCrR20laXtg7"
      }
    },
    {
      "cell_type": "markdown",
      "source": [
        "## Handle Missing values\n",
        "* Missing values in act, ch, chech, dt, invt, lct, lt, re, mkvalt\n",
        "* I decided not to use dt, re, chech, mkvalt for creating ratio, so I didn't handle missing values in these columns.\n",
        "* Predict missing values using regressions\n",
        "  1. Drop all missing values in every column before running a regression to avoid errors\n",
        "  2. Add constant\n",
        "  3. Fit the regression using relevant features\n",
        "  4. Predict missing values and fill those in the original dataset.\n"
      ],
      "metadata": {
        "id": "2wo1TPL54A00"
      }
    },
    {
      "cell_type": "code",
      "source": [
        "finance.isna().sum()"
      ],
      "metadata": {
        "colab": {
          "base_uri": "https://localhost:8080/"
        },
        "id": "1q_7BgaW5pIH",
        "outputId": "fe524115-5e7f-4531-f3d7-ebca14e1e397"
      },
      "execution_count": null,
      "outputs": [
        {
          "output_type": "execute_result",
          "data": {
            "text/plain": [
              "gvkey         0\n",
              "datadate      0\n",
              "fyear         0\n",
              "indfmt        0\n",
              "consol        0\n",
              "popsrc        0\n",
              "datafmt       0\n",
              "tic           0\n",
              "curcd         0\n",
              "act         455\n",
              "at            0\n",
              "ceq           0\n",
              "ch           29\n",
              "che           0\n",
              "chech         1\n",
              "cogs          0\n",
              "csho          0\n",
              "dt          237\n",
              "dvt          11\n",
              "ebit          0\n",
              "invt         34\n",
              "lct         455\n",
              "lt            5\n",
              "ni            0\n",
              "re            3\n",
              "revt          0\n",
              "sale          0\n",
              "seq           0\n",
              "costat        0\n",
              "prcc_c        0\n",
              "mkvalt       19\n",
              "dtype: int64"
            ]
          },
          "metadata": {},
          "execution_count": 175
        }
      ]
    },
    {
      "cell_type": "markdown",
      "source": [
        "### Current Assets - Total (act)"
      ],
      "metadata": {
        "id": "ZW1mnfrQvy4e"
      }
    },
    {
      "cell_type": "code",
      "source": [
        "# Drop all missing values in every column to avoid error\n",
        "finance_act = finance.dropna(axis=0)\n",
        "# Keep relevant features and add constant - for the features, they don't have missing values\n",
        "X_act = sm.add_constant(finance_act[[\"at\",\"sale\",\"re\",\"revt\",\"che\",'ni','cogs','csho']])\n",
        "# Fit the ols model\n",
        "ols_act = sm.OLS(finance_act['act'], X_act).fit()\n",
        "print(ols_act.summary())"
      ],
      "metadata": {
        "colab": {
          "base_uri": "https://localhost:8080/"
        },
        "id": "2_NSEm8vvuGY",
        "outputId": "a2c3e37e-8586-42f1-d7e5-fd119ca34108"
      },
      "execution_count": null,
      "outputs": [
        {
          "output_type": "stream",
          "name": "stdout",
          "text": [
            "                            OLS Regression Results                            \n",
            "==============================================================================\n",
            "Dep. Variable:                    act   R-squared:                       0.841\n",
            "Model:                            OLS   Adj. R-squared:                  0.840\n",
            "Method:                 Least Squares   F-statistic:                     990.0\n",
            "Date:                Wed, 27 Apr 2022   Prob (F-statistic):               0.00\n",
            "Time:                        16:38:00   Log-Likelihood:                -13270.\n",
            "No. Observations:                1322   AIC:                         2.656e+04\n",
            "Df Residuals:                    1314   BIC:                         2.660e+04\n",
            "Df Model:                           7                                         \n",
            "Covariance Type:            nonrobust                                         \n",
            "==============================================================================\n",
            "                 coef    std err          t      P>|t|      [0.025      0.975]\n",
            "------------------------------------------------------------------------------\n",
            "const        284.1140    167.573      1.695      0.090     -44.625     612.853\n",
            "at             0.2732      0.011     25.373      0.000       0.252       0.294\n",
            "sale          -0.1919      0.020     -9.754      0.000      -0.230      -0.153\n",
            "re            -0.0822      0.018     -4.456      0.000      -0.118      -0.046\n",
            "revt          -0.1919      0.020     -9.754      0.000      -0.230      -0.153\n",
            "che            0.9733      0.047     20.588      0.000       0.881       1.066\n",
            "ni             0.4976      0.103      4.827      0.000       0.295       0.700\n",
            "cogs           0.4436      0.043     10.361      0.000       0.360       0.528\n",
            "csho          -2.0313      0.431     -4.715      0.000      -2.877      -1.186\n",
            "==============================================================================\n",
            "Omnibus:                     2153.767   Durbin-Watson:                   1.996\n",
            "Prob(Omnibus):                  0.000   Jarque-Bera (JB):          2233478.451\n",
            "Skew:                           9.988   Prob(JB):                         0.00\n",
            "Kurtosis:                     203.370   Cond. No.                     1.47e+17\n",
            "==============================================================================\n",
            "\n",
            "Warnings:\n",
            "[1] Standard Errors assume that the covariance matrix of the errors is correctly specified.\n",
            "[2] The smallest eigenvalue is 2.18e-22. This might indicate that there are\n",
            "strong multicollinearity problems or that the design matrix is singular.\n"
          ]
        }
      ]
    },
    {
      "cell_type": "code",
      "source": [
        "# Keep rows with missing values in 'act'\n",
        "act_nan = finance[finance.act.isnull()][[\"at\",\"sale\",\"re\",\"revt\",\"che\",'ni','cogs','csho']]\n",
        "# Add constant\n",
        "act_nan = sm.add_constant(act_nan)\n",
        "# Predict missing values \n",
        "act_pred = ols_act.predict(act_nan) \n",
        "# Replace missing values with predicted values\n",
        "finance['act'].fillna(act_pred, inplace=True)"
      ],
      "metadata": {
        "id": "SJACYCvgx918"
      },
      "execution_count": null,
      "outputs": []
    },
    {
      "cell_type": "code",
      "source": [
        "# No more missing values in 'act'\n",
        "finance['act'].isna().sum()"
      ],
      "metadata": {
        "colab": {
          "base_uri": "https://localhost:8080/"
        },
        "id": "DIHsy9tNzs9f",
        "outputId": "ee0ad440-8d16-4248-9439-61128e6f80c2"
      },
      "execution_count": null,
      "outputs": [
        {
          "output_type": "execute_result",
          "data": {
            "text/plain": [
              "0"
            ]
          },
          "metadata": {},
          "execution_count": 178
        }
      ]
    },
    {
      "cell_type": "markdown",
      "source": [
        "### Total liabilities (lt)"
      ],
      "metadata": {
        "id": "HeekBfS4wFjz"
      }
    },
    {
      "cell_type": "code",
      "source": [
        "finance_lt = finance.dropna(axis=0)\n",
        "X_lt = sm.add_constant(finance_lt[[\"at\",\"sale\",\"re\",\"revt\",\"che\",'ni','cogs','csho']])\n",
        "ols_lt = sm.OLS(finance_lt['lt'], X_lt).fit()\n",
        "print(ols_lt.summary())"
      ],
      "metadata": {
        "colab": {
          "base_uri": "https://localhost:8080/"
        },
        "id": "YZwlDZFIwPMN",
        "outputId": "bc9f4377-e2dc-4c53-fc03-522991bfc069"
      },
      "execution_count": null,
      "outputs": [
        {
          "output_type": "stream",
          "name": "stdout",
          "text": [
            "                            OLS Regression Results                            \n",
            "==============================================================================\n",
            "Dep. Variable:                     lt   R-squared:                       0.954\n",
            "Model:                            OLS   Adj. R-squared:                  0.954\n",
            "Method:                 Least Squares   F-statistic:                     3897.\n",
            "Date:                Wed, 27 Apr 2022   Prob (F-statistic):               0.00\n",
            "Time:                        16:38:00   Log-Likelihood:                -13187.\n",
            "No. Observations:                1322   AIC:                         2.639e+04\n",
            "Df Residuals:                    1314   BIC:                         2.643e+04\n",
            "Df Model:                           7                                         \n",
            "Covariance Type:            nonrobust                                         \n",
            "==============================================================================\n",
            "                 coef    std err          t      P>|t|      [0.025      0.975]\n",
            "------------------------------------------------------------------------------\n",
            "const       -531.8137    157.366     -3.379      0.001    -840.530    -223.097\n",
            "at             0.7589      0.010     75.058      0.000       0.739       0.779\n",
            "sale           0.0166      0.018      0.897      0.370      -0.020       0.053\n",
            "re            -0.2837      0.017    -16.388      0.000      -0.318      -0.250\n",
            "revt           0.0166      0.018      0.897      0.370      -0.020       0.053\n",
            "che           -0.3917      0.044     -8.824      0.000      -0.479      -0.305\n",
            "ni            -0.5173      0.097     -5.344      0.000      -0.707      -0.327\n",
            "cogs           0.0320      0.040      0.797      0.426      -0.047       0.111\n",
            "csho           3.5509      0.405      8.776      0.000       2.757       4.345\n",
            "==============================================================================\n",
            "Omnibus:                      477.834   Durbin-Watson:                   2.151\n",
            "Prob(Omnibus):                  0.000   Jarque-Bera (JB):            71204.022\n",
            "Skew:                           0.547   Prob(JB):                         0.00\n",
            "Kurtosis:                      38.937   Cond. No.                     1.47e+17\n",
            "==============================================================================\n",
            "\n",
            "Warnings:\n",
            "[1] Standard Errors assume that the covariance matrix of the errors is correctly specified.\n",
            "[2] The smallest eigenvalue is 2.18e-22. This might indicate that there are\n",
            "strong multicollinearity problems or that the design matrix is singular.\n"
          ]
        }
      ]
    },
    {
      "cell_type": "code",
      "source": [
        "lt_nan = finance[finance['lt'].isnull()][[\"at\",\"sale\",\"re\",\"revt\",\"che\",'ni','cogs','csho']]\n",
        "lt_nan = sm.add_constant(lt_nan)\n",
        "lt_pred = ols_lt.predict(lt_nan) \n",
        "finance['lt'].fillna(lt_pred, inplace=True)"
      ],
      "metadata": {
        "id": "P7zENd_72Ham"
      },
      "execution_count": null,
      "outputs": []
    },
    {
      "cell_type": "code",
      "source": [
        "finance['lt'].isna().sum()"
      ],
      "metadata": {
        "colab": {
          "base_uri": "https://localhost:8080/"
        },
        "id": "PrhW_gft2o-z",
        "outputId": "19eb16aa-fb5c-4884-fd36-2f329a7eed98"
      },
      "execution_count": null,
      "outputs": [
        {
          "output_type": "execute_result",
          "data": {
            "text/plain": [
              "0"
            ]
          },
          "metadata": {},
          "execution_count": 181
        }
      ]
    },
    {
      "cell_type": "markdown",
      "source": [
        "### Current Liabilities - Total (lct)\n",
        "\n"
      ],
      "metadata": {
        "id": "qU3i-riXv-xA"
      }
    },
    {
      "cell_type": "code",
      "source": [
        "finance_lct = finance.dropna(axis=0)\n",
        "X_lct = sm.add_constant(finance_lct[[\"lt\",\"at\",\"revt\",\"sale\",\"che\",'csho','ceq','ebit']])\n",
        "ols_lct = sm.OLS(finance_lct['lct'], X_lct).fit()\n",
        "print(ols_lct.summary())"
      ],
      "metadata": {
        "colab": {
          "base_uri": "https://localhost:8080/"
        },
        "id": "YlbKyKY_wPhr",
        "outputId": "2980d35d-06da-4e3d-f045-b8e46d2cecb3"
      },
      "execution_count": null,
      "outputs": [
        {
          "output_type": "stream",
          "name": "stdout",
          "text": [
            "                            OLS Regression Results                            \n",
            "==============================================================================\n",
            "Dep. Variable:                    lct   R-squared:                       0.814\n",
            "Model:                            OLS   Adj. R-squared:                  0.813\n",
            "Method:                 Least Squares   F-statistic:                     823.5\n",
            "Date:                Wed, 27 Apr 2022   Prob (F-statistic):               0.00\n",
            "Time:                        16:38:00   Log-Likelihood:                -13079.\n",
            "No. Observations:                1322   AIC:                         2.617e+04\n",
            "Df Residuals:                    1314   BIC:                         2.621e+04\n",
            "Df Model:                           7                                         \n",
            "Covariance Type:            nonrobust                                         \n",
            "==============================================================================\n",
            "                 coef    std err          t      P>|t|      [0.025      0.975]\n",
            "------------------------------------------------------------------------------\n",
            "const       -147.2603    144.044     -1.022      0.307    -429.842     135.321\n",
            "lt             1.5325      0.200      7.654      0.000       1.140       1.925\n",
            "at            -1.1336      0.198     -5.723      0.000      -1.522      -0.745\n",
            "revt           0.0221      0.004      5.450      0.000       0.014       0.030\n",
            "sale           0.0221      0.004      5.450      0.000       0.014       0.030\n",
            "che            0.3238      0.036      8.933      0.000       0.253       0.395\n",
            "csho          -1.2274      0.380     -3.230      0.001      -1.973      -0.482\n",
            "ceq            1.0458      0.202      5.187      0.000       0.650       1.441\n",
            "ebit          -0.2029      0.065     -3.111      0.002      -0.331      -0.075\n",
            "==============================================================================\n",
            "Omnibus:                     2052.107   Durbin-Watson:                   2.029\n",
            "Prob(Omnibus):                  0.000   Jarque-Bera (JB):          2648514.461\n",
            "Skew:                           8.890   Prob(JB):                         0.00\n",
            "Kurtosis:                     221.554   Cond. No.                     2.28e+16\n",
            "==============================================================================\n",
            "\n",
            "Warnings:\n",
            "[1] Standard Errors assume that the covariance matrix of the errors is correctly specified.\n",
            "[2] The smallest eigenvalue is 9.73e-21. This might indicate that there are\n",
            "strong multicollinearity problems or that the design matrix is singular.\n"
          ]
        }
      ]
    },
    {
      "cell_type": "code",
      "source": [
        "lct_nan = finance[finance['lct'].isnull()][[\"lt\",\"at\",\"revt\",\"sale\",\"che\",'csho','ceq','ebit']]\n",
        "lct_nan = sm.add_constant(lct_nan)\n",
        "lct_pred = ols_lct.predict(lct_nan) \n",
        "finance['lct'].fillna(lct_pred, inplace=True)"
      ],
      "metadata": {
        "id": "mSIutwPA397X"
      },
      "execution_count": null,
      "outputs": []
    },
    {
      "cell_type": "code",
      "source": [
        "finance['lct'].isna().sum()"
      ],
      "metadata": {
        "colab": {
          "base_uri": "https://localhost:8080/"
        },
        "id": "9IZDrw3v3_ht",
        "outputId": "5e789e81-1001-49f0-87b1-da62ef55e309"
      },
      "execution_count": null,
      "outputs": [
        {
          "output_type": "execute_result",
          "data": {
            "text/plain": [
              "0"
            ]
          },
          "metadata": {},
          "execution_count": 184
        }
      ]
    },
    {
      "cell_type": "markdown",
      "source": [
        "### Inventories (invt)"
      ],
      "metadata": {
        "id": "_CJKTYR3wIxH"
      }
    },
    {
      "cell_type": "code",
      "source": [
        "finance_invt = finance.dropna(axis=0)\n",
        "X_invt = sm.add_constant(finance_invt[[\"at\",\"lt\",'act','lct',\"che\",'csho','seq','sale','ebit',\"cogs\",'mkvalt']])\n",
        "ols_invt = sm.OLS(finance_invt['invt'], X_invt).fit()\n",
        "print(ols_invt.summary())"
      ],
      "metadata": {
        "colab": {
          "base_uri": "https://localhost:8080/"
        },
        "id": "4PugKzBgwP1G",
        "outputId": "d22036ae-b8a5-4794-f392-9a77b8df5342"
      },
      "execution_count": null,
      "outputs": [
        {
          "output_type": "stream",
          "name": "stdout",
          "text": [
            "                            OLS Regression Results                            \n",
            "==============================================================================\n",
            "Dep. Variable:                   invt   R-squared:                       0.609\n",
            "Model:                            OLS   Adj. R-squared:                  0.606\n",
            "Method:                 Least Squares   F-statistic:                     220.0\n",
            "Date:                Wed, 27 Apr 2022   Prob (F-statistic):          3.25e-307\n",
            "Time:                        16:38:00   Log-Likelihood:                -16317.\n",
            "No. Observations:                1565   AIC:                         3.266e+04\n",
            "Df Residuals:                    1553   BIC:                         3.272e+04\n",
            "Df Model:                          11                                         \n",
            "Covariance Type:            nonrobust                                         \n",
            "==============================================================================\n",
            "                 coef    std err          t      P>|t|      [0.025      0.975]\n",
            "------------------------------------------------------------------------------\n",
            "const       -439.6929    236.214     -1.861      0.063    -903.025      23.639\n",
            "at            -1.1438      0.207     -5.538      0.000      -1.549      -0.739\n",
            "lt             1.2962      0.219      5.913      0.000       0.866       1.726\n",
            "act            0.7229      0.099      7.289      0.000       0.528       0.917\n",
            "lct           -0.7910      0.113     -7.025      0.000      -1.012      -0.570\n",
            "che            0.2443      0.071      3.444      0.001       0.105       0.383\n",
            "csho           3.2789      0.580      5.655      0.000       2.142       4.416\n",
            "seq            0.9564      0.203      4.711      0.000       0.558       1.355\n",
            "sale          -0.0153      0.058     -0.266      0.790      -0.129       0.098\n",
            "ebit          -0.9972      0.134     -7.437      0.000      -1.260      -0.734\n",
            "cogs           0.0826      0.065      1.264      0.206      -0.046       0.211\n",
            "mkvalt        -0.0032      0.005     -0.660      0.509      -0.013       0.006\n",
            "==============================================================================\n",
            "Omnibus:                     3903.423   Durbin-Watson:                   1.950\n",
            "Prob(Omnibus):                  0.000   Jarque-Bera (JB):         53871753.305\n",
            "Skew:                          25.647   Prob(JB):                         0.00\n",
            "Kurtosis:                     910.479   Cond. No.                     1.50e+05\n",
            "==============================================================================\n",
            "\n",
            "Warnings:\n",
            "[1] Standard Errors assume that the covariance matrix of the errors is correctly specified.\n",
            "[2] The condition number is large, 1.5e+05. This might indicate that there are\n",
            "strong multicollinearity or other numerical problems.\n"
          ]
        }
      ]
    },
    {
      "cell_type": "code",
      "source": [
        "invt_nan = finance[finance['invt'].isnull()][[\"at\",\"lt\",'act','lct',\"che\",'csho','seq','sale','ebit',\"cogs\",'mkvalt']]\n",
        "invt_nan = sm.add_constant(invt_nan)\n",
        "invt_pred = ols_invt.predict(invt_nan) \n",
        "finance['invt'].fillna(invt_pred, inplace=True)"
      ],
      "metadata": {
        "id": "Cb1yzr_c4vOS"
      },
      "execution_count": null,
      "outputs": []
    },
    {
      "cell_type": "code",
      "source": [
        "finance['invt'].isna().sum()"
      ],
      "metadata": {
        "colab": {
          "base_uri": "https://localhost:8080/"
        },
        "id": "JM3BFt3w4wZ2",
        "outputId": "b22906c4-3b68-4b8c-d1ee-d79717c3acc0"
      },
      "execution_count": null,
      "outputs": [
        {
          "output_type": "execute_result",
          "data": {
            "text/plain": [
              "0"
            ]
          },
          "metadata": {},
          "execution_count": 187
        }
      ]
    },
    {
      "cell_type": "markdown",
      "source": [
        "### Cash"
      ],
      "metadata": {
        "id": "TpofaYgqKFZG"
      }
    },
    {
      "cell_type": "code",
      "source": [
        "finance_ch = finance.dropna(axis=0)\n",
        "X_ch = sm.add_constant(finance_ch[[\"che\",\"ni\",\"ebit\"]])\n",
        "ols_ch = sm.OLS(finance_ch['ch'], X_ch).fit()\n",
        "print(ols_ch.summary())"
      ],
      "metadata": {
        "colab": {
          "base_uri": "https://localhost:8080/"
        },
        "id": "HoWhx5xKKHAe",
        "outputId": "f32a66ce-f32d-486b-f86e-f9aa45309e26"
      },
      "execution_count": null,
      "outputs": [
        {
          "output_type": "stream",
          "name": "stdout",
          "text": [
            "                            OLS Regression Results                            \n",
            "==============================================================================\n",
            "Dep. Variable:                     ch   R-squared:                       0.922\n",
            "Model:                            OLS   Adj. R-squared:                  0.922\n",
            "Method:                 Least Squares   F-statistic:                     6293.\n",
            "Date:                Wed, 27 Apr 2022   Prob (F-statistic):               0.00\n",
            "Time:                        16:38:00   Log-Likelihood:                -14384.\n",
            "No. Observations:                1593   AIC:                         2.878e+04\n",
            "Df Residuals:                    1589   BIC:                         2.880e+04\n",
            "Df Model:                           3                                         \n",
            "Covariance Type:            nonrobust                                         \n",
            "==============================================================================\n",
            "                 coef    std err          t      P>|t|      [0.025      0.975]\n",
            "------------------------------------------------------------------------------\n",
            "const        268.3931     52.716      5.091      0.000     164.992     371.794\n",
            "che            0.5326      0.004    123.621      0.000       0.524       0.541\n",
            "ni            -0.9607      0.056    -17.072      0.000      -1.071      -0.850\n",
            "ebit           0.6256      0.049     12.714      0.000       0.529       0.722\n",
            "==============================================================================\n",
            "Omnibus:                     2040.518   Durbin-Watson:                   2.102\n",
            "Prob(Omnibus):                  0.000   Jarque-Bera (JB):          1624321.037\n",
            "Skew:                          -6.176   Prob(JB):                         0.00\n",
            "Kurtosis:                     158.946   Cond. No.                     1.51e+04\n",
            "==============================================================================\n",
            "\n",
            "Warnings:\n",
            "[1] Standard Errors assume that the covariance matrix of the errors is correctly specified.\n",
            "[2] The condition number is large, 1.51e+04. This might indicate that there are\n",
            "strong multicollinearity or other numerical problems.\n"
          ]
        }
      ]
    },
    {
      "cell_type": "code",
      "source": [
        "ch_nan = finance[finance['ch'].isnull()][[\"che\",\"ni\",\"ebit\"]]\n",
        "ch_nan = sm.add_constant(ch_nan)\n",
        "ch_pred = ols_ch.predict(ch_nan) \n",
        "finance['ch'].fillna(ch_pred, inplace=True)"
      ],
      "metadata": {
        "id": "tRrXn0IOKbrG"
      },
      "execution_count": null,
      "outputs": []
    },
    {
      "cell_type": "code",
      "source": [
        "finance['ch'].isna().sum()"
      ],
      "metadata": {
        "colab": {
          "base_uri": "https://localhost:8080/"
        },
        "id": "JuLDuEHIKsUG",
        "outputId": "eb00096b-1776-4086-a8bb-d2a47c6994ca"
      },
      "execution_count": null,
      "outputs": [
        {
          "output_type": "execute_result",
          "data": {
            "text/plain": [
              "0"
            ]
          },
          "metadata": {},
          "execution_count": 190
        }
      ]
    },
    {
      "cell_type": "markdown",
      "source": [
        "## Create Financial ratios\n",
        "Profitability ratio\n",
        "* ROA = Ebit/Total assets = ebit/at\n",
        "* ROE = ni/seq \n",
        "* Net profit margin = Ebit/Total sales\n",
        "* Gross profit margin = (net sales - cost of goods sold)/ net sales\n",
        "\n",
        "Market value ratios\n",
        "* Market value = prcc_c * csho\n",
        "* Book/Price = 1/[Price/Book] = CEQ/(PRCC_C * CSHO )\n",
        "* E/P = 1/[P/E] = NI/ (PRCC_C * CSHO )\n",
        "* EBIT/P = 1/[P/EBIT] = EBIT / (PRCC_C * CSHO )\n",
        "* SALE/P = 1/[P/SALES] = SALE / (PRCC_C * CSHO )\n",
        "\n",
        "Liquidity Ratios\n",
        "* Quick ratio = (Current assets - Inventory)/Current liabilities\n",
        "* Current ratio(working capital ratio) = Current assets/Current liabilities\n",
        "\n",
        "Leverage ratios\n",
        "* Debt to Equity(d/e) = Total liability/Total shareholders equity\n",
        "* Cash ratio = (Cash (+cash equivalents)) / Current liabilities\n",
        "\n",
        "Asset management ratios\n",
        "* Asset turnover ratio = total sales/ total assets\n",
        "* Inventory turnover ratio = Cost of goods sold /Average inventory"
      ],
      "metadata": {
        "id": "Y8z3ttwBADWe"
      }
    },
    {
      "cell_type": "code",
      "source": [
        "# Profitability ratio\n",
        "finance['ROA'] = finance['ebit']/finance['at']\n",
        "finance['ROE'] = finance['ni']/finance['seq']\n",
        "finance['net_profit_margin'] = finance['ebit'] / finance['sale']\n",
        "finance['gross_profit_margin'] = (finance['sale']-finance['cogs'])/finance['sale']\n",
        "\n",
        "# Market value ratio\n",
        "finance['market_value']= finance['prcc_c']*finance['csho']  # for the market value calculation\n",
        "finance['book/price'] = finance['ceq']/finance['market_value']\n",
        "finance['e/p'] = finance['ni']/finance['market_value']\n",
        "finance['ebit/p'] = finance['ebit']/finance['market_value']\n",
        "finance['sale/p'] = finance['sale']/finance['market_value']\n",
        "\n",
        "# Liquidity ratio\n",
        "finance['quick_ratio'] = (finance['act']-finance['invt'])/finance['lct']\n",
        "finance['current_ratio'] = finance['act']/finance['lct']\n",
        "\n",
        "# Leverage ratio\n",
        "finance['debt_to_equity'] = finance['lt']/finance['seq']\n",
        "finance['cash_ratio'] = finance['ch']/finance['lct']\n",
        "\n",
        "# Asset management ratio\n",
        "finance['asset_turnover_ratio'] = finance['sale']/finance['at']\n",
        "finance['inventory_turnover_ratio'] = finance['cogs']/finance['invt']"
      ],
      "metadata": {
        "id": "ImsjM1ruRS5h"
      },
      "execution_count": null,
      "outputs": []
    },
    {
      "cell_type": "markdown",
      "source": [
        "### Infinite values\n",
        "* Looking at description of columns, there are infinite values in 'Inventory turnover ratio'\n",
        "* There are 514 infinite values in 'inventory turnover ratio', accounting for 27% of the data\n",
        "* I will squeeze infinite values, but eventually I found out that it's better not to use 'inventory turnover ratio'"
      ],
      "metadata": {
        "id": "bhXXKHU82INd"
      }
    },
    {
      "cell_type": "code",
      "source": [
        "ratios = finance[['ROA','asset_turnover_ratio','net_profit_margin','gross_profit_margin','current_ratio','ROE','book/price','e/p','ebit/p','sale/p','quick_ratio','debt_to_equity','inventory_turnover_ratio','cash_ratio']]"
      ],
      "metadata": {
        "id": "UpYOS0_R03ZZ"
      },
      "execution_count": null,
      "outputs": []
    },
    {
      "cell_type": "code",
      "source": [
        "ratios.describe()"
      ],
      "metadata": {
        "colab": {
          "base_uri": "https://localhost:8080/",
          "height": 364
        },
        "id": "DVHk3tQg6CPr",
        "outputId": "9ef7e974-574d-40a8-efe6-62163bf592af"
      },
      "execution_count": null,
      "outputs": [
        {
          "output_type": "execute_result",
          "data": {
            "text/plain": [
              "               ROA  asset_turnover_ratio  net_profit_margin  \\\n",
              "count  1886.000000           1886.000000        1886.000000   \n",
              "mean      0.047179              0.642005               -inf   \n",
              "std       0.157399              0.616868                NaN   \n",
              "min      -1.420596             -0.009803               -inf   \n",
              "25%       0.018602              0.185607           0.045584   \n",
              "50%       0.053231              0.511923           0.127945   \n",
              "75%       0.106175              0.900111           0.265951   \n",
              "max       1.908472              6.389003           1.220085   \n",
              "\n",
              "       gross_profit_margin  current_ratio          ROE   book/price  \\\n",
              "count          1869.000000    1886.000000  1886.000000  1886.000000   \n",
              "mean             -0.363488       2.263672     0.009034     0.422120   \n",
              "std              13.806636      11.525458    10.339557     0.424100   \n",
              "min            -498.116935    -350.979936  -364.326147    -2.056645   \n",
              "25%               0.246096       1.102038     0.024152     0.161112   \n",
              "50%               0.403095       1.599008     0.112438     0.337004   \n",
              "75%               0.651714       2.665410     0.212665     0.613868   \n",
              "max               1.220085     156.897389   216.142857     7.547555   \n",
              "\n",
              "               e/p       ebit/p       sale/p  quick_ratio  debt_to_equity  \\\n",
              "count  1886.000000  1886.000000  1886.000000  1886.000000     1886.000000   \n",
              "mean      0.027009     0.060537     0.765998     1.871763        0.449923   \n",
              "std       0.136354     0.130324     1.439880    11.407854       88.321469   \n",
              "min      -1.891725    -1.334204    -0.087004  -350.979936    -3027.095238   \n",
              "25%       0.008113     0.019641     0.176223     0.904813        0.753671   \n",
              "50%       0.036704     0.056821     0.350729     1.253095        1.526501   \n",
              "75%       0.076322     0.113822     0.814565     2.139778        3.415862   \n",
              "max       0.898517     0.974888    27.543662   156.897389     1346.744089   \n",
              "\n",
              "       inventory_turnover_ratio   cash_ratio  \n",
              "count               1872.000000  1886.000000  \n",
              "mean                        NaN     0.856618  \n",
              "std                         NaN     2.434163  \n",
              "min                        -inf   -20.866277  \n",
              "25%                    2.951400     0.102287  \n",
              "50%                    7.359149     0.357098  \n",
              "75%                         NaN     0.889904  \n",
              "max                         inf    43.626679  "
            ],
            "text/html": [
              "\n",
              "  <div id=\"df-66a379fa-116d-4601-a46c-be292cc7f400\">\n",
              "    <div class=\"colab-df-container\">\n",
              "      <div>\n",
              "<style scoped>\n",
              "    .dataframe tbody tr th:only-of-type {\n",
              "        vertical-align: middle;\n",
              "    }\n",
              "\n",
              "    .dataframe tbody tr th {\n",
              "        vertical-align: top;\n",
              "    }\n",
              "\n",
              "    .dataframe thead th {\n",
              "        text-align: right;\n",
              "    }\n",
              "</style>\n",
              "<table border=\"1\" class=\"dataframe\">\n",
              "  <thead>\n",
              "    <tr style=\"text-align: right;\">\n",
              "      <th></th>\n",
              "      <th>ROA</th>\n",
              "      <th>asset_turnover_ratio</th>\n",
              "      <th>net_profit_margin</th>\n",
              "      <th>gross_profit_margin</th>\n",
              "      <th>current_ratio</th>\n",
              "      <th>ROE</th>\n",
              "      <th>book/price</th>\n",
              "      <th>e/p</th>\n",
              "      <th>ebit/p</th>\n",
              "      <th>sale/p</th>\n",
              "      <th>quick_ratio</th>\n",
              "      <th>debt_to_equity</th>\n",
              "      <th>inventory_turnover_ratio</th>\n",
              "      <th>cash_ratio</th>\n",
              "    </tr>\n",
              "  </thead>\n",
              "  <tbody>\n",
              "    <tr>\n",
              "      <th>count</th>\n",
              "      <td>1886.000000</td>\n",
              "      <td>1886.000000</td>\n",
              "      <td>1886.000000</td>\n",
              "      <td>1869.000000</td>\n",
              "      <td>1886.000000</td>\n",
              "      <td>1886.000000</td>\n",
              "      <td>1886.000000</td>\n",
              "      <td>1886.000000</td>\n",
              "      <td>1886.000000</td>\n",
              "      <td>1886.000000</td>\n",
              "      <td>1886.000000</td>\n",
              "      <td>1886.000000</td>\n",
              "      <td>1872.000000</td>\n",
              "      <td>1886.000000</td>\n",
              "    </tr>\n",
              "    <tr>\n",
              "      <th>mean</th>\n",
              "      <td>0.047179</td>\n",
              "      <td>0.642005</td>\n",
              "      <td>-inf</td>\n",
              "      <td>-0.363488</td>\n",
              "      <td>2.263672</td>\n",
              "      <td>0.009034</td>\n",
              "      <td>0.422120</td>\n",
              "      <td>0.027009</td>\n",
              "      <td>0.060537</td>\n",
              "      <td>0.765998</td>\n",
              "      <td>1.871763</td>\n",
              "      <td>0.449923</td>\n",
              "      <td>NaN</td>\n",
              "      <td>0.856618</td>\n",
              "    </tr>\n",
              "    <tr>\n",
              "      <th>std</th>\n",
              "      <td>0.157399</td>\n",
              "      <td>0.616868</td>\n",
              "      <td>NaN</td>\n",
              "      <td>13.806636</td>\n",
              "      <td>11.525458</td>\n",
              "      <td>10.339557</td>\n",
              "      <td>0.424100</td>\n",
              "      <td>0.136354</td>\n",
              "      <td>0.130324</td>\n",
              "      <td>1.439880</td>\n",
              "      <td>11.407854</td>\n",
              "      <td>88.321469</td>\n",
              "      <td>NaN</td>\n",
              "      <td>2.434163</td>\n",
              "    </tr>\n",
              "    <tr>\n",
              "      <th>min</th>\n",
              "      <td>-1.420596</td>\n",
              "      <td>-0.009803</td>\n",
              "      <td>-inf</td>\n",
              "      <td>-498.116935</td>\n",
              "      <td>-350.979936</td>\n",
              "      <td>-364.326147</td>\n",
              "      <td>-2.056645</td>\n",
              "      <td>-1.891725</td>\n",
              "      <td>-1.334204</td>\n",
              "      <td>-0.087004</td>\n",
              "      <td>-350.979936</td>\n",
              "      <td>-3027.095238</td>\n",
              "      <td>-inf</td>\n",
              "      <td>-20.866277</td>\n",
              "    </tr>\n",
              "    <tr>\n",
              "      <th>25%</th>\n",
              "      <td>0.018602</td>\n",
              "      <td>0.185607</td>\n",
              "      <td>0.045584</td>\n",
              "      <td>0.246096</td>\n",
              "      <td>1.102038</td>\n",
              "      <td>0.024152</td>\n",
              "      <td>0.161112</td>\n",
              "      <td>0.008113</td>\n",
              "      <td>0.019641</td>\n",
              "      <td>0.176223</td>\n",
              "      <td>0.904813</td>\n",
              "      <td>0.753671</td>\n",
              "      <td>2.951400</td>\n",
              "      <td>0.102287</td>\n",
              "    </tr>\n",
              "    <tr>\n",
              "      <th>50%</th>\n",
              "      <td>0.053231</td>\n",
              "      <td>0.511923</td>\n",
              "      <td>0.127945</td>\n",
              "      <td>0.403095</td>\n",
              "      <td>1.599008</td>\n",
              "      <td>0.112438</td>\n",
              "      <td>0.337004</td>\n",
              "      <td>0.036704</td>\n",
              "      <td>0.056821</td>\n",
              "      <td>0.350729</td>\n",
              "      <td>1.253095</td>\n",
              "      <td>1.526501</td>\n",
              "      <td>7.359149</td>\n",
              "      <td>0.357098</td>\n",
              "    </tr>\n",
              "    <tr>\n",
              "      <th>75%</th>\n",
              "      <td>0.106175</td>\n",
              "      <td>0.900111</td>\n",
              "      <td>0.265951</td>\n",
              "      <td>0.651714</td>\n",
              "      <td>2.665410</td>\n",
              "      <td>0.212665</td>\n",
              "      <td>0.613868</td>\n",
              "      <td>0.076322</td>\n",
              "      <td>0.113822</td>\n",
              "      <td>0.814565</td>\n",
              "      <td>2.139778</td>\n",
              "      <td>3.415862</td>\n",
              "      <td>NaN</td>\n",
              "      <td>0.889904</td>\n",
              "    </tr>\n",
              "    <tr>\n",
              "      <th>max</th>\n",
              "      <td>1.908472</td>\n",
              "      <td>6.389003</td>\n",
              "      <td>1.220085</td>\n",
              "      <td>1.220085</td>\n",
              "      <td>156.897389</td>\n",
              "      <td>216.142857</td>\n",
              "      <td>7.547555</td>\n",
              "      <td>0.898517</td>\n",
              "      <td>0.974888</td>\n",
              "      <td>27.543662</td>\n",
              "      <td>156.897389</td>\n",
              "      <td>1346.744089</td>\n",
              "      <td>inf</td>\n",
              "      <td>43.626679</td>\n",
              "    </tr>\n",
              "  </tbody>\n",
              "</table>\n",
              "</div>\n",
              "      <button class=\"colab-df-convert\" onclick=\"convertToInteractive('df-66a379fa-116d-4601-a46c-be292cc7f400')\"\n",
              "              title=\"Convert this dataframe to an interactive table.\"\n",
              "              style=\"display:none;\">\n",
              "        \n",
              "  <svg xmlns=\"http://www.w3.org/2000/svg\" height=\"24px\"viewBox=\"0 0 24 24\"\n",
              "       width=\"24px\">\n",
              "    <path d=\"M0 0h24v24H0V0z\" fill=\"none\"/>\n",
              "    <path d=\"M18.56 5.44l.94 2.06.94-2.06 2.06-.94-2.06-.94-.94-2.06-.94 2.06-2.06.94zm-11 1L8.5 8.5l.94-2.06 2.06-.94-2.06-.94L8.5 2.5l-.94 2.06-2.06.94zm10 10l.94 2.06.94-2.06 2.06-.94-2.06-.94-.94-2.06-.94 2.06-2.06.94z\"/><path d=\"M17.41 7.96l-1.37-1.37c-.4-.4-.92-.59-1.43-.59-.52 0-1.04.2-1.43.59L10.3 9.45l-7.72 7.72c-.78.78-.78 2.05 0 2.83L4 21.41c.39.39.9.59 1.41.59.51 0 1.02-.2 1.41-.59l7.78-7.78 2.81-2.81c.8-.78.8-2.07 0-2.86zM5.41 20L4 18.59l7.72-7.72 1.47 1.35L5.41 20z\"/>\n",
              "  </svg>\n",
              "      </button>\n",
              "      \n",
              "  <style>\n",
              "    .colab-df-container {\n",
              "      display:flex;\n",
              "      flex-wrap:wrap;\n",
              "      gap: 12px;\n",
              "    }\n",
              "\n",
              "    .colab-df-convert {\n",
              "      background-color: #E8F0FE;\n",
              "      border: none;\n",
              "      border-radius: 50%;\n",
              "      cursor: pointer;\n",
              "      display: none;\n",
              "      fill: #1967D2;\n",
              "      height: 32px;\n",
              "      padding: 0 0 0 0;\n",
              "      width: 32px;\n",
              "    }\n",
              "\n",
              "    .colab-df-convert:hover {\n",
              "      background-color: #E2EBFA;\n",
              "      box-shadow: 0px 1px 2px rgba(60, 64, 67, 0.3), 0px 1px 3px 1px rgba(60, 64, 67, 0.15);\n",
              "      fill: #174EA6;\n",
              "    }\n",
              "\n",
              "    [theme=dark] .colab-df-convert {\n",
              "      background-color: #3B4455;\n",
              "      fill: #D2E3FC;\n",
              "    }\n",
              "\n",
              "    [theme=dark] .colab-df-convert:hover {\n",
              "      background-color: #434B5C;\n",
              "      box-shadow: 0px 1px 3px 1px rgba(0, 0, 0, 0.15);\n",
              "      filter: drop-shadow(0px 1px 2px rgba(0, 0, 0, 0.3));\n",
              "      fill: #FFFFFF;\n",
              "    }\n",
              "  </style>\n",
              "\n",
              "      <script>\n",
              "        const buttonEl =\n",
              "          document.querySelector('#df-66a379fa-116d-4601-a46c-be292cc7f400 button.colab-df-convert');\n",
              "        buttonEl.style.display =\n",
              "          google.colab.kernel.accessAllowed ? 'block' : 'none';\n",
              "\n",
              "        async function convertToInteractive(key) {\n",
              "          const element = document.querySelector('#df-66a379fa-116d-4601-a46c-be292cc7f400');\n",
              "          const dataTable =\n",
              "            await google.colab.kernel.invokeFunction('convertToInteractive',\n",
              "                                                     [key], {});\n",
              "          if (!dataTable) return;\n",
              "\n",
              "          const docLinkHtml = 'Like what you see? Visit the ' +\n",
              "            '<a target=\"_blank\" href=https://colab.research.google.com/notebooks/data_table.ipynb>data table notebook</a>'\n",
              "            + ' to learn more about interactive tables.';\n",
              "          element.innerHTML = '';\n",
              "          dataTable['output_type'] = 'display_data';\n",
              "          await google.colab.output.renderOutput(dataTable, element);\n",
              "          const docLink = document.createElement('div');\n",
              "          docLink.innerHTML = docLinkHtml;\n",
              "          element.appendChild(docLink);\n",
              "        }\n",
              "      </script>\n",
              "    </div>\n",
              "  </div>\n",
              "  "
            ]
          },
          "metadata": {},
          "execution_count": 205
        }
      ]
    },
    {
      "cell_type": "code",
      "source": [
        "ratio_list = ratios.columns\n",
        "inf_dict={}\n",
        "for ratio in ratio_list:\n",
        "  infinite = np.isinf(ratios[ratio]).values.sum()\n",
        "  inf_dict[ratio] = infinite"
      ],
      "metadata": {
        "id": "p3tH5xsufcck"
      },
      "execution_count": null,
      "outputs": []
    },
    {
      "cell_type": "code",
      "source": [
        "inf_dict"
      ],
      "metadata": {
        "colab": {
          "base_uri": "https://localhost:8080/"
        },
        "id": "50misbGpf9V9",
        "outputId": "ad76d2bb-f71d-47c6-bdf9-9431f7cf620e"
      },
      "execution_count": null,
      "outputs": [
        {
          "output_type": "execute_result",
          "data": {
            "text/plain": [
              "{'ROA': 0,\n",
              " 'ROE': 0,\n",
              " 'asset_turnover_ratio': 0,\n",
              " 'book/price': 0,\n",
              " 'cash_ratio': 0,\n",
              " 'current_ratio': 0,\n",
              " 'debt_to_equity': 0,\n",
              " 'e/p': 0,\n",
              " 'ebit/p': 0,\n",
              " 'gross_profit_margin': 0,\n",
              " 'inventory_turnover_ratio': 514,\n",
              " 'net_profit_margin': 17,\n",
              " 'quick_ratio': 0,\n",
              " 'sale/p': 0}"
            ]
          },
          "metadata": {},
          "execution_count": 220
        }
      ]
    },
    {
      "cell_type": "code",
      "source": [
        "# Replace infinite values to missing values to handle it\n",
        "ratios.replace([np.inf, -np.inf], np.nan, inplace=True)"
      ],
      "metadata": {
        "id": "B7BQMqLK6TZ6"
      },
      "execution_count": null,
      "outputs": []
    },
    {
      "cell_type": "markdown",
      "source": [
        "### Handle missing values in ratios\n",
        "* 17 missing values in gross profit margin\n",
        "* 14 missing values in iventory turnover ratio\n",
        "* It is because both numerator and denominator are 0 for these values\n",
        "* As we can see tables below, 'cogs', 'invt', 'sale' are 0 in this case\n",
        "* Therefore, I will fill mean, instead of dropping missing values, to preserve other columns"
      ],
      "metadata": {
        "id": "qiU-ExoX0Xvk"
      }
    },
    {
      "cell_type": "code",
      "source": [
        "ratios.isna().sum()"
      ],
      "metadata": {
        "colab": {
          "base_uri": "https://localhost:8080/"
        },
        "id": "m2iGJrPM0oFp",
        "outputId": "a07dad9f-e796-491e-f516-a36effb7d480"
      },
      "execution_count": null,
      "outputs": [
        {
          "output_type": "execute_result",
          "data": {
            "text/plain": [
              "ROA                           0\n",
              "asset_turnover_ratio          0\n",
              "net_profit_margin            17\n",
              "gross_profit_margin          17\n",
              "current_ratio                 0\n",
              "ROE                           0\n",
              "book/price                    0\n",
              "e/p                           0\n",
              "ebit/p                        0\n",
              "sale/p                        0\n",
              "quick_ratio                   0\n",
              "debt_to_equity                0\n",
              "inventory_turnover_ratio    528\n",
              "cash_ratio                    0\n",
              "dtype: int64"
            ]
          },
          "metadata": {},
          "execution_count": 222
        }
      ]
    },
    {
      "cell_type": "code",
      "source": [
        "avg_gross_profit_margin = ratios.gross_profit_margin.dropna().mean()\n",
        "avg_inventory_turnover_ratio = ratios.inventory_turnover_ratio.dropna().mean()\n",
        "avg_net_profit_margin = ratios.net_profit_margin.dropna().mean()\n",
        "print(avg_gross_profit_margin)\n",
        "print(avg_inventory_turnover_ratio)\n",
        "print(avg_net_profit_margin)"
      ],
      "metadata": {
        "colab": {
          "base_uri": "https://localhost:8080/"
        },
        "id": "U1Zl3Csa3pGC",
        "outputId": "bc35f4a0-1f69-4175-dac8-9c4dc384ce2d"
      },
      "execution_count": null,
      "outputs": [
        {
          "output_type": "stream",
          "name": "stdout",
          "text": [
            "-0.3634883626961332\n",
            "18.036036903411357\n",
            "-1.3743654237875533\n"
          ]
        }
      ]
    },
    {
      "cell_type": "code",
      "source": [
        "ratios[['gross_profit_margin']] = ratios[['gross_profit_margin']].fillna(avg_gross_profit_margin)\n",
        "ratios[['inventory_turnover_ratio']] = ratios[['inventory_turnover_ratio']].fillna(avg_inventory_turnover_ratio)\n",
        "ratios[['net_profit_margin']] = ratios[['net_profit_margin']].fillna(avg_net_profit_margin)"
      ],
      "metadata": {
        "id": "aJgql3usVqgC"
      },
      "execution_count": null,
      "outputs": []
    },
    {
      "cell_type": "code",
      "source": [
        "ratios.isna().sum()"
      ],
      "metadata": {
        "colab": {
          "base_uri": "https://localhost:8080/"
        },
        "id": "NwdiscFG4HES",
        "outputId": "c3df3172-747c-469e-dce2-0d33124aae5b"
      },
      "execution_count": null,
      "outputs": [
        {
          "output_type": "execute_result",
          "data": {
            "text/plain": [
              "ROA                         0\n",
              "asset_turnover_ratio        0\n",
              "net_profit_margin           0\n",
              "gross_profit_margin         0\n",
              "current_ratio               0\n",
              "ROE                         0\n",
              "book/price                  0\n",
              "e/p                         0\n",
              "ebit/p                      0\n",
              "sale/p                      0\n",
              "quick_ratio                 0\n",
              "debt_to_equity              0\n",
              "inventory_turnover_ratio    0\n",
              "cash_ratio                  0\n",
              "dtype: int64"
            ]
          },
          "metadata": {},
          "execution_count": 225
        }
      ]
    },
    {
      "cell_type": "markdown",
      "source": [
        "#### Closer look at the missing values\n",
        "* Most of the missing values came from gsector 35; Health Care, ggroup 3520; Pharmaceuticals, Biotechnology & Life Sciences\n",
        "* Usually pharmaceutical companies are huge R&D based and don't have a lot of stocks. Also, it might be the case that some pharmaceutical companies are in stage of R&D, and not selling products yet."
      ],
      "metadata": {
        "id": "rKiojEvVj6Wv"
      }
    },
    {
      "cell_type": "code",
      "source": [
        "finance[finance['inventory_turnover_ratio'].isna()][['cogs','invt','TICKER']].transpose()"
      ],
      "metadata": {
        "colab": {
          "base_uri": "https://localhost:8080/",
          "height": 143
        },
        "id": "Z-C4TMo8VOZq",
        "outputId": "9db245da-af0e-4bba-d787-97be9d724119"
      },
      "execution_count": null,
      "outputs": [
        {
          "output_type": "execute_result",
          "data": {
            "text/plain": [
              "        673   737   755  772   793   978   988   1025  1109  1252  1634  1766  \\\n",
              "cogs     0.0   0.0   0.0  0.0   0.0   0.0   0.0   0.0   0.0   0.0   0.0   0.0   \n",
              "invt     0.0   0.0   0.0  0.0   0.0   0.0   0.0   0.0   0.0   0.0   0.0   0.0   \n",
              "TICKER  AGIO  CBAY  ALDX   NG  VKTX  KURA  AXSM  MDGL  KALV  SPPI  AVXL  OMER   \n",
              "\n",
              "        1817  1864  \n",
              "cogs     0.0   0.0  \n",
              "invt     0.0   0.0  \n",
              "TICKER  ATOS  TNXP  "
            ],
            "text/html": [
              "\n",
              "  <div id=\"df-e3c2348a-773d-4f70-b69d-b4eb6b513747\">\n",
              "    <div class=\"colab-df-container\">\n",
              "      <div>\n",
              "<style scoped>\n",
              "    .dataframe tbody tr th:only-of-type {\n",
              "        vertical-align: middle;\n",
              "    }\n",
              "\n",
              "    .dataframe tbody tr th {\n",
              "        vertical-align: top;\n",
              "    }\n",
              "\n",
              "    .dataframe thead th {\n",
              "        text-align: right;\n",
              "    }\n",
              "</style>\n",
              "<table border=\"1\" class=\"dataframe\">\n",
              "  <thead>\n",
              "    <tr style=\"text-align: right;\">\n",
              "      <th></th>\n",
              "      <th>673</th>\n",
              "      <th>737</th>\n",
              "      <th>755</th>\n",
              "      <th>772</th>\n",
              "      <th>793</th>\n",
              "      <th>978</th>\n",
              "      <th>988</th>\n",
              "      <th>1025</th>\n",
              "      <th>1109</th>\n",
              "      <th>1252</th>\n",
              "      <th>1634</th>\n",
              "      <th>1766</th>\n",
              "      <th>1817</th>\n",
              "      <th>1864</th>\n",
              "    </tr>\n",
              "  </thead>\n",
              "  <tbody>\n",
              "    <tr>\n",
              "      <th>cogs</th>\n",
              "      <td>0.0</td>\n",
              "      <td>0.0</td>\n",
              "      <td>0.0</td>\n",
              "      <td>0.0</td>\n",
              "      <td>0.0</td>\n",
              "      <td>0.0</td>\n",
              "      <td>0.0</td>\n",
              "      <td>0.0</td>\n",
              "      <td>0.0</td>\n",
              "      <td>0.0</td>\n",
              "      <td>0.0</td>\n",
              "      <td>0.0</td>\n",
              "      <td>0.0</td>\n",
              "      <td>0.0</td>\n",
              "    </tr>\n",
              "    <tr>\n",
              "      <th>invt</th>\n",
              "      <td>0.0</td>\n",
              "      <td>0.0</td>\n",
              "      <td>0.0</td>\n",
              "      <td>0.0</td>\n",
              "      <td>0.0</td>\n",
              "      <td>0.0</td>\n",
              "      <td>0.0</td>\n",
              "      <td>0.0</td>\n",
              "      <td>0.0</td>\n",
              "      <td>0.0</td>\n",
              "      <td>0.0</td>\n",
              "      <td>0.0</td>\n",
              "      <td>0.0</td>\n",
              "      <td>0.0</td>\n",
              "    </tr>\n",
              "    <tr>\n",
              "      <th>TICKER</th>\n",
              "      <td>AGIO</td>\n",
              "      <td>CBAY</td>\n",
              "      <td>ALDX</td>\n",
              "      <td>NG</td>\n",
              "      <td>VKTX</td>\n",
              "      <td>KURA</td>\n",
              "      <td>AXSM</td>\n",
              "      <td>MDGL</td>\n",
              "      <td>KALV</td>\n",
              "      <td>SPPI</td>\n",
              "      <td>AVXL</td>\n",
              "      <td>OMER</td>\n",
              "      <td>ATOS</td>\n",
              "      <td>TNXP</td>\n",
              "    </tr>\n",
              "  </tbody>\n",
              "</table>\n",
              "</div>\n",
              "      <button class=\"colab-df-convert\" onclick=\"convertToInteractive('df-e3c2348a-773d-4f70-b69d-b4eb6b513747')\"\n",
              "              title=\"Convert this dataframe to an interactive table.\"\n",
              "              style=\"display:none;\">\n",
              "        \n",
              "  <svg xmlns=\"http://www.w3.org/2000/svg\" height=\"24px\"viewBox=\"0 0 24 24\"\n",
              "       width=\"24px\">\n",
              "    <path d=\"M0 0h24v24H0V0z\" fill=\"none\"/>\n",
              "    <path d=\"M18.56 5.44l.94 2.06.94-2.06 2.06-.94-2.06-.94-.94-2.06-.94 2.06-2.06.94zm-11 1L8.5 8.5l.94-2.06 2.06-.94-2.06-.94L8.5 2.5l-.94 2.06-2.06.94zm10 10l.94 2.06.94-2.06 2.06-.94-2.06-.94-.94-2.06-.94 2.06-2.06.94z\"/><path d=\"M17.41 7.96l-1.37-1.37c-.4-.4-.92-.59-1.43-.59-.52 0-1.04.2-1.43.59L10.3 9.45l-7.72 7.72c-.78.78-.78 2.05 0 2.83L4 21.41c.39.39.9.59 1.41.59.51 0 1.02-.2 1.41-.59l7.78-7.78 2.81-2.81c.8-.78.8-2.07 0-2.86zM5.41 20L4 18.59l7.72-7.72 1.47 1.35L5.41 20z\"/>\n",
              "  </svg>\n",
              "      </button>\n",
              "      \n",
              "  <style>\n",
              "    .colab-df-container {\n",
              "      display:flex;\n",
              "      flex-wrap:wrap;\n",
              "      gap: 12px;\n",
              "    }\n",
              "\n",
              "    .colab-df-convert {\n",
              "      background-color: #E8F0FE;\n",
              "      border: none;\n",
              "      border-radius: 50%;\n",
              "      cursor: pointer;\n",
              "      display: none;\n",
              "      fill: #1967D2;\n",
              "      height: 32px;\n",
              "      padding: 0 0 0 0;\n",
              "      width: 32px;\n",
              "    }\n",
              "\n",
              "    .colab-df-convert:hover {\n",
              "      background-color: #E2EBFA;\n",
              "      box-shadow: 0px 1px 2px rgba(60, 64, 67, 0.3), 0px 1px 3px 1px rgba(60, 64, 67, 0.15);\n",
              "      fill: #174EA6;\n",
              "    }\n",
              "\n",
              "    [theme=dark] .colab-df-convert {\n",
              "      background-color: #3B4455;\n",
              "      fill: #D2E3FC;\n",
              "    }\n",
              "\n",
              "    [theme=dark] .colab-df-convert:hover {\n",
              "      background-color: #434B5C;\n",
              "      box-shadow: 0px 1px 3px 1px rgba(0, 0, 0, 0.15);\n",
              "      filter: drop-shadow(0px 1px 2px rgba(0, 0, 0, 0.3));\n",
              "      fill: #FFFFFF;\n",
              "    }\n",
              "  </style>\n",
              "\n",
              "      <script>\n",
              "        const buttonEl =\n",
              "          document.querySelector('#df-e3c2348a-773d-4f70-b69d-b4eb6b513747 button.colab-df-convert');\n",
              "        buttonEl.style.display =\n",
              "          google.colab.kernel.accessAllowed ? 'block' : 'none';\n",
              "\n",
              "        async function convertToInteractive(key) {\n",
              "          const element = document.querySelector('#df-e3c2348a-773d-4f70-b69d-b4eb6b513747');\n",
              "          const dataTable =\n",
              "            await google.colab.kernel.invokeFunction('convertToInteractive',\n",
              "                                                     [key], {});\n",
              "          if (!dataTable) return;\n",
              "\n",
              "          const docLinkHtml = 'Like what you see? Visit the ' +\n",
              "            '<a target=\"_blank\" href=https://colab.research.google.com/notebooks/data_table.ipynb>data table notebook</a>'\n",
              "            + ' to learn more about interactive tables.';\n",
              "          element.innerHTML = '';\n",
              "          dataTable['output_type'] = 'display_data';\n",
              "          await google.colab.output.renderOutput(dataTable, element);\n",
              "          const docLink = document.createElement('div');\n",
              "          docLink.innerHTML = docLinkHtml;\n",
              "          element.appendChild(docLink);\n",
              "        }\n",
              "      </script>\n",
              "    </div>\n",
              "  </div>\n",
              "  "
            ]
          },
          "metadata": {},
          "execution_count": 89
        }
      ]
    },
    {
      "cell_type": "code",
      "source": [
        "finance[finance['inventory_turnover_ratio'].isna()][['cogs','invt','TICKER']].TICKER.unique()"
      ],
      "metadata": {
        "colab": {
          "base_uri": "https://localhost:8080/"
        },
        "id": "HQKAob2LjduC",
        "outputId": "6f58b54f-7246-402a-ba7e-8446cdb22709"
      },
      "execution_count": null,
      "outputs": [
        {
          "output_type": "execute_result",
          "data": {
            "text/plain": [
              "array(['AGIO', 'CBAY', 'ALDX', 'NG', 'VKTX', 'KURA', 'AXSM', 'MDGL',\n",
              "       'KALV', 'SPPI', 'AVXL', 'OMER', 'ATOS', 'TNXP'], dtype=object)"
            ]
          },
          "metadata": {},
          "execution_count": 98
        }
      ]
    },
    {
      "cell_type": "code",
      "source": [
        "gics[gics.TICKER.isin(['AGIO', 'CBAY', 'ALDX', 'NG', 'VKTX', 'KURA', 'AXSM', 'MDGL',\n",
        "       'KALV', 'SPPI', 'AVXL', 'OMER', 'ATOS', 'TNXP'])]"
      ],
      "metadata": {
        "colab": {
          "base_uri": "https://localhost:8080/",
          "height": 488
        },
        "id": "D8WW6ZvojTyB",
        "outputId": "e9aa2812-d0cf-48c3-b35a-b79002714ecd"
      },
      "execution_count": null,
      "outputs": [
        {
          "output_type": "execute_result",
          "data": {
            "text/plain": [
              "     TICKER  RetYTD  datadate  fyear  fyr  ggroup    gind  gsector   gsubind\n",
              "50     AGIO -0.1512  20211231   2021   12    3520  352010       35  35201010\n",
              "74     ALDX  0.1400  20211231   2021   12    3520  352010       35  35201010\n",
              "173    ATOS -0.3063  20211231   2021   12    3520  352010       35  35201010\n",
              "190    AVXL -0.3599  20210930   2021    9    3520  352010       35  35201010\n",
              "199    AXSM -0.0244  20211231   2021   12    3520  352020       35  35202010\n",
              "311    CBAY -0.0828  20211231   2021   12    3520  352020       35  35202010\n",
              "960    KALV  0.0854  20210430   2020    4    3520  352010       35  35201010\n",
              "997    KURA  0.1521  20211231   2021   12    3520  352010       35  35201010\n",
              "1095   MDGL -0.0622  20211231   2021   12    3520  352010       35  35201010\n",
              "1206     NG  0.1953  20211130   2021   11    1510  151040       15  15104030\n",
              "1295   OMER -0.2006  20211231   2021   12    3520  352020       35  35202010\n",
              "1578   SPPI -0.2361  20211231   2021   12    3520  352010       35  35201010\n",
              "1672   TNXP -0.4747  20211231   2021   12    3520  352010       35  35201010\n",
              "1780   VKTX -0.4000  20211231   2021   12    3520  352010       35  35201010"
            ],
            "text/html": [
              "\n",
              "  <div id=\"df-f2a8d0fd-5067-478a-908d-aa4c423e50b7\">\n",
              "    <div class=\"colab-df-container\">\n",
              "      <div>\n",
              "<style scoped>\n",
              "    .dataframe tbody tr th:only-of-type {\n",
              "        vertical-align: middle;\n",
              "    }\n",
              "\n",
              "    .dataframe tbody tr th {\n",
              "        vertical-align: top;\n",
              "    }\n",
              "\n",
              "    .dataframe thead th {\n",
              "        text-align: right;\n",
              "    }\n",
              "</style>\n",
              "<table border=\"1\" class=\"dataframe\">\n",
              "  <thead>\n",
              "    <tr style=\"text-align: right;\">\n",
              "      <th></th>\n",
              "      <th>TICKER</th>\n",
              "      <th>RetYTD</th>\n",
              "      <th>datadate</th>\n",
              "      <th>fyear</th>\n",
              "      <th>fyr</th>\n",
              "      <th>ggroup</th>\n",
              "      <th>gind</th>\n",
              "      <th>gsector</th>\n",
              "      <th>gsubind</th>\n",
              "    </tr>\n",
              "  </thead>\n",
              "  <tbody>\n",
              "    <tr>\n",
              "      <th>50</th>\n",
              "      <td>AGIO</td>\n",
              "      <td>-0.1512</td>\n",
              "      <td>20211231</td>\n",
              "      <td>2021</td>\n",
              "      <td>12</td>\n",
              "      <td>3520</td>\n",
              "      <td>352010</td>\n",
              "      <td>35</td>\n",
              "      <td>35201010</td>\n",
              "    </tr>\n",
              "    <tr>\n",
              "      <th>74</th>\n",
              "      <td>ALDX</td>\n",
              "      <td>0.1400</td>\n",
              "      <td>20211231</td>\n",
              "      <td>2021</td>\n",
              "      <td>12</td>\n",
              "      <td>3520</td>\n",
              "      <td>352010</td>\n",
              "      <td>35</td>\n",
              "      <td>35201010</td>\n",
              "    </tr>\n",
              "    <tr>\n",
              "      <th>173</th>\n",
              "      <td>ATOS</td>\n",
              "      <td>-0.3063</td>\n",
              "      <td>20211231</td>\n",
              "      <td>2021</td>\n",
              "      <td>12</td>\n",
              "      <td>3520</td>\n",
              "      <td>352010</td>\n",
              "      <td>35</td>\n",
              "      <td>35201010</td>\n",
              "    </tr>\n",
              "    <tr>\n",
              "      <th>190</th>\n",
              "      <td>AVXL</td>\n",
              "      <td>-0.3599</td>\n",
              "      <td>20210930</td>\n",
              "      <td>2021</td>\n",
              "      <td>9</td>\n",
              "      <td>3520</td>\n",
              "      <td>352010</td>\n",
              "      <td>35</td>\n",
              "      <td>35201010</td>\n",
              "    </tr>\n",
              "    <tr>\n",
              "      <th>199</th>\n",
              "      <td>AXSM</td>\n",
              "      <td>-0.0244</td>\n",
              "      <td>20211231</td>\n",
              "      <td>2021</td>\n",
              "      <td>12</td>\n",
              "      <td>3520</td>\n",
              "      <td>352020</td>\n",
              "      <td>35</td>\n",
              "      <td>35202010</td>\n",
              "    </tr>\n",
              "    <tr>\n",
              "      <th>311</th>\n",
              "      <td>CBAY</td>\n",
              "      <td>-0.0828</td>\n",
              "      <td>20211231</td>\n",
              "      <td>2021</td>\n",
              "      <td>12</td>\n",
              "      <td>3520</td>\n",
              "      <td>352020</td>\n",
              "      <td>35</td>\n",
              "      <td>35202010</td>\n",
              "    </tr>\n",
              "    <tr>\n",
              "      <th>960</th>\n",
              "      <td>KALV</td>\n",
              "      <td>0.0854</td>\n",
              "      <td>20210430</td>\n",
              "      <td>2020</td>\n",
              "      <td>4</td>\n",
              "      <td>3520</td>\n",
              "      <td>352010</td>\n",
              "      <td>35</td>\n",
              "      <td>35201010</td>\n",
              "    </tr>\n",
              "    <tr>\n",
              "      <th>997</th>\n",
              "      <td>KURA</td>\n",
              "      <td>0.1521</td>\n",
              "      <td>20211231</td>\n",
              "      <td>2021</td>\n",
              "      <td>12</td>\n",
              "      <td>3520</td>\n",
              "      <td>352010</td>\n",
              "      <td>35</td>\n",
              "      <td>35201010</td>\n",
              "    </tr>\n",
              "    <tr>\n",
              "      <th>1095</th>\n",
              "      <td>MDGL</td>\n",
              "      <td>-0.0622</td>\n",
              "      <td>20211231</td>\n",
              "      <td>2021</td>\n",
              "      <td>12</td>\n",
              "      <td>3520</td>\n",
              "      <td>352010</td>\n",
              "      <td>35</td>\n",
              "      <td>35201010</td>\n",
              "    </tr>\n",
              "    <tr>\n",
              "      <th>1206</th>\n",
              "      <td>NG</td>\n",
              "      <td>0.1953</td>\n",
              "      <td>20211130</td>\n",
              "      <td>2021</td>\n",
              "      <td>11</td>\n",
              "      <td>1510</td>\n",
              "      <td>151040</td>\n",
              "      <td>15</td>\n",
              "      <td>15104030</td>\n",
              "    </tr>\n",
              "    <tr>\n",
              "      <th>1295</th>\n",
              "      <td>OMER</td>\n",
              "      <td>-0.2006</td>\n",
              "      <td>20211231</td>\n",
              "      <td>2021</td>\n",
              "      <td>12</td>\n",
              "      <td>3520</td>\n",
              "      <td>352020</td>\n",
              "      <td>35</td>\n",
              "      <td>35202010</td>\n",
              "    </tr>\n",
              "    <tr>\n",
              "      <th>1578</th>\n",
              "      <td>SPPI</td>\n",
              "      <td>-0.2361</td>\n",
              "      <td>20211231</td>\n",
              "      <td>2021</td>\n",
              "      <td>12</td>\n",
              "      <td>3520</td>\n",
              "      <td>352010</td>\n",
              "      <td>35</td>\n",
              "      <td>35201010</td>\n",
              "    </tr>\n",
              "    <tr>\n",
              "      <th>1672</th>\n",
              "      <td>TNXP</td>\n",
              "      <td>-0.4747</td>\n",
              "      <td>20211231</td>\n",
              "      <td>2021</td>\n",
              "      <td>12</td>\n",
              "      <td>3520</td>\n",
              "      <td>352010</td>\n",
              "      <td>35</td>\n",
              "      <td>35201010</td>\n",
              "    </tr>\n",
              "    <tr>\n",
              "      <th>1780</th>\n",
              "      <td>VKTX</td>\n",
              "      <td>-0.4000</td>\n",
              "      <td>20211231</td>\n",
              "      <td>2021</td>\n",
              "      <td>12</td>\n",
              "      <td>3520</td>\n",
              "      <td>352010</td>\n",
              "      <td>35</td>\n",
              "      <td>35201010</td>\n",
              "    </tr>\n",
              "  </tbody>\n",
              "</table>\n",
              "</div>\n",
              "      <button class=\"colab-df-convert\" onclick=\"convertToInteractive('df-f2a8d0fd-5067-478a-908d-aa4c423e50b7')\"\n",
              "              title=\"Convert this dataframe to an interactive table.\"\n",
              "              style=\"display:none;\">\n",
              "        \n",
              "  <svg xmlns=\"http://www.w3.org/2000/svg\" height=\"24px\"viewBox=\"0 0 24 24\"\n",
              "       width=\"24px\">\n",
              "    <path d=\"M0 0h24v24H0V0z\" fill=\"none\"/>\n",
              "    <path d=\"M18.56 5.44l.94 2.06.94-2.06 2.06-.94-2.06-.94-.94-2.06-.94 2.06-2.06.94zm-11 1L8.5 8.5l.94-2.06 2.06-.94-2.06-.94L8.5 2.5l-.94 2.06-2.06.94zm10 10l.94 2.06.94-2.06 2.06-.94-2.06-.94-.94-2.06-.94 2.06-2.06.94z\"/><path d=\"M17.41 7.96l-1.37-1.37c-.4-.4-.92-.59-1.43-.59-.52 0-1.04.2-1.43.59L10.3 9.45l-7.72 7.72c-.78.78-.78 2.05 0 2.83L4 21.41c.39.39.9.59 1.41.59.51 0 1.02-.2 1.41-.59l7.78-7.78 2.81-2.81c.8-.78.8-2.07 0-2.86zM5.41 20L4 18.59l7.72-7.72 1.47 1.35L5.41 20z\"/>\n",
              "  </svg>\n",
              "      </button>\n",
              "      \n",
              "  <style>\n",
              "    .colab-df-container {\n",
              "      display:flex;\n",
              "      flex-wrap:wrap;\n",
              "      gap: 12px;\n",
              "    }\n",
              "\n",
              "    .colab-df-convert {\n",
              "      background-color: #E8F0FE;\n",
              "      border: none;\n",
              "      border-radius: 50%;\n",
              "      cursor: pointer;\n",
              "      display: none;\n",
              "      fill: #1967D2;\n",
              "      height: 32px;\n",
              "      padding: 0 0 0 0;\n",
              "      width: 32px;\n",
              "    }\n",
              "\n",
              "    .colab-df-convert:hover {\n",
              "      background-color: #E2EBFA;\n",
              "      box-shadow: 0px 1px 2px rgba(60, 64, 67, 0.3), 0px 1px 3px 1px rgba(60, 64, 67, 0.15);\n",
              "      fill: #174EA6;\n",
              "    }\n",
              "\n",
              "    [theme=dark] .colab-df-convert {\n",
              "      background-color: #3B4455;\n",
              "      fill: #D2E3FC;\n",
              "    }\n",
              "\n",
              "    [theme=dark] .colab-df-convert:hover {\n",
              "      background-color: #434B5C;\n",
              "      box-shadow: 0px 1px 3px 1px rgba(0, 0, 0, 0.15);\n",
              "      filter: drop-shadow(0px 1px 2px rgba(0, 0, 0, 0.3));\n",
              "      fill: #FFFFFF;\n",
              "    }\n",
              "  </style>\n",
              "\n",
              "      <script>\n",
              "        const buttonEl =\n",
              "          document.querySelector('#df-f2a8d0fd-5067-478a-908d-aa4c423e50b7 button.colab-df-convert');\n",
              "        buttonEl.style.display =\n",
              "          google.colab.kernel.accessAllowed ? 'block' : 'none';\n",
              "\n",
              "        async function convertToInteractive(key) {\n",
              "          const element = document.querySelector('#df-f2a8d0fd-5067-478a-908d-aa4c423e50b7');\n",
              "          const dataTable =\n",
              "            await google.colab.kernel.invokeFunction('convertToInteractive',\n",
              "                                                     [key], {});\n",
              "          if (!dataTable) return;\n",
              "\n",
              "          const docLinkHtml = 'Like what you see? Visit the ' +\n",
              "            '<a target=\"_blank\" href=https://colab.research.google.com/notebooks/data_table.ipynb>data table notebook</a>'\n",
              "            + ' to learn more about interactive tables.';\n",
              "          element.innerHTML = '';\n",
              "          dataTable['output_type'] = 'display_data';\n",
              "          await google.colab.output.renderOutput(dataTable, element);\n",
              "          const docLink = document.createElement('div');\n",
              "          docLink.innerHTML = docLinkHtml;\n",
              "          element.appendChild(docLink);\n",
              "        }\n",
              "      </script>\n",
              "    </div>\n",
              "  </div>\n",
              "  "
            ]
          },
          "metadata": {},
          "execution_count": 100
        }
      ]
    },
    {
      "cell_type": "code",
      "source": [
        "finance[finance['gross_profit_margin'].isna()][['cogs','sale','TICKER']].transpose()"
      ],
      "metadata": {
        "colab": {
          "base_uri": "https://localhost:8080/",
          "height": 143
        },
        "id": "3CDbGa7jPTqW",
        "outputId": "466f01bf-0510-4e32-de44-d1870f2c6d69"
      },
      "execution_count": null,
      "outputs": [
        {
          "output_type": "execute_result",
          "data": {
            "text/plain": [
              "       515   673   737   755  772   793   978   988   1025  1109  1252 1628  \\\n",
              "cogs    0.0   0.0   0.0   0.0  0.0   0.0   0.0   0.0   0.0   0.0   0.0  0.0   \n",
              "sale    0.0   0.0   0.0   0.0  0.0   0.0   0.0   0.0   0.0   0.0   0.0  0.0   \n",
              "TICKER  CVM  AGIO  CBAY  ALDX   NG  VKTX  KURA  AXSM  MDGL  KALV  SPPI  UEC   \n",
              "\n",
              "        1634  1766  1788  1817  1864  \n",
              "cogs     0.0   0.0   0.0   0.0   0.0  \n",
              "sale     0.0   0.0   0.0   0.0   0.0  \n",
              "TICKER  AVXL  OMER  AMPE  ATOS  TNXP  "
            ],
            "text/html": [
              "\n",
              "  <div id=\"df-eec68088-3cf7-455e-9af8-25a4045ac4ff\">\n",
              "    <div class=\"colab-df-container\">\n",
              "      <div>\n",
              "<style scoped>\n",
              "    .dataframe tbody tr th:only-of-type {\n",
              "        vertical-align: middle;\n",
              "    }\n",
              "\n",
              "    .dataframe tbody tr th {\n",
              "        vertical-align: top;\n",
              "    }\n",
              "\n",
              "    .dataframe thead th {\n",
              "        text-align: right;\n",
              "    }\n",
              "</style>\n",
              "<table border=\"1\" class=\"dataframe\">\n",
              "  <thead>\n",
              "    <tr style=\"text-align: right;\">\n",
              "      <th></th>\n",
              "      <th>515</th>\n",
              "      <th>673</th>\n",
              "      <th>737</th>\n",
              "      <th>755</th>\n",
              "      <th>772</th>\n",
              "      <th>793</th>\n",
              "      <th>978</th>\n",
              "      <th>988</th>\n",
              "      <th>1025</th>\n",
              "      <th>1109</th>\n",
              "      <th>1252</th>\n",
              "      <th>1628</th>\n",
              "      <th>1634</th>\n",
              "      <th>1766</th>\n",
              "      <th>1788</th>\n",
              "      <th>1817</th>\n",
              "      <th>1864</th>\n",
              "    </tr>\n",
              "  </thead>\n",
              "  <tbody>\n",
              "    <tr>\n",
              "      <th>cogs</th>\n",
              "      <td>0.0</td>\n",
              "      <td>0.0</td>\n",
              "      <td>0.0</td>\n",
              "      <td>0.0</td>\n",
              "      <td>0.0</td>\n",
              "      <td>0.0</td>\n",
              "      <td>0.0</td>\n",
              "      <td>0.0</td>\n",
              "      <td>0.0</td>\n",
              "      <td>0.0</td>\n",
              "      <td>0.0</td>\n",
              "      <td>0.0</td>\n",
              "      <td>0.0</td>\n",
              "      <td>0.0</td>\n",
              "      <td>0.0</td>\n",
              "      <td>0.0</td>\n",
              "      <td>0.0</td>\n",
              "    </tr>\n",
              "    <tr>\n",
              "      <th>sale</th>\n",
              "      <td>0.0</td>\n",
              "      <td>0.0</td>\n",
              "      <td>0.0</td>\n",
              "      <td>0.0</td>\n",
              "      <td>0.0</td>\n",
              "      <td>0.0</td>\n",
              "      <td>0.0</td>\n",
              "      <td>0.0</td>\n",
              "      <td>0.0</td>\n",
              "      <td>0.0</td>\n",
              "      <td>0.0</td>\n",
              "      <td>0.0</td>\n",
              "      <td>0.0</td>\n",
              "      <td>0.0</td>\n",
              "      <td>0.0</td>\n",
              "      <td>0.0</td>\n",
              "      <td>0.0</td>\n",
              "    </tr>\n",
              "    <tr>\n",
              "      <th>TICKER</th>\n",
              "      <td>CVM</td>\n",
              "      <td>AGIO</td>\n",
              "      <td>CBAY</td>\n",
              "      <td>ALDX</td>\n",
              "      <td>NG</td>\n",
              "      <td>VKTX</td>\n",
              "      <td>KURA</td>\n",
              "      <td>AXSM</td>\n",
              "      <td>MDGL</td>\n",
              "      <td>KALV</td>\n",
              "      <td>SPPI</td>\n",
              "      <td>UEC</td>\n",
              "      <td>AVXL</td>\n",
              "      <td>OMER</td>\n",
              "      <td>AMPE</td>\n",
              "      <td>ATOS</td>\n",
              "      <td>TNXP</td>\n",
              "    </tr>\n",
              "  </tbody>\n",
              "</table>\n",
              "</div>\n",
              "      <button class=\"colab-df-convert\" onclick=\"convertToInteractive('df-eec68088-3cf7-455e-9af8-25a4045ac4ff')\"\n",
              "              title=\"Convert this dataframe to an interactive table.\"\n",
              "              style=\"display:none;\">\n",
              "        \n",
              "  <svg xmlns=\"http://www.w3.org/2000/svg\" height=\"24px\"viewBox=\"0 0 24 24\"\n",
              "       width=\"24px\">\n",
              "    <path d=\"M0 0h24v24H0V0z\" fill=\"none\"/>\n",
              "    <path d=\"M18.56 5.44l.94 2.06.94-2.06 2.06-.94-2.06-.94-.94-2.06-.94 2.06-2.06.94zm-11 1L8.5 8.5l.94-2.06 2.06-.94-2.06-.94L8.5 2.5l-.94 2.06-2.06.94zm10 10l.94 2.06.94-2.06 2.06-.94-2.06-.94-.94-2.06-.94 2.06-2.06.94z\"/><path d=\"M17.41 7.96l-1.37-1.37c-.4-.4-.92-.59-1.43-.59-.52 0-1.04.2-1.43.59L10.3 9.45l-7.72 7.72c-.78.78-.78 2.05 0 2.83L4 21.41c.39.39.9.59 1.41.59.51 0 1.02-.2 1.41-.59l7.78-7.78 2.81-2.81c.8-.78.8-2.07 0-2.86zM5.41 20L4 18.59l7.72-7.72 1.47 1.35L5.41 20z\"/>\n",
              "  </svg>\n",
              "      </button>\n",
              "      \n",
              "  <style>\n",
              "    .colab-df-container {\n",
              "      display:flex;\n",
              "      flex-wrap:wrap;\n",
              "      gap: 12px;\n",
              "    }\n",
              "\n",
              "    .colab-df-convert {\n",
              "      background-color: #E8F0FE;\n",
              "      border: none;\n",
              "      border-radius: 50%;\n",
              "      cursor: pointer;\n",
              "      display: none;\n",
              "      fill: #1967D2;\n",
              "      height: 32px;\n",
              "      padding: 0 0 0 0;\n",
              "      width: 32px;\n",
              "    }\n",
              "\n",
              "    .colab-df-convert:hover {\n",
              "      background-color: #E2EBFA;\n",
              "      box-shadow: 0px 1px 2px rgba(60, 64, 67, 0.3), 0px 1px 3px 1px rgba(60, 64, 67, 0.15);\n",
              "      fill: #174EA6;\n",
              "    }\n",
              "\n",
              "    [theme=dark] .colab-df-convert {\n",
              "      background-color: #3B4455;\n",
              "      fill: #D2E3FC;\n",
              "    }\n",
              "\n",
              "    [theme=dark] .colab-df-convert:hover {\n",
              "      background-color: #434B5C;\n",
              "      box-shadow: 0px 1px 3px 1px rgba(0, 0, 0, 0.15);\n",
              "      filter: drop-shadow(0px 1px 2px rgba(0, 0, 0, 0.3));\n",
              "      fill: #FFFFFF;\n",
              "    }\n",
              "  </style>\n",
              "\n",
              "      <script>\n",
              "        const buttonEl =\n",
              "          document.querySelector('#df-eec68088-3cf7-455e-9af8-25a4045ac4ff button.colab-df-convert');\n",
              "        buttonEl.style.display =\n",
              "          google.colab.kernel.accessAllowed ? 'block' : 'none';\n",
              "\n",
              "        async function convertToInteractive(key) {\n",
              "          const element = document.querySelector('#df-eec68088-3cf7-455e-9af8-25a4045ac4ff');\n",
              "          const dataTable =\n",
              "            await google.colab.kernel.invokeFunction('convertToInteractive',\n",
              "                                                     [key], {});\n",
              "          if (!dataTable) return;\n",
              "\n",
              "          const docLinkHtml = 'Like what you see? Visit the ' +\n",
              "            '<a target=\"_blank\" href=https://colab.research.google.com/notebooks/data_table.ipynb>data table notebook</a>'\n",
              "            + ' to learn more about interactive tables.';\n",
              "          element.innerHTML = '';\n",
              "          dataTable['output_type'] = 'display_data';\n",
              "          await google.colab.output.renderOutput(dataTable, element);\n",
              "          const docLink = document.createElement('div');\n",
              "          docLink.innerHTML = docLinkHtml;\n",
              "          element.appendChild(docLink);\n",
              "        }\n",
              "      </script>\n",
              "    </div>\n",
              "  </div>\n",
              "  "
            ]
          },
          "metadata": {},
          "execution_count": 90
        }
      ]
    },
    {
      "cell_type": "code",
      "source": [
        "finance[finance['gross_profit_margin'].isna()][['cogs','sale','TICKER']].TICKER.unique()"
      ],
      "metadata": {
        "colab": {
          "base_uri": "https://localhost:8080/"
        },
        "id": "2hplXegMjvZK",
        "outputId": "a81498e8-23d8-4386-9848-03ef0f8ded71"
      },
      "execution_count": null,
      "outputs": [
        {
          "output_type": "execute_result",
          "data": {
            "text/plain": [
              "array(['CVM', 'AGIO', 'CBAY', 'ALDX', 'NG', 'VKTX', 'KURA', 'AXSM',\n",
              "       'MDGL', 'KALV', 'SPPI', 'UEC', 'AVXL', 'OMER', 'AMPE', 'ATOS',\n",
              "       'TNXP'], dtype=object)"
            ]
          },
          "metadata": {},
          "execution_count": 101
        }
      ]
    },
    {
      "cell_type": "code",
      "source": [
        "gics[gics.TICKER.isin(['CVM', 'AGIO', 'CBAY', 'ALDX', 'NG', 'VKTX', 'KURA', 'AXSM',\n",
        "       'MDGL', 'KALV', 'SPPI', 'UEC', 'AVXL', 'OMER', 'AMPE', 'ATOS',\n",
        "       'TNXP'])]"
      ],
      "metadata": {
        "colab": {
          "base_uri": "https://localhost:8080/",
          "height": 582
        },
        "id": "pOkOgU0UkHvX",
        "outputId": "73fa00aa-f356-4be1-801f-ce6bfb93e20e"
      },
      "execution_count": null,
      "outputs": [
        {
          "output_type": "execute_result",
          "data": {
            "text/plain": [
              "     TICKER  RetYTD  datadate  fyear  fyr  ggroup    gind  gsector   gsubind\n",
              "50     AGIO -0.1512  20211231   2021   12    3520  352010       35  35201010\n",
              "74     ALDX  0.1400  20211231   2021   12    3520  352010       35  35201010\n",
              "105    AMPE -0.2982  20211231   2021   12    3520  352020       35  35202010\n",
              "173    ATOS -0.3063  20211231   2021   12    3520  352010       35  35201010\n",
              "190    AVXL -0.3599  20210930   2021    9    3520  352010       35  35201010\n",
              "199    AXSM -0.0244  20211231   2021   12    3520  352020       35  35202010\n",
              "311    CBAY -0.0828  20211231   2021   12    3520  352020       35  35202010\n",
              "476     CVM -0.5352  20210930   2021    9    3520  352010       35  35201010\n",
              "960    KALV  0.0854  20210430   2020    4    3520  352010       35  35201010\n",
              "997    KURA  0.1521  20211231   2021   12    3520  352010       35  35201010\n",
              "1095   MDGL -0.0622  20211231   2021   12    3520  352010       35  35201010\n",
              "1206     NG  0.1953  20211130   2021   11    1510  151040       15  15104030\n",
              "1295   OMER -0.2006  20211231   2021   12    3520  352020       35  35202010\n",
              "1578   SPPI -0.2361  20211231   2021   12    3520  352010       35  35201010\n",
              "1672   TNXP -0.4747  20211231   2021   12    3520  352010       35  35201010\n",
              "1730    UEC  0.9104  20210731   2021    7    1010  101020       10  10102050\n",
              "1780   VKTX -0.4000  20211231   2021   12    3520  352010       35  35201010"
            ],
            "text/html": [
              "\n",
              "  <div id=\"df-64fe857a-ba13-477b-973a-9bfd55675737\">\n",
              "    <div class=\"colab-df-container\">\n",
              "      <div>\n",
              "<style scoped>\n",
              "    .dataframe tbody tr th:only-of-type {\n",
              "        vertical-align: middle;\n",
              "    }\n",
              "\n",
              "    .dataframe tbody tr th {\n",
              "        vertical-align: top;\n",
              "    }\n",
              "\n",
              "    .dataframe thead th {\n",
              "        text-align: right;\n",
              "    }\n",
              "</style>\n",
              "<table border=\"1\" class=\"dataframe\">\n",
              "  <thead>\n",
              "    <tr style=\"text-align: right;\">\n",
              "      <th></th>\n",
              "      <th>TICKER</th>\n",
              "      <th>RetYTD</th>\n",
              "      <th>datadate</th>\n",
              "      <th>fyear</th>\n",
              "      <th>fyr</th>\n",
              "      <th>ggroup</th>\n",
              "      <th>gind</th>\n",
              "      <th>gsector</th>\n",
              "      <th>gsubind</th>\n",
              "    </tr>\n",
              "  </thead>\n",
              "  <tbody>\n",
              "    <tr>\n",
              "      <th>50</th>\n",
              "      <td>AGIO</td>\n",
              "      <td>-0.1512</td>\n",
              "      <td>20211231</td>\n",
              "      <td>2021</td>\n",
              "      <td>12</td>\n",
              "      <td>3520</td>\n",
              "      <td>352010</td>\n",
              "      <td>35</td>\n",
              "      <td>35201010</td>\n",
              "    </tr>\n",
              "    <tr>\n",
              "      <th>74</th>\n",
              "      <td>ALDX</td>\n",
              "      <td>0.1400</td>\n",
              "      <td>20211231</td>\n",
              "      <td>2021</td>\n",
              "      <td>12</td>\n",
              "      <td>3520</td>\n",
              "      <td>352010</td>\n",
              "      <td>35</td>\n",
              "      <td>35201010</td>\n",
              "    </tr>\n",
              "    <tr>\n",
              "      <th>105</th>\n",
              "      <td>AMPE</td>\n",
              "      <td>-0.2982</td>\n",
              "      <td>20211231</td>\n",
              "      <td>2021</td>\n",
              "      <td>12</td>\n",
              "      <td>3520</td>\n",
              "      <td>352020</td>\n",
              "      <td>35</td>\n",
              "      <td>35202010</td>\n",
              "    </tr>\n",
              "    <tr>\n",
              "      <th>173</th>\n",
              "      <td>ATOS</td>\n",
              "      <td>-0.3063</td>\n",
              "      <td>20211231</td>\n",
              "      <td>2021</td>\n",
              "      <td>12</td>\n",
              "      <td>3520</td>\n",
              "      <td>352010</td>\n",
              "      <td>35</td>\n",
              "      <td>35201010</td>\n",
              "    </tr>\n",
              "    <tr>\n",
              "      <th>190</th>\n",
              "      <td>AVXL</td>\n",
              "      <td>-0.3599</td>\n",
              "      <td>20210930</td>\n",
              "      <td>2021</td>\n",
              "      <td>9</td>\n",
              "      <td>3520</td>\n",
              "      <td>352010</td>\n",
              "      <td>35</td>\n",
              "      <td>35201010</td>\n",
              "    </tr>\n",
              "    <tr>\n",
              "      <th>199</th>\n",
              "      <td>AXSM</td>\n",
              "      <td>-0.0244</td>\n",
              "      <td>20211231</td>\n",
              "      <td>2021</td>\n",
              "      <td>12</td>\n",
              "      <td>3520</td>\n",
              "      <td>352020</td>\n",
              "      <td>35</td>\n",
              "      <td>35202010</td>\n",
              "    </tr>\n",
              "    <tr>\n",
              "      <th>311</th>\n",
              "      <td>CBAY</td>\n",
              "      <td>-0.0828</td>\n",
              "      <td>20211231</td>\n",
              "      <td>2021</td>\n",
              "      <td>12</td>\n",
              "      <td>3520</td>\n",
              "      <td>352020</td>\n",
              "      <td>35</td>\n",
              "      <td>35202010</td>\n",
              "    </tr>\n",
              "    <tr>\n",
              "      <th>476</th>\n",
              "      <td>CVM</td>\n",
              "      <td>-0.5352</td>\n",
              "      <td>20210930</td>\n",
              "      <td>2021</td>\n",
              "      <td>9</td>\n",
              "      <td>3520</td>\n",
              "      <td>352010</td>\n",
              "      <td>35</td>\n",
              "      <td>35201010</td>\n",
              "    </tr>\n",
              "    <tr>\n",
              "      <th>960</th>\n",
              "      <td>KALV</td>\n",
              "      <td>0.0854</td>\n",
              "      <td>20210430</td>\n",
              "      <td>2020</td>\n",
              "      <td>4</td>\n",
              "      <td>3520</td>\n",
              "      <td>352010</td>\n",
              "      <td>35</td>\n",
              "      <td>35201010</td>\n",
              "    </tr>\n",
              "    <tr>\n",
              "      <th>997</th>\n",
              "      <td>KURA</td>\n",
              "      <td>0.1521</td>\n",
              "      <td>20211231</td>\n",
              "      <td>2021</td>\n",
              "      <td>12</td>\n",
              "      <td>3520</td>\n",
              "      <td>352010</td>\n",
              "      <td>35</td>\n",
              "      <td>35201010</td>\n",
              "    </tr>\n",
              "    <tr>\n",
              "      <th>1095</th>\n",
              "      <td>MDGL</td>\n",
              "      <td>-0.0622</td>\n",
              "      <td>20211231</td>\n",
              "      <td>2021</td>\n",
              "      <td>12</td>\n",
              "      <td>3520</td>\n",
              "      <td>352010</td>\n",
              "      <td>35</td>\n",
              "      <td>35201010</td>\n",
              "    </tr>\n",
              "    <tr>\n",
              "      <th>1206</th>\n",
              "      <td>NG</td>\n",
              "      <td>0.1953</td>\n",
              "      <td>20211130</td>\n",
              "      <td>2021</td>\n",
              "      <td>11</td>\n",
              "      <td>1510</td>\n",
              "      <td>151040</td>\n",
              "      <td>15</td>\n",
              "      <td>15104030</td>\n",
              "    </tr>\n",
              "    <tr>\n",
              "      <th>1295</th>\n",
              "      <td>OMER</td>\n",
              "      <td>-0.2006</td>\n",
              "      <td>20211231</td>\n",
              "      <td>2021</td>\n",
              "      <td>12</td>\n",
              "      <td>3520</td>\n",
              "      <td>352020</td>\n",
              "      <td>35</td>\n",
              "      <td>35202010</td>\n",
              "    </tr>\n",
              "    <tr>\n",
              "      <th>1578</th>\n",
              "      <td>SPPI</td>\n",
              "      <td>-0.2361</td>\n",
              "      <td>20211231</td>\n",
              "      <td>2021</td>\n",
              "      <td>12</td>\n",
              "      <td>3520</td>\n",
              "      <td>352010</td>\n",
              "      <td>35</td>\n",
              "      <td>35201010</td>\n",
              "    </tr>\n",
              "    <tr>\n",
              "      <th>1672</th>\n",
              "      <td>TNXP</td>\n",
              "      <td>-0.4747</td>\n",
              "      <td>20211231</td>\n",
              "      <td>2021</td>\n",
              "      <td>12</td>\n",
              "      <td>3520</td>\n",
              "      <td>352010</td>\n",
              "      <td>35</td>\n",
              "      <td>35201010</td>\n",
              "    </tr>\n",
              "    <tr>\n",
              "      <th>1730</th>\n",
              "      <td>UEC</td>\n",
              "      <td>0.9104</td>\n",
              "      <td>20210731</td>\n",
              "      <td>2021</td>\n",
              "      <td>7</td>\n",
              "      <td>1010</td>\n",
              "      <td>101020</td>\n",
              "      <td>10</td>\n",
              "      <td>10102050</td>\n",
              "    </tr>\n",
              "    <tr>\n",
              "      <th>1780</th>\n",
              "      <td>VKTX</td>\n",
              "      <td>-0.4000</td>\n",
              "      <td>20211231</td>\n",
              "      <td>2021</td>\n",
              "      <td>12</td>\n",
              "      <td>3520</td>\n",
              "      <td>352010</td>\n",
              "      <td>35</td>\n",
              "      <td>35201010</td>\n",
              "    </tr>\n",
              "  </tbody>\n",
              "</table>\n",
              "</div>\n",
              "      <button class=\"colab-df-convert\" onclick=\"convertToInteractive('df-64fe857a-ba13-477b-973a-9bfd55675737')\"\n",
              "              title=\"Convert this dataframe to an interactive table.\"\n",
              "              style=\"display:none;\">\n",
              "        \n",
              "  <svg xmlns=\"http://www.w3.org/2000/svg\" height=\"24px\"viewBox=\"0 0 24 24\"\n",
              "       width=\"24px\">\n",
              "    <path d=\"M0 0h24v24H0V0z\" fill=\"none\"/>\n",
              "    <path d=\"M18.56 5.44l.94 2.06.94-2.06 2.06-.94-2.06-.94-.94-2.06-.94 2.06-2.06.94zm-11 1L8.5 8.5l.94-2.06 2.06-.94-2.06-.94L8.5 2.5l-.94 2.06-2.06.94zm10 10l.94 2.06.94-2.06 2.06-.94-2.06-.94-.94-2.06-.94 2.06-2.06.94z\"/><path d=\"M17.41 7.96l-1.37-1.37c-.4-.4-.92-.59-1.43-.59-.52 0-1.04.2-1.43.59L10.3 9.45l-7.72 7.72c-.78.78-.78 2.05 0 2.83L4 21.41c.39.39.9.59 1.41.59.51 0 1.02-.2 1.41-.59l7.78-7.78 2.81-2.81c.8-.78.8-2.07 0-2.86zM5.41 20L4 18.59l7.72-7.72 1.47 1.35L5.41 20z\"/>\n",
              "  </svg>\n",
              "      </button>\n",
              "      \n",
              "  <style>\n",
              "    .colab-df-container {\n",
              "      display:flex;\n",
              "      flex-wrap:wrap;\n",
              "      gap: 12px;\n",
              "    }\n",
              "\n",
              "    .colab-df-convert {\n",
              "      background-color: #E8F0FE;\n",
              "      border: none;\n",
              "      border-radius: 50%;\n",
              "      cursor: pointer;\n",
              "      display: none;\n",
              "      fill: #1967D2;\n",
              "      height: 32px;\n",
              "      padding: 0 0 0 0;\n",
              "      width: 32px;\n",
              "    }\n",
              "\n",
              "    .colab-df-convert:hover {\n",
              "      background-color: #E2EBFA;\n",
              "      box-shadow: 0px 1px 2px rgba(60, 64, 67, 0.3), 0px 1px 3px 1px rgba(60, 64, 67, 0.15);\n",
              "      fill: #174EA6;\n",
              "    }\n",
              "\n",
              "    [theme=dark] .colab-df-convert {\n",
              "      background-color: #3B4455;\n",
              "      fill: #D2E3FC;\n",
              "    }\n",
              "\n",
              "    [theme=dark] .colab-df-convert:hover {\n",
              "      background-color: #434B5C;\n",
              "      box-shadow: 0px 1px 3px 1px rgba(0, 0, 0, 0.15);\n",
              "      filter: drop-shadow(0px 1px 2px rgba(0, 0, 0, 0.3));\n",
              "      fill: #FFFFFF;\n",
              "    }\n",
              "  </style>\n",
              "\n",
              "      <script>\n",
              "        const buttonEl =\n",
              "          document.querySelector('#df-64fe857a-ba13-477b-973a-9bfd55675737 button.colab-df-convert');\n",
              "        buttonEl.style.display =\n",
              "          google.colab.kernel.accessAllowed ? 'block' : 'none';\n",
              "\n",
              "        async function convertToInteractive(key) {\n",
              "          const element = document.querySelector('#df-64fe857a-ba13-477b-973a-9bfd55675737');\n",
              "          const dataTable =\n",
              "            await google.colab.kernel.invokeFunction('convertToInteractive',\n",
              "                                                     [key], {});\n",
              "          if (!dataTable) return;\n",
              "\n",
              "          const docLinkHtml = 'Like what you see? Visit the ' +\n",
              "            '<a target=\"_blank\" href=https://colab.research.google.com/notebooks/data_table.ipynb>data table notebook</a>'\n",
              "            + ' to learn more about interactive tables.';\n",
              "          element.innerHTML = '';\n",
              "          dataTable['output_type'] = 'display_data';\n",
              "          await google.colab.output.renderOutput(dataTable, element);\n",
              "          const docLink = document.createElement('div');\n",
              "          docLink.innerHTML = docLinkHtml;\n",
              "          element.appendChild(docLink);\n",
              "        }\n",
              "      </script>\n",
              "    </div>\n",
              "  </div>\n",
              "  "
            ]
          },
          "metadata": {},
          "execution_count": 103
        }
      ]
    },
    {
      "cell_type": "code",
      "source": [
        "# Unique gsector: 35,15,10\n",
        "gics[gics.TICKER.isin(['CVM', 'AGIO', 'CBAY', 'ALDX', 'NG', 'VKTX', 'KURA', 'AXSM',\n",
        "       'MDGL', 'KALV', 'SPPI', 'UEC', 'AVXL', 'OMER', 'AMPE', 'ATOS',\n",
        "       'TNXP'])].gsector.unique()"
      ],
      "metadata": {
        "colab": {
          "base_uri": "https://localhost:8080/"
        },
        "id": "uVEXm-YLHWpi",
        "outputId": "51b868c2-65ee-47ad-85de-170f8ab149c0"
      },
      "execution_count": null,
      "outputs": [
        {
          "output_type": "execute_result",
          "data": {
            "text/plain": [
              "array([35, 15, 10])"
            ]
          },
          "metadata": {},
          "execution_count": 349
        }
      ]
    },
    {
      "cell_type": "markdown",
      "source": [
        "### Handle outliers"
      ],
      "metadata": {
        "id": "s4_KBwbLvrjP"
      }
    },
    {
      "cell_type": "code",
      "source": [
        "#Creating boxplot of each column with its own scale\n",
        "red_circle = dict(markerfacecolor='red', marker='o', markeredgecolor='white')\n",
        "mean_shape = dict(markerfacecolor='green', marker='D', markeredgecolor='green')\n",
        "fig, axs = plt.subplots(7,2, figsize=(15,15))\n",
        "for i, ax in enumerate(axs.flat):\n",
        "    ax.boxplot(ratios.iloc[:,i], flierprops=red_circle, meanprops=mean_shape, vert = False)\n",
        "    ax.set_title(ratios.columns[i], fontsize=15, fontweight='bold')\n",
        "    ax.tick_params(axis='y', labelsize=14)\n",
        "plt.tight_layout()"
      ],
      "metadata": {
        "colab": {
          "base_uri": "https://localhost:8080/",
          "height": 1000
        },
        "id": "x-j-nwbx7zcL",
        "outputId": "3e45de17-d800-4ce4-c721-373bd6417f6e"
      },
      "execution_count": null,
      "outputs": [
        {
          "output_type": "display_data",
          "data": {
            "text/plain": [
              "<Figure size 1080x1080 with 14 Axes>"
            ],
            "image/png": "[encoded data removed]"
          },
          "metadata": {
            "needs_background": "light"
          }
        }
      ]
    },
    {
      "cell_type": "code",
      "source": [
        "# Winsorization\n",
        "for ratio in ratios.columns:\n",
        "    ratios[ratio] = winsorize(ratios[ratio], (0.01, 0.01))"
      ],
      "metadata": {
        "id": "auoQmbkGNslW"
      },
      "execution_count": null,
      "outputs": []
    },
    {
      "cell_type": "code",
      "source": [
        "#Creating boxplot of each column with its own scale\n",
        "red_circle = dict(markerfacecolor='red', marker='o', markeredgecolor='white')\n",
        "mean_shape = dict(markerfacecolor='green', marker='D', markeredgecolor='green')\n",
        "fig, axs = plt.subplots(7,2, figsize=(15,15))\n",
        "for i, ax in enumerate(axs.flat):\n",
        "    ax.boxplot(ratios.iloc[:,i], flierprops=red_circle, meanprops=mean_shape, vert = False)\n",
        "    ax.set_title(ratios.columns[i], fontsize=15, fontweight='bold')\n",
        "    ax.tick_params(axis='y', labelsize=14)\n",
        "plt.tight_layout()"
      ],
      "metadata": {
        "colab": {
          "base_uri": "https://localhost:8080/",
          "height": 1000
        },
        "id": "HNnlvv819GAZ",
        "outputId": "32db6647-d761-40ec-b092-22b6e04b88b0"
      },
      "execution_count": null,
      "outputs": [
        {
          "output_type": "display_data",
          "data": {
            "text/plain": [
              "<Figure size 1080x1080 with 14 Axes>"
            ],
            "image/png": "[encoded data removed]"
          },
          "metadata": {
            "needs_background": "light"
          }
        }
      ]
    },
    {
      "cell_type": "code",
      "source": [
        "ratios.describe()"
      ],
      "metadata": {
        "colab": {
          "base_uri": "https://localhost:8080/",
          "height": 364
        },
        "id": "_E1e3IMWPAHS",
        "outputId": "76554464-711d-4248-d035-0ae4b7bb524d"
      },
      "execution_count": null,
      "outputs": [
        {
          "output_type": "execute_result",
          "data": {
            "text/plain": [
              "               ROA  asset_turnover_ratio  net_profit_margin  \\\n",
              "count  1886.000000           1886.000000        1886.000000   \n",
              "mean      0.048074              0.634149          -0.078588   \n",
              "std       0.132698              0.576191           1.510211   \n",
              "min      -0.597211              0.000132         -12.990348   \n",
              "25%       0.018602              0.185607           0.045584   \n",
              "50%       0.053231              0.511923           0.127945   \n",
              "75%       0.106175              0.900111           0.265951   \n",
              "max       0.361499              2.889664           0.742213   \n",
              "\n",
              "       gross_profit_margin  current_ratio          ROE   book/price  \\\n",
              "count          1886.000000    1886.000000  1886.000000  1886.000000   \n",
              "mean              0.298855       2.334855     0.094959     0.418517   \n",
              "std               1.097891       3.670970     0.620142     0.357616   \n",
              "min              -8.408805     -12.004311    -3.335815    -0.337273   \n",
              "25%               0.241888       1.102038     0.024152     0.161112   \n",
              "50%               0.399064       1.599008     0.112438     0.337004   \n",
              "75%               0.649018       2.665410     0.212665     0.613868   \n",
              "max               1.030189      23.722493     3.111111     1.677414   \n",
              "\n",
              "               e/p       ebit/p       sale/p  quick_ratio  debt_to_equity  \\\n",
              "count  1886.000000  1886.000000  1886.000000  1886.000000     1886.000000   \n",
              "mean      0.028873     0.061671     0.715727     1.950548        2.624349   \n",
              "std       0.104512     0.110981     0.984951     3.609828        5.322228   \n",
              "min      -0.521213    -0.378436     0.000060   -12.004311      -24.094786   \n",
              "25%       0.008113     0.019641     0.176223     0.904813        0.753671   \n",
              "50%       0.036704     0.056821     0.350729     1.253095        1.526501   \n",
              "75%       0.076322     0.113822     0.814565     2.139778        3.415862   \n",
              "max       0.279700     0.415467     6.119348    23.259363       26.186977   \n",
              "\n",
              "       inventory_turnover_ratio   cash_ratio  \n",
              "count               1886.000000  1886.000000  \n",
              "mean                  15.413509     0.803775  \n",
              "std                   26.713753     1.490528  \n",
              "min                   -2.000000    -0.836117  \n",
              "25%                    2.988802     0.102287  \n",
              "50%                    7.552105     0.357098  \n",
              "75%                   18.036037     0.889904  \n",
              "max                  186.843713    10.424628  "
            ],
            "text/html": [
              "\n",
              "  <div id=\"df-d93481f3-c8f2-4f75-9d0b-0e670d00292d\">\n",
              "    <div class=\"colab-df-container\">\n",
              "      <div>\n",
              "<style scoped>\n",
              "    .dataframe tbody tr th:only-of-type {\n",
              "        vertical-align: middle;\n",
              "    }\n",
              "\n",
              "    .dataframe tbody tr th {\n",
              "        vertical-align: top;\n",
              "    }\n",
              "\n",
              "    .dataframe thead th {\n",
              "        text-align: right;\n",
              "    }\n",
              "</style>\n",
              "<table border=\"1\" class=\"dataframe\">\n",
              "  <thead>\n",
              "    <tr style=\"text-align: right;\">\n",
              "      <th></th>\n",
              "      <th>ROA</th>\n",
              "      <th>asset_turnover_ratio</th>\n",
              "      <th>net_profit_margin</th>\n",
              "      <th>gross_profit_margin</th>\n",
              "      <th>current_ratio</th>\n",
              "      <th>ROE</th>\n",
              "      <th>book/price</th>\n",
              "      <th>e/p</th>\n",
              "      <th>ebit/p</th>\n",
              "      <th>sale/p</th>\n",
              "      <th>quick_ratio</th>\n",
              "      <th>debt_to_equity</th>\n",
              "      <th>inventory_turnover_ratio</th>\n",
              "      <th>cash_ratio</th>\n",
              "    </tr>\n",
              "  </thead>\n",
              "  <tbody>\n",
              "    <tr>\n",
              "      <th>count</th>\n",
              "      <td>1886.000000</td>\n",
              "      <td>1886.000000</td>\n",
              "      <td>1886.000000</td>\n",
              "      <td>1886.000000</td>\n",
              "      <td>1886.000000</td>\n",
              "      <td>1886.000000</td>\n",
              "      <td>1886.000000</td>\n",
              "      <td>1886.000000</td>\n",
              "      <td>1886.000000</td>\n",
              "      <td>1886.000000</td>\n",
              "      <td>1886.000000</td>\n",
              "      <td>1886.000000</td>\n",
              "      <td>1886.000000</td>\n",
              "      <td>1886.000000</td>\n",
              "    </tr>\n",
              "    <tr>\n",
              "      <th>mean</th>\n",
              "      <td>0.048074</td>\n",
              "      <td>0.634149</td>\n",
              "      <td>-0.078588</td>\n",
              "      <td>0.298855</td>\n",
              "      <td>2.334855</td>\n",
              "      <td>0.094959</td>\n",
              "      <td>0.418517</td>\n",
              "      <td>0.028873</td>\n",
              "      <td>0.061671</td>\n",
              "      <td>0.715727</td>\n",
              "      <td>1.950548</td>\n",
              "      <td>2.624349</td>\n",
              "      <td>15.413509</td>\n",
              "      <td>0.803775</td>\n",
              "    </tr>\n",
              "    <tr>\n",
              "      <th>std</th>\n",
              "      <td>0.132698</td>\n",
              "      <td>0.576191</td>\n",
              "      <td>1.510211</td>\n",
              "      <td>1.097891</td>\n",
              "      <td>3.670970</td>\n",
              "      <td>0.620142</td>\n",
              "      <td>0.357616</td>\n",
              "      <td>0.104512</td>\n",
              "      <td>0.110981</td>\n",
              "      <td>0.984951</td>\n",
              "      <td>3.609828</td>\n",
              "      <td>5.322228</td>\n",
              "      <td>26.713753</td>\n",
              "      <td>1.490528</td>\n",
              "    </tr>\n",
              "    <tr>\n",
              "      <th>min</th>\n",
              "      <td>-0.597211</td>\n",
              "      <td>0.000132</td>\n",
              "      <td>-12.990348</td>\n",
              "      <td>-8.408805</td>\n",
              "      <td>-12.004311</td>\n",
              "      <td>-3.335815</td>\n",
              "      <td>-0.337273</td>\n",
              "      <td>-0.521213</td>\n",
              "      <td>-0.378436</td>\n",
              "      <td>0.000060</td>\n",
              "      <td>-12.004311</td>\n",
              "      <td>-24.094786</td>\n",
              "      <td>-2.000000</td>\n",
              "      <td>-0.836117</td>\n",
              "    </tr>\n",
              "    <tr>\n",
              "      <th>25%</th>\n",
              "      <td>0.018602</td>\n",
              "      <td>0.185607</td>\n",
              "      <td>0.045584</td>\n",
              "      <td>0.241888</td>\n",
              "      <td>1.102038</td>\n",
              "      <td>0.024152</td>\n",
              "      <td>0.161112</td>\n",
              "      <td>0.008113</td>\n",
              "      <td>0.019641</td>\n",
              "      <td>0.176223</td>\n",
              "      <td>0.904813</td>\n",
              "      <td>0.753671</td>\n",
              "      <td>2.988802</td>\n",
              "      <td>0.102287</td>\n",
              "    </tr>\n",
              "    <tr>\n",
              "      <th>50%</th>\n",
              "      <td>0.053231</td>\n",
              "      <td>0.511923</td>\n",
              "      <td>0.127945</td>\n",
              "      <td>0.399064</td>\n",
              "      <td>1.599008</td>\n",
              "      <td>0.112438</td>\n",
              "      <td>0.337004</td>\n",
              "      <td>0.036704</td>\n",
              "      <td>0.056821</td>\n",
              "      <td>0.350729</td>\n",
              "      <td>1.253095</td>\n",
              "      <td>1.526501</td>\n",
              "      <td>7.552105</td>\n",
              "      <td>0.357098</td>\n",
              "    </tr>\n",
              "    <tr>\n",
              "      <th>75%</th>\n",
              "      <td>0.106175</td>\n",
              "      <td>0.900111</td>\n",
              "      <td>0.265951</td>\n",
              "      <td>0.649018</td>\n",
              "      <td>2.665410</td>\n",
              "      <td>0.212665</td>\n",
              "      <td>0.613868</td>\n",
              "      <td>0.076322</td>\n",
              "      <td>0.113822</td>\n",
              "      <td>0.814565</td>\n",
              "      <td>2.139778</td>\n",
              "      <td>3.415862</td>\n",
              "      <td>18.036037</td>\n",
              "      <td>0.889904</td>\n",
              "    </tr>\n",
              "    <tr>\n",
              "      <th>max</th>\n",
              "      <td>0.361499</td>\n",
              "      <td>2.889664</td>\n",
              "      <td>0.742213</td>\n",
              "      <td>1.030189</td>\n",
              "      <td>23.722493</td>\n",
              "      <td>3.111111</td>\n",
              "      <td>1.677414</td>\n",
              "      <td>0.279700</td>\n",
              "      <td>0.415467</td>\n",
              "      <td>6.119348</td>\n",
              "      <td>23.259363</td>\n",
              "      <td>26.186977</td>\n",
              "      <td>186.843713</td>\n",
              "      <td>10.424628</td>\n",
              "    </tr>\n",
              "  </tbody>\n",
              "</table>\n",
              "</div>\n",
              "      <button class=\"colab-df-convert\" onclick=\"convertToInteractive('df-d93481f3-c8f2-4f75-9d0b-0e670d00292d')\"\n",
              "              title=\"Convert this dataframe to an interactive table.\"\n",
              "              style=\"display:none;\">\n",
              "        \n",
              "  <svg xmlns=\"http://www.w3.org/2000/svg\" height=\"24px\"viewBox=\"0 0 24 24\"\n",
              "       width=\"24px\">\n",
              "    <path d=\"M0 0h24v24H0V0z\" fill=\"none\"/>\n",
              "    <path d=\"M18.56 5.44l.94 2.06.94-2.06 2.06-.94-2.06-.94-.94-2.06-.94 2.06-2.06.94zm-11 1L8.5 8.5l.94-2.06 2.06-.94-2.06-.94L8.5 2.5l-.94 2.06-2.06.94zm10 10l.94 2.06.94-2.06 2.06-.94-2.06-.94-.94-2.06-.94 2.06-2.06.94z\"/><path d=\"M17.41 7.96l-1.37-1.37c-.4-.4-.92-.59-1.43-.59-.52 0-1.04.2-1.43.59L10.3 9.45l-7.72 7.72c-.78.78-.78 2.05 0 2.83L4 21.41c.39.39.9.59 1.41.59.51 0 1.02-.2 1.41-.59l7.78-7.78 2.81-2.81c.8-.78.8-2.07 0-2.86zM5.41 20L4 18.59l7.72-7.72 1.47 1.35L5.41 20z\"/>\n",
              "  </svg>\n",
              "      </button>\n",
              "      \n",
              "  <style>\n",
              "    .colab-df-container {\n",
              "      display:flex;\n",
              "      flex-wrap:wrap;\n",
              "      gap: 12px;\n",
              "    }\n",
              "\n",
              "    .colab-df-convert {\n",
              "      background-color: #E8F0FE;\n",
              "      border: none;\n",
              "      border-radius: 50%;\n",
              "      cursor: pointer;\n",
              "      display: none;\n",
              "      fill: #1967D2;\n",
              "      height: 32px;\n",
              "      padding: 0 0 0 0;\n",
              "      width: 32px;\n",
              "    }\n",
              "\n",
              "    .colab-df-convert:hover {\n",
              "      background-color: #E2EBFA;\n",
              "      box-shadow: 0px 1px 2px rgba(60, 64, 67, 0.3), 0px 1px 3px 1px rgba(60, 64, 67, 0.15);\n",
              "      fill: #174EA6;\n",
              "    }\n",
              "\n",
              "    [theme=dark] .colab-df-convert {\n",
              "      background-color: #3B4455;\n",
              "      fill: #D2E3FC;\n",
              "    }\n",
              "\n",
              "    [theme=dark] .colab-df-convert:hover {\n",
              "      background-color: #434B5C;\n",
              "      box-shadow: 0px 1px 3px 1px rgba(0, 0, 0, 0.15);\n",
              "      filter: drop-shadow(0px 1px 2px rgba(0, 0, 0, 0.3));\n",
              "      fill: #FFFFFF;\n",
              "    }\n",
              "  </style>\n",
              "\n",
              "      <script>\n",
              "        const buttonEl =\n",
              "          document.querySelector('#df-d93481f3-c8f2-4f75-9d0b-0e670d00292d button.colab-df-convert');\n",
              "        buttonEl.style.display =\n",
              "          google.colab.kernel.accessAllowed ? 'block' : 'none';\n",
              "\n",
              "        async function convertToInteractive(key) {\n",
              "          const element = document.querySelector('#df-d93481f3-c8f2-4f75-9d0b-0e670d00292d');\n",
              "          const dataTable =\n",
              "            await google.colab.kernel.invokeFunction('convertToInteractive',\n",
              "                                                     [key], {});\n",
              "          if (!dataTable) return;\n",
              "\n",
              "          const docLinkHtml = 'Like what you see? Visit the ' +\n",
              "            '<a target=\"_blank\" href=https://colab.research.google.com/notebooks/data_table.ipynb>data table notebook</a>'\n",
              "            + ' to learn more about interactive tables.';\n",
              "          element.innerHTML = '';\n",
              "          dataTable['output_type'] = 'display_data';\n",
              "          await google.colab.output.renderOutput(dataTable, element);\n",
              "          const docLink = document.createElement('div');\n",
              "          docLink.innerHTML = docLinkHtml;\n",
              "          element.appendChild(docLink);\n",
              "        }\n",
              "      </script>\n",
              "    </div>\n",
              "  </div>\n",
              "  "
            ]
          },
          "metadata": {},
          "execution_count": 239
        }
      ]
    },
    {
      "cell_type": "markdown",
      "source": [
        "### Correlation between ratios\n",
        "* net profit margin and gross profit margin, e/p and ebit/p, quick ratio and cash ratio have relatively high correlation, over 0.7."
      ],
      "metadata": {
        "id": "NozBvZ-vZczA"
      }
    },
    {
      "cell_type": "code",
      "source": [
        "corrmatrix = ratios.corr()"
      ],
      "metadata": {
        "id": "2gzSCcvTZM0m"
      },
      "execution_count": null,
      "outputs": []
    },
    {
      "cell_type": "code",
      "source": [
        "fig, ax = plt.subplots(figsize=(8,8))\n",
        "sns.heatmap(corrmatrix, annot=True, ax=ax)\n",
        "plt.title(\"Correlation Matrix\")\n",
        "plt.show()"
      ],
      "metadata": {
        "colab": {
          "base_uri": "https://localhost:8080/",
          "height": 612
        },
        "id": "etGVlpHlZRU4",
        "outputId": "daff5d7f-6ebf-4be7-85ac-3642bfa6140d"
      },
      "execution_count": null,
      "outputs": [
        {
          "output_type": "display_data",
          "data": {
            "text/plain": [
              "<Figure size 576x576 with 2 Axes>"
            ],
            "image/png": "[encoded data removed]"
          },
          "metadata": {
            "needs_background": "light"
          }
        }
      ]
    },
    {
      "cell_type": "markdown",
      "source": [
        "## Merge dataset"
      ],
      "metadata": {
        "id": "NEpv7saUAH8g"
      }
    },
    {
      "cell_type": "code",
      "source": [
        "# Replace cleaned ratios to original finance dataset\n",
        "finance[ratios.columns] = ratios"
      ],
      "metadata": {
        "id": "7ratC4YW9UDv"
      },
      "execution_count": null,
      "outputs": []
    },
    {
      "cell_type": "code",
      "source": [
        "# Change column name\n",
        "finance.rename(columns={'tic':'TICKER'}, inplace=True)"
      ],
      "metadata": {
        "id": "a2o16VZ0-NRh"
      },
      "execution_count": null,
      "outputs": []
    },
    {
      "cell_type": "code",
      "source": [
        "ratios_tic = finance[['TICKER','ROA','asset_turnover_ratio','net_profit_margin','gross_profit_margin','current_ratio','ROE','book/price','e/p','ebit/p','sale/p','quick_ratio','debt_to_equity','inventory_turnover_ratio','cash_ratio']]"
      ],
      "metadata": {
        "id": "CUA4X3WCPmei"
      },
      "execution_count": null,
      "outputs": []
    },
    {
      "cell_type": "code",
      "source": [
        "stock.head(3)"
      ],
      "metadata": {
        "colab": {
          "base_uri": "https://localhost:8080/",
          "height": 143
        },
        "id": "yvGfc2Cpc-DC",
        "outputId": "0c9298cc-722e-4e9d-b389-142fea555d38"
      },
      "execution_count": null,
      "outputs": [
        {
          "output_type": "execute_result",
          "data": {
            "text/plain": [
              "  TICKER  RetYTD\n",
              "0      A -0.2080\n",
              "1     AA  0.4731\n",
              "2    AAL  0.0579"
            ],
            "text/html": [
              "\n",
              "  <div id=\"df-55f4074e-874f-493e-932a-99cd4b81b12f\">\n",
              "    <div class=\"colab-df-container\">\n",
              "      <div>\n",
              "<style scoped>\n",
              "    .dataframe tbody tr th:only-of-type {\n",
              "        vertical-align: middle;\n",
              "    }\n",
              "\n",
              "    .dataframe tbody tr th {\n",
              "        vertical-align: top;\n",
              "    }\n",
              "\n",
              "    .dataframe thead th {\n",
              "        text-align: right;\n",
              "    }\n",
              "</style>\n",
              "<table border=\"1\" class=\"dataframe\">\n",
              "  <thead>\n",
              "    <tr style=\"text-align: right;\">\n",
              "      <th></th>\n",
              "      <th>TICKER</th>\n",
              "      <th>RetYTD</th>\n",
              "    </tr>\n",
              "  </thead>\n",
              "  <tbody>\n",
              "    <tr>\n",
              "      <th>0</th>\n",
              "      <td>A</td>\n",
              "      <td>-0.2080</td>\n",
              "    </tr>\n",
              "    <tr>\n",
              "      <th>1</th>\n",
              "      <td>AA</td>\n",
              "      <td>0.4731</td>\n",
              "    </tr>\n",
              "    <tr>\n",
              "      <th>2</th>\n",
              "      <td>AAL</td>\n",
              "      <td>0.0579</td>\n",
              "    </tr>\n",
              "  </tbody>\n",
              "</table>\n",
              "</div>\n",
              "      <button class=\"colab-df-convert\" onclick=\"convertToInteractive('df-55f4074e-874f-493e-932a-99cd4b81b12f')\"\n",
              "              title=\"Convert this dataframe to an interactive table.\"\n",
              "              style=\"display:none;\">\n",
              "        \n",
              "  <svg xmlns=\"http://www.w3.org/2000/svg\" height=\"24px\"viewBox=\"0 0 24 24\"\n",
              "       width=\"24px\">\n",
              "    <path d=\"M0 0h24v24H0V0z\" fill=\"none\"/>\n",
              "    <path d=\"M18.56 5.44l.94 2.06.94-2.06 2.06-.94-2.06-.94-.94-2.06-.94 2.06-2.06.94zm-11 1L8.5 8.5l.94-2.06 2.06-.94-2.06-.94L8.5 2.5l-.94 2.06-2.06.94zm10 10l.94 2.06.94-2.06 2.06-.94-2.06-.94-.94-2.06-.94 2.06-2.06.94z\"/><path d=\"M17.41 7.96l-1.37-1.37c-.4-.4-.92-.59-1.43-.59-.52 0-1.04.2-1.43.59L10.3 9.45l-7.72 7.72c-.78.78-.78 2.05 0 2.83L4 21.41c.39.39.9.59 1.41.59.51 0 1.02-.2 1.41-.59l7.78-7.78 2.81-2.81c.8-.78.8-2.07 0-2.86zM5.41 20L4 18.59l7.72-7.72 1.47 1.35L5.41 20z\"/>\n",
              "  </svg>\n",
              "      </button>\n",
              "      \n",
              "  <style>\n",
              "    .colab-df-container {\n",
              "      display:flex;\n",
              "      flex-wrap:wrap;\n",
              "      gap: 12px;\n",
              "    }\n",
              "\n",
              "    .colab-df-convert {\n",
              "      background-color: #E8F0FE;\n",
              "      border: none;\n",
              "      border-radius: 50%;\n",
              "      cursor: pointer;\n",
              "      display: none;\n",
              "      fill: #1967D2;\n",
              "      height: 32px;\n",
              "      padding: 0 0 0 0;\n",
              "      width: 32px;\n",
              "    }\n",
              "\n",
              "    .colab-df-convert:hover {\n",
              "      background-color: #E2EBFA;\n",
              "      box-shadow: 0px 1px 2px rgba(60, 64, 67, 0.3), 0px 1px 3px 1px rgba(60, 64, 67, 0.15);\n",
              "      fill: #174EA6;\n",
              "    }\n",
              "\n",
              "    [theme=dark] .colab-df-convert {\n",
              "      background-color: #3B4455;\n",
              "      fill: #D2E3FC;\n",
              "    }\n",
              "\n",
              "    [theme=dark] .colab-df-convert:hover {\n",
              "      background-color: #434B5C;\n",
              "      box-shadow: 0px 1px 3px 1px rgba(0, 0, 0, 0.15);\n",
              "      filter: drop-shadow(0px 1px 2px rgba(0, 0, 0, 0.3));\n",
              "      fill: #FFFFFF;\n",
              "    }\n",
              "  </style>\n",
              "\n",
              "      <script>\n",
              "        const buttonEl =\n",
              "          document.querySelector('#df-55f4074e-874f-493e-932a-99cd4b81b12f button.colab-df-convert');\n",
              "        buttonEl.style.display =\n",
              "          google.colab.kernel.accessAllowed ? 'block' : 'none';\n",
              "\n",
              "        async function convertToInteractive(key) {\n",
              "          const element = document.querySelector('#df-55f4074e-874f-493e-932a-99cd4b81b12f');\n",
              "          const dataTable =\n",
              "            await google.colab.kernel.invokeFunction('convertToInteractive',\n",
              "                                                     [key], {});\n",
              "          if (!dataTable) return;\n",
              "\n",
              "          const docLinkHtml = 'Like what you see? Visit the ' +\n",
              "            '<a target=\"_blank\" href=https://colab.research.google.com/notebooks/data_table.ipynb>data table notebook</a>'\n",
              "            + ' to learn more about interactive tables.';\n",
              "          element.innerHTML = '';\n",
              "          dataTable['output_type'] = 'display_data';\n",
              "          await google.colab.output.renderOutput(dataTable, element);\n",
              "          const docLink = document.createElement('div');\n",
              "          docLink.innerHTML = docLinkHtml;\n",
              "          element.appendChild(docLink);\n",
              "        }\n",
              "      </script>\n",
              "    </div>\n",
              "  </div>\n",
              "  "
            ]
          },
          "metadata": {},
          "execution_count": 157
        }
      ]
    },
    {
      "cell_type": "code",
      "source": [
        "stock.shape"
      ],
      "metadata": {
        "colab": {
          "base_uri": "https://localhost:8080/"
        },
        "id": "S74AgUhWX7nJ",
        "outputId": "f8f6938c-3ac7-4a43-b45e-81ac8bd30881"
      },
      "execution_count": null,
      "outputs": [
        {
          "output_type": "execute_result",
          "data": {
            "text/plain": [
              "(1886, 3)"
            ]
          },
          "metadata": {},
          "execution_count": 96
        }
      ]
    },
    {
      "cell_type": "code",
      "source": [
        "ratios_tic.shape"
      ],
      "metadata": {
        "colab": {
          "base_uri": "https://localhost:8080/"
        },
        "id": "DKPDz9kNYJZs",
        "outputId": "0a8d105a-398a-4305-e094-4a1ee4218d4b"
      },
      "execution_count": null,
      "outputs": [
        {
          "output_type": "execute_result",
          "data": {
            "text/plain": [
              "(1886, 15)"
            ]
          },
          "metadata": {},
          "execution_count": 99
        }
      ]
    },
    {
      "cell_type": "code",
      "source": [
        "# Merge datasets\n",
        "fin_ratios = pd.merge(stock,ratios_tic, on='TICKER', how='inner')"
      ],
      "metadata": {
        "id": "U8P0ycTOXsc8"
      },
      "execution_count": null,
      "outputs": []
    },
    {
      "cell_type": "code",
      "source": [
        "fin_ratios.shape"
      ],
      "metadata": {
        "colab": {
          "base_uri": "https://localhost:8080/"
        },
        "id": "YTMSg7NnYL-j",
        "outputId": "64ded59c-8e1e-4e71-842b-cc4382e512cd"
      },
      "execution_count": null,
      "outputs": [
        {
          "output_type": "execute_result",
          "data": {
            "text/plain": [
              "(1886, 16)"
            ]
          },
          "metadata": {},
          "execution_count": 253
        }
      ]
    },
    {
      "cell_type": "code",
      "source": [
        "fin_ratios.head()"
      ],
      "metadata": {
        "colab": {
          "base_uri": "https://localhost:8080/",
          "height": 270
        },
        "id": "kutqF80kYOIW",
        "outputId": "01ae023b-88b3-4089-dd8e-6e058f5622cc"
      },
      "execution_count": null,
      "outputs": [
        {
          "output_type": "execute_result",
          "data": {
            "text/plain": [
              "  TICKER  RetYTD       ROA  asset_turnover_ratio  net_profit_margin  \\\n",
              "0      A -0.2080  0.131621              0.590285           0.222978   \n",
              "1     AA  0.4731  0.138236              0.808785           0.170918   \n",
              "2    AAL  0.0579 -0.082958              0.449576          -0.184526   \n",
              "3    AAN -0.1327  0.109513              1.280475           0.085525   \n",
              "4   AAON -0.3456  0.113249              0.822106           0.137754   \n",
              "\n",
              "   gross_profit_margin  current_ratio       ROE  book/price       e/p  \\\n",
              "0             0.577148       2.224239  0.224531    0.111695  0.025079   \n",
              "1             0.246791       1.559417  0.091824    0.425940  0.039111   \n",
              "2             0.064018       0.912133  0.271526   -0.337273 -0.171320   \n",
              "3             0.947060       0.195881  0.153076    0.940491  0.143967   \n",
              "4             0.309156       2.513369  0.126044    0.111730  0.014083   \n",
              "\n",
              "     ebit/p    sale/p  quick_ratio  debt_to_equity  inventory_turnover_ratio  \\\n",
              "0  0.029204  0.130970     1.738290        0.986454                  3.219277   \n",
              "1  0.189357  1.107882     0.952529        1.870933                  4.679448   \n",
              "2 -0.378436  2.568684     0.817689      -10.055450                 15.581616   \n",
              "3  0.206699  2.416822     0.195881        1.006869                 18.036037   \n",
              "4  0.017648  0.128111     0.945752        0.394727                  2.714827   \n",
              "\n",
              "   cash_ratio  \n",
              "0    0.868852  \n",
              "1    0.562830  \n",
              "2    0.014364  \n",
              "3    0.235680  \n",
              "4    0.032950  "
            ],
            "text/html": [
              "\n",
              "  <div id=\"df-5210f126-22a4-40d9-99f2-afc2fe985c03\">\n",
              "    <div class=\"colab-df-container\">\n",
              "      <div>\n",
              "<style scoped>\n",
              "    .dataframe tbody tr th:only-of-type {\n",
              "        vertical-align: middle;\n",
              "    }\n",
              "\n",
              "    .dataframe tbody tr th {\n",
              "        vertical-align: top;\n",
              "    }\n",
              "\n",
              "    .dataframe thead th {\n",
              "        text-align: right;\n",
              "    }\n",
              "</style>\n",
              "<table border=\"1\" class=\"dataframe\">\n",
              "  <thead>\n",
              "    <tr style=\"text-align: right;\">\n",
              "      <th></th>\n",
              "      <th>TICKER</th>\n",
              "      <th>RetYTD</th>\n",
              "      <th>ROA</th>\n",
              "      <th>asset_turnover_ratio</th>\n",
              "      <th>net_profit_margin</th>\n",
              "      <th>gross_profit_margin</th>\n",
              "      <th>current_ratio</th>\n",
              "      <th>ROE</th>\n",
              "      <th>book/price</th>\n",
              "      <th>e/p</th>\n",
              "      <th>ebit/p</th>\n",
              "      <th>sale/p</th>\n",
              "      <th>quick_ratio</th>\n",
              "      <th>debt_to_equity</th>\n",
              "      <th>inventory_turnover_ratio</th>\n",
              "      <th>cash_ratio</th>\n",
              "    </tr>\n",
              "  </thead>\n",
              "  <tbody>\n",
              "    <tr>\n",
              "      <th>0</th>\n",
              "      <td>A</td>\n",
              "      <td>-0.2080</td>\n",
              "      <td>0.131621</td>\n",
              "      <td>0.590285</td>\n",
              "      <td>0.222978</td>\n",
              "      <td>0.577148</td>\n",
              "      <td>2.224239</td>\n",
              "      <td>0.224531</td>\n",
              "      <td>0.111695</td>\n",
              "      <td>0.025079</td>\n",
              "      <td>0.029204</td>\n",
              "      <td>0.130970</td>\n",
              "      <td>1.738290</td>\n",
              "      <td>0.986454</td>\n",
              "      <td>3.219277</td>\n",
              "      <td>0.868852</td>\n",
              "    </tr>\n",
              "    <tr>\n",
              "      <th>1</th>\n",
              "      <td>AA</td>\n",
              "      <td>0.4731</td>\n",
              "      <td>0.138236</td>\n",
              "      <td>0.808785</td>\n",
              "      <td>0.170918</td>\n",
              "      <td>0.246791</td>\n",
              "      <td>1.559417</td>\n",
              "      <td>0.091824</td>\n",
              "      <td>0.425940</td>\n",
              "      <td>0.039111</td>\n",
              "      <td>0.189357</td>\n",
              "      <td>1.107882</td>\n",
              "      <td>0.952529</td>\n",
              "      <td>1.870933</td>\n",
              "      <td>4.679448</td>\n",
              "      <td>0.562830</td>\n",
              "    </tr>\n",
              "    <tr>\n",
              "      <th>2</th>\n",
              "      <td>AAL</td>\n",
              "      <td>0.0579</td>\n",
              "      <td>-0.082958</td>\n",
              "      <td>0.449576</td>\n",
              "      <td>-0.184526</td>\n",
              "      <td>0.064018</td>\n",
              "      <td>0.912133</td>\n",
              "      <td>0.271526</td>\n",
              "      <td>-0.337273</td>\n",
              "      <td>-0.171320</td>\n",
              "      <td>-0.378436</td>\n",
              "      <td>2.568684</td>\n",
              "      <td>0.817689</td>\n",
              "      <td>-10.055450</td>\n",
              "      <td>15.581616</td>\n",
              "      <td>0.014364</td>\n",
              "    </tr>\n",
              "    <tr>\n",
              "      <th>3</th>\n",
              "      <td>AAN</td>\n",
              "      <td>-0.1327</td>\n",
              "      <td>0.109513</td>\n",
              "      <td>1.280475</td>\n",
              "      <td>0.085525</td>\n",
              "      <td>0.947060</td>\n",
              "      <td>0.195881</td>\n",
              "      <td>0.153076</td>\n",
              "      <td>0.940491</td>\n",
              "      <td>0.143967</td>\n",
              "      <td>0.206699</td>\n",
              "      <td>2.416822</td>\n",
              "      <td>0.195881</td>\n",
              "      <td>1.006869</td>\n",
              "      <td>18.036037</td>\n",
              "      <td>0.235680</td>\n",
              "    </tr>\n",
              "    <tr>\n",
              "      <th>4</th>\n",
              "      <td>AAON</td>\n",
              "      <td>-0.3456</td>\n",
              "      <td>0.113249</td>\n",
              "      <td>0.822106</td>\n",
              "      <td>0.137754</td>\n",
              "      <td>0.309156</td>\n",
              "      <td>2.513369</td>\n",
              "      <td>0.126044</td>\n",
              "      <td>0.111730</td>\n",
              "      <td>0.014083</td>\n",
              "      <td>0.017648</td>\n",
              "      <td>0.128111</td>\n",
              "      <td>0.945752</td>\n",
              "      <td>0.394727</td>\n",
              "      <td>2.714827</td>\n",
              "      <td>0.032950</td>\n",
              "    </tr>\n",
              "  </tbody>\n",
              "</table>\n",
              "</div>\n",
              "      <button class=\"colab-df-convert\" onclick=\"convertToInteractive('df-5210f126-22a4-40d9-99f2-afc2fe985c03')\"\n",
              "              title=\"Convert this dataframe to an interactive table.\"\n",
              "              style=\"display:none;\">\n",
              "        \n",
              "  <svg xmlns=\"http://www.w3.org/2000/svg\" height=\"24px\"viewBox=\"0 0 24 24\"\n",
              "       width=\"24px\">\n",
              "    <path d=\"M0 0h24v24H0V0z\" fill=\"none\"/>\n",
              "    <path d=\"M18.56 5.44l.94 2.06.94-2.06 2.06-.94-2.06-.94-.94-2.06-.94 2.06-2.06.94zm-11 1L8.5 8.5l.94-2.06 2.06-.94-2.06-.94L8.5 2.5l-.94 2.06-2.06.94zm10 10l.94 2.06.94-2.06 2.06-.94-2.06-.94-.94-2.06-.94 2.06-2.06.94z\"/><path d=\"M17.41 7.96l-1.37-1.37c-.4-.4-.92-.59-1.43-.59-.52 0-1.04.2-1.43.59L10.3 9.45l-7.72 7.72c-.78.78-.78 2.05 0 2.83L4 21.41c.39.39.9.59 1.41.59.51 0 1.02-.2 1.41-.59l7.78-7.78 2.81-2.81c.8-.78.8-2.07 0-2.86zM5.41 20L4 18.59l7.72-7.72 1.47 1.35L5.41 20z\"/>\n",
              "  </svg>\n",
              "      </button>\n",
              "      \n",
              "  <style>\n",
              "    .colab-df-container {\n",
              "      display:flex;\n",
              "      flex-wrap:wrap;\n",
              "      gap: 12px;\n",
              "    }\n",
              "\n",
              "    .colab-df-convert {\n",
              "      background-color: #E8F0FE;\n",
              "      border: none;\n",
              "      border-radius: 50%;\n",
              "      cursor: pointer;\n",
              "      display: none;\n",
              "      fill: #1967D2;\n",
              "      height: 32px;\n",
              "      padding: 0 0 0 0;\n",
              "      width: 32px;\n",
              "    }\n",
              "\n",
              "    .colab-df-convert:hover {\n",
              "      background-color: #E2EBFA;\n",
              "      box-shadow: 0px 1px 2px rgba(60, 64, 67, 0.3), 0px 1px 3px 1px rgba(60, 64, 67, 0.15);\n",
              "      fill: #174EA6;\n",
              "    }\n",
              "\n",
              "    [theme=dark] .colab-df-convert {\n",
              "      background-color: #3B4455;\n",
              "      fill: #D2E3FC;\n",
              "    }\n",
              "\n",
              "    [theme=dark] .colab-df-convert:hover {\n",
              "      background-color: #434B5C;\n",
              "      box-shadow: 0px 1px 3px 1px rgba(0, 0, 0, 0.15);\n",
              "      filter: drop-shadow(0px 1px 2px rgba(0, 0, 0, 0.3));\n",
              "      fill: #FFFFFF;\n",
              "    }\n",
              "  </style>\n",
              "\n",
              "      <script>\n",
              "        const buttonEl =\n",
              "          document.querySelector('#df-5210f126-22a4-40d9-99f2-afc2fe985c03 button.colab-df-convert');\n",
              "        buttonEl.style.display =\n",
              "          google.colab.kernel.accessAllowed ? 'block' : 'none';\n",
              "\n",
              "        async function convertToInteractive(key) {\n",
              "          const element = document.querySelector('#df-5210f126-22a4-40d9-99f2-afc2fe985c03');\n",
              "          const dataTable =\n",
              "            await google.colab.kernel.invokeFunction('convertToInteractive',\n",
              "                                                     [key], {});\n",
              "          if (!dataTable) return;\n",
              "\n",
              "          const docLinkHtml = 'Like what you see? Visit the ' +\n",
              "            '<a target=\"_blank\" href=https://colab.research.google.com/notebooks/data_table.ipynb>data table notebook</a>'\n",
              "            + ' to learn more about interactive tables.';\n",
              "          element.innerHTML = '';\n",
              "          dataTable['output_type'] = 'display_data';\n",
              "          await google.colab.output.renderOutput(dataTable, element);\n",
              "          const docLink = document.createElement('div');\n",
              "          docLink.innerHTML = docLinkHtml;\n",
              "          element.appendChild(docLink);\n",
              "        }\n",
              "      </script>\n",
              "    </div>\n",
              "  </div>\n",
              "  "
            ]
          },
          "metadata": {},
          "execution_count": 254
        }
      ]
    },
    {
      "cell_type": "markdown",
      "source": [
        "## Save dataset"
      ],
      "metadata": {
        "id": "5i1kB0JxYWBC"
      }
    },
    {
      "cell_type": "code",
      "source": [
        "fin_ratios.to_csv('/content/Fin-Ratios.csv')"
      ],
      "metadata": {
        "id": "qZObfYrjYXYE"
      },
      "execution_count": null,
      "outputs": []
    },
    {
      "cell_type": "markdown",
      "source": [
        "# Industry indicators"
      ],
      "metadata": {
        "id": "eQEhxewxiTqu"
      }
    },
    {
      "cell_type": "markdown",
      "source": [
        "## Merge dataset\n",
        "* stock dataset\n",
        "* industry indicator dataset\n",
        "* inner merge on 'TICKER'"
      ],
      "metadata": {
        "id": "CBMz4hlJktTL"
      }
    },
    {
      "cell_type": "code",
      "source": [
        "# Recall industry indicator dataset\n",
        "industry.head(1)"
      ],
      "metadata": {
        "colab": {
          "base_uri": "https://localhost:8080/",
          "height": 80
        },
        "id": "t4g177uzdHiL",
        "outputId": "8e65813d-48a9-4767-d460-295b8b908e82"
      },
      "execution_count": null,
      "outputs": [
        {
          "output_type": "execute_result",
          "data": {
            "text/plain": [
              "   datadate  fyear TICKER  fyr  ggroup    gind  gsector   gsubind\n",
              "0  20210531   2020    AIR    5    2010  201010       20  20101010"
            ],
            "text/html": [
              "\n",
              "  <div id=\"df-2d24719b-5c9e-4eef-95f2-21040a9215d2\">\n",
              "    <div class=\"colab-df-container\">\n",
              "      <div>\n",
              "<style scoped>\n",
              "    .dataframe tbody tr th:only-of-type {\n",
              "        vertical-align: middle;\n",
              "    }\n",
              "\n",
              "    .dataframe tbody tr th {\n",
              "        vertical-align: top;\n",
              "    }\n",
              "\n",
              "    .dataframe thead th {\n",
              "        text-align: right;\n",
              "    }\n",
              "</style>\n",
              "<table border=\"1\" class=\"dataframe\">\n",
              "  <thead>\n",
              "    <tr style=\"text-align: right;\">\n",
              "      <th></th>\n",
              "      <th>datadate</th>\n",
              "      <th>fyear</th>\n",
              "      <th>TICKER</th>\n",
              "      <th>fyr</th>\n",
              "      <th>ggroup</th>\n",
              "      <th>gind</th>\n",
              "      <th>gsector</th>\n",
              "      <th>gsubind</th>\n",
              "    </tr>\n",
              "  </thead>\n",
              "  <tbody>\n",
              "    <tr>\n",
              "      <th>0</th>\n",
              "      <td>20210531</td>\n",
              "      <td>2020</td>\n",
              "      <td>AIR</td>\n",
              "      <td>5</td>\n",
              "      <td>2010</td>\n",
              "      <td>201010</td>\n",
              "      <td>20</td>\n",
              "      <td>20101010</td>\n",
              "    </tr>\n",
              "  </tbody>\n",
              "</table>\n",
              "</div>\n",
              "      <button class=\"colab-df-convert\" onclick=\"convertToInteractive('df-2d24719b-5c9e-4eef-95f2-21040a9215d2')\"\n",
              "              title=\"Convert this dataframe to an interactive table.\"\n",
              "              style=\"display:none;\">\n",
              "        \n",
              "  <svg xmlns=\"http://www.w3.org/2000/svg\" height=\"24px\"viewBox=\"0 0 24 24\"\n",
              "       width=\"24px\">\n",
              "    <path d=\"M0 0h24v24H0V0z\" fill=\"none\"/>\n",
              "    <path d=\"M18.56 5.44l.94 2.06.94-2.06 2.06-.94-2.06-.94-.94-2.06-.94 2.06-2.06.94zm-11 1L8.5 8.5l.94-2.06 2.06-.94-2.06-.94L8.5 2.5l-.94 2.06-2.06.94zm10 10l.94 2.06.94-2.06 2.06-.94-2.06-.94-.94-2.06-.94 2.06-2.06.94z\"/><path d=\"M17.41 7.96l-1.37-1.37c-.4-.4-.92-.59-1.43-.59-.52 0-1.04.2-1.43.59L10.3 9.45l-7.72 7.72c-.78.78-.78 2.05 0 2.83L4 21.41c.39.39.9.59 1.41.59.51 0 1.02-.2 1.41-.59l7.78-7.78 2.81-2.81c.8-.78.8-2.07 0-2.86zM5.41 20L4 18.59l7.72-7.72 1.47 1.35L5.41 20z\"/>\n",
              "  </svg>\n",
              "      </button>\n",
              "      \n",
              "  <style>\n",
              "    .colab-df-container {\n",
              "      display:flex;\n",
              "      flex-wrap:wrap;\n",
              "      gap: 12px;\n",
              "    }\n",
              "\n",
              "    .colab-df-convert {\n",
              "      background-color: #E8F0FE;\n",
              "      border: none;\n",
              "      border-radius: 50%;\n",
              "      cursor: pointer;\n",
              "      display: none;\n",
              "      fill: #1967D2;\n",
              "      height: 32px;\n",
              "      padding: 0 0 0 0;\n",
              "      width: 32px;\n",
              "    }\n",
              "\n",
              "    .colab-df-convert:hover {\n",
              "      background-color: #E2EBFA;\n",
              "      box-shadow: 0px 1px 2px rgba(60, 64, 67, 0.3), 0px 1px 3px 1px rgba(60, 64, 67, 0.15);\n",
              "      fill: #174EA6;\n",
              "    }\n",
              "\n",
              "    [theme=dark] .colab-df-convert {\n",
              "      background-color: #3B4455;\n",
              "      fill: #D2E3FC;\n",
              "    }\n",
              "\n",
              "    [theme=dark] .colab-df-convert:hover {\n",
              "      background-color: #434B5C;\n",
              "      box-shadow: 0px 1px 3px 1px rgba(0, 0, 0, 0.15);\n",
              "      filter: drop-shadow(0px 1px 2px rgba(0, 0, 0, 0.3));\n",
              "      fill: #FFFFFF;\n",
              "    }\n",
              "  </style>\n",
              "\n",
              "      <script>\n",
              "        const buttonEl =\n",
              "          document.querySelector('#df-2d24719b-5c9e-4eef-95f2-21040a9215d2 button.colab-df-convert');\n",
              "        buttonEl.style.display =\n",
              "          google.colab.kernel.accessAllowed ? 'block' : 'none';\n",
              "\n",
              "        async function convertToInteractive(key) {\n",
              "          const element = document.querySelector('#df-2d24719b-5c9e-4eef-95f2-21040a9215d2');\n",
              "          const dataTable =\n",
              "            await google.colab.kernel.invokeFunction('convertToInteractive',\n",
              "                                                     [key], {});\n",
              "          if (!dataTable) return;\n",
              "\n",
              "          const docLinkHtml = 'Like what you see? Visit the ' +\n",
              "            '<a target=\"_blank\" href=https://colab.research.google.com/notebooks/data_table.ipynb>data table notebook</a>'\n",
              "            + ' to learn more about interactive tables.';\n",
              "          element.innerHTML = '';\n",
              "          dataTable['output_type'] = 'display_data';\n",
              "          await google.colab.output.renderOutput(dataTable, element);\n",
              "          const docLink = document.createElement('div');\n",
              "          docLink.innerHTML = docLinkHtml;\n",
              "          element.appendChild(docLink);\n",
              "        }\n",
              "      </script>\n",
              "    </div>\n",
              "  </div>\n",
              "  "
            ]
          },
          "metadata": {},
          "execution_count": 257
        }
      ]
    },
    {
      "cell_type": "code",
      "source": [
        "industry.shape"
      ],
      "metadata": {
        "colab": {
          "base_uri": "https://localhost:8080/"
        },
        "id": "zDGKTuHBdYcd",
        "outputId": "d741212d-11a4-4bef-ac45-08aa6506172b"
      },
      "execution_count": null,
      "outputs": [
        {
          "output_type": "execute_result",
          "data": {
            "text/plain": [
              "(1886, 8)"
            ]
          },
          "metadata": {},
          "execution_count": 258
        }
      ]
    },
    {
      "cell_type": "code",
      "source": [
        "stock.shape"
      ],
      "metadata": {
        "colab": {
          "base_uri": "https://localhost:8080/"
        },
        "id": "VT0Z8lqMdZ8p",
        "outputId": "25c2a54e-7199-43b5-e097-79ecafc23b18"
      },
      "execution_count": null,
      "outputs": [
        {
          "output_type": "execute_result",
          "data": {
            "text/plain": [
              "(1886, 2)"
            ]
          },
          "metadata": {},
          "execution_count": 259
        }
      ]
    },
    {
      "cell_type": "code",
      "source": [
        "# Merge datasets\n",
        "gics = pd.merge(stock,industry, on='TICKER', how='inner')"
      ],
      "metadata": {
        "id": "_f4qjkSnvzO8"
      },
      "execution_count": null,
      "outputs": []
    },
    {
      "cell_type": "code",
      "source": [
        "gics.isna().sum()"
      ],
      "metadata": {
        "colab": {
          "base_uri": "https://localhost:8080/"
        },
        "id": "AU0l_iFmw00v",
        "outputId": "220836f6-e2dc-4592-9165-198474e09ac7"
      },
      "execution_count": null,
      "outputs": [
        {
          "output_type": "execute_result",
          "data": {
            "text/plain": [
              "TICKER      0\n",
              "RetYTD      0\n",
              "datadate    0\n",
              "fyear       0\n",
              "fyr         0\n",
              "ggroup      0\n",
              "gind        0\n",
              "gsector     0\n",
              "gsubind     0\n",
              "dtype: int64"
            ]
          },
          "metadata": {},
          "execution_count": 261
        }
      ]
    },
    {
      "cell_type": "code",
      "source": [
        "gics.shape"
      ],
      "metadata": {
        "colab": {
          "base_uri": "https://localhost:8080/"
        },
        "id": "uzPzyPz-dgRe",
        "outputId": "27db6e6b-ba00-4af5-cd41-2f9a84272832"
      },
      "execution_count": null,
      "outputs": [
        {
          "output_type": "execute_result",
          "data": {
            "text/plain": [
              "(1886, 9)"
            ]
          },
          "metadata": {},
          "execution_count": 262
        }
      ]
    },
    {
      "cell_type": "code",
      "source": [
        "gics.head(3)"
      ],
      "metadata": {
        "colab": {
          "base_uri": "https://localhost:8080/",
          "height": 143
        },
        "id": "tTEWfW4Qw3Lq",
        "outputId": "b909c5ba-66d0-41ac-bc45-6f6ab72be8da"
      },
      "execution_count": null,
      "outputs": [
        {
          "output_type": "execute_result",
          "data": {
            "text/plain": [
              "  TICKER  RetYTD  datadate  fyear  fyr  ggroup    gind  gsector   gsubind\n",
              "0      A -0.2080  20211031   2021   10    3520  352030       35  35203010\n",
              "1     AA  0.4731  20211231   2021   12    1510  151040       15  15104010\n",
              "2    AAL  0.0579  20211231   2021   12    2030  203020       20  20302010"
            ],
            "text/html": [
              "\n",
              "  <div id=\"df-aaadb240-7ef5-404d-bdfc-381196773561\">\n",
              "    <div class=\"colab-df-container\">\n",
              "      <div>\n",
              "<style scoped>\n",
              "    .dataframe tbody tr th:only-of-type {\n",
              "        vertical-align: middle;\n",
              "    }\n",
              "\n",
              "    .dataframe tbody tr th {\n",
              "        vertical-align: top;\n",
              "    }\n",
              "\n",
              "    .dataframe thead th {\n",
              "        text-align: right;\n",
              "    }\n",
              "</style>\n",
              "<table border=\"1\" class=\"dataframe\">\n",
              "  <thead>\n",
              "    <tr style=\"text-align: right;\">\n",
              "      <th></th>\n",
              "      <th>TICKER</th>\n",
              "      <th>RetYTD</th>\n",
              "      <th>datadate</th>\n",
              "      <th>fyear</th>\n",
              "      <th>fyr</th>\n",
              "      <th>ggroup</th>\n",
              "      <th>gind</th>\n",
              "      <th>gsector</th>\n",
              "      <th>gsubind</th>\n",
              "    </tr>\n",
              "  </thead>\n",
              "  <tbody>\n",
              "    <tr>\n",
              "      <th>0</th>\n",
              "      <td>A</td>\n",
              "      <td>-0.2080</td>\n",
              "      <td>20211031</td>\n",
              "      <td>2021</td>\n",
              "      <td>10</td>\n",
              "      <td>3520</td>\n",
              "      <td>352030</td>\n",
              "      <td>35</td>\n",
              "      <td>35203010</td>\n",
              "    </tr>\n",
              "    <tr>\n",
              "      <th>1</th>\n",
              "      <td>AA</td>\n",
              "      <td>0.4731</td>\n",
              "      <td>20211231</td>\n",
              "      <td>2021</td>\n",
              "      <td>12</td>\n",
              "      <td>1510</td>\n",
              "      <td>151040</td>\n",
              "      <td>15</td>\n",
              "      <td>15104010</td>\n",
              "    </tr>\n",
              "    <tr>\n",
              "      <th>2</th>\n",
              "      <td>AAL</td>\n",
              "      <td>0.0579</td>\n",
              "      <td>20211231</td>\n",
              "      <td>2021</td>\n",
              "      <td>12</td>\n",
              "      <td>2030</td>\n",
              "      <td>203020</td>\n",
              "      <td>20</td>\n",
              "      <td>20302010</td>\n",
              "    </tr>\n",
              "  </tbody>\n",
              "</table>\n",
              "</div>\n",
              "      <button class=\"colab-df-convert\" onclick=\"convertToInteractive('df-aaadb240-7ef5-404d-bdfc-381196773561')\"\n",
              "              title=\"Convert this dataframe to an interactive table.\"\n",
              "              style=\"display:none;\">\n",
              "        \n",
              "  <svg xmlns=\"http://www.w3.org/2000/svg\" height=\"24px\"viewBox=\"0 0 24 24\"\n",
              "       width=\"24px\">\n",
              "    <path d=\"M0 0h24v24H0V0z\" fill=\"none\"/>\n",
              "    <path d=\"M18.56 5.44l.94 2.06.94-2.06 2.06-.94-2.06-.94-.94-2.06-.94 2.06-2.06.94zm-11 1L8.5 8.5l.94-2.06 2.06-.94-2.06-.94L8.5 2.5l-.94 2.06-2.06.94zm10 10l.94 2.06.94-2.06 2.06-.94-2.06-.94-.94-2.06-.94 2.06-2.06.94z\"/><path d=\"M17.41 7.96l-1.37-1.37c-.4-.4-.92-.59-1.43-.59-.52 0-1.04.2-1.43.59L10.3 9.45l-7.72 7.72c-.78.78-.78 2.05 0 2.83L4 21.41c.39.39.9.59 1.41.59.51 0 1.02-.2 1.41-.59l7.78-7.78 2.81-2.81c.8-.78.8-2.07 0-2.86zM5.41 20L4 18.59l7.72-7.72 1.47 1.35L5.41 20z\"/>\n",
              "  </svg>\n",
              "      </button>\n",
              "      \n",
              "  <style>\n",
              "    .colab-df-container {\n",
              "      display:flex;\n",
              "      flex-wrap:wrap;\n",
              "      gap: 12px;\n",
              "    }\n",
              "\n",
              "    .colab-df-convert {\n",
              "      background-color: #E8F0FE;\n",
              "      border: none;\n",
              "      border-radius: 50%;\n",
              "      cursor: pointer;\n",
              "      display: none;\n",
              "      fill: #1967D2;\n",
              "      height: 32px;\n",
              "      padding: 0 0 0 0;\n",
              "      width: 32px;\n",
              "    }\n",
              "\n",
              "    .colab-df-convert:hover {\n",
              "      background-color: #E2EBFA;\n",
              "      box-shadow: 0px 1px 2px rgba(60, 64, 67, 0.3), 0px 1px 3px 1px rgba(60, 64, 67, 0.15);\n",
              "      fill: #174EA6;\n",
              "    }\n",
              "\n",
              "    [theme=dark] .colab-df-convert {\n",
              "      background-color: #3B4455;\n",
              "      fill: #D2E3FC;\n",
              "    }\n",
              "\n",
              "    [theme=dark] .colab-df-convert:hover {\n",
              "      background-color: #434B5C;\n",
              "      box-shadow: 0px 1px 3px 1px rgba(0, 0, 0, 0.15);\n",
              "      filter: drop-shadow(0px 1px 2px rgba(0, 0, 0, 0.3));\n",
              "      fill: #FFFFFF;\n",
              "    }\n",
              "  </style>\n",
              "\n",
              "      <script>\n",
              "        const buttonEl =\n",
              "          document.querySelector('#df-aaadb240-7ef5-404d-bdfc-381196773561 button.colab-df-convert');\n",
              "        buttonEl.style.display =\n",
              "          google.colab.kernel.accessAllowed ? 'block' : 'none';\n",
              "\n",
              "        async function convertToInteractive(key) {\n",
              "          const element = document.querySelector('#df-aaadb240-7ef5-404d-bdfc-381196773561');\n",
              "          const dataTable =\n",
              "            await google.colab.kernel.invokeFunction('convertToInteractive',\n",
              "                                                     [key], {});\n",
              "          if (!dataTable) return;\n",
              "\n",
              "          const docLinkHtml = 'Like what you see? Visit the ' +\n",
              "            '<a target=\"_blank\" href=https://colab.research.google.com/notebooks/data_table.ipynb>data table notebook</a>'\n",
              "            + ' to learn more about interactive tables.';\n",
              "          element.innerHTML = '';\n",
              "          dataTable['output_type'] = 'display_data';\n",
              "          await google.colab.output.renderOutput(dataTable, element);\n",
              "          const docLink = document.createElement('div');\n",
              "          docLink.innerHTML = docLinkHtml;\n",
              "          element.appendChild(docLink);\n",
              "        }\n",
              "      </script>\n",
              "    </div>\n",
              "  </div>\n",
              "  "
            ]
          },
          "metadata": {},
          "execution_count": 263
        }
      ]
    },
    {
      "cell_type": "markdown",
      "source": [
        "## Save dataset"
      ],
      "metadata": {
        "id": "wTQAs7evxJjK"
      }
    },
    {
      "cell_type": "code",
      "source": [
        "# Save dataset\n",
        "gics.to_csv(\"/content/Industry.csv\")"
      ],
      "metadata": {
        "id": "XOzXd8XLxK8R"
      },
      "execution_count": null,
      "outputs": []
    },
    {
      "cell_type": "markdown",
      "source": [
        "# Run OLS explanatory for 4 categories"
      ],
      "metadata": {
        "id": "mJkj9pvlYYbf"
      }
    },
    {
      "cell_type": "markdown",
      "source": [
        "## Risk Regressions\n",
        "* Ret(i) = a + b1*MktExposure(i) + b2*SizeExposure(i) + b3*ValueExposure(i) + e\n",
        "* Interpret and explain your findings (focus on R2, Adj R2 and coefficients)"
      ],
      "metadata": {
        "id": "W-tCcJgyYd1m"
      }
    },
    {
      "cell_type": "markdown",
      "source": [
        "### Merge dataset\n",
        "* risk factors data\n",
        "* montly stock return data\n",
        "* Inner merge (ff_exposure: 1923 tickers, stock: 1886 tickers)"
      ],
      "metadata": {
        "id": "VizZUoYzfNCo"
      }
    },
    {
      "cell_type": "code",
      "source": [
        "ff_exposure.head(3)"
      ],
      "metadata": {
        "colab": {
          "base_uri": "https://localhost:8080/",
          "height": 143
        },
        "id": "NWnJELmTYayS",
        "outputId": "dacf1f88-c86f-4822-ad65-f5736a9be351"
      },
      "execution_count": null,
      "outputs": [
        {
          "output_type": "execute_result",
          "data": {
            "text/plain": [
              "  TICKER  mktrf    smb    hml\n",
              "0   JJSF  0.453  0.357  0.524\n",
              "1   PLXS  0.956  0.230  0.598\n",
              "2   ORCL  0.839 -0.587  0.016"
            ],
            "text/html": [
              "\n",
              "  <div id=\"df-a313af24-723d-4a6c-94e1-e1e93a676ec5\">\n",
              "    <div class=\"colab-df-container\">\n",
              "      <div>\n",
              "<style scoped>\n",
              "    .dataframe tbody tr th:only-of-type {\n",
              "        vertical-align: middle;\n",
              "    }\n",
              "\n",
              "    .dataframe tbody tr th {\n",
              "        vertical-align: top;\n",
              "    }\n",
              "\n",
              "    .dataframe thead th {\n",
              "        text-align: right;\n",
              "    }\n",
              "</style>\n",
              "<table border=\"1\" class=\"dataframe\">\n",
              "  <thead>\n",
              "    <tr style=\"text-align: right;\">\n",
              "      <th></th>\n",
              "      <th>TICKER</th>\n",
              "      <th>mktrf</th>\n",
              "      <th>smb</th>\n",
              "      <th>hml</th>\n",
              "    </tr>\n",
              "  </thead>\n",
              "  <tbody>\n",
              "    <tr>\n",
              "      <th>0</th>\n",
              "      <td>JJSF</td>\n",
              "      <td>0.453</td>\n",
              "      <td>0.357</td>\n",
              "      <td>0.524</td>\n",
              "    </tr>\n",
              "    <tr>\n",
              "      <th>1</th>\n",
              "      <td>PLXS</td>\n",
              "      <td>0.956</td>\n",
              "      <td>0.230</td>\n",
              "      <td>0.598</td>\n",
              "    </tr>\n",
              "    <tr>\n",
              "      <th>2</th>\n",
              "      <td>ORCL</td>\n",
              "      <td>0.839</td>\n",
              "      <td>-0.587</td>\n",
              "      <td>0.016</td>\n",
              "    </tr>\n",
              "  </tbody>\n",
              "</table>\n",
              "</div>\n",
              "      <button class=\"colab-df-convert\" onclick=\"convertToInteractive('df-a313af24-723d-4a6c-94e1-e1e93a676ec5')\"\n",
              "              title=\"Convert this dataframe to an interactive table.\"\n",
              "              style=\"display:none;\">\n",
              "        \n",
              "  <svg xmlns=\"http://www.w3.org/2000/svg\" height=\"24px\"viewBox=\"0 0 24 24\"\n",
              "       width=\"24px\">\n",
              "    <path d=\"M0 0h24v24H0V0z\" fill=\"none\"/>\n",
              "    <path d=\"M18.56 5.44l.94 2.06.94-2.06 2.06-.94-2.06-.94-.94-2.06-.94 2.06-2.06.94zm-11 1L8.5 8.5l.94-2.06 2.06-.94-2.06-.94L8.5 2.5l-.94 2.06-2.06.94zm10 10l.94 2.06.94-2.06 2.06-.94-2.06-.94-.94-2.06-.94 2.06-2.06.94z\"/><path d=\"M17.41 7.96l-1.37-1.37c-.4-.4-.92-.59-1.43-.59-.52 0-1.04.2-1.43.59L10.3 9.45l-7.72 7.72c-.78.78-.78 2.05 0 2.83L4 21.41c.39.39.9.59 1.41.59.51 0 1.02-.2 1.41-.59l7.78-7.78 2.81-2.81c.8-.78.8-2.07 0-2.86zM5.41 20L4 18.59l7.72-7.72 1.47 1.35L5.41 20z\"/>\n",
              "  </svg>\n",
              "      </button>\n",
              "      \n",
              "  <style>\n",
              "    .colab-df-container {\n",
              "      display:flex;\n",
              "      flex-wrap:wrap;\n",
              "      gap: 12px;\n",
              "    }\n",
              "\n",
              "    .colab-df-convert {\n",
              "      background-color: #E8F0FE;\n",
              "      border: none;\n",
              "      border-radius: 50%;\n",
              "      cursor: pointer;\n",
              "      display: none;\n",
              "      fill: #1967D2;\n",
              "      height: 32px;\n",
              "      padding: 0 0 0 0;\n",
              "      width: 32px;\n",
              "    }\n",
              "\n",
              "    .colab-df-convert:hover {\n",
              "      background-color: #E2EBFA;\n",
              "      box-shadow: 0px 1px 2px rgba(60, 64, 67, 0.3), 0px 1px 3px 1px rgba(60, 64, 67, 0.15);\n",
              "      fill: #174EA6;\n",
              "    }\n",
              "\n",
              "    [theme=dark] .colab-df-convert {\n",
              "      background-color: #3B4455;\n",
              "      fill: #D2E3FC;\n",
              "    }\n",
              "\n",
              "    [theme=dark] .colab-df-convert:hover {\n",
              "      background-color: #434B5C;\n",
              "      box-shadow: 0px 1px 3px 1px rgba(0, 0, 0, 0.15);\n",
              "      filter: drop-shadow(0px 1px 2px rgba(0, 0, 0, 0.3));\n",
              "      fill: #FFFFFF;\n",
              "    }\n",
              "  </style>\n",
              "\n",
              "      <script>\n",
              "        const buttonEl =\n",
              "          document.querySelector('#df-a313af24-723d-4a6c-94e1-e1e93a676ec5 button.colab-df-convert');\n",
              "        buttonEl.style.display =\n",
              "          google.colab.kernel.accessAllowed ? 'block' : 'none';\n",
              "\n",
              "        async function convertToInteractive(key) {\n",
              "          const element = document.querySelector('#df-a313af24-723d-4a6c-94e1-e1e93a676ec5');\n",
              "          const dataTable =\n",
              "            await google.colab.kernel.invokeFunction('convertToInteractive',\n",
              "                                                     [key], {});\n",
              "          if (!dataTable) return;\n",
              "\n",
              "          const docLinkHtml = 'Like what you see? Visit the ' +\n",
              "            '<a target=\"_blank\" href=https://colab.research.google.com/notebooks/data_table.ipynb>data table notebook</a>'\n",
              "            + ' to learn more about interactive tables.';\n",
              "          element.innerHTML = '';\n",
              "          dataTable['output_type'] = 'display_data';\n",
              "          await google.colab.output.renderOutput(dataTable, element);\n",
              "          const docLink = document.createElement('div');\n",
              "          docLink.innerHTML = docLinkHtml;\n",
              "          element.appendChild(docLink);\n",
              "        }\n",
              "      </script>\n",
              "    </div>\n",
              "  </div>\n",
              "  "
            ]
          },
          "metadata": {},
          "execution_count": 266
        }
      ]
    },
    {
      "cell_type": "code",
      "source": [
        "# Merge datasets\n",
        "ret_risk = pd.merge(stock,ff_exposure, on='TICKER', how='inner')"
      ],
      "metadata": {
        "id": "XIYfTvndbeL-"
      },
      "execution_count": null,
      "outputs": []
    },
    {
      "cell_type": "code",
      "source": [
        "ret_risk.shape"
      ],
      "metadata": {
        "colab": {
          "base_uri": "https://localhost:8080/"
        },
        "id": "PU8Ye3ljj54J",
        "outputId": "dca97740-f30c-4333-b053-9a5e9eaa62c6"
      },
      "execution_count": null,
      "outputs": [
        {
          "output_type": "execute_result",
          "data": {
            "text/plain": [
              "(1886, 5)"
            ]
          },
          "metadata": {},
          "execution_count": 315
        }
      ]
    },
    {
      "cell_type": "code",
      "source": [
        "ret_risk.isna().sum()"
      ],
      "metadata": {
        "colab": {
          "base_uri": "https://localhost:8080/"
        },
        "id": "-RD4qQt0j7dA",
        "outputId": "16a0487f-d549-432a-ee35-013bfc64544a"
      },
      "execution_count": null,
      "outputs": [
        {
          "output_type": "execute_result",
          "data": {
            "text/plain": [
              "TICKER    0\n",
              "RetYTD    0\n",
              "mktrf     0\n",
              "smb       0\n",
              "hml       0\n",
              "dtype: int64"
            ]
          },
          "metadata": {},
          "execution_count": 316
        }
      ]
    },
    {
      "cell_type": "code",
      "source": [
        "ret_risk.head(3)"
      ],
      "metadata": {
        "colab": {
          "base_uri": "https://localhost:8080/",
          "height": 143
        },
        "id": "xwV1s_xtkH-R",
        "outputId": "58b400a7-b63a-4901-f8ef-58cc3472e04e"
      },
      "execution_count": null,
      "outputs": [
        {
          "output_type": "execute_result",
          "data": {
            "text/plain": [
              "  TICKER  RetYTD  mktrf    smb    hml\n",
              "0      A -0.2080  1.014 -0.254 -0.144\n",
              "1     AA  0.4731  1.984  0.528  1.925\n",
              "2    AAL  0.0579  1.316  0.613  1.248"
            ],
            "text/html": [
              "\n",
              "  <div id=\"df-dba78edc-04ef-4c93-bc57-58af75d1aed7\">\n",
              "    <div class=\"colab-df-container\">\n",
              "      <div>\n",
              "<style scoped>\n",
              "    .dataframe tbody tr th:only-of-type {\n",
              "        vertical-align: middle;\n",
              "    }\n",
              "\n",
              "    .dataframe tbody tr th {\n",
              "        vertical-align: top;\n",
              "    }\n",
              "\n",
              "    .dataframe thead th {\n",
              "        text-align: right;\n",
              "    }\n",
              "</style>\n",
              "<table border=\"1\" class=\"dataframe\">\n",
              "  <thead>\n",
              "    <tr style=\"text-align: right;\">\n",
              "      <th></th>\n",
              "      <th>TICKER</th>\n",
              "      <th>RetYTD</th>\n",
              "      <th>mktrf</th>\n",
              "      <th>smb</th>\n",
              "      <th>hml</th>\n",
              "    </tr>\n",
              "  </thead>\n",
              "  <tbody>\n",
              "    <tr>\n",
              "      <th>0</th>\n",
              "      <td>A</td>\n",
              "      <td>-0.2080</td>\n",
              "      <td>1.014</td>\n",
              "      <td>-0.254</td>\n",
              "      <td>-0.144</td>\n",
              "    </tr>\n",
              "    <tr>\n",
              "      <th>1</th>\n",
              "      <td>AA</td>\n",
              "      <td>0.4731</td>\n",
              "      <td>1.984</td>\n",
              "      <td>0.528</td>\n",
              "      <td>1.925</td>\n",
              "    </tr>\n",
              "    <tr>\n",
              "      <th>2</th>\n",
              "      <td>AAL</td>\n",
              "      <td>0.0579</td>\n",
              "      <td>1.316</td>\n",
              "      <td>0.613</td>\n",
              "      <td>1.248</td>\n",
              "    </tr>\n",
              "  </tbody>\n",
              "</table>\n",
              "</div>\n",
              "      <button class=\"colab-df-convert\" onclick=\"convertToInteractive('df-dba78edc-04ef-4c93-bc57-58af75d1aed7')\"\n",
              "              title=\"Convert this dataframe to an interactive table.\"\n",
              "              style=\"display:none;\">\n",
              "        \n",
              "  <svg xmlns=\"http://www.w3.org/2000/svg\" height=\"24px\"viewBox=\"0 0 24 24\"\n",
              "       width=\"24px\">\n",
              "    <path d=\"M0 0h24v24H0V0z\" fill=\"none\"/>\n",
              "    <path d=\"M18.56 5.44l.94 2.06.94-2.06 2.06-.94-2.06-.94-.94-2.06-.94 2.06-2.06.94zm-11 1L8.5 8.5l.94-2.06 2.06-.94-2.06-.94L8.5 2.5l-.94 2.06-2.06.94zm10 10l.94 2.06.94-2.06 2.06-.94-2.06-.94-.94-2.06-.94 2.06-2.06.94z\"/><path d=\"M17.41 7.96l-1.37-1.37c-.4-.4-.92-.59-1.43-.59-.52 0-1.04.2-1.43.59L10.3 9.45l-7.72 7.72c-.78.78-.78 2.05 0 2.83L4 21.41c.39.39.9.59 1.41.59.51 0 1.02-.2 1.41-.59l7.78-7.78 2.81-2.81c.8-.78.8-2.07 0-2.86zM5.41 20L4 18.59l7.72-7.72 1.47 1.35L5.41 20z\"/>\n",
              "  </svg>\n",
              "      </button>\n",
              "      \n",
              "  <style>\n",
              "    .colab-df-container {\n",
              "      display:flex;\n",
              "      flex-wrap:wrap;\n",
              "      gap: 12px;\n",
              "    }\n",
              "\n",
              "    .colab-df-convert {\n",
              "      background-color: #E8F0FE;\n",
              "      border: none;\n",
              "      border-radius: 50%;\n",
              "      cursor: pointer;\n",
              "      display: none;\n",
              "      fill: #1967D2;\n",
              "      height: 32px;\n",
              "      padding: 0 0 0 0;\n",
              "      width: 32px;\n",
              "    }\n",
              "\n",
              "    .colab-df-convert:hover {\n",
              "      background-color: #E2EBFA;\n",
              "      box-shadow: 0px 1px 2px rgba(60, 64, 67, 0.3), 0px 1px 3px 1px rgba(60, 64, 67, 0.15);\n",
              "      fill: #174EA6;\n",
              "    }\n",
              "\n",
              "    [theme=dark] .colab-df-convert {\n",
              "      background-color: #3B4455;\n",
              "      fill: #D2E3FC;\n",
              "    }\n",
              "\n",
              "    [theme=dark] .colab-df-convert:hover {\n",
              "      background-color: #434B5C;\n",
              "      box-shadow: 0px 1px 3px 1px rgba(0, 0, 0, 0.15);\n",
              "      filter: drop-shadow(0px 1px 2px rgba(0, 0, 0, 0.3));\n",
              "      fill: #FFFFFF;\n",
              "    }\n",
              "  </style>\n",
              "\n",
              "      <script>\n",
              "        const buttonEl =\n",
              "          document.querySelector('#df-dba78edc-04ef-4c93-bc57-58af75d1aed7 button.colab-df-convert');\n",
              "        buttonEl.style.display =\n",
              "          google.colab.kernel.accessAllowed ? 'block' : 'none';\n",
              "\n",
              "        async function convertToInteractive(key) {\n",
              "          const element = document.querySelector('#df-dba78edc-04ef-4c93-bc57-58af75d1aed7');\n",
              "          const dataTable =\n",
              "            await google.colab.kernel.invokeFunction('convertToInteractive',\n",
              "                                                     [key], {});\n",
              "          if (!dataTable) return;\n",
              "\n",
              "          const docLinkHtml = 'Like what you see? Visit the ' +\n",
              "            '<a target=\"_blank\" href=https://colab.research.google.com/notebooks/data_table.ipynb>data table notebook</a>'\n",
              "            + ' to learn more about interactive tables.';\n",
              "          element.innerHTML = '';\n",
              "          dataTable['output_type'] = 'display_data';\n",
              "          await google.colab.output.renderOutput(dataTable, element);\n",
              "          const docLink = document.createElement('div');\n",
              "          docLink.innerHTML = docLinkHtml;\n",
              "          element.appendChild(docLink);\n",
              "        }\n",
              "      </script>\n",
              "    </div>\n",
              "  </div>\n",
              "  "
            ]
          },
          "metadata": {},
          "execution_count": 317
        }
      ]
    },
    {
      "cell_type": "markdown",
      "source": [
        "### Regression interpretation\n",
        "* Dependent variable: stock return of early 2022\n",
        "* Independent variables: estimates(coefficients) of systemetic risk - coefficients of market factor(exposure to the broad market), coefficients of size factor(exposure to small stocks), and coefficients of value factor(exposure to value stocks). Note that these variables are not mktrf, smb, hml itself. These are **estimated betas** of each company by for-loop regression, which is the sensitivity of security’s returns to a particular systematic factor.\n",
        "* Explanatory power of regression: R-squred is 0.094 and Adjusted R-squared is 0.092. \n",
        " * R2 indicates how well the data “fits” the model, while AdjR2 is modified to adjust for the number of independent variables in the model, and is therefore considered the more conservative estimate.\n",
        " * Adjusted R Square measures the degree to which companies' stock return can be attributed to the independent variables.\n",
        " * Generally speaking, 0.092 adjusted R2 is considered low. 9.2% of the variance in the dependent variable is explained by the independent variables.\n",
        "\n",
        "* Coefficients\n",
        " * Coefficient of **hml and smb are statistically significant** because p-value is less than 0.01 based on t-statistics.\n",
        " * Coefficients of **mktrf is not statistically significant** because p-value is greater than 0.05.\n",
        " * Incremental increase of the independent variable(mktrf, hml, smb respectively) result in a change in RetYTD by the amount of coefficient value. mktrf, hml affect positively on RetYTD, while smb affects negatively on RetYTD.\n",
        " * This shows how the sensitivity of a portfolio’s returns to changes in a systematic factor affects early 2022 stock return."
      ],
      "metadata": {
        "id": "3LPiM_CGKuO4"
      }
    },
    {
      "cell_type": "code",
      "source": [
        "# Risk regression\n",
        "X_risk = sm.add_constant(ret_risk[['mktrf','smb','hml']])\n",
        "model_risk = sm.OLS(ret_risk['RetYTD'], X_risk).fit()\n",
        "print(model_risk.summary())"
      ],
      "metadata": {
        "colab": {
          "base_uri": "https://localhost:8080/"
        },
        "id": "FPvtYb8ckLaw",
        "outputId": "34fb6f41-e1be-4540-a177-6b04dea0fe3a"
      },
      "execution_count": null,
      "outputs": [
        {
          "output_type": "stream",
          "name": "stdout",
          "text": [
            "                            OLS Regression Results                            \n",
            "==============================================================================\n",
            "Dep. Variable:                 RetYTD   R-squared:                       0.094\n",
            "Model:                            OLS   Adj. R-squared:                  0.092\n",
            "Method:                 Least Squares   F-statistic:                     64.87\n",
            "Date:                Wed, 27 Apr 2022   Prob (F-statistic):           6.52e-40\n",
            "Time:                        20:09:17   Log-Likelihood:                 79.078\n",
            "No. Observations:                1886   AIC:                            -150.2\n",
            "Df Residuals:                    1882   BIC:                            -128.0\n",
            "Df Model:                           3                                         \n",
            "Covariance Type:            nonrobust                                         \n",
            "==============================================================================\n",
            "                 coef    std err          t      P>|t|      [0.025      0.975]\n",
            "------------------------------------------------------------------------------\n",
            "const         -0.1004      0.011     -9.095      0.000      -0.122      -0.079\n",
            "mktrf          0.0110      0.009      1.273      0.203      -0.006       0.028\n",
            "smb           -0.0123      0.005     -2.384      0.017      -0.022      -0.002\n",
            "hml            0.1051      0.008     13.686      0.000       0.090       0.120\n",
            "==============================================================================\n",
            "Omnibus:                      640.296   Durbin-Watson:                   2.005\n",
            "Prob(Omnibus):                  0.000   Jarque-Bera (JB):             3580.221\n",
            "Skew:                           1.488   Prob(JB):                         0.00\n",
            "Kurtosis:                       9.058   Cond. No.                         4.42\n",
            "==============================================================================\n",
            "\n",
            "Warnings:\n",
            "[1] Standard Errors assume that the covariance matrix of the errors is correctly specified.\n"
          ]
        }
      ]
    },
    {
      "cell_type": "markdown",
      "source": [
        "## Financial Characteristics\n",
        "* I went over multiple regressions with different independent variable combinations.\n",
        "* **Best model is Regression3, with 10 financial ratios** - ROA, asset_turnover_ratio, current_ratio, book/price, e/p, sale/p, quick_ratio, debt_to_equity, inventory_turnover_ratio, cash_ratio\n",
        "\n",
        "* Explanatory power of regression: R-squred is 0.102 and Adjusted R-squared is 0.098 (based on regression3)\n",
        " * In general, 0.098 adjusted R2 is considered low. 9.8% of the variance in the dependent variable is explained by the independent variables. This result indicates **10 financial ratios explain 9.8% of the variance in the early 2022 stock return shock**.\n",
        " * However, the s**tock market is fundamentally unstable, dynamic, and adaptive, unlike other market, so that it's very hard to predict and explain stock return**. Therefore, it is considered low, but compared to risk regression, the explanatory power is a bit higher.\n",
        "\n",
        "* Coefficients\n",
        " * Based on the best model(regression 3), coefficients of inventory_turnover_ratio and cash_ratio are not statistically significant because p-value is greater than 0.05. Other financial ratios are statistically significant, with p-value less than 0.05.\n",
        " * Incremental increase(one unit, which is %) of the each financial ratio result in a change in RetYTD by the amount of coefficient value. This shows how financial ratios affect stock return of early 2022.\n",
        " * ROA, book/price, sales/p, quick ratio, inventory_turnover_ratio affect positively on stock return, while other ratios affect negatively on stock return."
      ],
      "metadata": {
        "id": "hQ96V8OyYin3"
      }
    },
    {
      "cell_type": "code",
      "source": [
        "fin_ratios.isna().sum()"
      ],
      "metadata": {
        "colab": {
          "base_uri": "https://localhost:8080/"
        },
        "id": "SGA4wGdhcAe6",
        "outputId": "ff112e7d-0d13-4730-f86f-2c31dfc3a9d1"
      },
      "execution_count": null,
      "outputs": [
        {
          "output_type": "execute_result",
          "data": {
            "text/plain": [
              "TICKER                      0\n",
              "RetYTD                      0\n",
              "ROA                         0\n",
              "asset_turnover_ratio        0\n",
              "net_profit_margin           0\n",
              "gross_profit_margin         0\n",
              "current_ratio               0\n",
              "ROE                         0\n",
              "book/price                  0\n",
              "e/p                         0\n",
              "ebit/p                      0\n",
              "sale/p                      0\n",
              "quick_ratio                 0\n",
              "debt_to_equity              0\n",
              "inventory_turnover_ratio    0\n",
              "cash_ratio                  0\n",
              "dtype: int64"
            ]
          },
          "metadata": {},
          "execution_count": 272
        }
      ]
    },
    {
      "cell_type": "code",
      "source": [
        "fin_ratios.head(3)"
      ],
      "metadata": {
        "colab": {
          "base_uri": "https://localhost:8080/",
          "height": 207
        },
        "id": "bYeKvWiGYq1Y",
        "outputId": "d38c626c-3310-4795-b04c-9c107631ed8a"
      },
      "execution_count": null,
      "outputs": [
        {
          "output_type": "execute_result",
          "data": {
            "text/plain": [
              "  TICKER  RetYTD       ROA  asset_turnover_ratio  net_profit_margin  \\\n",
              "0      A -0.2080  0.131621              0.590285           0.222978   \n",
              "1     AA  0.4731  0.138236              0.808785           0.170918   \n",
              "2    AAL  0.0579 -0.082958              0.449576          -0.184526   \n",
              "\n",
              "   gross_profit_margin  current_ratio       ROE  book/price       e/p  \\\n",
              "0             0.577148       2.224239  0.224531    0.111695  0.025079   \n",
              "1             0.246791       1.559417  0.091824    0.425940  0.039111   \n",
              "2             0.064018       0.912133  0.271526   -0.337273 -0.171320   \n",
              "\n",
              "     ebit/p    sale/p  quick_ratio  debt_to_equity  inventory_turnover_ratio  \\\n",
              "0  0.029204  0.130970     1.738290        0.986454                  3.219277   \n",
              "1  0.189357  1.107882     0.952529        1.870933                  4.679448   \n",
              "2 -0.378436  2.568684     0.817689      -10.055450                 15.581616   \n",
              "\n",
              "   cash_ratio  \n",
              "0    0.868852  \n",
              "1    0.562830  \n",
              "2    0.014364  "
            ],
            "text/html": [
              "\n",
              "  <div id=\"df-b45601f9-8bcc-4bb7-9e10-14c08d728a3a\">\n",
              "    <div class=\"colab-df-container\">\n",
              "      <div>\n",
              "<style scoped>\n",
              "    .dataframe tbody tr th:only-of-type {\n",
              "        vertical-align: middle;\n",
              "    }\n",
              "\n",
              "    .dataframe tbody tr th {\n",
              "        vertical-align: top;\n",
              "    }\n",
              "\n",
              "    .dataframe thead th {\n",
              "        text-align: right;\n",
              "    }\n",
              "</style>\n",
              "<table border=\"1\" class=\"dataframe\">\n",
              "  <thead>\n",
              "    <tr style=\"text-align: right;\">\n",
              "      <th></th>\n",
              "      <th>TICKER</th>\n",
              "      <th>RetYTD</th>\n",
              "      <th>ROA</th>\n",
              "      <th>asset_turnover_ratio</th>\n",
              "      <th>net_profit_margin</th>\n",
              "      <th>gross_profit_margin</th>\n",
              "      <th>current_ratio</th>\n",
              "      <th>ROE</th>\n",
              "      <th>book/price</th>\n",
              "      <th>e/p</th>\n",
              "      <th>ebit/p</th>\n",
              "      <th>sale/p</th>\n",
              "      <th>quick_ratio</th>\n",
              "      <th>debt_to_equity</th>\n",
              "      <th>inventory_turnover_ratio</th>\n",
              "      <th>cash_ratio</th>\n",
              "    </tr>\n",
              "  </thead>\n",
              "  <tbody>\n",
              "    <tr>\n",
              "      <th>0</th>\n",
              "      <td>A</td>\n",
              "      <td>-0.2080</td>\n",
              "      <td>0.131621</td>\n",
              "      <td>0.590285</td>\n",
              "      <td>0.222978</td>\n",
              "      <td>0.577148</td>\n",
              "      <td>2.224239</td>\n",
              "      <td>0.224531</td>\n",
              "      <td>0.111695</td>\n",
              "      <td>0.025079</td>\n",
              "      <td>0.029204</td>\n",
              "      <td>0.130970</td>\n",
              "      <td>1.738290</td>\n",
              "      <td>0.986454</td>\n",
              "      <td>3.219277</td>\n",
              "      <td>0.868852</td>\n",
              "    </tr>\n",
              "    <tr>\n",
              "      <th>1</th>\n",
              "      <td>AA</td>\n",
              "      <td>0.4731</td>\n",
              "      <td>0.138236</td>\n",
              "      <td>0.808785</td>\n",
              "      <td>0.170918</td>\n",
              "      <td>0.246791</td>\n",
              "      <td>1.559417</td>\n",
              "      <td>0.091824</td>\n",
              "      <td>0.425940</td>\n",
              "      <td>0.039111</td>\n",
              "      <td>0.189357</td>\n",
              "      <td>1.107882</td>\n",
              "      <td>0.952529</td>\n",
              "      <td>1.870933</td>\n",
              "      <td>4.679448</td>\n",
              "      <td>0.562830</td>\n",
              "    </tr>\n",
              "    <tr>\n",
              "      <th>2</th>\n",
              "      <td>AAL</td>\n",
              "      <td>0.0579</td>\n",
              "      <td>-0.082958</td>\n",
              "      <td>0.449576</td>\n",
              "      <td>-0.184526</td>\n",
              "      <td>0.064018</td>\n",
              "      <td>0.912133</td>\n",
              "      <td>0.271526</td>\n",
              "      <td>-0.337273</td>\n",
              "      <td>-0.171320</td>\n",
              "      <td>-0.378436</td>\n",
              "      <td>2.568684</td>\n",
              "      <td>0.817689</td>\n",
              "      <td>-10.055450</td>\n",
              "      <td>15.581616</td>\n",
              "      <td>0.014364</td>\n",
              "    </tr>\n",
              "  </tbody>\n",
              "</table>\n",
              "</div>\n",
              "      <button class=\"colab-df-convert\" onclick=\"convertToInteractive('df-b45601f9-8bcc-4bb7-9e10-14c08d728a3a')\"\n",
              "              title=\"Convert this dataframe to an interactive table.\"\n",
              "              style=\"display:none;\">\n",
              "        \n",
              "  <svg xmlns=\"http://www.w3.org/2000/svg\" height=\"24px\"viewBox=\"0 0 24 24\"\n",
              "       width=\"24px\">\n",
              "    <path d=\"M0 0h24v24H0V0z\" fill=\"none\"/>\n",
              "    <path d=\"M18.56 5.44l.94 2.06.94-2.06 2.06-.94-2.06-.94-.94-2.06-.94 2.06-2.06.94zm-11 1L8.5 8.5l.94-2.06 2.06-.94-2.06-.94L8.5 2.5l-.94 2.06-2.06.94zm10 10l.94 2.06.94-2.06 2.06-.94-2.06-.94-.94-2.06-.94 2.06-2.06.94z\"/><path d=\"M17.41 7.96l-1.37-1.37c-.4-.4-.92-.59-1.43-.59-.52 0-1.04.2-1.43.59L10.3 9.45l-7.72 7.72c-.78.78-.78 2.05 0 2.83L4 21.41c.39.39.9.59 1.41.59.51 0 1.02-.2 1.41-.59l7.78-7.78 2.81-2.81c.8-.78.8-2.07 0-2.86zM5.41 20L4 18.59l7.72-7.72 1.47 1.35L5.41 20z\"/>\n",
              "  </svg>\n",
              "      </button>\n",
              "      \n",
              "  <style>\n",
              "    .colab-df-container {\n",
              "      display:flex;\n",
              "      flex-wrap:wrap;\n",
              "      gap: 12px;\n",
              "    }\n",
              "\n",
              "    .colab-df-convert {\n",
              "      background-color: #E8F0FE;\n",
              "      border: none;\n",
              "      border-radius: 50%;\n",
              "      cursor: pointer;\n",
              "      display: none;\n",
              "      fill: #1967D2;\n",
              "      height: 32px;\n",
              "      padding: 0 0 0 0;\n",
              "      width: 32px;\n",
              "    }\n",
              "\n",
              "    .colab-df-convert:hover {\n",
              "      background-color: #E2EBFA;\n",
              "      box-shadow: 0px 1px 2px rgba(60, 64, 67, 0.3), 0px 1px 3px 1px rgba(60, 64, 67, 0.15);\n",
              "      fill: #174EA6;\n",
              "    }\n",
              "\n",
              "    [theme=dark] .colab-df-convert {\n",
              "      background-color: #3B4455;\n",
              "      fill: #D2E3FC;\n",
              "    }\n",
              "\n",
              "    [theme=dark] .colab-df-convert:hover {\n",
              "      background-color: #434B5C;\n",
              "      box-shadow: 0px 1px 3px 1px rgba(0, 0, 0, 0.15);\n",
              "      filter: drop-shadow(0px 1px 2px rgba(0, 0, 0, 0.3));\n",
              "      fill: #FFFFFF;\n",
              "    }\n",
              "  </style>\n",
              "\n",
              "      <script>\n",
              "        const buttonEl =\n",
              "          document.querySelector('#df-b45601f9-8bcc-4bb7-9e10-14c08d728a3a button.colab-df-convert');\n",
              "        buttonEl.style.display =\n",
              "          google.colab.kernel.accessAllowed ? 'block' : 'none';\n",
              "\n",
              "        async function convertToInteractive(key) {\n",
              "          const element = document.querySelector('#df-b45601f9-8bcc-4bb7-9e10-14c08d728a3a');\n",
              "          const dataTable =\n",
              "            await google.colab.kernel.invokeFunction('convertToInteractive',\n",
              "                                                     [key], {});\n",
              "          if (!dataTable) return;\n",
              "\n",
              "          const docLinkHtml = 'Like what you see? Visit the ' +\n",
              "            '<a target=\"_blank\" href=https://colab.research.google.com/notebooks/data_table.ipynb>data table notebook</a>'\n",
              "            + ' to learn more about interactive tables.';\n",
              "          element.innerHTML = '';\n",
              "          dataTable['output_type'] = 'display_data';\n",
              "          await google.colab.output.renderOutput(dataTable, element);\n",
              "          const docLink = document.createElement('div');\n",
              "          docLink.innerHTML = docLinkHtml;\n",
              "          element.appendChild(docLink);\n",
              "        }\n",
              "      </script>\n",
              "    </div>\n",
              "  </div>\n",
              "  "
            ]
          },
          "metadata": {},
          "execution_count": 273
        }
      ]
    },
    {
      "cell_type": "code",
      "source": [
        "# Regression1\n",
        "X1 = sm.add_constant(fin_ratios.drop(columns=['RetYTD','TICKER']))\n",
        "model1 = sm.OLS(fin_ratios['RetYTD'], X1).fit()\n",
        "print(model1.summary())"
      ],
      "metadata": {
        "colab": {
          "base_uri": "https://localhost:8080/"
        },
        "id": "cgcpwJ_Vbs_6",
        "outputId": "3e475cf2-1429-40ac-d392-a01bccab1eed"
      },
      "execution_count": null,
      "outputs": [
        {
          "output_type": "stream",
          "name": "stdout",
          "text": [
            "                            OLS Regression Results                            \n",
            "==============================================================================\n",
            "Dep. Variable:                 RetYTD   R-squared:                       0.103\n",
            "Model:                            OLS   Adj. R-squared:                  0.096\n",
            "Method:                 Least Squares   F-statistic:                     15.26\n",
            "Date:                Wed, 27 Apr 2022   Prob (F-statistic):           1.35e-35\n",
            "Time:                        18:40:03   Log-Likelihood:                 88.267\n",
            "No. Observations:                1886   AIC:                            -146.5\n",
            "Df Residuals:                    1871   BIC:                            -63.40\n",
            "Df Model:                          14                                         \n",
            "Covariance Type:            nonrobust                                         \n",
            "============================================================================================\n",
            "                               coef    std err          t      P>|t|      [0.025      0.975]\n",
            "--------------------------------------------------------------------------------------------\n",
            "const                       -0.1110      0.015     -7.208      0.000      -0.141      -0.081\n",
            "ROA                          0.3636      0.070      5.230      0.000       0.227       0.500\n",
            "asset_turnover_ratio        -0.0579      0.016     -3.719      0.000      -0.088      -0.027\n",
            "net_profit_margin           -0.0011      0.009     -0.113      0.910      -0.020       0.017\n",
            "gross_profit_margin          0.0038      0.012      0.315      0.753      -0.020       0.027\n",
            "current_ratio               -0.0187      0.006     -2.908      0.004      -0.031      -0.006\n",
            "ROE                         -0.0016      0.010     -0.165      0.869      -0.020       0.017\n",
            "book/price                   0.1392      0.019      7.399      0.000       0.102       0.176\n",
            "e/p                         -0.1873      0.090     -2.084      0.037      -0.364      -0.011\n",
            "ebit/p                      -0.0194      0.091     -0.214      0.831      -0.198       0.159\n",
            "sale/p                       0.0447      0.009      5.065      0.000       0.027       0.062\n",
            "quick_ratio                  0.0188      0.007      2.892      0.004       0.006       0.032\n",
            "debt_to_equity              -0.0027      0.001     -2.452      0.014      -0.005      -0.001\n",
            "inventory_turnover_ratio     0.0001      0.000      0.658      0.511      -0.000       0.001\n",
            "cash_ratio                  -0.0075      0.005     -1.420      0.156      -0.018       0.003\n",
            "==============================================================================\n",
            "Omnibus:                      669.290   Durbin-Watson:                   2.053\n",
            "Prob(Omnibus):                  0.000   Jarque-Bera (JB):             4264.724\n",
            "Skew:                           1.520   Prob(JB):                         0.00\n",
            "Kurtosis:                       9.710   Cond. No.                         677.\n",
            "==============================================================================\n",
            "\n",
            "Warnings:\n",
            "[1] Standard Errors assume that the covariance matrix of the errors is correctly specified.\n"
          ]
        }
      ]
    },
    {
      "cell_type": "code",
      "source": [
        "# Regression2\n",
        "X2 = sm.add_constant(fin_ratios.drop(columns=['TICKER','RetYTD','net_profit_margin','gross_profit_margin']))\n",
        "model2 = sm.OLS(fin_ratios['RetYTD'], X2).fit()\n",
        "print(model2.summary())"
      ],
      "metadata": {
        "colab": {
          "base_uri": "https://localhost:8080/"
        },
        "id": "ZeajUvgUhjQK",
        "outputId": "f7c30d37-9774-4470-f3e2-097eeb8efdb3"
      },
      "execution_count": null,
      "outputs": [
        {
          "output_type": "stream",
          "name": "stdout",
          "text": [
            "                            OLS Regression Results                            \n",
            "==============================================================================\n",
            "Dep. Variable:                 RetYTD   R-squared:                       0.102\n",
            "Model:                            OLS   Adj. R-squared:                  0.097\n",
            "Method:                 Least Squares   F-statistic:                     17.81\n",
            "Date:                Wed, 27 Apr 2022   Prob (F-statistic):           8.28e-37\n",
            "Time:                        18:43:21   Log-Likelihood:                 88.163\n",
            "No. Observations:                1886   AIC:                            -150.3\n",
            "Df Residuals:                    1873   BIC:                            -78.28\n",
            "Df Model:                          12                                         \n",
            "Covariance Type:            nonrobust                                         \n",
            "============================================================================================\n",
            "                               coef    std err          t      P>|t|      [0.025      0.975]\n",
            "--------------------------------------------------------------------------------------------\n",
            "const                       -0.1093      0.014     -7.628      0.000      -0.137      -0.081\n",
            "ROA                          0.3714      0.063      5.918      0.000       0.248       0.495\n",
            "asset_turnover_ratio        -0.0586      0.015     -3.788      0.000      -0.089      -0.028\n",
            "current_ratio               -0.0190      0.006     -2.978      0.003      -0.032      -0.007\n",
            "ROE                         -0.0016      0.010     -0.163      0.870      -0.020       0.017\n",
            "book/price                   0.1392      0.019      7.423      0.000       0.102       0.176\n",
            "e/p                         -0.1861      0.090     -2.078      0.038      -0.362      -0.010\n",
            "ebit/p                      -0.0198      0.091     -0.218      0.828      -0.198       0.158\n",
            "sale/p                       0.0447      0.009      5.099      0.000       0.028       0.062\n",
            "quick_ratio                  0.0191      0.006      2.955      0.003       0.006       0.032\n",
            "debt_to_equity              -0.0026      0.001     -2.431      0.015      -0.005      -0.001\n",
            "inventory_turnover_ratio     0.0001      0.000      0.606      0.544      -0.000       0.001\n",
            "cash_ratio                  -0.0077      0.005     -1.483      0.138      -0.018       0.002\n",
            "==============================================================================\n",
            "Omnibus:                      669.917   Durbin-Watson:                   2.054\n",
            "Prob(Omnibus):                  0.000   Jarque-Bera (JB):             4268.975\n",
            "Skew:                           1.522   Prob(JB):                         0.00\n",
            "Kurtosis:                       9.713   Cond. No.                         672.\n",
            "==============================================================================\n",
            "\n",
            "Warnings:\n",
            "[1] Standard Errors assume that the covariance matrix of the errors is correctly specified.\n"
          ]
        }
      ]
    },
    {
      "cell_type": "markdown",
      "source": [
        "### Best model"
      ],
      "metadata": {
        "id": "wzNAZwtZbamr"
      }
    },
    {
      "cell_type": "code",
      "source": [
        "# Regression3\n",
        "X3 = sm.add_constant(fin_ratios.drop(columns=['TICKER','RetYTD','gross_profit_margin','net_profit_margin','ROE','ebit/p']))\n",
        "model3 = sm.OLS(fin_ratios['RetYTD'], X3).fit()\n",
        "print(model3.summary())"
      ],
      "metadata": {
        "colab": {
          "base_uri": "https://localhost:8080/"
        },
        "id": "99XMPdo4h80t",
        "outputId": "0341ac05-49a0-4d83-8a60-8d0abb56a9f5"
      },
      "execution_count": null,
      "outputs": [
        {
          "output_type": "stream",
          "name": "stdout",
          "text": [
            "                            OLS Regression Results                            \n",
            "==============================================================================\n",
            "Dep. Variable:                 RetYTD   R-squared:                       0.102\n",
            "Model:                            OLS   Adj. R-squared:                  0.098\n",
            "Method:                 Least Squares   F-statistic:                     21.38\n",
            "Date:                Wed, 27 Apr 2022   Prob (F-statistic):           3.97e-38\n",
            "Time:                        18:43:42   Log-Likelihood:                 88.127\n",
            "No. Observations:                1886   AIC:                            -154.3\n",
            "Df Residuals:                    1875   BIC:                            -93.29\n",
            "Df Model:                          10                                         \n",
            "Covariance Type:            nonrobust                                         \n",
            "============================================================================================\n",
            "                               coef    std err          t      P>|t|      [0.025      0.975]\n",
            "--------------------------------------------------------------------------------------------\n",
            "const                       -0.1100      0.014     -7.854      0.000      -0.137      -0.083\n",
            "ROA                          0.3643      0.057      6.445      0.000       0.253       0.475\n",
            "asset_turnover_ratio        -0.0576      0.015     -3.881      0.000      -0.087      -0.028\n",
            "current_ratio               -0.0191      0.006     -2.984      0.003      -0.032      -0.007\n",
            "book/price                   0.1394      0.019      7.474      0.000       0.103       0.176\n",
            "e/p                         -0.2000      0.068     -2.925      0.003      -0.334      -0.066\n",
            "sale/p                       0.0439      0.008      5.421      0.000       0.028       0.060\n",
            "quick_ratio                  0.0191      0.006      2.960      0.003       0.006       0.032\n",
            "debt_to_equity              -0.0027      0.001     -2.519      0.012      -0.005      -0.001\n",
            "inventory_turnover_ratio     0.0001      0.000      0.605      0.545      -0.000       0.001\n",
            "cash_ratio                  -0.0076      0.005     -1.475      0.140      -0.018       0.003\n",
            "==============================================================================\n",
            "Omnibus:                      670.118   Durbin-Watson:                   2.054\n",
            "Prob(Omnibus):                  0.000   Jarque-Bera (JB):             4271.050\n",
            "Skew:                           1.522   Prob(JB):                         0.00\n",
            "Kurtosis:                       9.714   Cond. No.                         460.\n",
            "==============================================================================\n",
            "\n",
            "Warnings:\n",
            "[1] Standard Errors assume that the covariance matrix of the errors is correctly specified.\n"
          ]
        }
      ]
    },
    {
      "cell_type": "markdown",
      "source": [
        "## Industry Dummies\n",
        "\n",
        "* Ret(i) = a + coefficients*IndustryDummies + e\n",
        "* Interpret and explain your findings (focus on R2, Adj R2 and\n",
        "coefficients)"
      ],
      "metadata": {
        "id": "XlJnglc-YrFc"
      }
    },
    {
      "cell_type": "markdown",
      "source": [
        "### Create Industry Indicators\n",
        "* There are 24 unique ggroup.\n",
        "* I dropped unnecessary columns and created dummy based on ggroup."
      ],
      "metadata": {
        "id": "mtd_tG9B0K5x"
      }
    },
    {
      "cell_type": "code",
      "source": [
        "gics.head(1)"
      ],
      "metadata": {
        "colab": {
          "base_uri": "https://localhost:8080/",
          "height": 80
        },
        "id": "XKGuc6zLhqln",
        "outputId": "c2b95419-8280-45a3-bc95-6a1a3879bd00"
      },
      "execution_count": null,
      "outputs": [
        {
          "output_type": "execute_result",
          "data": {
            "text/plain": [
              "  TICKER  RetYTD  datadate  fyear  fyr  ggroup    gind  gsector   gsubind\n",
              "0      A  -0.208  20211031   2021   10    3520  352030       35  35203010"
            ],
            "text/html": [
              "\n",
              "  <div id=\"df-3f4542e5-537a-48fc-9e42-e27ab7838eed\">\n",
              "    <div class=\"colab-df-container\">\n",
              "      <div>\n",
              "<style scoped>\n",
              "    .dataframe tbody tr th:only-of-type {\n",
              "        vertical-align: middle;\n",
              "    }\n",
              "\n",
              "    .dataframe tbody tr th {\n",
              "        vertical-align: top;\n",
              "    }\n",
              "\n",
              "    .dataframe thead th {\n",
              "        text-align: right;\n",
              "    }\n",
              "</style>\n",
              "<table border=\"1\" class=\"dataframe\">\n",
              "  <thead>\n",
              "    <tr style=\"text-align: right;\">\n",
              "      <th></th>\n",
              "      <th>TICKER</th>\n",
              "      <th>RetYTD</th>\n",
              "      <th>datadate</th>\n",
              "      <th>fyear</th>\n",
              "      <th>fyr</th>\n",
              "      <th>ggroup</th>\n",
              "      <th>gind</th>\n",
              "      <th>gsector</th>\n",
              "      <th>gsubind</th>\n",
              "    </tr>\n",
              "  </thead>\n",
              "  <tbody>\n",
              "    <tr>\n",
              "      <th>0</th>\n",
              "      <td>A</td>\n",
              "      <td>-0.208</td>\n",
              "      <td>20211031</td>\n",
              "      <td>2021</td>\n",
              "      <td>10</td>\n",
              "      <td>3520</td>\n",
              "      <td>352030</td>\n",
              "      <td>35</td>\n",
              "      <td>35203010</td>\n",
              "    </tr>\n",
              "  </tbody>\n",
              "</table>\n",
              "</div>\n",
              "      <button class=\"colab-df-convert\" onclick=\"convertToInteractive('df-3f4542e5-537a-48fc-9e42-e27ab7838eed')\"\n",
              "              title=\"Convert this dataframe to an interactive table.\"\n",
              "              style=\"display:none;\">\n",
              "        \n",
              "  <svg xmlns=\"http://www.w3.org/2000/svg\" height=\"24px\"viewBox=\"0 0 24 24\"\n",
              "       width=\"24px\">\n",
              "    <path d=\"M0 0h24v24H0V0z\" fill=\"none\"/>\n",
              "    <path d=\"M18.56 5.44l.94 2.06.94-2.06 2.06-.94-2.06-.94-.94-2.06-.94 2.06-2.06.94zm-11 1L8.5 8.5l.94-2.06 2.06-.94-2.06-.94L8.5 2.5l-.94 2.06-2.06.94zm10 10l.94 2.06.94-2.06 2.06-.94-2.06-.94-.94-2.06-.94 2.06-2.06.94z\"/><path d=\"M17.41 7.96l-1.37-1.37c-.4-.4-.92-.59-1.43-.59-.52 0-1.04.2-1.43.59L10.3 9.45l-7.72 7.72c-.78.78-.78 2.05 0 2.83L4 21.41c.39.39.9.59 1.41.59.51 0 1.02-.2 1.41-.59l7.78-7.78 2.81-2.81c.8-.78.8-2.07 0-2.86zM5.41 20L4 18.59l7.72-7.72 1.47 1.35L5.41 20z\"/>\n",
              "  </svg>\n",
              "      </button>\n",
              "      \n",
              "  <style>\n",
              "    .colab-df-container {\n",
              "      display:flex;\n",
              "      flex-wrap:wrap;\n",
              "      gap: 12px;\n",
              "    }\n",
              "\n",
              "    .colab-df-convert {\n",
              "      background-color: #E8F0FE;\n",
              "      border: none;\n",
              "      border-radius: 50%;\n",
              "      cursor: pointer;\n",
              "      display: none;\n",
              "      fill: #1967D2;\n",
              "      height: 32px;\n",
              "      padding: 0 0 0 0;\n",
              "      width: 32px;\n",
              "    }\n",
              "\n",
              "    .colab-df-convert:hover {\n",
              "      background-color: #E2EBFA;\n",
              "      box-shadow: 0px 1px 2px rgba(60, 64, 67, 0.3), 0px 1px 3px 1px rgba(60, 64, 67, 0.15);\n",
              "      fill: #174EA6;\n",
              "    }\n",
              "\n",
              "    [theme=dark] .colab-df-convert {\n",
              "      background-color: #3B4455;\n",
              "      fill: #D2E3FC;\n",
              "    }\n",
              "\n",
              "    [theme=dark] .colab-df-convert:hover {\n",
              "      background-color: #434B5C;\n",
              "      box-shadow: 0px 1px 3px 1px rgba(0, 0, 0, 0.15);\n",
              "      filter: drop-shadow(0px 1px 2px rgba(0, 0, 0, 0.3));\n",
              "      fill: #FFFFFF;\n",
              "    }\n",
              "  </style>\n",
              "\n",
              "      <script>\n",
              "        const buttonEl =\n",
              "          document.querySelector('#df-3f4542e5-537a-48fc-9e42-e27ab7838eed button.colab-df-convert');\n",
              "        buttonEl.style.display =\n",
              "          google.colab.kernel.accessAllowed ? 'block' : 'none';\n",
              "\n",
              "        async function convertToInteractive(key) {\n",
              "          const element = document.querySelector('#df-3f4542e5-537a-48fc-9e42-e27ab7838eed');\n",
              "          const dataTable =\n",
              "            await google.colab.kernel.invokeFunction('convertToInteractive',\n",
              "                                                     [key], {});\n",
              "          if (!dataTable) return;\n",
              "\n",
              "          const docLinkHtml = 'Like what you see? Visit the ' +\n",
              "            '<a target=\"_blank\" href=https://colab.research.google.com/notebooks/data_table.ipynb>data table notebook</a>'\n",
              "            + ' to learn more about interactive tables.';\n",
              "          element.innerHTML = '';\n",
              "          dataTable['output_type'] = 'display_data';\n",
              "          await google.colab.output.renderOutput(dataTable, element);\n",
              "          const docLink = document.createElement('div');\n",
              "          docLink.innerHTML = docLinkHtml;\n",
              "          element.appendChild(docLink);\n",
              "        }\n",
              "      </script>\n",
              "    </div>\n",
              "  </div>\n",
              "  "
            ]
          },
          "metadata": {},
          "execution_count": 286
        }
      ]
    },
    {
      "cell_type": "code",
      "source": [
        "# 24 unique ggroup\n",
        "gics.ggroup.nunique()"
      ],
      "metadata": {
        "colab": {
          "base_uri": "https://localhost:8080/"
        },
        "id": "WBkwHiD8z1a4",
        "outputId": "bd07301b-881a-4f8e-8e97-a787bec22772"
      },
      "execution_count": null,
      "outputs": [
        {
          "output_type": "execute_result",
          "data": {
            "text/plain": [
              "24"
            ]
          },
          "metadata": {},
          "execution_count": 287
        }
      ]
    },
    {
      "cell_type": "code",
      "source": [
        "gics_ggroup = gics.drop(columns=['datadate', 'TICKER', 'fyear', 'fyr','gind','gsector','gsubind'])"
      ],
      "metadata": {
        "id": "73jhitIjx1Qz"
      },
      "execution_count": null,
      "outputs": []
    },
    {
      "cell_type": "code",
      "source": [
        "gics_ggroup = pd.get_dummies(gics_ggroup, columns=['ggroup'])"
      ],
      "metadata": {
        "id": "Qs6Gd3PazlyQ"
      },
      "execution_count": null,
      "outputs": []
    },
    {
      "cell_type": "code",
      "source": [
        "# Add constant for the regression\n",
        "gics_ggroup['constant'] = 1"
      ],
      "metadata": {
        "id": "RDFTsvA7zYof"
      },
      "execution_count": null,
      "outputs": []
    },
    {
      "cell_type": "code",
      "source": [
        "# created 24 dummy variables for 24 ggroup.\n",
        "gics_ggroup.info()"
      ],
      "metadata": {
        "colab": {
          "base_uri": "https://localhost:8080/"
        },
        "id": "lCDXz0oJz_Sz",
        "outputId": "61490b06-be6e-4b10-9372-496cd49d6ea9"
      },
      "execution_count": null,
      "outputs": [
        {
          "output_type": "stream",
          "name": "stdout",
          "text": [
            "<class 'pandas.core.frame.DataFrame'>\n",
            "Int64Index: 1886 entries, 0 to 1885\n",
            "Data columns (total 26 columns):\n",
            " #   Column       Non-Null Count  Dtype  \n",
            "---  ------       --------------  -----  \n",
            " 0   RetYTD       1886 non-null   float64\n",
            " 1   ggroup_1010  1886 non-null   uint8  \n",
            " 2   ggroup_1510  1886 non-null   uint8  \n",
            " 3   ggroup_2010  1886 non-null   uint8  \n",
            " 4   ggroup_2020  1886 non-null   uint8  \n",
            " 5   ggroup_2030  1886 non-null   uint8  \n",
            " 6   ggroup_2510  1886 non-null   uint8  \n",
            " 7   ggroup_2520  1886 non-null   uint8  \n",
            " 8   ggroup_2530  1886 non-null   uint8  \n",
            " 9   ggroup_2550  1886 non-null   uint8  \n",
            " 10  ggroup_3010  1886 non-null   uint8  \n",
            " 11  ggroup_3020  1886 non-null   uint8  \n",
            " 12  ggroup_3030  1886 non-null   uint8  \n",
            " 13  ggroup_3510  1886 non-null   uint8  \n",
            " 14  ggroup_3520  1886 non-null   uint8  \n",
            " 15  ggroup_4010  1886 non-null   uint8  \n",
            " 16  ggroup_4020  1886 non-null   uint8  \n",
            " 17  ggroup_4030  1886 non-null   uint8  \n",
            " 18  ggroup_4510  1886 non-null   uint8  \n",
            " 19  ggroup_4520  1886 non-null   uint8  \n",
            " 20  ggroup_4530  1886 non-null   uint8  \n",
            " 21  ggroup_5010  1886 non-null   uint8  \n",
            " 22  ggroup_5020  1886 non-null   uint8  \n",
            " 23  ggroup_5510  1886 non-null   uint8  \n",
            " 24  ggroup_6010  1886 non-null   uint8  \n",
            " 25  constant     1886 non-null   int64  \n",
            "dtypes: float64(1), int64(1), uint8(24)\n",
            "memory usage: 88.4 KB\n"
          ]
        }
      ]
    },
    {
      "cell_type": "markdown",
      "source": [
        "### Average RET by ggroup\n",
        "* ggroup 1010 (energy) has the highest stock return, while ggroup 4530 (Semiconductors & Semiconductor Equipment) has the lowest stock return during early 2022.\n",
        " * Energy prices are rising due to an increase in demand and a decrease in supply, causing energy stock torise. Recovering from covid pandemic, global fuel demand \bsurged due to increased travel and transportation.\n",
        "The russian invasion of Ukraine increased uncertainty on energy supply, since Russia is the third-largest producer of liquid fuels and petroleum. Diminished OPEC output and supply chain disruptions in global trade also affected supply.\n",
        " * Slowing demand for computer chips is impacting the semiconductor industry. Covid pandemic cut demand for smartphones as well as smartphone market is maturing. In addition, high competition among semiconductor providers such as Samsung and TSMC is lowering price, and increasing supply."
      ],
      "metadata": {
        "id": "ROCIXmyO1qPc"
      }
    },
    {
      "cell_type": "code",
      "source": [
        "gics.groupby(\"ggroup\")[['RetYTD']].mean().sort_values(by='RetYTD', ascending=False)"
      ],
      "metadata": {
        "colab": {
          "base_uri": "https://localhost:8080/",
          "height": 833
        },
        "id": "-yIXxrJo1v2r",
        "outputId": "40ddfa58-e097-4310-8c75-c48ff661d29c"
      },
      "execution_count": null,
      "outputs": [
        {
          "output_type": "execute_result",
          "data": {
            "text/plain": [
              "          RetYTD\n",
              "ggroup          \n",
              "1010    0.515035\n",
              "3010    0.078312\n",
              "1510    0.057846\n",
              "5510    0.040759\n",
              "3020    0.038780\n",
              "5010    0.011838\n",
              "4030    0.003779\n",
              "2020   -0.035157\n",
              "6010   -0.035826\n",
              "2530   -0.062583\n",
              "3510   -0.066432\n",
              "2030   -0.067454\n",
              "5020   -0.070871\n",
              "4010   -0.087832\n",
              "2010   -0.090548\n",
              "4510   -0.108644\n",
              "4020   -0.122515\n",
              "2550   -0.151223\n",
              "3030   -0.153771\n",
              "3520   -0.163937\n",
              "4520   -0.172065\n",
              "2510   -0.207992\n",
              "2520   -0.208598\n",
              "4530   -0.252813"
            ],
            "text/html": [
              "\n",
              "  <div id=\"df-a1fb19a0-82ba-4647-9926-7fcfaa33d19c\">\n",
              "    <div class=\"colab-df-container\">\n",
              "      <div>\n",
              "<style scoped>\n",
              "    .dataframe tbody tr th:only-of-type {\n",
              "        vertical-align: middle;\n",
              "    }\n",
              "\n",
              "    .dataframe tbody tr th {\n",
              "        vertical-align: top;\n",
              "    }\n",
              "\n",
              "    .dataframe thead th {\n",
              "        text-align: right;\n",
              "    }\n",
              "</style>\n",
              "<table border=\"1\" class=\"dataframe\">\n",
              "  <thead>\n",
              "    <tr style=\"text-align: right;\">\n",
              "      <th></th>\n",
              "      <th>RetYTD</th>\n",
              "    </tr>\n",
              "    <tr>\n",
              "      <th>ggroup</th>\n",
              "      <th></th>\n",
              "    </tr>\n",
              "  </thead>\n",
              "  <tbody>\n",
              "    <tr>\n",
              "      <th>1010</th>\n",
              "      <td>0.515035</td>\n",
              "    </tr>\n",
              "    <tr>\n",
              "      <th>3010</th>\n",
              "      <td>0.078312</td>\n",
              "    </tr>\n",
              "    <tr>\n",
              "      <th>1510</th>\n",
              "      <td>0.057846</td>\n",
              "    </tr>\n",
              "    <tr>\n",
              "      <th>5510</th>\n",
              "      <td>0.040759</td>\n",
              "    </tr>\n",
              "    <tr>\n",
              "      <th>3020</th>\n",
              "      <td>0.038780</td>\n",
              "    </tr>\n",
              "    <tr>\n",
              "      <th>5010</th>\n",
              "      <td>0.011838</td>\n",
              "    </tr>\n",
              "    <tr>\n",
              "      <th>4030</th>\n",
              "      <td>0.003779</td>\n",
              "    </tr>\n",
              "    <tr>\n",
              "      <th>2020</th>\n",
              "      <td>-0.035157</td>\n",
              "    </tr>\n",
              "    <tr>\n",
              "      <th>6010</th>\n",
              "      <td>-0.035826</td>\n",
              "    </tr>\n",
              "    <tr>\n",
              "      <th>2530</th>\n",
              "      <td>-0.062583</td>\n",
              "    </tr>\n",
              "    <tr>\n",
              "      <th>3510</th>\n",
              "      <td>-0.066432</td>\n",
              "    </tr>\n",
              "    <tr>\n",
              "      <th>2030</th>\n",
              "      <td>-0.067454</td>\n",
              "    </tr>\n",
              "    <tr>\n",
              "      <th>5020</th>\n",
              "      <td>-0.070871</td>\n",
              "    </tr>\n",
              "    <tr>\n",
              "      <th>4010</th>\n",
              "      <td>-0.087832</td>\n",
              "    </tr>\n",
              "    <tr>\n",
              "      <th>2010</th>\n",
              "      <td>-0.090548</td>\n",
              "    </tr>\n",
              "    <tr>\n",
              "      <th>4510</th>\n",
              "      <td>-0.108644</td>\n",
              "    </tr>\n",
              "    <tr>\n",
              "      <th>4020</th>\n",
              "      <td>-0.122515</td>\n",
              "    </tr>\n",
              "    <tr>\n",
              "      <th>2550</th>\n",
              "      <td>-0.151223</td>\n",
              "    </tr>\n",
              "    <tr>\n",
              "      <th>3030</th>\n",
              "      <td>-0.153771</td>\n",
              "    </tr>\n",
              "    <tr>\n",
              "      <th>3520</th>\n",
              "      <td>-0.163937</td>\n",
              "    </tr>\n",
              "    <tr>\n",
              "      <th>4520</th>\n",
              "      <td>-0.172065</td>\n",
              "    </tr>\n",
              "    <tr>\n",
              "      <th>2510</th>\n",
              "      <td>-0.207992</td>\n",
              "    </tr>\n",
              "    <tr>\n",
              "      <th>2520</th>\n",
              "      <td>-0.208598</td>\n",
              "    </tr>\n",
              "    <tr>\n",
              "      <th>4530</th>\n",
              "      <td>-0.252813</td>\n",
              "    </tr>\n",
              "  </tbody>\n",
              "</table>\n",
              "</div>\n",
              "      <button class=\"colab-df-convert\" onclick=\"convertToInteractive('df-a1fb19a0-82ba-4647-9926-7fcfaa33d19c')\"\n",
              "              title=\"Convert this dataframe to an interactive table.\"\n",
              "              style=\"display:none;\">\n",
              "        \n",
              "  <svg xmlns=\"http://www.w3.org/2000/svg\" height=\"24px\"viewBox=\"0 0 24 24\"\n",
              "       width=\"24px\">\n",
              "    <path d=\"M0 0h24v24H0V0z\" fill=\"none\"/>\n",
              "    <path d=\"M18.56 5.44l.94 2.06.94-2.06 2.06-.94-2.06-.94-.94-2.06-.94 2.06-2.06.94zm-11 1L8.5 8.5l.94-2.06 2.06-.94-2.06-.94L8.5 2.5l-.94 2.06-2.06.94zm10 10l.94 2.06.94-2.06 2.06-.94-2.06-.94-.94-2.06-.94 2.06-2.06.94z\"/><path d=\"M17.41 7.96l-1.37-1.37c-.4-.4-.92-.59-1.43-.59-.52 0-1.04.2-1.43.59L10.3 9.45l-7.72 7.72c-.78.78-.78 2.05 0 2.83L4 21.41c.39.39.9.59 1.41.59.51 0 1.02-.2 1.41-.59l7.78-7.78 2.81-2.81c.8-.78.8-2.07 0-2.86zM5.41 20L4 18.59l7.72-7.72 1.47 1.35L5.41 20z\"/>\n",
              "  </svg>\n",
              "      </button>\n",
              "      \n",
              "  <style>\n",
              "    .colab-df-container {\n",
              "      display:flex;\n",
              "      flex-wrap:wrap;\n",
              "      gap: 12px;\n",
              "    }\n",
              "\n",
              "    .colab-df-convert {\n",
              "      background-color: #E8F0FE;\n",
              "      border: none;\n",
              "      border-radius: 50%;\n",
              "      cursor: pointer;\n",
              "      display: none;\n",
              "      fill: #1967D2;\n",
              "      height: 32px;\n",
              "      padding: 0 0 0 0;\n",
              "      width: 32px;\n",
              "    }\n",
              "\n",
              "    .colab-df-convert:hover {\n",
              "      background-color: #E2EBFA;\n",
              "      box-shadow: 0px 1px 2px rgba(60, 64, 67, 0.3), 0px 1px 3px 1px rgba(60, 64, 67, 0.15);\n",
              "      fill: #174EA6;\n",
              "    }\n",
              "\n",
              "    [theme=dark] .colab-df-convert {\n",
              "      background-color: #3B4455;\n",
              "      fill: #D2E3FC;\n",
              "    }\n",
              "\n",
              "    [theme=dark] .colab-df-convert:hover {\n",
              "      background-color: #434B5C;\n",
              "      box-shadow: 0px 1px 3px 1px rgba(0, 0, 0, 0.15);\n",
              "      filter: drop-shadow(0px 1px 2px rgba(0, 0, 0, 0.3));\n",
              "      fill: #FFFFFF;\n",
              "    }\n",
              "  </style>\n",
              "\n",
              "      <script>\n",
              "        const buttonEl =\n",
              "          document.querySelector('#df-a1fb19a0-82ba-4647-9926-7fcfaa33d19c button.colab-df-convert');\n",
              "        buttonEl.style.display =\n",
              "          google.colab.kernel.accessAllowed ? 'block' : 'none';\n",
              "\n",
              "        async function convertToInteractive(key) {\n",
              "          const element = document.querySelector('#df-a1fb19a0-82ba-4647-9926-7fcfaa33d19c');\n",
              "          const dataTable =\n",
              "            await google.colab.kernel.invokeFunction('convertToInteractive',\n",
              "                                                     [key], {});\n",
              "          if (!dataTable) return;\n",
              "\n",
              "          const docLinkHtml = 'Like what you see? Visit the ' +\n",
              "            '<a target=\"_blank\" href=https://colab.research.google.com/notebooks/data_table.ipynb>data table notebook</a>'\n",
              "            + ' to learn more about interactive tables.';\n",
              "          element.innerHTML = '';\n",
              "          dataTable['output_type'] = 'display_data';\n",
              "          await google.colab.output.renderOutput(dataTable, element);\n",
              "          const docLink = document.createElement('div');\n",
              "          docLink.innerHTML = docLinkHtml;\n",
              "          element.appendChild(docLink);\n",
              "        }\n",
              "      </script>\n",
              "    </div>\n",
              "  </div>\n",
              "  "
            ]
          },
          "metadata": {},
          "execution_count": 294
        }
      ]
    },
    {
      "cell_type": "code",
      "source": [
        "dfg = gics.groupby(['ggroup'])['RetYTD'].mean()\n",
        "\n",
        "dfg.plot(kind='bar', title='Average stock return by ggroup', ylabel='Average Stock return',\n",
        "         xlabel='ggroup', figsize=(10, 10))"
      ],
      "metadata": {
        "colab": {
          "base_uri": "https://localhost:8080/",
          "height": 654
        },
        "id": "eFB94H-Ofk80",
        "outputId": "9ed25dbd-8aa5-41e3-b4a3-a11e0626272e"
      },
      "execution_count": null,
      "outputs": [
        {
          "output_type": "execute_result",
          "data": {
            "text/plain": [
              "<matplotlib.axes._subplots.AxesSubplot at 0x7f2f995c1110>"
            ]
          },
          "metadata": {},
          "execution_count": 304
        },
        {
          "output_type": "display_data",
          "data": {
            "text/plain": [
              "<Figure size 720x720 with 1 Axes>"
            ],
            "image/png": "[encoded data removed]"
          },
          "metadata": {
            "needs_background": "light"
          }
        }
      ]
    },
    {
      "cell_type": "code",
      "source": [
        "# Additional graph - average stock return by gsector\n",
        "dfg = gics.groupby(['gsector'])['RetYTD'].mean()\n",
        "\n",
        "dfg.plot(kind='bar', title='Average stock return by gsector', ylabel='Average Stock return',\n",
        "         xlabel='gsector', figsize=(8, 5))\n",
        "plt.show()"
      ],
      "metadata": {
        "colab": {
          "base_uri": "https://localhost:8080/",
          "height": 352
        },
        "id": "XEvcCLLXiS6x",
        "outputId": "cf2982e6-f263-4b67-9490-d431eba58cca"
      },
      "execution_count": null,
      "outputs": [
        {
          "output_type": "display_data",
          "data": {
            "text/plain": [
              "<Figure size 576x360 with 1 Axes>"
            ],
            "image/png": "[encoded data removed]"
          },
          "metadata": {
            "needs_background": "light"
          }
        }
      ]
    },
    {
      "cell_type": "markdown",
      "source": [
        "### Regression \n",
        "* With constant and without one industry indicator - I decided to drop ggroup_1010\n",
        "\n",
        "* **Explanatory power of regression** : R-squred is 0.326 and Adjusted R-squared is 0.317. Around 32% of the variance in the RetYTD is explained by the industry indicators - fixed effect. Usually 0.3 R2 is not considered high, but comparing with other regressions in this project, this value is significantly high.\n",
        "\n",
        "* **Coefficients** in this regression show the relative averge stock return to CONSTANT which represents dropped industry(ggroup_1010: Energy). Therefore, the constant is the same as average stock return of  'ggroup_1010'. The average stock return in the other ggroups is calcuated by constant value plus coefficient of the ggroup. Coefficients are all statistically significant considering p-value in this regression. In addition, coefficients are negative execpt for costant because average stock return in ggroup_1010 is the highest.\n",
        "\n"
      ],
      "metadata": {
        "id": "vV8LxeYqWTNt"
      }
    },
    {
      "cell_type": "code",
      "source": [
        "# keep constant. HOWEVER, must drop one industry indicator (let's choose \"ggroup_1010\")\n",
        "x = gics_ggroup.drop(columns=['RetYTD','ggroup_1010'])\n",
        "# Define y as a series\n",
        "y = gics_ggroup['RetYTD']\n",
        "print(sm.OLS(y, x).fit().summary())"
      ],
      "metadata": {
        "id": "gbB2zFb5XUIN",
        "colab": {
          "base_uri": "https://localhost:8080/"
        },
        "outputId": "418e8110-1ccc-431b-8065-f8fa1a39d6a3"
      },
      "execution_count": null,
      "outputs": [
        {
          "output_type": "stream",
          "name": "stdout",
          "text": [
            "                            OLS Regression Results                            \n",
            "==============================================================================\n",
            "Dep. Variable:                 RetYTD   R-squared:                       0.326\n",
            "Model:                            OLS   Adj. R-squared:                  0.317\n",
            "Method:                 Least Squares   F-statistic:                     39.07\n",
            "Date:                Wed, 27 Apr 2022   Prob (F-statistic):          6.29e-141\n",
            "Time:                        22:28:40   Log-Likelihood:                 357.63\n",
            "No. Observations:                1886   AIC:                            -667.3\n",
            "Df Residuals:                    1862   BIC:                            -534.2\n",
            "Df Model:                          23                                         \n",
            "Covariance Type:            nonrobust                                         \n",
            "===============================================================================\n",
            "                  coef    std err          t      P>|t|      [0.025      0.975]\n",
            "-------------------------------------------------------------------------------\n",
            "ggroup_1510    -0.4572      0.031    -14.692      0.000      -0.518      -0.396\n",
            "ggroup_2010    -0.6056      0.028    -21.924      0.000      -0.660      -0.551\n",
            "ggroup_2020    -0.5502      0.034    -15.980      0.000      -0.618      -0.483\n",
            "ggroup_2030    -0.5825      0.040    -14.646      0.000      -0.660      -0.504\n",
            "ggroup_2510    -0.7230      0.047    -15.540      0.000      -0.814      -0.632\n",
            "ggroup_2520    -0.7236      0.034    -21.018      0.000      -0.791      -0.656\n",
            "ggroup_2530    -0.5776      0.034    -16.849      0.000      -0.645      -0.510\n",
            "ggroup_2550    -0.6663      0.032    -20.932      0.000      -0.729      -0.604\n",
            "ggroup_3010    -0.4367      0.054     -8.070      0.000      -0.543      -0.331\n",
            "ggroup_3020    -0.4763      0.038    -12.449      0.000      -0.551      -0.401\n",
            "ggroup_3030    -0.6688      0.054    -12.359      0.000      -0.775      -0.563\n",
            "ggroup_3510    -0.5815      0.030    -19.639      0.000      -0.640      -0.523\n",
            "ggroup_3520    -0.6790      0.028    -24.154      0.000      -0.734      -0.624\n",
            "ggroup_4010    -0.6029      0.028    -21.756      0.000      -0.657      -0.549\n",
            "ggroup_4020    -0.6375      0.031    -20.342      0.000      -0.699      -0.576\n",
            "ggroup_4030    -0.5113      0.035    -14.719      0.000      -0.579      -0.443\n",
            "ggroup_4510    -0.6237      0.030    -20.963      0.000      -0.682      -0.565\n",
            "ggroup_4520    -0.6871      0.032    -21.346      0.000      -0.750      -0.624\n",
            "ggroup_4530    -0.7678      0.036    -21.470      0.000      -0.838      -0.698\n",
            "ggroup_5010    -0.5032      0.061     -8.314      0.000      -0.622      -0.384\n",
            "ggroup_5020    -0.5859      0.039    -15.090      0.000      -0.662      -0.510\n",
            "ggroup_5510    -0.4743      0.035    -13.464      0.000      -0.543      -0.405\n",
            "ggroup_6010    -0.5509      0.029    -18.884      0.000      -0.608      -0.494\n",
            "constant        0.5150      0.023     22.140      0.000       0.469       0.561\n",
            "==============================================================================\n",
            "Omnibus:                      403.265   Durbin-Watson:                   2.038\n",
            "Prob(Omnibus):                  0.000   Jarque-Bera (JB):             2314.656\n",
            "Skew:                           0.877   Prob(JB):                         0.00\n",
            "Kurtosis:                       8.136   Cond. No.                         26.1\n",
            "==============================================================================\n",
            "\n",
            "Warnings:\n",
            "[1] Standard Errors assume that the covariance matrix of the errors is correctly specified.\n"
          ]
        }
      ]
    },
    {
      "cell_type": "markdown",
      "source": [
        "### Additional regression\n",
        "* Regression with all ggroup indicators and without constant \n",
        "* Coefficients in this regression indicate the average RetYTD for firms in early 2022 by industry. The cofficient values are same as average stock return for each industry. In terms of t statistics and p-value, estimates of ggroup_2020, ggroup_3010, ggroup_3020, ggroup_4030, ggroup_5010, and ggroup_5510 are not statistically significant because p-value is greater than 0.05, while others are statistically significant.\n",
        "* R2 and AdjR2 are same as the first regression."
      ],
      "metadata": {
        "id": "Mf53JbM30OQo"
      }
    },
    {
      "cell_type": "code",
      "source": [
        "# define x as a subset of original dataframe\n",
        "x = gics_ggroup.drop(columns=['RetYTD','constant'])\n",
        "# define y as a series\n",
        "y = gics_ggroup['RetYTD']\n",
        "\n",
        "# pass x as a dataframe, while pass y as a series\n",
        "print(sm.OLS(y, x).fit().summary())"
      ],
      "metadata": {
        "colab": {
          "base_uri": "https://localhost:8080/"
        },
        "id": "HUP2PBN81Mbx",
        "outputId": "f07ab527-efc3-4226-9e4a-b842f49330df"
      },
      "execution_count": null,
      "outputs": [
        {
          "output_type": "stream",
          "name": "stdout",
          "text": [
            "                            OLS Regression Results                            \n",
            "==============================================================================\n",
            "Dep. Variable:                 RetYTD   R-squared:                       0.326\n",
            "Model:                            OLS   Adj. R-squared:                  0.317\n",
            "Method:                 Least Squares   F-statistic:                     39.07\n",
            "Date:                Wed, 27 Apr 2022   Prob (F-statistic):          6.29e-141\n",
            "Time:                        22:28:50   Log-Likelihood:                 357.63\n",
            "No. Observations:                1886   AIC:                            -667.3\n",
            "Df Residuals:                    1862   BIC:                            -534.2\n",
            "Df Model:                          23                                         \n",
            "Covariance Type:            nonrobust                                         \n",
            "===============================================================================\n",
            "                  coef    std err          t      P>|t|      [0.025      0.975]\n",
            "-------------------------------------------------------------------------------\n",
            "ggroup_1010     0.5150      0.023     22.140      0.000       0.469       0.561\n",
            "ggroup_1510     0.0578      0.021      2.799      0.005       0.017       0.098\n",
            "ggroup_2010    -0.0905      0.015     -6.080      0.000      -0.120      -0.061\n",
            "ggroup_2020    -0.0352      0.025     -1.385      0.166      -0.085       0.015\n",
            "ggroup_2030    -0.0675      0.032     -2.091      0.037      -0.131      -0.004\n",
            "ggroup_2510    -0.2080      0.040     -5.162      0.000      -0.287      -0.129\n",
            "ggroup_2520    -0.2086      0.025     -8.218      0.000      -0.258      -0.159\n",
            "ggroup_2530    -0.0626      0.025     -2.485      0.013      -0.112      -0.013\n",
            "ggroup_2550    -0.1512      0.022     -6.961      0.000      -0.194      -0.109\n",
            "ggroup_3010     0.0783      0.049      1.603      0.109      -0.018       0.174\n",
            "ggroup_3020     0.0388      0.030      1.277      0.202      -0.021       0.098\n",
            "ggroup_3030    -0.1538      0.049     -3.147      0.002      -0.250      -0.058\n",
            "ggroup_3510    -0.0664      0.018     -3.627      0.000      -0.102      -0.031\n",
            "ggroup_3520    -0.1639      0.016    -10.389      0.000      -0.195      -0.133\n",
            "ggroup_4010    -0.0878      0.015     -5.833      0.000      -0.117      -0.058\n",
            "ggroup_4020    -0.1225      0.021     -5.833      0.000      -0.164      -0.081\n",
            "ggroup_4030     0.0038      0.026      0.146      0.884      -0.047       0.054\n",
            "ggroup_4510    -0.1086      0.019     -5.858      0.000      -0.145      -0.072\n",
            "ggroup_4520    -0.1721      0.022     -7.734      0.000      -0.216      -0.128\n",
            "ggroup_4530    -0.2528      0.027     -9.307      0.000      -0.306      -0.200\n",
            "ggroup_5010     0.0118      0.056      0.212      0.832      -0.098       0.121\n",
            "ggroup_5020    -0.0709      0.031     -2.280      0.023      -0.132      -0.010\n",
            "ggroup_5510     0.0408      0.026      1.541      0.124      -0.011       0.093\n",
            "ggroup_6010    -0.0358      0.018     -2.035      0.042      -0.070      -0.001\n",
            "==============================================================================\n",
            "Omnibus:                      403.265   Durbin-Watson:                   2.038\n",
            "Prob(Omnibus):                  0.000   Jarque-Bera (JB):             2314.656\n",
            "Skew:                           0.877   Prob(JB):                         0.00\n",
            "Kurtosis:                       8.136   Cond. No.                         3.75\n",
            "==============================================================================\n",
            "\n",
            "Warnings:\n",
            "[1] Standard Errors assume that the covariance matrix of the errors is correctly specified.\n"
          ]
        }
      ]
    },
    {
      "cell_type": "markdown",
      "source": [
        "## Combined regressions"
      ],
      "metadata": {
        "id": "CqcI4ETSlI--"
      }
    },
    {
      "cell_type": "markdown",
      "source": [
        "### Merge all dataset into the final dataframe"
      ],
      "metadata": {
        "id": "YFLIALFRjOV6"
      }
    },
    {
      "cell_type": "markdown",
      "source": [
        "* Merge ret_risk, fin_ratios and gics\n",
        "* 1886 observations, 43 columns\n",
        "* No missing values"
      ],
      "metadata": {
        "id": "dlAk_hzLf4KJ"
      }
    },
    {
      "cell_type": "code",
      "source": [
        "# Merge fin_ratio and ret_risk\n",
        "first_merge = pd.merge(fin_ratios,ret_risk, on=['TICKER','RetYTD'], how='inner')"
      ],
      "metadata": {
        "id": "DO5Zl2HXhjw_"
      },
      "execution_count": null,
      "outputs": []
    },
    {
      "cell_type": "code",
      "source": [
        "# Preparing gics dataset\n",
        "# I used gics, not gics_ggroup to avoid errors\n",
        "# Keep only necessary columns\n",
        "fin_gics = gics[['TICKER','RetYTD','ggroup']]\n",
        "# Create dummy\n",
        "fin_gics = pd.get_dummies(fin_gics, columns=['ggroup'])"
      ],
      "metadata": {
        "id": "z291t4kPiUbU"
      },
      "execution_count": null,
      "outputs": []
    },
    {
      "cell_type": "code",
      "source": [
        "# final merge\n",
        "fin_merge = pd.merge(first_merge,fin_gics, on=['TICKER','RetYTD'], how='inner')"
      ],
      "metadata": {
        "id": "mfo0mUjfizgp"
      },
      "execution_count": null,
      "outputs": []
    },
    {
      "cell_type": "code",
      "source": [
        "# final shape\n",
        "fin_merge.shape"
      ],
      "metadata": {
        "colab": {
          "base_uri": "https://localhost:8080/"
        },
        "id": "EmE8JxtgjFcI",
        "outputId": "463e2ae4-6aaf-427e-9af1-918cf92baa81"
      },
      "execution_count": null,
      "outputs": [
        {
          "output_type": "execute_result",
          "data": {
            "text/plain": [
              "(1886, 43)"
            ]
          },
          "metadata": {},
          "execution_count": 333
        }
      ]
    },
    {
      "cell_type": "code",
      "source": [
        "# No missing values\n",
        "fin_merge.isna().sum().sum()"
      ],
      "metadata": {
        "colab": {
          "base_uri": "https://localhost:8080/"
        },
        "id": "0KB9UKwyjKKN",
        "outputId": "cf83b594-5d6e-45e5-b99b-084ae26c22e0"
      },
      "execution_count": null,
      "outputs": [
        {
          "output_type": "execute_result",
          "data": {
            "text/plain": [
              "0"
            ]
          },
          "metadata": {},
          "execution_count": 337
        }
      ]
    },
    {
      "cell_type": "code",
      "source": [
        "# Final look of merged dataset\n",
        "fin_merge.head()"
      ],
      "metadata": {
        "colab": {
          "base_uri": "https://localhost:8080/",
          "height": 299
        },
        "id": "9B_hjFcFjH88",
        "outputId": "11745d28-b240-410d-fd95-4f51441e17dd"
      },
      "execution_count": null,
      "outputs": [
        {
          "output_type": "execute_result",
          "data": {
            "text/plain": [
              "  TICKER  RetYTD       ROA  asset_turnover_ratio  net_profit_margin  \\\n",
              "0      A -0.2080  0.131621              0.590285           0.222978   \n",
              "1     AA  0.4731  0.138236              0.808785           0.170918   \n",
              "2    AAL  0.0579 -0.082958              0.449576          -0.184526   \n",
              "3    AAN -0.1327  0.109513              1.280475           0.085525   \n",
              "4   AAON -0.3456  0.113249              0.822106           0.137754   \n",
              "\n",
              "   gross_profit_margin  current_ratio       ROE  book/price       e/p  ...  \\\n",
              "0             0.577148       2.224239  0.224531    0.111695  0.025079  ...   \n",
              "1             0.246791       1.559417  0.091824    0.425940  0.039111  ...   \n",
              "2             0.064018       0.912133  0.271526   -0.337273 -0.171320  ...   \n",
              "3             0.947060       0.195881  0.153076    0.940491  0.143967  ...   \n",
              "4             0.309156       2.513369  0.126044    0.111730  0.014083  ...   \n",
              "\n",
              "   ggroup_4010  ggroup_4020  ggroup_4030  ggroup_4510  ggroup_4520  \\\n",
              "0            0            0            0            0            0   \n",
              "1            0            0            0            0            0   \n",
              "2            0            0            0            0            0   \n",
              "3            0            0            0            0            0   \n",
              "4            0            0            0            0            0   \n",
              "\n",
              "   ggroup_4530  ggroup_5010  ggroup_5020  ggroup_5510  ggroup_6010  \n",
              "0            0            0            0            0            0  \n",
              "1            0            0            0            0            0  \n",
              "2            0            0            0            0            0  \n",
              "3            0            0            0            0            0  \n",
              "4            0            0            0            0            0  \n",
              "\n",
              "[5 rows x 43 columns]"
            ],
            "text/html": [
              "\n",
              "  <div id=\"df-8bf77d32-8fd9-4c3c-a8be-e235a7e4a559\">\n",
              "    <div class=\"colab-df-container\">\n",
              "      <div>\n",
              "<style scoped>\n",
              "    .dataframe tbody tr th:only-of-type {\n",
              "        vertical-align: middle;\n",
              "    }\n",
              "\n",
              "    .dataframe tbody tr th {\n",
              "        vertical-align: top;\n",
              "    }\n",
              "\n",
              "    .dataframe thead th {\n",
              "        text-align: right;\n",
              "    }\n",
              "</style>\n",
              "<table border=\"1\" class=\"dataframe\">\n",
              "  <thead>\n",
              "    <tr style=\"text-align: right;\">\n",
              "      <th></th>\n",
              "      <th>TICKER</th>\n",
              "      <th>RetYTD</th>\n",
              "      <th>ROA</th>\n",
              "      <th>asset_turnover_ratio</th>\n",
              "      <th>net_profit_margin</th>\n",
              "      <th>gross_profit_margin</th>\n",
              "      <th>current_ratio</th>\n",
              "      <th>ROE</th>\n",
              "      <th>book/price</th>\n",
              "      <th>e/p</th>\n",
              "      <th>...</th>\n",
              "      <th>ggroup_4010</th>\n",
              "      <th>ggroup_4020</th>\n",
              "      <th>ggroup_4030</th>\n",
              "      <th>ggroup_4510</th>\n",
              "      <th>ggroup_4520</th>\n",
              "      <th>ggroup_4530</th>\n",
              "      <th>ggroup_5010</th>\n",
              "      <th>ggroup_5020</th>\n",
              "      <th>ggroup_5510</th>\n",
              "      <th>ggroup_6010</th>\n",
              "    </tr>\n",
              "  </thead>\n",
              "  <tbody>\n",
              "    <tr>\n",
              "      <th>0</th>\n",
              "      <td>A</td>\n",
              "      <td>-0.2080</td>\n",
              "      <td>0.131621</td>\n",
              "      <td>0.590285</td>\n",
              "      <td>0.222978</td>\n",
              "      <td>0.577148</td>\n",
              "      <td>2.224239</td>\n",
              "      <td>0.224531</td>\n",
              "      <td>0.111695</td>\n",
              "      <td>0.025079</td>\n",
              "      <td>...</td>\n",
              "      <td>0</td>\n",
              "      <td>0</td>\n",
              "      <td>0</td>\n",
              "      <td>0</td>\n",
              "      <td>0</td>\n",
              "      <td>0</td>\n",
              "      <td>0</td>\n",
              "      <td>0</td>\n",
              "      <td>0</td>\n",
              "      <td>0</td>\n",
              "    </tr>\n",
              "    <tr>\n",
              "      <th>1</th>\n",
              "      <td>AA</td>\n",
              "      <td>0.4731</td>\n",
              "      <td>0.138236</td>\n",
              "      <td>0.808785</td>\n",
              "      <td>0.170918</td>\n",
              "      <td>0.246791</td>\n",
              "      <td>1.559417</td>\n",
              "      <td>0.091824</td>\n",
              "      <td>0.425940</td>\n",
              "      <td>0.039111</td>\n",
              "      <td>...</td>\n",
              "      <td>0</td>\n",
              "      <td>0</td>\n",
              "      <td>0</td>\n",
              "      <td>0</td>\n",
              "      <td>0</td>\n",
              "      <td>0</td>\n",
              "      <td>0</td>\n",
              "      <td>0</td>\n",
              "      <td>0</td>\n",
              "      <td>0</td>\n",
              "    </tr>\n",
              "    <tr>\n",
              "      <th>2</th>\n",
              "      <td>AAL</td>\n",
              "      <td>0.0579</td>\n",
              "      <td>-0.082958</td>\n",
              "      <td>0.449576</td>\n",
              "      <td>-0.184526</td>\n",
              "      <td>0.064018</td>\n",
              "      <td>0.912133</td>\n",
              "      <td>0.271526</td>\n",
              "      <td>-0.337273</td>\n",
              "      <td>-0.171320</td>\n",
              "      <td>...</td>\n",
              "      <td>0</td>\n",
              "      <td>0</td>\n",
              "      <td>0</td>\n",
              "      <td>0</td>\n",
              "      <td>0</td>\n",
              "      <td>0</td>\n",
              "      <td>0</td>\n",
              "      <td>0</td>\n",
              "      <td>0</td>\n",
              "      <td>0</td>\n",
              "    </tr>\n",
              "    <tr>\n",
              "      <th>3</th>\n",
              "      <td>AAN</td>\n",
              "      <td>-0.1327</td>\n",
              "      <td>0.109513</td>\n",
              "      <td>1.280475</td>\n",
              "      <td>0.085525</td>\n",
              "      <td>0.947060</td>\n",
              "      <td>0.195881</td>\n",
              "      <td>0.153076</td>\n",
              "      <td>0.940491</td>\n",
              "      <td>0.143967</td>\n",
              "      <td>...</td>\n",
              "      <td>0</td>\n",
              "      <td>0</td>\n",
              "      <td>0</td>\n",
              "      <td>0</td>\n",
              "      <td>0</td>\n",
              "      <td>0</td>\n",
              "      <td>0</td>\n",
              "      <td>0</td>\n",
              "      <td>0</td>\n",
              "      <td>0</td>\n",
              "    </tr>\n",
              "    <tr>\n",
              "      <th>4</th>\n",
              "      <td>AAON</td>\n",
              "      <td>-0.3456</td>\n",
              "      <td>0.113249</td>\n",
              "      <td>0.822106</td>\n",
              "      <td>0.137754</td>\n",
              "      <td>0.309156</td>\n",
              "      <td>2.513369</td>\n",
              "      <td>0.126044</td>\n",
              "      <td>0.111730</td>\n",
              "      <td>0.014083</td>\n",
              "      <td>...</td>\n",
              "      <td>0</td>\n",
              "      <td>0</td>\n",
              "      <td>0</td>\n",
              "      <td>0</td>\n",
              "      <td>0</td>\n",
              "      <td>0</td>\n",
              "      <td>0</td>\n",
              "      <td>0</td>\n",
              "      <td>0</td>\n",
              "      <td>0</td>\n",
              "    </tr>\n",
              "  </tbody>\n",
              "</table>\n",
              "<p>5 rows × 43 columns</p>\n",
              "</div>\n",
              "      <button class=\"colab-df-convert\" onclick=\"convertToInteractive('df-8bf77d32-8fd9-4c3c-a8be-e235a7e4a559')\"\n",
              "              title=\"Convert this dataframe to an interactive table.\"\n",
              "              style=\"display:none;\">\n",
              "        \n",
              "  <svg xmlns=\"http://www.w3.org/2000/svg\" height=\"24px\"viewBox=\"0 0 24 24\"\n",
              "       width=\"24px\">\n",
              "    <path d=\"M0 0h24v24H0V0z\" fill=\"none\"/>\n",
              "    <path d=\"M18.56 5.44l.94 2.06.94-2.06 2.06-.94-2.06-.94-.94-2.06-.94 2.06-2.06.94zm-11 1L8.5 8.5l.94-2.06 2.06-.94-2.06-.94L8.5 2.5l-.94 2.06-2.06.94zm10 10l.94 2.06.94-2.06 2.06-.94-2.06-.94-.94-2.06-.94 2.06-2.06.94z\"/><path d=\"M17.41 7.96l-1.37-1.37c-.4-.4-.92-.59-1.43-.59-.52 0-1.04.2-1.43.59L10.3 9.45l-7.72 7.72c-.78.78-.78 2.05 0 2.83L4 21.41c.39.39.9.59 1.41.59.51 0 1.02-.2 1.41-.59l7.78-7.78 2.81-2.81c.8-.78.8-2.07 0-2.86zM5.41 20L4 18.59l7.72-7.72 1.47 1.35L5.41 20z\"/>\n",
              "  </svg>\n",
              "      </button>\n",
              "      \n",
              "  <style>\n",
              "    .colab-df-container {\n",
              "      display:flex;\n",
              "      flex-wrap:wrap;\n",
              "      gap: 12px;\n",
              "    }\n",
              "\n",
              "    .colab-df-convert {\n",
              "      background-color: #E8F0FE;\n",
              "      border: none;\n",
              "      border-radius: 50%;\n",
              "      cursor: pointer;\n",
              "      display: none;\n",
              "      fill: #1967D2;\n",
              "      height: 32px;\n",
              "      padding: 0 0 0 0;\n",
              "      width: 32px;\n",
              "    }\n",
              "\n",
              "    .colab-df-convert:hover {\n",
              "      background-color: #E2EBFA;\n",
              "      box-shadow: 0px 1px 2px rgba(60, 64, 67, 0.3), 0px 1px 3px 1px rgba(60, 64, 67, 0.15);\n",
              "      fill: #174EA6;\n",
              "    }\n",
              "\n",
              "    [theme=dark] .colab-df-convert {\n",
              "      background-color: #3B4455;\n",
              "      fill: #D2E3FC;\n",
              "    }\n",
              "\n",
              "    [theme=dark] .colab-df-convert:hover {\n",
              "      background-color: #434B5C;\n",
              "      box-shadow: 0px 1px 3px 1px rgba(0, 0, 0, 0.15);\n",
              "      filter: drop-shadow(0px 1px 2px rgba(0, 0, 0, 0.3));\n",
              "      fill: #FFFFFF;\n",
              "    }\n",
              "  </style>\n",
              "\n",
              "      <script>\n",
              "        const buttonEl =\n",
              "          document.querySelector('#df-8bf77d32-8fd9-4c3c-a8be-e235a7e4a559 button.colab-df-convert');\n",
              "        buttonEl.style.display =\n",
              "          google.colab.kernel.accessAllowed ? 'block' : 'none';\n",
              "\n",
              "        async function convertToInteractive(key) {\n",
              "          const element = document.querySelector('#df-8bf77d32-8fd9-4c3c-a8be-e235a7e4a559');\n",
              "          const dataTable =\n",
              "            await google.colab.kernel.invokeFunction('convertToInteractive',\n",
              "                                                     [key], {});\n",
              "          if (!dataTable) return;\n",
              "\n",
              "          const docLinkHtml = 'Like what you see? Visit the ' +\n",
              "            '<a target=\"_blank\" href=https://colab.research.google.com/notebooks/data_table.ipynb>data table notebook</a>'\n",
              "            + ' to learn more about interactive tables.';\n",
              "          element.innerHTML = '';\n",
              "          dataTable['output_type'] = 'display_data';\n",
              "          await google.colab.output.renderOutput(dataTable, element);\n",
              "          const docLink = document.createElement('div');\n",
              "          docLink.innerHTML = docLinkHtml;\n",
              "          element.appendChild(docLink);\n",
              "        }\n",
              "      </script>\n",
              "    </div>\n",
              "  </div>\n",
              "  "
            ]
          },
          "metadata": {},
          "execution_count": 338
        }
      ]
    },
    {
      "cell_type": "markdown",
      "source": [
        "### Run combined regression"
      ],
      "metadata": {
        "id": "MRSlbGUCjTRp"
      }
    },
    {
      "cell_type": "markdown",
      "source": [
        "Final regression1"
      ],
      "metadata": {
        "id": "5Ek2ZLg2r3ut"
      }
    },
    {
      "cell_type": "code",
      "source": [
        "X_fin1 = sm.add_constant(fin_merge.drop(columns=['ggroup_1010','TICKER','RetYTD']))\n",
        "model_fin1 = sm.OLS(fin_merge['RetYTD'], X_fin1).fit()\n",
        "print(model_fin1.summary())"
      ],
      "metadata": {
        "colab": {
          "base_uri": "https://localhost:8080/"
        },
        "id": "syxHgO_XrSUN",
        "outputId": "cd293c71-c641-4d64-ce1b-0a5836185db5"
      },
      "execution_count": null,
      "outputs": [
        {
          "output_type": "stream",
          "name": "stdout",
          "text": [
            "                            OLS Regression Results                            \n",
            "==============================================================================\n",
            "Dep. Variable:                 RetYTD   R-squared:                       0.388\n",
            "Model:                            OLS   Adj. R-squared:                  0.375\n",
            "Method:                 Least Squares   F-statistic:                     29.29\n",
            "Date:                Wed, 27 Apr 2022   Prob (F-statistic):          3.64e-166\n",
            "Time:                        20:19:10   Log-Likelihood:                 449.95\n",
            "No. Observations:                1886   AIC:                            -817.9\n",
            "Df Residuals:                    1845   BIC:                            -590.7\n",
            "Df Model:                          40                                         \n",
            "Covariance Type:            nonrobust                                         \n",
            "============================================================================================\n",
            "                               coef    std err          t      P>|t|      [0.025      0.975]\n",
            "--------------------------------------------------------------------------------------------\n",
            "const                        0.4423      0.033     13.418      0.000       0.378       0.507\n",
            "ROA                          0.1973      0.063      3.137      0.002       0.074       0.321\n",
            "asset_turnover_ratio        -0.0400      0.015     -2.726      0.006      -0.069      -0.011\n",
            "net_profit_margin           -0.0120      0.008     -1.461      0.144      -0.028       0.004\n",
            "gross_profit_margin          0.0196      0.010      1.885      0.060      -0.001       0.040\n",
            "current_ratio               -0.0096      0.006     -1.702      0.089      -0.021       0.001\n",
            "ROE                         -0.0021      0.008     -0.265      0.791      -0.018       0.014\n",
            "book/price                   0.0747      0.017      4.316      0.000       0.041       0.109\n",
            "e/p                         -0.0299      0.076     -0.391      0.696      -0.180       0.120\n",
            "ebit/p                       0.0026      0.082      0.031      0.975      -0.157       0.163\n",
            "sale/p                       0.0236      0.008      3.013      0.003       0.008       0.039\n",
            "quick_ratio                  0.0106      0.006      1.860      0.063      -0.001       0.022\n",
            "debt_to_equity              -0.0003      0.001     -0.272      0.786      -0.002       0.002\n",
            "inventory_turnover_ratio    -0.0001      0.000     -0.687      0.492      -0.000       0.000\n",
            "cash_ratio                  -0.0040      0.004     -0.901      0.368      -0.013       0.005\n",
            "mktrf                       -0.0105      0.008     -1.309      0.191      -0.026       0.005\n",
            "smb                         -0.0222      0.005     -4.217      0.000      -0.032      -0.012\n",
            "hml                          0.0614      0.009      7.153      0.000       0.045       0.078\n",
            "ggroup_1510                 -0.4288      0.032    -13.428      0.000      -0.491      -0.366\n",
            "ggroup_2010                 -0.5549      0.029    -19.371      0.000      -0.611      -0.499\n",
            "ggroup_2020                 -0.5063      0.035    -14.383      0.000      -0.575      -0.437\n",
            "ggroup_2030                 -0.5620      0.040    -14.103      0.000      -0.640      -0.484\n",
            "ggroup_2510                 -0.6876      0.046    -15.045      0.000      -0.777      -0.598\n",
            "ggroup_2520                 -0.6720      0.036    -18.899      0.000      -0.742      -0.602\n",
            "ggroup_2530                 -0.5140      0.035    -14.573      0.000      -0.583      -0.445\n",
            "ggroup_2550                 -0.6144      0.033    -18.588      0.000      -0.679      -0.550\n",
            "ggroup_3010                 -0.3857      0.057     -6.715      0.000      -0.498      -0.273\n",
            "ggroup_3020                 -0.4361      0.040    -10.974      0.000      -0.514      -0.358\n",
            "ggroup_3030                 -0.6078      0.054    -11.214      0.000      -0.714      -0.502\n",
            "ggroup_3510                 -0.4886      0.032    -15.278      0.000      -0.551      -0.426\n",
            "ggroup_3520                 -0.5127      0.033    -15.666      0.000      -0.577      -0.448\n",
            "ggroup_4010                 -0.6361      0.031    -20.537      0.000      -0.697      -0.575\n",
            "ggroup_4020                 -0.6316      0.033    -19.345      0.000      -0.696      -0.568\n",
            "ggroup_4030                 -0.5410      0.037    -14.775      0.000      -0.613      -0.469\n",
            "ggroup_4510                 -0.5202      0.032    -16.055      0.000      -0.584      -0.457\n",
            "ggroup_4520                 -0.6211      0.033    -18.849      0.000      -0.686      -0.557\n",
            "ggroup_4530                 -0.6808      0.037    -18.628      0.000      -0.752      -0.609\n",
            "ggroup_5010                 -0.4908      0.060     -8.228      0.000      -0.608      -0.374\n",
            "ggroup_5020                 -0.5276      0.039    -13.477      0.000      -0.604      -0.451\n",
            "ggroup_5510                 -0.4627      0.038    -12.131      0.000      -0.537      -0.388\n",
            "ggroup_6010                 -0.5283      0.031    -17.173      0.000      -0.589      -0.468\n",
            "==============================================================================\n",
            "Omnibus:                      446.507   Durbin-Watson:                   2.038\n",
            "Prob(Omnibus):                  0.000   Jarque-Bera (JB):             2662.717\n",
            "Skew:                           0.973   Prob(JB):                         0.00\n",
            "Kurtosis:                       8.486   Cond. No.                         891.\n",
            "==============================================================================\n",
            "\n",
            "Warnings:\n",
            "[1] Standard Errors assume that the covariance matrix of the errors is correctly specified.\n"
          ]
        }
      ]
    },
    {
      "cell_type": "markdown",
      "source": [
        "Final regression2\n",
        "* Using 10 financial ratios"
      ],
      "metadata": {
        "id": "i0Ocns5Er6UD"
      }
    },
    {
      "cell_type": "code",
      "source": [
        "X_fin2 = sm.add_constant(fin_merge.drop(columns=['ggroup_1010','TICKER','RetYTD','gross_profit_margin','net_profit_margin','ROE','ebit/p']))\n",
        "model_fin2 = sm.OLS(fin_merge['RetYTD'], X_fin2).fit()\n",
        "print(model_fin2.summary())"
      ],
      "metadata": {
        "colab": {
          "base_uri": "https://localhost:8080/"
        },
        "id": "Q20zhpwzjbf-",
        "outputId": "74f55168-ae17-4e69-b508-5b6ae97e9e9b"
      },
      "execution_count": null,
      "outputs": [
        {
          "output_type": "stream",
          "name": "stdout",
          "text": [
            "                            OLS Regression Results                            \n",
            "==============================================================================\n",
            "Dep. Variable:                 RetYTD   R-squared:                       0.387\n",
            "Model:                            OLS   Adj. R-squared:                  0.375\n",
            "Method:                 Least Squares   F-statistic:                     32.44\n",
            "Date:                Wed, 27 Apr 2022   Prob (F-statistic):          2.30e-168\n",
            "Time:                        20:21:03   Log-Likelihood:                 448.00\n",
            "No. Observations:                1886   AIC:                            -822.0\n",
            "Df Residuals:                    1849   BIC:                            -616.9\n",
            "Df Model:                          36                                         \n",
            "Covariance Type:            nonrobust                                         \n",
            "============================================================================================\n",
            "                               coef    std err          t      P>|t|      [0.025      0.975]\n",
            "--------------------------------------------------------------------------------------------\n",
            "const                        0.4496      0.033     13.756      0.000       0.386       0.514\n",
            "ROA                          0.1994      0.053      3.762      0.000       0.095       0.303\n",
            "asset_turnover_ratio        -0.0419      0.014     -2.911      0.004      -0.070      -0.014\n",
            "current_ratio               -0.0101      0.006     -1.789      0.074      -0.021       0.001\n",
            "book/price                   0.0746      0.017      4.341      0.000       0.041       0.108\n",
            "e/p                         -0.0297      0.059     -0.505      0.614      -0.145       0.086\n",
            "sale/p                       0.0229      0.007      3.147      0.002       0.009       0.037\n",
            "quick_ratio                  0.0111      0.006      1.947      0.052   -8.24e-05       0.022\n",
            "debt_to_equity              -0.0003      0.001     -0.282      0.778      -0.002       0.002\n",
            "inventory_turnover_ratio    -0.0002      0.000     -0.966      0.334      -0.001       0.000\n",
            "cash_ratio                  -0.0043      0.004     -0.974      0.330      -0.013       0.004\n",
            "mktrf                       -0.0108      0.008     -1.351      0.177      -0.026       0.005\n",
            "smb                         -0.0210      0.005     -4.091      0.000      -0.031      -0.011\n",
            "hml                          0.0613      0.009      7.196      0.000       0.045       0.078\n",
            "ggroup_1510                 -0.4290      0.032    -13.446      0.000      -0.492      -0.366\n",
            "ggroup_2010                 -0.5544      0.029    -19.361      0.000      -0.611      -0.498\n",
            "ggroup_2020                 -0.5044      0.035    -14.340      0.000      -0.573      -0.435\n",
            "ggroup_2030                 -0.5614      0.040    -14.133      0.000      -0.639      -0.483\n",
            "ggroup_2510                 -0.6885      0.046    -15.072      0.000      -0.778      -0.599\n",
            "ggroup_2520                 -0.6699      0.036    -18.863      0.000      -0.740      -0.600\n",
            "ggroup_2530                 -0.5102      0.035    -14.516      0.000      -0.579      -0.441\n",
            "ggroup_2550                 -0.6112      0.033    -18.549      0.000      -0.676      -0.547\n",
            "ggroup_3010                 -0.3820      0.057     -6.656      0.000      -0.495      -0.269\n",
            "ggroup_3020                 -0.4355      0.040    -10.966      0.000      -0.513      -0.358\n",
            "ggroup_3030                 -0.6041      0.054    -11.172      0.000      -0.710      -0.498\n",
            "ggroup_3510                 -0.4838      0.032    -15.193      0.000      -0.546      -0.421\n",
            "ggroup_3520                 -0.5119      0.033    -15.663      0.000      -0.576      -0.448\n",
            "ggroup_4010                 -0.6313      0.030    -20.810      0.000      -0.691      -0.572\n",
            "ggroup_4020                 -0.6325      0.032    -19.533      0.000      -0.696      -0.569\n",
            "ggroup_4030                 -0.5440      0.037    -14.887      0.000      -0.616      -0.472\n",
            "ggroup_4510                 -0.5139      0.032    -15.957      0.000      -0.577      -0.451\n",
            "ggroup_4520                 -0.6191      0.033    -18.805      0.000      -0.684      -0.555\n",
            "ggroup_4530                 -0.6788      0.036    -18.603      0.000      -0.750      -0.607\n",
            "ggroup_5010                 -0.4855      0.060     -8.149      0.000      -0.602      -0.369\n",
            "ggroup_5020                 -0.5244      0.039    -13.415      0.000      -0.601      -0.448\n",
            "ggroup_5510                 -0.4636      0.038    -12.179      0.000      -0.538      -0.389\n",
            "ggroup_6010                 -0.5300      0.031    -17.270      0.000      -0.590      -0.470\n",
            "==============================================================================\n",
            "Omnibus:                      449.627   Durbin-Watson:                   2.039\n",
            "Prob(Omnibus):                  0.000   Jarque-Bera (JB):             2643.590\n",
            "Skew:                           0.986   Prob(JB):                         0.00\n",
            "Kurtosis:                       8.455   Cond. No.                         890.\n",
            "==============================================================================\n",
            "\n",
            "Warnings:\n",
            "[1] Standard Errors assume that the covariance matrix of the errors is correctly specified.\n"
          ]
        }
      ]
    },
    {
      "cell_type": "markdown",
      "source": [
        "### Final model interpretation (final regression1)\n"
      ],
      "metadata": {
        "id": "foKKNQamvl3N"
      }
    },
    {
      "cell_type": "markdown",
      "source": [
        "* Best final regression model is final regression1, with R-squared 0.388 and Adjusted R-squared 0.375\n",
        "* Dependent variable: stock return of early 2022\n",
        "* Independent variables: risk exposure estimates(sensitivity of security’s returns to a particular systematic factor), financial ratios, ggroup industry indicators.\n",
        "\n",
        "* Explanatory power of regression\n",
        " * Adjusted R Square measures the degree to which companies' stock return can be attributed to the independent variables.\n",
        " * 37.5% of the variance in the stock return of early 2022 is explained by the independent variables.\n",
        " * Compared with all regressions performed in this project, the **explanatory power is the highest** in this final regression.\n",
        "\n",
        "\n",
        "* Coefficients\n",
        " * Incremental increase of the independent variable result in a change in RetYTD by the amount of coefficient value. \n",
        " * The positive/negative direction, the amount of values, and significance of coefficients shows how indepentdent variables affect stock return during early 2022.\n",
        " * Coefficients of net profit margin, gross_profit_margin,current_ratio, ROE, e/p, ebit/p, quick_ratio, debt_to_equity, inventory_turnover_ratio, cash_ratio, and mktrf are not statistically significant because p-value is higher than 0.05.\n",
        "\n",
        "* Economic Interpretation\n",
        " * Among significant financial ratios, coefficient of **'ROA'** is notably high compared to others. This shows how well companies put assets to work to generate profits positively affected stock return. \n",
        " * On the other hand, The asset turnover ratio, measuring the efficiency of a company's assets in generating sales, affected slightly negative to stock return. In general, retail or service sector companies have relatively small asset bases combined with high sales volume, leading to a high average asset turnover ratio. Firms in sectors like utilities or manufacturing tend to have large asset bases, translating to lower asset turnover. The result shows that incremental increase of asset turnover ratios decreased stock return on average.\n",
        " * Among significant market ratios, book value over price ald sales over price affected stock return positively.\n",
        " * Sensitivity of a portfolio’s returns to changes in a systematic factor also affected early 2022 stock return. Estimates of size factor(exposure to small stocks) affected negatively, while estimates of value factor(exposure to value stocks) affected positively on stock return.\n",
        " * Like mentioned in industry regression section, industry with the highest stock return was energy sector(ggroup 1010). Therefore, coefficients of all other industry indicators are negative, showing results relative to ggroup 1010."
      ],
      "metadata": {
        "id": "bmFiO-UjoX0a"
      }
    },
    {
      "cell_type": "markdown",
      "source": [
        "# Conclusion"
      ],
      "metadata": {
        "id": "i1fIgKuiss0l"
      }
    },
    {
      "cell_type": "markdown",
      "source": [
        "## Summary\n",
        "* In conclusion, the best model is combined regression, with every variable generated. R-squared is 0.388 and the Adjusted R-squared is 0.375.\n",
        "* Regression with industry indicators only performed second best, while financial characteristics regression and risk regression performed less than 0.1 adjusted R-squared. This shows that looking at fixed effect of industries explaines stock return relatively well. \n",
        "* Among industry sectors, the energy sector gained the highest average stock return, while the semiconductor industry gained the lowest return.\n",
        "* It is also important to consider financial ratios, especially ROA, asset turnover ratio, book/price, and sales/price.\n",
        "\n"
      ],
      "metadata": {
        "id": "WAAtLt68-YR0"
      }
    },
    {
      "cell_type": "markdown",
      "source": [
        "## Limitation & Recommendation\n",
        "* **Data aspect** : To increase explanatory factor, it might be helpful to gather more data.\n",
        "* **Deeper analysis on industry group** : It might be helpful to analyze risk exposures and financial ratios by industry. For example, some pharmaceutical companies had 0 slaes, cost of good solds, and inventories because pharmaceutical companies are largely R&D based. Therefore, understanding and knowledge of each industry is important to analyze financial factors.\n",
        "* **Dealing with missing values** : \n",
        "When I filled missing values, I predicted missing values with other columns using linear regression. I would try other prediction models such as Neural network to improve accuracy.\n",
        "Moreover, when I filled missing values in the financial ratios, I replaced it with the average values without missing values. I would try to calculate average ratio values in each industry, because most of the missing values came from specific industry such as pharmaceutical companies. I would happy to deep dive into the specific industry and see what happens and causes this issue.\n",
        "\n",
        "* **Patterns in the stock market and explainability** : I leared that it is difficult to predict and find patterns in the stock market. It is because stock market is hugely competitive and efficient, so that every possible information is already included in the expectation. The stock market is fundamentally unstable, dynamic, and adaptive. Therefore, it is crucial to understand the characteritics of stock market, understand domain-based, industry knowledge, and explain the result of the model."
      ],
      "metadata": {
        "id": "PYaKskqtFRO5"
      }
    },
    {
      "cell_type": "code",
      "source": [
        "!sudo apt-get install texlive-xetex texlive-fonts-recommended texlive-plain-generic"
      ],
      "metadata": {
        "id": "8wPNNW-2FcsM"
      },
      "execution_count": null,
      "outputs": []
    },
    {
      "cell_type": "code",
      "source": [
        "from google.colab import drive\n",
        "drive.mount('/content/drive')"
      ],
      "metadata": {
        "id": "o3UK2Hk_Fe37"
      },
      "execution_count": null,
      "outputs": []
    },
    {
      "cell_type": "code",
      "source": [
        "!jupyter nbconvert --to html  '/content/drive/MyDrive/BA870/Project/Project_EunjinJeong.ipynb'"
      ],
      "metadata": {
        "colab": {
          "base_uri": "https://localhost:8080/"
        },
        "id": "nmOYqWrwFgaP",
        "outputId": "13d50263-d0cb-4161-b6d8-6859bbc51d75"
      },
      "execution_count": null,
      "outputs": [
        {
          "output_type": "stream",
          "name": "stdout",
          "text": [
            "[NbConvertApp] Converting notebook /content/drive/MyDrive/BA870/Project/Project_EunjinJeong.ipynb to html\n",
            "[NbConvertApp] Writing 1020760 bytes to /content/drive/MyDrive/BA870/Project/Project_EunjinJeong.html\n"
          ]
        }
      ]
    }
  ]
}